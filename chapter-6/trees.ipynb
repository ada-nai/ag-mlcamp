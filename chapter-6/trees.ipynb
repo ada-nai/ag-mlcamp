--2021-10-16 19:36:39--  https://github.com/alexeygrigorev/mlbookcamp-code/blob/master/course-zoomcamp/06-trees/notebook.ipynb
Resolving github.com (github.com)... 13.234.176.102, 205.251.193.165, 198.51.44.8, ...
Connecting to github.com (github.com)|13.234.176.102|:443... connected.
HTTP request sent, awaiting response... 200 OK
Length: unspecified [text/html]
Saving to: ‘notebook.ipynb’

     0K .......... .......... .......... .......... .......... 1.81M
    50K .......... .......... .......... .......... .......... 2.47M
   100K .......... .......... .......... ..........            2.48M=0.06s

2021-10-16 19:36:39 (2.19 MB/s) - ‘notebook.ipynb’ saved [144306]

