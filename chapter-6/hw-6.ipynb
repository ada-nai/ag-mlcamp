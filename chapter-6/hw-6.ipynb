--2021-10-16 19:35:16--  https://raw.githubusercontent.com/alexeygrigorev/mlbookcamp-code/master/course-zoomcamp/06-trees/homework-6-starter.ipynb
Resolving raw.githubusercontent.com (raw.githubusercontent.com)... 185.199.108.133, 185.199.109.133, 185.199.110.133, ...
Connecting to raw.githubusercontent.com (raw.githubusercontent.com)|185.199.108.133|:443... connected.
HTTP request sent, awaiting response... 200 OK
Length: 8455 (8.3K) [text/plain]
Saving to: ‘homework-6-starter.ipynb’

     0K ........                                              100% 1.08M=0.007s

2021-10-16 19:35:17 (1.08 MB/s) - ‘homework-6-starter.ipynb’ saved [8455/8455]

