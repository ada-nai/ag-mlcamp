{
 "cells": [
  {
   "cell_type": "markdown",
   "id": "85a9db9a",
   "metadata": {},
   "source": [
    "# Store Item Sales Prediction "
   ]
  },
  {
   "cell_type": "markdown",
   "id": "6a2b5d50",
   "metadata": {},
   "source": [
    "### Import packages"
   ]
  },
  {
   "cell_type": "code",
   "execution_count": 2,
   "id": "7aeca5f5",
   "metadata": {},
   "outputs": [],
   "source": [
    "import os \n",
    "\n",
    "import math\n",
    "import numpy as np\n",
    "import pandas as pd\n",
    "import sklearn\n",
    "\n",
    "import matplotlib.pyplot as plt\n",
    "import seaborn as sns\n",
    "\n",
    "# from pandas_profiling import ProfileReport\n",
    "\n",
    "from sklearn.model_selection import train_test_split\n",
    "\n",
    "from sklearn.feature_selection import f_regression, mutual_info_regression\n",
    "\n",
    "\n",
    "from sklearn.feature_extraction import DictVectorizer\n",
    "\n",
    "\n",
    "\n",
    "from sklearn.metrics import mean_squared_error\n",
    "\n",
    "from sklearn.linear_model import LinearRegression\n",
    "from sklearn.tree import DecisionTreeRegressor\n",
    "from sklearn.tree import export_text\n",
    "from sklearn.ensemble import RandomForestRegressor\n",
    "\n",
    "from sklearn.model_selection import RandomizedSearchCV\n",
    "\n",
    "import xgboost as xgb\n",
    "\n",
    "import warnings\n",
    "warnings.filterwarnings(\"ignore\", category=FutureWarning)\n"
   ]
  },
  {
   "cell_type": "code",
   "execution_count": 3,
   "id": "c898d917",
   "metadata": {},
   "outputs": [],
   "source": [
    "pd.set_option('display.precision', 3)"
   ]
  },
  {
   "cell_type": "code",
   "execution_count": 4,
   "id": "cde0c5b6",
   "metadata": {},
   "outputs": [
    {
     "data": {
      "text/plain": [
       "['.ipynb_checkpoints',\n",
       " 'Dockerfile',\n",
       " 'dv.bin',\n",
       " 'logs',\n",
       " 'model.bin',\n",
       " 'Pipfile',\n",
       " 'Pipfile.lock',\n",
       " 'predict.py',\n",
       " 'README.md',\n",
       " 'sales_analysis.html',\n",
       " 'store_sales.ipynb',\n",
       " 'submission.csv',\n",
       " 'subs',\n",
       " 'test.csv',\n",
       " 'test_sample.json',\n",
       " 'train.csv',\n",
       " 'train.py',\n",
       " '__pycache__']"
      ]
     },
     "execution_count": 4,
     "metadata": {},
     "output_type": "execute_result"
    }
   ],
   "source": [
    "path = os.getcwd()\n",
    "os.listdir(path)"
   ]
  },
  {
   "cell_type": "markdown",
   "id": "6f7896f4",
   "metadata": {},
   "source": [
    "### Convert column names to lower case \n",
    "For the sake of convenience"
   ]
  },
  {
   "cell_type": "code",
   "execution_count": 5,
   "id": "806e278b",
   "metadata": {},
   "outputs": [],
   "source": [
    "def std_col_names(df):\n",
    "    df.columns = df.columns.str.lower().str.strip().str.replace(' ', '_')\n",
    "    return df"
   ]
  },
  {
   "cell_type": "markdown",
   "id": "c1fba144",
   "metadata": {},
   "source": [
    "### Load data"
   ]
  },
  {
   "cell_type": "code",
   "execution_count": 6,
   "id": "e5aba9d5",
   "metadata": {},
   "outputs": [],
   "source": [
    "df = std_col_names(pd.read_csv('train.csv'))\n"
   ]
  },
  {
   "cell_type": "code",
   "execution_count": 7,
   "id": "aeb89c4e",
   "metadata": {},
   "outputs": [],
   "source": [
    "x_test = std_col_names(pd.read_csv('test.csv'))\n"
   ]
  },
  {
   "cell_type": "markdown",
   "id": "e353ddbd",
   "metadata": {},
   "source": [
    "### Observe data"
   ]
  },
  {
   "cell_type": "code",
   "execution_count": 8,
   "id": "8146a465",
   "metadata": {},
   "outputs": [
    {
     "data": {
      "text/html": [
       "<div>\n",
       "<style scoped>\n",
       "    .dataframe tbody tr th:only-of-type {\n",
       "        vertical-align: middle;\n",
       "    }\n",
       "\n",
       "    .dataframe tbody tr th {\n",
       "        vertical-align: top;\n",
       "    }\n",
       "\n",
       "    .dataframe thead th {\n",
       "        text-align: right;\n",
       "    }\n",
       "</style>\n",
       "<table border=\"1\" class=\"dataframe\">\n",
       "  <thead>\n",
       "    <tr style=\"text-align: right;\">\n",
       "      <th></th>\n",
       "      <th>item_id</th>\n",
       "      <th>item_w</th>\n",
       "      <th>item_type</th>\n",
       "      <th>item_mrp</th>\n",
       "      <th>outlet_id</th>\n",
       "      <th>outlet_year</th>\n",
       "      <th>outlet_size</th>\n",
       "      <th>outlet_location_type</th>\n",
       "      <th>sales</th>\n",
       "    </tr>\n",
       "  </thead>\n",
       "  <tbody>\n",
       "    <tr>\n",
       "      <th>0</th>\n",
       "      <td>FDU32</td>\n",
       "      <td>21.027</td>\n",
       "      <td>Baking Goods</td>\n",
       "      <td>197.352</td>\n",
       "      <td>OUT046</td>\n",
       "      <td>2004</td>\n",
       "      <td>Small</td>\n",
       "      <td>Tier 2</td>\n",
       "      <td>2689.458</td>\n",
       "    </tr>\n",
       "    <tr>\n",
       "      <th>1</th>\n",
       "      <td>NCT54</td>\n",
       "      <td>21.102</td>\n",
       "      <td>Meat</td>\n",
       "      <td>148.250</td>\n",
       "      <td>OUT035</td>\n",
       "      <td>1987</td>\n",
       "      <td>Small</td>\n",
       "      <td>Tier 1</td>\n",
       "      <td>3437.350</td>\n",
       "    </tr>\n",
       "    <tr>\n",
       "      <th>2</th>\n",
       "      <td>FDW08</td>\n",
       "      <td>20.882</td>\n",
       "      <td>Hard Drinks</td>\n",
       "      <td>205.465</td>\n",
       "      <td>OUT035</td>\n",
       "      <td>1999</td>\n",
       "      <td>Small</td>\n",
       "      <td>Tier 3</td>\n",
       "      <td>3129.967</td>\n",
       "    </tr>\n",
       "    <tr>\n",
       "      <th>3</th>\n",
       "      <td>FDJ22</td>\n",
       "      <td>21.050</td>\n",
       "      <td>Starchy Foods</td>\n",
       "      <td>253.418</td>\n",
       "      <td>OUT046</td>\n",
       "      <td>1996</td>\n",
       "      <td>Small</td>\n",
       "      <td>Tier 1</td>\n",
       "      <td>1306.514</td>\n",
       "    </tr>\n",
       "    <tr>\n",
       "      <th>4</th>\n",
       "      <td>FDF47</td>\n",
       "      <td>21.248</td>\n",
       "      <td>Baking Goods</td>\n",
       "      <td>240.871</td>\n",
       "      <td>OUT035</td>\n",
       "      <td>1988</td>\n",
       "      <td>Small</td>\n",
       "      <td>Tier 3</td>\n",
       "      <td>1739.770</td>\n",
       "    </tr>\n",
       "  </tbody>\n",
       "</table>\n",
       "</div>"
      ],
      "text/plain": [
       "  item_id  item_w      item_type  item_mrp outlet_id  outlet_year outlet_size  \\\n",
       "0   FDU32  21.027   Baking Goods   197.352    OUT046         2004       Small   \n",
       "1   NCT54  21.102           Meat   148.250    OUT035         1987       Small   \n",
       "2   FDW08  20.882    Hard Drinks   205.465    OUT035         1999       Small   \n",
       "3   FDJ22  21.050  Starchy Foods   253.418    OUT046         1996       Small   \n",
       "4   FDF47  21.248   Baking Goods   240.871    OUT035         1988       Small   \n",
       "\n",
       "  outlet_location_type     sales  \n",
       "0               Tier 2  2689.458  \n",
       "1               Tier 1  3437.350  \n",
       "2               Tier 3  3129.967  \n",
       "3               Tier 1  1306.514  \n",
       "4               Tier 3  1739.770  "
      ]
     },
     "execution_count": 8,
     "metadata": {},
     "output_type": "execute_result"
    }
   ],
   "source": [
    "df.head()"
   ]
  },
  {
   "cell_type": "code",
   "execution_count": 9,
   "id": "fb662f06",
   "metadata": {},
   "outputs": [
    {
     "name": "stdout",
     "output_type": "stream",
     "text": [
      "<class 'pandas.core.frame.DataFrame'>\n",
      "RangeIndex: 87864 entries, 0 to 87863\n",
      "Data columns (total 9 columns):\n",
      " #   Column                Non-Null Count  Dtype  \n",
      "---  ------                --------------  -----  \n",
      " 0   item_id               87864 non-null  object \n",
      " 1   item_w                87864 non-null  float64\n",
      " 2   item_type             87864 non-null  object \n",
      " 3   item_mrp              87864 non-null  float64\n",
      " 4   outlet_id             87864 non-null  object \n",
      " 5   outlet_year           87864 non-null  int64  \n",
      " 6   outlet_size           87864 non-null  object \n",
      " 7   outlet_location_type  87864 non-null  object \n",
      " 8   sales                 87864 non-null  float64\n",
      "dtypes: float64(3), int64(1), object(5)\n",
      "memory usage: 6.0+ MB\n"
     ]
    }
   ],
   "source": [
    "df.info()"
   ]
  },
  {
   "cell_type": "code",
   "execution_count": 10,
   "id": "2b647a2c",
   "metadata": {},
   "outputs": [
    {
     "data": {
      "text/html": [
       "<div>\n",
       "<style scoped>\n",
       "    .dataframe tbody tr th:only-of-type {\n",
       "        vertical-align: middle;\n",
       "    }\n",
       "\n",
       "    .dataframe tbody tr th {\n",
       "        vertical-align: top;\n",
       "    }\n",
       "\n",
       "    .dataframe thead th {\n",
       "        text-align: right;\n",
       "    }\n",
       "</style>\n",
       "<table border=\"1\" class=\"dataframe\">\n",
       "  <thead>\n",
       "    <tr style=\"text-align: right;\">\n",
       "      <th></th>\n",
       "      <th>item_w</th>\n",
       "      <th>item_mrp</th>\n",
       "      <th>outlet_year</th>\n",
       "      <th>sales</th>\n",
       "    </tr>\n",
       "  </thead>\n",
       "  <tbody>\n",
       "    <tr>\n",
       "      <th>count</th>\n",
       "      <td>87864.000</td>\n",
       "      <td>87864.000</td>\n",
       "      <td>87864.000</td>\n",
       "      <td>87864.000</td>\n",
       "    </tr>\n",
       "    <tr>\n",
       "      <th>mean</th>\n",
       "      <td>15.591</td>\n",
       "      <td>151.243</td>\n",
       "      <td>1999.871</td>\n",
       "      <td>1911.842</td>\n",
       "    </tr>\n",
       "    <tr>\n",
       "      <th>std</th>\n",
       "      <td>4.364</td>\n",
       "      <td>59.536</td>\n",
       "      <td>6.634</td>\n",
       "      <td>1291.386</td>\n",
       "    </tr>\n",
       "    <tr>\n",
       "      <th>min</th>\n",
       "      <td>7.993</td>\n",
       "      <td>32.910</td>\n",
       "      <td>1987.000</td>\n",
       "      <td>-1229.360</td>\n",
       "    </tr>\n",
       "    <tr>\n",
       "      <th>25%</th>\n",
       "      <td>10.969</td>\n",
       "      <td>112.423</td>\n",
       "      <td>1997.000</td>\n",
       "      <td>959.250</td>\n",
       "    </tr>\n",
       "    <tr>\n",
       "      <th>50%</th>\n",
       "      <td>15.831</td>\n",
       "      <td>145.581</td>\n",
       "      <td>1999.000</td>\n",
       "      <td>1606.308</td>\n",
       "    </tr>\n",
       "    <tr>\n",
       "      <th>75%</th>\n",
       "      <td>19.970</td>\n",
       "      <td>197.110</td>\n",
       "      <td>2004.000</td>\n",
       "      <td>2608.058</td>\n",
       "    </tr>\n",
       "    <tr>\n",
       "      <th>max</th>\n",
       "      <td>21.250</td>\n",
       "      <td>265.214</td>\n",
       "      <td>2009.000</td>\n",
       "      <td>10309.283</td>\n",
       "    </tr>\n",
       "  </tbody>\n",
       "</table>\n",
       "</div>"
      ],
      "text/plain": [
       "          item_w   item_mrp  outlet_year      sales\n",
       "count  87864.000  87864.000    87864.000  87864.000\n",
       "mean      15.591    151.243     1999.871   1911.842\n",
       "std        4.364     59.536        6.634   1291.386\n",
       "min        7.993     32.910     1987.000  -1229.360\n",
       "25%       10.969    112.423     1997.000    959.250\n",
       "50%       15.831    145.581     1999.000   1606.308\n",
       "75%       19.970    197.110     2004.000   2608.058\n",
       "max       21.250    265.214     2009.000  10309.283"
      ]
     },
     "execution_count": 10,
     "metadata": {},
     "output_type": "execute_result"
    }
   ],
   "source": [
    "df.describe()"
   ]
  },
  {
   "cell_type": "markdown",
   "id": "34517620",
   "metadata": {},
   "source": [
    "- Minimum sales value is -1230\n",
    "- Check for number of items with negative sales values\n"
   ]
  },
  {
   "cell_type": "code",
   "execution_count": 11,
   "id": "922d631d",
   "metadata": {},
   "outputs": [
    {
     "name": "stdout",
     "output_type": "stream",
     "text": [
      "Ratio of negative sales values: 0.005\n"
     ]
    }
   ],
   "source": [
    "a= (df['sales']<0).value_counts(normalize=True)\n",
    "print(f'Ratio of negative sales values: {a.loc[1]:.3f}')"
   ]
  },
  {
   "cell_type": "markdown",
   "id": "0a823d1e",
   "metadata": {},
   "source": [
    "Ratio of negative sales values is negligible"
   ]
  },
  {
   "cell_type": "code",
   "execution_count": 12,
   "id": "ad6ed766",
   "metadata": {},
   "outputs": [
    {
     "data": {
      "text/plain": [
       "array([[<AxesSubplot:title={'center':'item_w'}>,\n",
       "        <AxesSubplot:title={'center':'item_mrp'}>],\n",
       "       [<AxesSubplot:title={'center':'outlet_year'}>,\n",
       "        <AxesSubplot:title={'center':'sales'}>]], dtype=object)"
      ]
     },
     "execution_count": 12,
     "metadata": {},
     "output_type": "execute_result"
    },
    {
     "data": {
      "image/png": "[encoded data removed]",
      "text/plain": [
       "<Figure size 1440x1080 with 4 Axes>"
      ]
     },
     "metadata": {
      "needs_background": "light"
     },
     "output_type": "display_data"
    }
   ],
   "source": [
    "df.hist(bins= 50, figsize= (20,15))"
   ]
  },
  {
   "cell_type": "markdown",
   "id": "10f1f806",
   "metadata": {},
   "source": [
    "Sales is right skewed distribution"
   ]
  },
  {
   "cell_type": "code",
   "execution_count": 13,
   "id": "b5bd967a",
   "metadata": {},
   "outputs": [],
   "source": [
    "# profile = ProfileReport(df)\n",
    "# profile.to_file(\"sales_analysis.html\")"
   ]
  },
  {
   "cell_type": "markdown",
   "id": "79360f46",
   "metadata": {},
   "source": [
    "### Split data"
   ]
  },
  {
   "cell_type": "code",
   "execution_count": 14,
   "id": "18dc64d4",
   "metadata": {},
   "outputs": [],
   "source": [
    "# Split data into train, validation\n",
    "train, val = train_test_split(df, random_state=42, test_size=0.15)"
   ]
  },
  {
   "cell_type": "code",
   "execution_count": 15,
   "id": "cacbf2ed",
   "metadata": {},
   "outputs": [],
   "source": [
    "# Reset index to be sequenced\n",
    "train = train.reset_index(drop= True)\n",
    "val=val.reset_index(drop= True)"
   ]
  },
  {
   "cell_type": "markdown",
   "id": "a20c214a",
   "metadata": {},
   "source": [
    "#### Drop the target column from train and validation feature sets\n"
   ]
  },
  {
   "cell_type": "code",
   "execution_count": 16,
   "id": "0048f9f6",
   "metadata": {},
   "outputs": [],
   "source": [
    "x_train = train.drop('sales', axis= 1)\n",
    "y_train = train['sales'].copy()\n",
    "\n",
    "x_val = val.drop('sales', axis= 1)\n",
    "y_val = val['sales'].copy()"
   ]
  },
  {
   "cell_type": "code",
   "execution_count": 17,
   "id": "de903609",
   "metadata": {},
   "outputs": [
    {
     "data": {
      "text/plain": [
       "(87864, 74684, 13180)"
      ]
     },
     "execution_count": 17,
     "metadata": {},
     "output_type": "execute_result"
    }
   ],
   "source": [
    "len(df), len(x_train), len(x_val)"
   ]
  },
  {
   "cell_type": "markdown",
   "id": "3e56a163",
   "metadata": {},
   "source": [
    "### Extract numerical | categorical columns"
   ]
  },
  {
   "cell_type": "code",
   "execution_count": 18,
   "id": "37f8a1f3",
   "metadata": {},
   "outputs": [],
   "source": [
    "num_cols = x_train.select_dtypes(include=['int64', 'float64']).columns.to_list()\n",
    "cat_cols = x_train.select_dtypes(include=['object']).columns.to_list()"
   ]
  },
  {
   "cell_type": "markdown",
   "id": "0b0cfc08",
   "metadata": {},
   "source": [
    "### Check the sales of items as a function of outlet attributes (Size | Location type)"
   ]
  },
  {
   "cell_type": "code",
   "execution_count": 19,
   "id": "c3bb1bdc",
   "metadata": {},
   "outputs": [
    {
     "data": {
      "text/html": [
       "<div>\n",
       "<style scoped>\n",
       "    .dataframe tbody tr th:only-of-type {\n",
       "        vertical-align: middle;\n",
       "    }\n",
       "\n",
       "    .dataframe tbody tr th {\n",
       "        vertical-align: top;\n",
       "    }\n",
       "\n",
       "    .dataframe thead th {\n",
       "        text-align: right;\n",
       "    }\n",
       "</style>\n",
       "<table border=\"1\" class=\"dataframe\">\n",
       "  <thead>\n",
       "    <tr style=\"text-align: right;\">\n",
       "      <th></th>\n",
       "      <th>outlet_location_type</th>\n",
       "      <th>outlet_size</th>\n",
       "      <th>sales</th>\n",
       "    </tr>\n",
       "  </thead>\n",
       "  <tbody>\n",
       "    <tr>\n",
       "      <th>0</th>\n",
       "      <td>Tier 1</td>\n",
       "      <td>High</td>\n",
       "      <td>6.500</td>\n",
       "    </tr>\n",
       "    <tr>\n",
       "      <th>1</th>\n",
       "      <td>Tier 1</td>\n",
       "      <td>Medium</td>\n",
       "      <td>8.360</td>\n",
       "    </tr>\n",
       "    <tr>\n",
       "      <th>2</th>\n",
       "      <td>Tier 1</td>\n",
       "      <td>Small</td>\n",
       "      <td>40.644</td>\n",
       "    </tr>\n",
       "    <tr>\n",
       "      <th>3</th>\n",
       "      <td>Tier 2</td>\n",
       "      <td>High</td>\n",
       "      <td>5.461</td>\n",
       "    </tr>\n",
       "    <tr>\n",
       "      <th>4</th>\n",
       "      <td>Tier 2</td>\n",
       "      <td>Medium</td>\n",
       "      <td>5.614</td>\n",
       "    </tr>\n",
       "    <tr>\n",
       "      <th>5</th>\n",
       "      <td>Tier 2</td>\n",
       "      <td>Small</td>\n",
       "      <td>31.998</td>\n",
       "    </tr>\n",
       "    <tr>\n",
       "      <th>6</th>\n",
       "      <td>Tier 3</td>\n",
       "      <td>High</td>\n",
       "      <td>9.746</td>\n",
       "    </tr>\n",
       "    <tr>\n",
       "      <th>7</th>\n",
       "      <td>Tier 3</td>\n",
       "      <td>Medium</td>\n",
       "      <td>26.087</td>\n",
       "    </tr>\n",
       "    <tr>\n",
       "      <th>8</th>\n",
       "      <td>Tier 3</td>\n",
       "      <td>Small</td>\n",
       "      <td>8.311</td>\n",
       "    </tr>\n",
       "  </tbody>\n",
       "</table>\n",
       "</div>"
      ],
      "text/plain": [
       "  outlet_location_type outlet_size   sales\n",
       "0               Tier 1        High   6.500\n",
       "1               Tier 1      Medium   8.360\n",
       "2               Tier 1       Small  40.644\n",
       "3               Tier 2        High   5.461\n",
       "4               Tier 2      Medium   5.614\n",
       "5               Tier 2       Small  31.998\n",
       "6               Tier 3        High   9.746\n",
       "7               Tier 3      Medium  26.087\n",
       "8               Tier 3       Small   8.311"
      ]
     },
     "execution_count": 19,
     "metadata": {},
     "output_type": "execute_result"
    }
   ],
   "source": [
    "outlet_df = (train.pivot_table( values = ['sales'], columns= ['outlet_location_type',\\\n",
    "                                                             'outlet_size'],\\\n",
    "                              aggfunc= 'sum')/math.pow(10, 6)).T.reset_index()\n",
    "outlet_df"
   ]
  },
  {
   "cell_type": "code",
   "execution_count": 20,
   "id": "2a3e1514",
   "metadata": {},
   "outputs": [
    {
     "data": {
      "text/plain": [
       "<AxesSubplot:title={'center':'Sales vs Location type | size'}, xlabel='outlet_location_type', ylabel='Sales'>"
      ]
     },
     "execution_count": 20,
     "metadata": {},
     "output_type": "execute_result"
    },
    {
     "data": {
      "image/png": "[encoded data removed]",
      "text/plain": [
       "<Figure size 432x288 with 1 Axes>"
      ]
     },
     "metadata": {
      "needs_background": "light"
     },
     "output_type": "display_data"
    }
   ],
   "source": [
    "outlet_df.pivot(\"outlet_location_type\", \"outlet_size\", \"sales\").plot(kind='bar', ylabel= 'Sales', title= 'Sales vs Location type | size')"
   ]
  },
  {
   "cell_type": "code",
   "execution_count": 21,
   "id": "af33571f",
   "metadata": {},
   "outputs": [
    {
     "data": {
      "text/plain": [
       "<AxesSubplot:title={'center':'Sales by location type'}, xlabel='outlet_location_type', ylabel='Sales(M)'>"
      ]
     },
     "execution_count": 21,
     "metadata": {},
     "output_type": "execute_result"
    },
    {
     "data": {
      "image/png": "[encoded data removed]",
      "text/plain": [
       "<Figure size 432x288 with 1 Axes>"
      ]
     },
     "metadata": {
      "needs_background": "light"
     },
     "output_type": "display_data"
    }
   ],
   "source": [
    "sales_by_location = outlet_df.groupby(by='outlet_location_type').agg('sum')\n",
    "sales_by_location.plot(kind= 'bar', title= 'Sales by location type', ylabel='Sales(M)')"
   ]
  },
  {
   "cell_type": "code",
   "execution_count": 22,
   "id": "4fadeb49",
   "metadata": {
    "scrolled": true
   },
   "outputs": [
    {
     "data": {
      "text/plain": [
       "<AxesSubplot:title={'center':'Store count by location type'}>"
      ]
     },
     "execution_count": 22,
     "metadata": {},
     "output_type": "execute_result"
    },
    {
     "data": {
      "image/png": "[encoded data removed]",
      "text/plain": [
       "<Figure size 432x288 with 1 Axes>"
      ]
     },
     "metadata": {
      "needs_background": "light"
     },
     "output_type": "display_data"
    }
   ],
   "source": [
    "location_count = train['outlet_location_type'].value_counts()\n",
    "location_count.plot(kind= 'bar', title= 'Store count by location type')\n"
   ]
  },
  {
   "cell_type": "code",
   "execution_count": 23,
   "id": "423e7e51",
   "metadata": {},
   "outputs": [
    {
     "data": {
      "text/plain": [
       "<AxesSubplot:xlabel='outlet_size', ylabel='Sales(M)'>"
      ]
     },
     "execution_count": 23,
     "metadata": {},
     "output_type": "execute_result"
    },
    {
     "data": {
      "image/png": "[encoded data removed]",
      "text/plain": [
       "<Figure size 432x288 with 1 Axes>"
      ]
     },
     "metadata": {
      "needs_background": "light"
     },
     "output_type": "display_data"
    }
   ],
   "source": [
    "sales_by_size = outlet_df.groupby(by='outlet_size').agg('sum')\n",
    "sales_by_size.plot(kind='bar', ylabel= 'Sales(M)')"
   ]
  },
  {
   "cell_type": "code",
   "execution_count": 24,
   "id": "2fff52d9",
   "metadata": {
    "scrolled": true
   },
   "outputs": [
    {
     "data": {
      "text/plain": [
       "Tier 1    28592\n",
       "Tier 3    24605\n",
       "Tier 2    21487\n",
       "Name: outlet_location_type, dtype: int64"
      ]
     },
     "execution_count": 24,
     "metadata": {},
     "output_type": "execute_result"
    },
    {
     "data": {
      "image/png": "[encoded data removed]",
      "text/plain": [
       "<Figure size 432x288 with 1 Axes>"
      ]
     },
     "metadata": {
      "needs_background": "light"
     },
     "output_type": "display_data"
    }
   ],
   "source": [
    "location_count = train['outlet_location_type'].value_counts()\n",
    "location_count.plot(kind= 'bar', title= 'Store count by location type')\n",
    "location_count"
   ]
  },
  {
   "cell_type": "code",
   "execution_count": 25,
   "id": "e746a743",
   "metadata": {},
   "outputs": [
    {
     "data": {
      "text/plain": [
       "<AxesSubplot:title={'center':'Store count by size'}>"
      ]
     },
     "execution_count": 25,
     "metadata": {},
     "output_type": "execute_result"
    },
    {
     "data": {
      "image/png": "[encoded data removed]",
      "text/plain": [
       "<Figure size 432x288 with 1 Axes>"
      ]
     },
     "metadata": {
      "needs_background": "light"
     },
     "output_type": "display_data"
    }
   ],
   "source": [
    "size_count = train['outlet_size'].value_counts()\n",
    "size_count.plot(kind= 'bar', title= 'Store count by size')"
   ]
  },
  {
   "cell_type": "markdown",
   "id": "3c223185",
   "metadata": {},
   "source": [
    "### Insights on Sales vs Outlet\n",
    "From the above pivot graphs, we get the following insights:\n",
    "\n",
    "- The small stores in Tier 1 and Tier 2 locations account for exceptionally higher sales\n",
    "- Small stores in aggregation account for highest sales\n",
    "- Aggregated sales are in order (Tier 1->3->2)"
   ]
  },
  {
   "cell_type": "markdown",
   "id": "b0ee3003",
   "metadata": {},
   "source": [
    "## Helper Functions"
   ]
  },
  {
   "cell_type": "code",
   "execution_count": 26,
   "id": "03b4e0d3",
   "metadata": {},
   "outputs": [],
   "source": [
    "def eval_rmse(model, train, val, train_actual= y_train, val_actual= y_val ):\n",
    "    train_pred = model.predict(train)\n",
    "    train_rmse = mean_squared_error(train_actual, train_pred, squared= False)\n",
    "#     yield(f'{model} Train RMSE: {train_rmse}')\n",
    "\n",
    "    val_pred = model.predict(val)\n",
    "    val_rmse = mean_squared_error(val_actual,val_pred, squared= False)\n",
    "#     yield(f'{model} Validation RMSE: {val_rmse}')\n",
    "    \n",
    "    return {f'{model}':(train_rmse, val_rmse)}"
   ]
  },
  {
   "cell_type": "code",
   "execution_count": 27,
   "id": "6b595573",
   "metadata": {},
   "outputs": [],
   "source": [
    "def retrieve_item_cats(df, col):\n",
    "    item_cats={}\n",
    "    for x in range(4):\n",
    "        if x<3:\n",
    "            item_cats[f'item_cat_{x}'] = [df[col][idx][x] for idx in range(len(df))]\n",
    "        else:\n",
    "            item_cats[f'item_cat_{x}'] = [df[col][idx][x:] for idx in range(len(df))]\n",
    "    return item_cats\n",
    "            \n",
    "            "
   ]
  },
  {
   "cell_type": "code",
   "execution_count": 28,
   "id": "a285edcc",
   "metadata": {},
   "outputs": [],
   "source": [
    "def process_data(df, cols):\n",
    "    df_ids =  pd.DataFrame(retrieve_item_cats(df, 'item_id'))\n",
    "    df_id_split = pd.concat([df, df_ids], axis= 1)\n",
    "    df_id_split['out_size'] = df['outlet_size'].map(outlet_size_map)\n",
    "    df_id_split['out_type'] = df['outlet_location_type'].map(outlet_location_map)\n",
    "    df_id_split['outlet_age']= 2021-df_id_split['outlet_year']\n",
    "    return df_id_split[cols]"
   ]
  },
  {
   "cell_type": "code",
   "execution_count": 29,
   "id": "7b4744dd",
   "metadata": {},
   "outputs": [],
   "source": [
    "def export(series, name):\n",
    "    sol = pd.DataFrame(series, columns= ['Sales'])\n",
    "\n",
    "\n",
    "    sub = sol.to_csv(f'./subs/{name}.csv', index= False)"
   ]
  },
  {
   "cell_type": "code",
   "execution_count": 30,
   "id": "5ab50345",
   "metadata": {},
   "outputs": [],
   "source": [
    "def ord_encode(df):\n",
    "    outlet_size_map = {'Small': 1, 'Medium': 2, 'High': 3}\n",
    "    outlet_location_map = {'Tier 1': 3,'Tier 2': 2, 'Tier 3': 1}\n",
    "    df['out_size'] = df['outlet_size'].map(outlet_size_map)\n",
    "    df['out_type'] = df['outlet_location_type'].map(outlet_location_map)\n",
    "    return df"
   ]
  },
  {
   "cell_type": "code",
   "execution_count": 31,
   "id": "ee61de0b",
   "metadata": {},
   "outputs": [],
   "source": [
    "def scale_num_cols(df, scale_cols):\n",
    "    for col in scale_cols:\n",
    "        df[col+'_scale'] = (df[col] - min(df[col])) / (max(df[col]) - min(df[col]))\n",
    "    return df"
   ]
  },
  {
   "cell_type": "code",
   "execution_count": 147,
   "id": "f35d9685",
   "metadata": {},
   "outputs": [],
   "source": [
    "def parse_xgb_output(output):\n",
    "    results = []\n",
    "\n",
    "    for line in output.stdout.strip().split('\\n'):\n",
    "        it_line, train_line, val_line = line.split('\\t')\n",
    "\n",
    "        it = int(it_line.strip('[]'))\n",
    "        train = float(train_line.split(':')[1])\n",
    "        val = float(val_line.split(':')[1])\n",
    "\n",
    "        results.append((it, train, val))\n",
    "    \n",
    "    columns = ['num_iter', 'train_rmse', 'val_rmse']\n",
    "    df_results = pd.DataFrame(results, columns=columns)\n",
    "    return df_results"
   ]
  },
  {
   "cell_type": "markdown",
   "id": "08fce283",
   "metadata": {},
   "source": [
    "## Approach 1: Innocent (without `item_id`)"
   ]
  },
  {
   "cell_type": "code",
   "execution_count": 32,
   "id": "d5daf2ce",
   "metadata": {},
   "outputs": [
    {
     "data": {
      "text/plain": [
       "(3, 5)"
      ]
     },
     "execution_count": 32,
     "metadata": {},
     "output_type": "execute_result"
    }
   ],
   "source": [
    "len(num_cols), len(cat_cols)"
   ]
  },
  {
   "cell_type": "markdown",
   "id": "a339394b",
   "metadata": {},
   "source": [
    "### Initialize DictVectorizer for OneHotEncoding"
   ]
  },
  {
   "cell_type": "code",
   "execution_count": 33,
   "id": "b40673d0",
   "metadata": {},
   "outputs": [],
   "source": [
    "\n",
    "dv = DictVectorizer(sparse=False)\n",
    "\n",
    "train_dict = x_train[x_train.columns.to_list()[1:]].to_dict(orient= 'records')\n",
    "train_dv = dv.fit_transform(train_dict)\n",
    "\n",
    "val_dict = x_val[x_train.columns.to_list()[1:]].to_dict(orient= 'records')\n",
    "val_dv = dv.transform(val_dict)"
   ]
  },
  {
   "cell_type": "code",
   "execution_count": 34,
   "id": "565713ad",
   "metadata": {},
   "outputs": [
    {
     "data": {
      "text/plain": [
       "'Number of columns after OneHotEncoding: 30'"
      ]
     },
     "execution_count": 34,
     "metadata": {},
     "output_type": "execute_result"
    }
   ],
   "source": [
    "(f'Number of columns after OneHotEncoding: {len(dv.feature_names_)}')"
   ]
  },
  {
   "cell_type": "markdown",
   "id": "efa6437f",
   "metadata": {},
   "source": [
    "### LinearRegression "
   ]
  },
  {
   "cell_type": "code",
   "execution_count": 35,
   "id": "eb64c7c0",
   "metadata": {},
   "outputs": [],
   "source": [
    "lr= LinearRegression()"
   ]
  },
  {
   "cell_type": "code",
   "execution_count": 36,
   "id": "bf7a2dcf",
   "metadata": {},
   "outputs": [
    {
     "data": {
      "text/plain": [
       "LinearRegression()"
      ]
     },
     "execution_count": 36,
     "metadata": {},
     "output_type": "execute_result"
    }
   ],
   "source": [
    "lr.fit(train_dv, y_train)"
   ]
  },
  {
   "cell_type": "code",
   "execution_count": 37,
   "id": "f7280505",
   "metadata": {},
   "outputs": [],
   "source": [
    "lr_train_preds = lr.predict(train_dv)\n"
   ]
  },
  {
   "cell_type": "code",
   "execution_count": 38,
   "id": "9e765457",
   "metadata": {},
   "outputs": [
    {
     "data": {
      "text/plain": [
       "{'LinearRegression()': (1281.3008554284595, 1284.1006661527758)}"
      ]
     },
     "execution_count": 38,
     "metadata": {},
     "output_type": "execute_result"
    }
   ],
   "source": [
    "lr_rmse = eval_rmse(lr, train_dv, val_dv)\n",
    "lr_rmse"
   ]
  },
  {
   "cell_type": "code",
   "execution_count": 39,
   "id": "de87a0d1",
   "metadata": {},
   "outputs": [],
   "source": [
    "# # Predict on test set\n",
    "# test_dict = x_test[x_test.columns.to_list()[1:]].to_dict(orient= 'records')\n",
    "# test_dv = dv.transform(test_dict)\n",
    "\n",
    "# dt_test_preds = dt.predict(test_dv)\n",
    "\n",
    "# sol = pd.DataFrame(dt_test_preds, columns= ['Sales'])\n",
    "\n",
    "\n",
    "# sub = sol.to_csv('./subs/dt_noItemID.csv', index= False)"
   ]
  },
  {
   "cell_type": "markdown",
   "id": "62fb5624",
   "metadata": {},
   "source": [
    "### DecisionTree"
   ]
  },
  {
   "cell_type": "code",
   "execution_count": 40,
   "id": "433c607b",
   "metadata": {},
   "outputs": [],
   "source": [
    "dt = DecisionTreeRegressor()"
   ]
  },
  {
   "cell_type": "code",
   "execution_count": 41,
   "id": "ce903177",
   "metadata": {},
   "outputs": [
    {
     "data": {
      "text/plain": [
       "DecisionTreeRegressor()"
      ]
     },
     "execution_count": 41,
     "metadata": {},
     "output_type": "execute_result"
    }
   ],
   "source": [
    "dt.fit(train_dv, y_train)"
   ]
  },
  {
   "cell_type": "code",
   "execution_count": 42,
   "id": "62efe8b9",
   "metadata": {},
   "outputs": [],
   "source": [
    "dt_train_preds = dt.predict(train_dv)\n"
   ]
  },
  {
   "cell_type": "code",
   "execution_count": 43,
   "id": "bed2ef26",
   "metadata": {},
   "outputs": [
    {
     "data": {
      "text/plain": [
       "{'DecisionTreeRegressor()': (0.0, 1833.6916023574913)}"
      ]
     },
     "execution_count": 43,
     "metadata": {},
     "output_type": "execute_result"
    }
   ],
   "source": [
    "dt_rmse = eval_rmse(dt, train_dv, val_dv)\n",
    "dt_rmse"
   ]
  },
  {
   "cell_type": "code",
   "execution_count": 44,
   "id": "0197d03e",
   "metadata": {},
   "outputs": [],
   "source": [
    "# test_dict = x_test[x_test.columns.to_list()[1:]].to_dict(orient= 'records')\n",
    "# test_dv = dv.transform(test_dict)\n",
    "\n",
    "# lr_test_preds = lr.predict(test_dv)\n",
    "\n",
    "# sol = pd.DataFrame(lr_test_preds, columns= ['Sales'])\n",
    "\n",
    "\n",
    "# sub = sol.to_csv('./subs/lr_noItemID.csv', index= False)"
   ]
  },
  {
   "cell_type": "markdown",
   "id": "02e63da3",
   "metadata": {},
   "source": [
    "## Approach 2:  Better pre-processing\n",
    "Let's look at the dataset again"
   ]
  },
  {
   "cell_type": "code",
   "execution_count": 45,
   "id": "6390b26f",
   "metadata": {},
   "outputs": [
    {
     "data": {
      "text/html": [
       "<div>\n",
       "<style scoped>\n",
       "    .dataframe tbody tr th:only-of-type {\n",
       "        vertical-align: middle;\n",
       "    }\n",
       "\n",
       "    .dataframe tbody tr th {\n",
       "        vertical-align: top;\n",
       "    }\n",
       "\n",
       "    .dataframe thead th {\n",
       "        text-align: right;\n",
       "    }\n",
       "</style>\n",
       "<table border=\"1\" class=\"dataframe\">\n",
       "  <thead>\n",
       "    <tr style=\"text-align: right;\">\n",
       "      <th></th>\n",
       "      <th>item_id</th>\n",
       "      <th>item_w</th>\n",
       "      <th>item_type</th>\n",
       "      <th>item_mrp</th>\n",
       "      <th>outlet_id</th>\n",
       "      <th>outlet_year</th>\n",
       "      <th>outlet_size</th>\n",
       "      <th>outlet_location_type</th>\n",
       "    </tr>\n",
       "  </thead>\n",
       "  <tbody>\n",
       "    <tr>\n",
       "      <th>0</th>\n",
       "      <td>FDI15</td>\n",
       "      <td>10.256</td>\n",
       "      <td>Starchy Foods</td>\n",
       "      <td>65.639</td>\n",
       "      <td>OUT035</td>\n",
       "      <td>1999</td>\n",
       "      <td>High</td>\n",
       "      <td>Tier 1</td>\n",
       "    </tr>\n",
       "    <tr>\n",
       "      <th>1</th>\n",
       "      <td>FDG33</td>\n",
       "      <td>17.097</td>\n",
       "      <td>Fruits and Vegetables</td>\n",
       "      <td>62.723</td>\n",
       "      <td>OUT049</td>\n",
       "      <td>1997</td>\n",
       "      <td>Medium</td>\n",
       "      <td>Tier 3</td>\n",
       "    </tr>\n",
       "    <tr>\n",
       "      <th>2</th>\n",
       "      <td>FDK21</td>\n",
       "      <td>20.459</td>\n",
       "      <td>Dairy</td>\n",
       "      <td>169.515</td>\n",
       "      <td>OUT013</td>\n",
       "      <td>2009</td>\n",
       "      <td>Small</td>\n",
       "      <td>Tier 2</td>\n",
       "    </tr>\n",
       "    <tr>\n",
       "      <th>3</th>\n",
       "      <td>FDR58</td>\n",
       "      <td>17.485</td>\n",
       "      <td>Meat</td>\n",
       "      <td>185.331</td>\n",
       "      <td>OUT046</td>\n",
       "      <td>2004</td>\n",
       "      <td>Small</td>\n",
       "      <td>Tier 3</td>\n",
       "    </tr>\n",
       "    <tr>\n",
       "      <th>4</th>\n",
       "      <td>FDX33</td>\n",
       "      <td>9.363</td>\n",
       "      <td>Baking Goods</td>\n",
       "      <td>132.951</td>\n",
       "      <td>OUT035</td>\n",
       "      <td>2003</td>\n",
       "      <td>Small</td>\n",
       "      <td>Tier 2</td>\n",
       "    </tr>\n",
       "  </tbody>\n",
       "</table>\n",
       "</div>"
      ],
      "text/plain": [
       "  item_id  item_w              item_type  item_mrp outlet_id  outlet_year  \\\n",
       "0   FDI15  10.256          Starchy Foods    65.639    OUT035         1999   \n",
       "1   FDG33  17.097  Fruits and Vegetables    62.723    OUT049         1997   \n",
       "2   FDK21  20.459                  Dairy   169.515    OUT013         2009   \n",
       "3   FDR58  17.485                   Meat   185.331    OUT046         2004   \n",
       "4   FDX33   9.363           Baking Goods   132.951    OUT035         2003   \n",
       "\n",
       "  outlet_size outlet_location_type  \n",
       "0        High               Tier 1  \n",
       "1      Medium               Tier 3  \n",
       "2       Small               Tier 2  \n",
       "3       Small               Tier 3  \n",
       "4       Small               Tier 2  "
      ]
     },
     "execution_count": 45,
     "metadata": {},
     "output_type": "execute_result"
    }
   ],
   "source": [
    "x_train.head()"
   ]
  },
  {
   "cell_type": "markdown",
   "id": "13d279bb",
   "metadata": {},
   "source": [
    "### Observe sales based on `item_type`"
   ]
  },
  {
   "cell_type": "code",
   "execution_count": 46,
   "id": "50ad85e9",
   "metadata": {},
   "outputs": [
    {
     "data": {
      "text/html": [
       "<div>\n",
       "<style scoped>\n",
       "    .dataframe tbody tr th:only-of-type {\n",
       "        vertical-align: middle;\n",
       "    }\n",
       "\n",
       "    .dataframe tbody tr th {\n",
       "        vertical-align: top;\n",
       "    }\n",
       "\n",
       "    .dataframe thead th {\n",
       "        text-align: right;\n",
       "    }\n",
       "</style>\n",
       "<table border=\"1\" class=\"dataframe\">\n",
       "  <thead>\n",
       "    <tr style=\"text-align: right;\">\n",
       "      <th></th>\n",
       "      <th>sales</th>\n",
       "      <th>sales_ratio</th>\n",
       "    </tr>\n",
       "    <tr>\n",
       "      <th>item_type</th>\n",
       "      <th></th>\n",
       "      <th></th>\n",
       "    </tr>\n",
       "  </thead>\n",
       "  <tbody>\n",
       "    <tr>\n",
       "      <th>Baking Goods</th>\n",
       "      <td>24.591</td>\n",
       "      <td>17.231</td>\n",
       "    </tr>\n",
       "    <tr>\n",
       "      <th>Fruits and Vegetables</th>\n",
       "      <td>22.017</td>\n",
       "      <td>15.427</td>\n",
       "    </tr>\n",
       "    <tr>\n",
       "      <th>Meat</th>\n",
       "      <td>13.212</td>\n",
       "      <td>9.258</td>\n",
       "    </tr>\n",
       "    <tr>\n",
       "      <th>Snack Foods</th>\n",
       "      <td>12.611</td>\n",
       "      <td>8.836</td>\n",
       "    </tr>\n",
       "    <tr>\n",
       "      <th>Household</th>\n",
       "      <td>9.612</td>\n",
       "      <td>6.735</td>\n",
       "    </tr>\n",
       "    <tr>\n",
       "      <th>Soft Drinks</th>\n",
       "      <td>9.221</td>\n",
       "      <td>6.461</td>\n",
       "    </tr>\n",
       "    <tr>\n",
       "      <th>Frozen Foods</th>\n",
       "      <td>8.421</td>\n",
       "      <td>5.900</td>\n",
       "    </tr>\n",
       "    <tr>\n",
       "      <th>Canned</th>\n",
       "      <td>7.366</td>\n",
       "      <td>5.161</td>\n",
       "    </tr>\n",
       "    <tr>\n",
       "      <th>Others</th>\n",
       "      <td>5.953</td>\n",
       "      <td>4.171</td>\n",
       "    </tr>\n",
       "    <tr>\n",
       "      <th>Breads</th>\n",
       "      <td>5.945</td>\n",
       "      <td>4.166</td>\n",
       "    </tr>\n",
       "    <tr>\n",
       "      <th>Dairy</th>\n",
       "      <td>5.910</td>\n",
       "      <td>4.141</td>\n",
       "    </tr>\n",
       "    <tr>\n",
       "      <th>Hard Drinks</th>\n",
       "      <td>5.314</td>\n",
       "      <td>3.723</td>\n",
       "    </tr>\n",
       "    <tr>\n",
       "      <th>Starchy Foods</th>\n",
       "      <td>4.827</td>\n",
       "      <td>3.382</td>\n",
       "    </tr>\n",
       "    <tr>\n",
       "      <th>Health and Hygiene</th>\n",
       "      <td>4.711</td>\n",
       "      <td>3.301</td>\n",
       "    </tr>\n",
       "    <tr>\n",
       "      <th>Seafood</th>\n",
       "      <td>1.907</td>\n",
       "      <td>1.336</td>\n",
       "    </tr>\n",
       "    <tr>\n",
       "      <th>Breakfast</th>\n",
       "      <td>1.100</td>\n",
       "      <td>0.771</td>\n",
       "    </tr>\n",
       "  </tbody>\n",
       "</table>\n",
       "</div>"
      ],
      "text/plain": [
       "                        sales  sales_ratio\n",
       "item_type                                 \n",
       "Baking Goods           24.591       17.231\n",
       "Fruits and Vegetables  22.017       15.427\n",
       "Meat                   13.212        9.258\n",
       "Snack Foods            12.611        8.836\n",
       "Household               9.612        6.735\n",
       "Soft Drinks             9.221        6.461\n",
       "Frozen Foods            8.421        5.900\n",
       "Canned                  7.366        5.161\n",
       "Others                  5.953        4.171\n",
       "Breads                  5.945        4.166\n",
       "Dairy                   5.910        4.141\n",
       "Hard Drinks             5.314        3.723\n",
       "Starchy Foods           4.827        3.382\n",
       "Health and Hygiene      4.711        3.301\n",
       "Seafood                 1.907        1.336\n",
       "Breakfast               1.100        0.771"
      ]
     },
     "execution_count": 46,
     "metadata": {},
     "output_type": "execute_result"
    }
   ],
   "source": [
    "item_sales_df = (train[['item_type', 'sales']].groupby(by= 'item_type').agg('sum'))/math.pow(10,6)\n",
    "item_sales_df = item_sales_df.sort_values(by='sales', ascending= False)\n",
    "item_sales_df['sales_ratio'] = (item_sales_df['sales']/ item_sales_df['sales'].sum())*100\n",
    "item_sales_df"
   ]
  },
  {
   "cell_type": "code",
   "execution_count": 47,
   "id": "cdc35659",
   "metadata": {},
   "outputs": [
    {
     "name": "stdout",
     "output_type": "stream",
     "text": [
      "Unique_item_types: 16\n",
      "Unique_item_ids: 894\n"
     ]
    }
   ],
   "source": [
    "unique_item_types = train['item_type'].nunique()\n",
    "print(f'Unique_item_types: {unique_item_types }')\n",
    "unique_item_ids = train['item_id'].nunique()\n",
    "print(f'Unique_item_ids: {unique_item_ids }')\n"
   ]
  },
  {
   "cell_type": "markdown",
   "id": "3aaa957b",
   "metadata": {},
   "source": [
    "### Split the `item_id` feature into more categorical parts"
   ]
  },
  {
   "cell_type": "code",
   "execution_count": 48,
   "id": "b1e5f598",
   "metadata": {},
   "outputs": [],
   "source": [
    "x_train_ids = pd.DataFrame(retrieve_item_cats(x_train, 'item_id'))\n"
   ]
  },
  {
   "cell_type": "code",
   "execution_count": 49,
   "id": "b82dc735",
   "metadata": {},
   "outputs": [
    {
     "data": {
      "text/html": [
       "<div>\n",
       "<style scoped>\n",
       "    .dataframe tbody tr th:only-of-type {\n",
       "        vertical-align: middle;\n",
       "    }\n",
       "\n",
       "    .dataframe tbody tr th {\n",
       "        vertical-align: top;\n",
       "    }\n",
       "\n",
       "    .dataframe thead th {\n",
       "        text-align: right;\n",
       "    }\n",
       "</style>\n",
       "<table border=\"1\" class=\"dataframe\">\n",
       "  <thead>\n",
       "    <tr style=\"text-align: right;\">\n",
       "      <th></th>\n",
       "      <th>item_cat_0</th>\n",
       "      <th>item_cat_1</th>\n",
       "      <th>item_cat_2</th>\n",
       "      <th>item_cat_3</th>\n",
       "    </tr>\n",
       "  </thead>\n",
       "  <tbody>\n",
       "    <tr>\n",
       "      <th>0</th>\n",
       "      <td>F</td>\n",
       "      <td>D</td>\n",
       "      <td>I</td>\n",
       "      <td>15</td>\n",
       "    </tr>\n",
       "    <tr>\n",
       "      <th>1</th>\n",
       "      <td>F</td>\n",
       "      <td>D</td>\n",
       "      <td>G</td>\n",
       "      <td>33</td>\n",
       "    </tr>\n",
       "    <tr>\n",
       "      <th>2</th>\n",
       "      <td>F</td>\n",
       "      <td>D</td>\n",
       "      <td>K</td>\n",
       "      <td>21</td>\n",
       "    </tr>\n",
       "    <tr>\n",
       "      <th>3</th>\n",
       "      <td>F</td>\n",
       "      <td>D</td>\n",
       "      <td>R</td>\n",
       "      <td>58</td>\n",
       "    </tr>\n",
       "    <tr>\n",
       "      <th>4</th>\n",
       "      <td>F</td>\n",
       "      <td>D</td>\n",
       "      <td>X</td>\n",
       "      <td>33</td>\n",
       "    </tr>\n",
       "  </tbody>\n",
       "</table>\n",
       "</div>"
      ],
      "text/plain": [
       "  item_cat_0 item_cat_1 item_cat_2 item_cat_3\n",
       "0          F          D          I         15\n",
       "1          F          D          G         33\n",
       "2          F          D          K         21\n",
       "3          F          D          R         58\n",
       "4          F          D          X         33"
      ]
     },
     "execution_count": 49,
     "metadata": {},
     "output_type": "execute_result"
    }
   ],
   "source": [
    "x_train_ids.head()"
   ]
  },
  {
   "cell_type": "code",
   "execution_count": 50,
   "id": "2b1d5203",
   "metadata": {},
   "outputs": [],
   "source": [
    "x_train_id_split = pd.concat([x_train, x_train_ids], axis= 1)"
   ]
  },
  {
   "cell_type": "code",
   "execution_count": 51,
   "id": "020b23aa",
   "metadata": {},
   "outputs": [
    {
     "data": {
      "text/plain": [
       "item_cat_0     3\n",
       "item_cat_1     3\n",
       "item_cat_2    26\n",
       "item_cat_3    60\n",
       "dtype: int64"
      ]
     },
     "execution_count": 51,
     "metadata": {},
     "output_type": "execute_result"
    }
   ],
   "source": [
    "x_train_ids.nunique()"
   ]
  },
  {
   "cell_type": "markdown",
   "id": "569cc907",
   "metadata": {},
   "source": [
    "- We have expanded the `item_id` column now. As observed above, the unique number of values in the 4 columns should ideally be lesser than the number of unique columns when they are combined (`item_id` as a whole).   \n",
    "<br>\n",
    "\n",
    "- The number of unique values for the split columns is `(3+3+26+60)= 92`  \n",
    "<br>\n",
    "\n",
    "- Let's check for item_id as a single column."
   ]
  },
  {
   "cell_type": "code",
   "execution_count": 52,
   "id": "ede6e3df",
   "metadata": {},
   "outputs": [
    {
     "data": {
      "text/plain": [
       "894"
      ]
     },
     "execution_count": 52,
     "metadata": {},
     "output_type": "execute_result"
    }
   ],
   "source": [
    "x_train['item_id'].nunique()"
   ]
  },
  {
   "cell_type": "markdown",
   "id": "2878648d",
   "metadata": {},
   "source": [
    "894 unique values for `item_id`! This is bound to create too many features and mostly not be able to capture patterns"
   ]
  },
  {
   "cell_type": "code",
   "execution_count": 53,
   "id": "5485f9fa",
   "metadata": {},
   "outputs": [
    {
     "data": {
      "text/html": [
       "<div>\n",
       "<style scoped>\n",
       "    .dataframe tbody tr th:only-of-type {\n",
       "        vertical-align: middle;\n",
       "    }\n",
       "\n",
       "    .dataframe tbody tr th {\n",
       "        vertical-align: top;\n",
       "    }\n",
       "\n",
       "    .dataframe thead th {\n",
       "        text-align: right;\n",
       "    }\n",
       "</style>\n",
       "<table border=\"1\" class=\"dataframe\">\n",
       "  <thead>\n",
       "    <tr style=\"text-align: right;\">\n",
       "      <th></th>\n",
       "      <th>item_id</th>\n",
       "    </tr>\n",
       "  </thead>\n",
       "  <tbody>\n",
       "    <tr>\n",
       "      <th>DRA12</th>\n",
       "      <td>63</td>\n",
       "    </tr>\n",
       "    <tr>\n",
       "      <th>DRA24</th>\n",
       "      <td>13</td>\n",
       "    </tr>\n",
       "    <tr>\n",
       "      <th>DRA59</th>\n",
       "      <td>87</td>\n",
       "    </tr>\n",
       "    <tr>\n",
       "      <th>DRB13</th>\n",
       "      <td>48</td>\n",
       "    </tr>\n",
       "    <tr>\n",
       "      <th>DRB24</th>\n",
       "      <td>9</td>\n",
       "    </tr>\n",
       "    <tr>\n",
       "      <th>...</th>\n",
       "      <td>...</td>\n",
       "    </tr>\n",
       "    <tr>\n",
       "      <th>NCZ29</th>\n",
       "      <td>22</td>\n",
       "    </tr>\n",
       "    <tr>\n",
       "      <th>NCZ41</th>\n",
       "      <td>145</td>\n",
       "    </tr>\n",
       "    <tr>\n",
       "      <th>NCZ42</th>\n",
       "      <td>22</td>\n",
       "    </tr>\n",
       "    <tr>\n",
       "      <th>NCZ53</th>\n",
       "      <td>159</td>\n",
       "    </tr>\n",
       "    <tr>\n",
       "      <th>NCZ54</th>\n",
       "      <td>45</td>\n",
       "    </tr>\n",
       "  </tbody>\n",
       "</table>\n",
       "<p>894 rows × 1 columns</p>\n",
       "</div>"
      ],
      "text/plain": [
       "       item_id\n",
       "DRA12       63\n",
       "DRA24       13\n",
       "DRA59       87\n",
       "DRB13       48\n",
       "DRB24        9\n",
       "...        ...\n",
       "NCZ29       22\n",
       "NCZ41      145\n",
       "NCZ42       22\n",
       "NCZ53      159\n",
       "NCZ54       45\n",
       "\n",
       "[894 rows x 1 columns]"
      ]
     },
     "execution_count": 53,
     "metadata": {},
     "output_type": "execute_result"
    }
   ],
   "source": [
    "item_id_counts = pd.DataFrame(train['item_id'].value_counts()).sort_index()\n",
    "item_id_counts"
   ]
  },
  {
   "cell_type": "code",
   "execution_count": 54,
   "id": "9ba552cd",
   "metadata": {},
   "outputs": [
    {
     "data": {
      "text/html": [
       "<div>\n",
       "<style scoped>\n",
       "    .dataframe tbody tr th:only-of-type {\n",
       "        vertical-align: middle;\n",
       "    }\n",
       "\n",
       "    .dataframe tbody tr th {\n",
       "        vertical-align: top;\n",
       "    }\n",
       "\n",
       "    .dataframe thead th {\n",
       "        text-align: right;\n",
       "    }\n",
       "</style>\n",
       "<table border=\"1\" class=\"dataframe\">\n",
       "  <thead>\n",
       "    <tr style=\"text-align: right;\">\n",
       "      <th></th>\n",
       "      <th>0</th>\n",
       "    </tr>\n",
       "    <tr>\n",
       "      <th>item_id</th>\n",
       "      <th></th>\n",
       "    </tr>\n",
       "  </thead>\n",
       "  <tbody>\n",
       "    <tr>\n",
       "      <th>NCG18</th>\n",
       "      <td>3532.192</td>\n",
       "    </tr>\n",
       "    <tr>\n",
       "      <th>FDZ16</th>\n",
       "      <td>3161.893</td>\n",
       "    </tr>\n",
       "    <tr>\n",
       "      <th>NCG55</th>\n",
       "      <td>3144.762</td>\n",
       "    </tr>\n",
       "    <tr>\n",
       "      <th>DRG25</th>\n",
       "      <td>3102.795</td>\n",
       "    </tr>\n",
       "    <tr>\n",
       "      <th>DRC27</th>\n",
       "      <td>3100.625</td>\n",
       "    </tr>\n",
       "    <tr>\n",
       "      <th>...</th>\n",
       "      <td>...</td>\n",
       "    </tr>\n",
       "    <tr>\n",
       "      <th>NCY29</th>\n",
       "      <td>1168.668</td>\n",
       "    </tr>\n",
       "    <tr>\n",
       "      <th>NCY53</th>\n",
       "      <td>1153.821</td>\n",
       "    </tr>\n",
       "    <tr>\n",
       "      <th>FDQ47</th>\n",
       "      <td>1149.351</td>\n",
       "    </tr>\n",
       "    <tr>\n",
       "      <th>FDB05</th>\n",
       "      <td>1142.481</td>\n",
       "    </tr>\n",
       "    <tr>\n",
       "      <th>FDI12</th>\n",
       "      <td>938.457</td>\n",
       "    </tr>\n",
       "  </tbody>\n",
       "</table>\n",
       "<p>894 rows × 1 columns</p>\n",
       "</div>"
      ],
      "text/plain": [
       "                0\n",
       "item_id          \n",
       "NCG18    3532.192\n",
       "FDZ16    3161.893\n",
       "NCG55    3144.762\n",
       "DRG25    3102.795\n",
       "DRC27    3100.625\n",
       "...           ...\n",
       "NCY29    1168.668\n",
       "NCY53    1153.821\n",
       "FDQ47    1149.351\n",
       "FDB05    1142.481\n",
       "FDI12     938.457\n",
       "\n",
       "[894 rows x 1 columns]"
      ]
     },
     "execution_count": 54,
     "metadata": {},
     "output_type": "execute_result"
    }
   ],
   "source": [
    "pd.DataFrame(train.groupby(by='item_id').agg('sum')['sales'] / item_id_counts['item_id']).sort_values(by=0,ascending=False)"
   ]
  },
  {
   "cell_type": "code",
   "execution_count": 55,
   "id": "c136de72",
   "metadata": {},
   "outputs": [
    {
     "data": {
      "text/html": [
       "<div>\n",
       "<style scoped>\n",
       "    .dataframe tbody tr th:only-of-type {\n",
       "        vertical-align: middle;\n",
       "    }\n",
       "\n",
       "    .dataframe tbody tr th {\n",
       "        vertical-align: top;\n",
       "    }\n",
       "\n",
       "    .dataframe thead th {\n",
       "        text-align: right;\n",
       "    }\n",
       "</style>\n",
       "<table border=\"1\" class=\"dataframe\">\n",
       "  <thead>\n",
       "    <tr style=\"text-align: right;\">\n",
       "      <th></th>\n",
       "      <th>item_id</th>\n",
       "      <th>item_w</th>\n",
       "      <th>item_type</th>\n",
       "      <th>item_mrp</th>\n",
       "      <th>outlet_id</th>\n",
       "      <th>outlet_year</th>\n",
       "      <th>outlet_size</th>\n",
       "      <th>outlet_location_type</th>\n",
       "      <th>item_cat_0</th>\n",
       "      <th>item_cat_1</th>\n",
       "      <th>item_cat_2</th>\n",
       "      <th>item_cat_3</th>\n",
       "    </tr>\n",
       "  </thead>\n",
       "  <tbody>\n",
       "    <tr>\n",
       "      <th>0</th>\n",
       "      <td>FDI15</td>\n",
       "      <td>10.256</td>\n",
       "      <td>Starchy Foods</td>\n",
       "      <td>65.639</td>\n",
       "      <td>OUT035</td>\n",
       "      <td>1999</td>\n",
       "      <td>High</td>\n",
       "      <td>Tier 1</td>\n",
       "      <td>F</td>\n",
       "      <td>D</td>\n",
       "      <td>I</td>\n",
       "      <td>15</td>\n",
       "    </tr>\n",
       "    <tr>\n",
       "      <th>1</th>\n",
       "      <td>FDG33</td>\n",
       "      <td>17.097</td>\n",
       "      <td>Fruits and Vegetables</td>\n",
       "      <td>62.723</td>\n",
       "      <td>OUT049</td>\n",
       "      <td>1997</td>\n",
       "      <td>Medium</td>\n",
       "      <td>Tier 3</td>\n",
       "      <td>F</td>\n",
       "      <td>D</td>\n",
       "      <td>G</td>\n",
       "      <td>33</td>\n",
       "    </tr>\n",
       "    <tr>\n",
       "      <th>2</th>\n",
       "      <td>FDK21</td>\n",
       "      <td>20.459</td>\n",
       "      <td>Dairy</td>\n",
       "      <td>169.515</td>\n",
       "      <td>OUT013</td>\n",
       "      <td>2009</td>\n",
       "      <td>Small</td>\n",
       "      <td>Tier 2</td>\n",
       "      <td>F</td>\n",
       "      <td>D</td>\n",
       "      <td>K</td>\n",
       "      <td>21</td>\n",
       "    </tr>\n",
       "    <tr>\n",
       "      <th>3</th>\n",
       "      <td>FDR58</td>\n",
       "      <td>17.485</td>\n",
       "      <td>Meat</td>\n",
       "      <td>185.331</td>\n",
       "      <td>OUT046</td>\n",
       "      <td>2004</td>\n",
       "      <td>Small</td>\n",
       "      <td>Tier 3</td>\n",
       "      <td>F</td>\n",
       "      <td>D</td>\n",
       "      <td>R</td>\n",
       "      <td>58</td>\n",
       "    </tr>\n",
       "    <tr>\n",
       "      <th>4</th>\n",
       "      <td>FDX33</td>\n",
       "      <td>9.363</td>\n",
       "      <td>Baking Goods</td>\n",
       "      <td>132.951</td>\n",
       "      <td>OUT035</td>\n",
       "      <td>2003</td>\n",
       "      <td>Small</td>\n",
       "      <td>Tier 2</td>\n",
       "      <td>F</td>\n",
       "      <td>D</td>\n",
       "      <td>X</td>\n",
       "      <td>33</td>\n",
       "    </tr>\n",
       "  </tbody>\n",
       "</table>\n",
       "</div>"
      ],
      "text/plain": [
       "  item_id  item_w              item_type  item_mrp outlet_id  outlet_year  \\\n",
       "0   FDI15  10.256          Starchy Foods    65.639    OUT035         1999   \n",
       "1   FDG33  17.097  Fruits and Vegetables    62.723    OUT049         1997   \n",
       "2   FDK21  20.459                  Dairy   169.515    OUT013         2009   \n",
       "3   FDR58  17.485                   Meat   185.331    OUT046         2004   \n",
       "4   FDX33   9.363           Baking Goods   132.951    OUT035         2003   \n",
       "\n",
       "  outlet_size outlet_location_type item_cat_0 item_cat_1 item_cat_2 item_cat_3  \n",
       "0        High               Tier 1          F          D          I         15  \n",
       "1      Medium               Tier 3          F          D          G         33  \n",
       "2       Small               Tier 2          F          D          K         21  \n",
       "3       Small               Tier 3          F          D          R         58  \n",
       "4       Small               Tier 2          F          D          X         33  "
      ]
     },
     "execution_count": 55,
     "metadata": {},
     "output_type": "execute_result"
    }
   ],
   "source": [
    "x_train_id_split.head()"
   ]
  },
  {
   "cell_type": "markdown",
   "id": "e8844216",
   "metadata": {},
   "source": [
    "## Ordinal Encode `outlet_size` and `outlet_location_type`"
   ]
  },
  {
   "cell_type": "code",
   "execution_count": 56,
   "id": "13650ad1",
   "metadata": {},
   "outputs": [],
   "source": [
    "outlet_size_map = {'Small': 1, 'Medium': 2, 'High': 3}\n",
    "outlet_location_map = {'Tier 1': 3,'Tier 2': 2, 'Tier 3': 1}"
   ]
  },
  {
   "cell_type": "code",
   "execution_count": 57,
   "id": "439c5462",
   "metadata": {},
   "outputs": [],
   "source": [
    "x_train_id_split['out_size'] = x_train['outlet_size'].map(outlet_size_map)\n",
    "x_train_id_split['out_type'] = x_train['outlet_location_type'].map(outlet_location_map)"
   ]
  },
  {
   "cell_type": "markdown",
   "id": "7ee47ebd",
   "metadata": {},
   "source": [
    "### Convert `oulet_year` to `outlet_age`"
   ]
  },
  {
   "cell_type": "code",
   "execution_count": 58,
   "id": "da4dfcc3",
   "metadata": {
    "scrolled": true
   },
   "outputs": [
    {
     "data": {
      "text/html": [
       "<div>\n",
       "<style scoped>\n",
       "    .dataframe tbody tr th:only-of-type {\n",
       "        vertical-align: middle;\n",
       "    }\n",
       "\n",
       "    .dataframe tbody tr th {\n",
       "        vertical-align: top;\n",
       "    }\n",
       "\n",
       "    .dataframe thead th {\n",
       "        text-align: right;\n",
       "    }\n",
       "</style>\n",
       "<table border=\"1\" class=\"dataframe\">\n",
       "  <thead>\n",
       "    <tr style=\"text-align: right;\">\n",
       "      <th></th>\n",
       "      <th>item_id</th>\n",
       "      <th>item_w</th>\n",
       "      <th>item_type</th>\n",
       "      <th>item_mrp</th>\n",
       "      <th>outlet_id</th>\n",
       "      <th>outlet_year</th>\n",
       "      <th>outlet_size</th>\n",
       "      <th>outlet_location_type</th>\n",
       "      <th>item_cat_0</th>\n",
       "      <th>item_cat_1</th>\n",
       "      <th>item_cat_2</th>\n",
       "      <th>item_cat_3</th>\n",
       "      <th>out_size</th>\n",
       "      <th>out_type</th>\n",
       "      <th>outlet_age</th>\n",
       "    </tr>\n",
       "  </thead>\n",
       "  <tbody>\n",
       "    <tr>\n",
       "      <th>0</th>\n",
       "      <td>FDI15</td>\n",
       "      <td>10.256</td>\n",
       "      <td>Starchy Foods</td>\n",
       "      <td>65.639</td>\n",
       "      <td>OUT035</td>\n",
       "      <td>1999</td>\n",
       "      <td>High</td>\n",
       "      <td>Tier 1</td>\n",
       "      <td>F</td>\n",
       "      <td>D</td>\n",
       "      <td>I</td>\n",
       "      <td>15</td>\n",
       "      <td>3</td>\n",
       "      <td>3</td>\n",
       "      <td>22</td>\n",
       "    </tr>\n",
       "    <tr>\n",
       "      <th>1</th>\n",
       "      <td>FDG33</td>\n",
       "      <td>17.097</td>\n",
       "      <td>Fruits and Vegetables</td>\n",
       "      <td>62.723</td>\n",
       "      <td>OUT049</td>\n",
       "      <td>1997</td>\n",
       "      <td>Medium</td>\n",
       "      <td>Tier 3</td>\n",
       "      <td>F</td>\n",
       "      <td>D</td>\n",
       "      <td>G</td>\n",
       "      <td>33</td>\n",
       "      <td>2</td>\n",
       "      <td>1</td>\n",
       "      <td>24</td>\n",
       "    </tr>\n",
       "    <tr>\n",
       "      <th>2</th>\n",
       "      <td>FDK21</td>\n",
       "      <td>20.459</td>\n",
       "      <td>Dairy</td>\n",
       "      <td>169.515</td>\n",
       "      <td>OUT013</td>\n",
       "      <td>2009</td>\n",
       "      <td>Small</td>\n",
       "      <td>Tier 2</td>\n",
       "      <td>F</td>\n",
       "      <td>D</td>\n",
       "      <td>K</td>\n",
       "      <td>21</td>\n",
       "      <td>1</td>\n",
       "      <td>2</td>\n",
       "      <td>12</td>\n",
       "    </tr>\n",
       "    <tr>\n",
       "      <th>3</th>\n",
       "      <td>FDR58</td>\n",
       "      <td>17.485</td>\n",
       "      <td>Meat</td>\n",
       "      <td>185.331</td>\n",
       "      <td>OUT046</td>\n",
       "      <td>2004</td>\n",
       "      <td>Small</td>\n",
       "      <td>Tier 3</td>\n",
       "      <td>F</td>\n",
       "      <td>D</td>\n",
       "      <td>R</td>\n",
       "      <td>58</td>\n",
       "      <td>1</td>\n",
       "      <td>1</td>\n",
       "      <td>17</td>\n",
       "    </tr>\n",
       "    <tr>\n",
       "      <th>4</th>\n",
       "      <td>FDX33</td>\n",
       "      <td>9.363</td>\n",
       "      <td>Baking Goods</td>\n",
       "      <td>132.951</td>\n",
       "      <td>OUT035</td>\n",
       "      <td>2003</td>\n",
       "      <td>Small</td>\n",
       "      <td>Tier 2</td>\n",
       "      <td>F</td>\n",
       "      <td>D</td>\n",
       "      <td>X</td>\n",
       "      <td>33</td>\n",
       "      <td>1</td>\n",
       "      <td>2</td>\n",
       "      <td>18</td>\n",
       "    </tr>\n",
       "  </tbody>\n",
       "</table>\n",
       "</div>"
      ],
      "text/plain": [
       "  item_id  item_w              item_type  item_mrp outlet_id  outlet_year  \\\n",
       "0   FDI15  10.256          Starchy Foods    65.639    OUT035         1999   \n",
       "1   FDG33  17.097  Fruits and Vegetables    62.723    OUT049         1997   \n",
       "2   FDK21  20.459                  Dairy   169.515    OUT013         2009   \n",
       "3   FDR58  17.485                   Meat   185.331    OUT046         2004   \n",
       "4   FDX33   9.363           Baking Goods   132.951    OUT035         2003   \n",
       "\n",
       "  outlet_size outlet_location_type item_cat_0 item_cat_1 item_cat_2  \\\n",
       "0        High               Tier 1          F          D          I   \n",
       "1      Medium               Tier 3          F          D          G   \n",
       "2       Small               Tier 2          F          D          K   \n",
       "3       Small               Tier 3          F          D          R   \n",
       "4       Small               Tier 2          F          D          X   \n",
       "\n",
       "  item_cat_3  out_size  out_type  outlet_age  \n",
       "0         15         3         3          22  \n",
       "1         33         2         1          24  \n",
       "2         21         1         2          12  \n",
       "3         58         1         1          17  \n",
       "4         33         1         2          18  "
      ]
     },
     "execution_count": 58,
     "metadata": {},
     "output_type": "execute_result"
    }
   ],
   "source": [
    "x_train_id_split['outlet_age']= 2021-x_train_id_split['outlet_year']\n",
    "x_train_id_split.head()"
   ]
  },
  {
   "cell_type": "code",
   "execution_count": 59,
   "id": "1a60354e",
   "metadata": {},
   "outputs": [],
   "source": [
    "x_train_id_split['item_cat_3'] = x_train_id_split['item_cat_3'].astype('str')"
   ]
  },
  {
   "cell_type": "markdown",
   "id": "61f7cc8a",
   "metadata": {},
   "source": [
    "### Transformations done:\n",
    "- Split item_id -> `retrieve_item_cats`\n",
    "- Ordinally encode -> `pd.map`\n",
    "- Outlet age -> `2021 - x['outlet_year']`\n",
    "- One hot encode/DictVectorize columns -> use `cols`"
   ]
  },
  {
   "cell_type": "code",
   "execution_count": 60,
   "id": "bd4237a7",
   "metadata": {},
   "outputs": [
    {
     "data": {
      "text/plain": [
       "Index(['item_id', 'item_w', 'item_type', 'item_mrp', 'outlet_id',\n",
       "       'outlet_year', 'outlet_size', 'outlet_location_type', 'item_cat_0',\n",
       "       'item_cat_1', 'item_cat_2', 'item_cat_3', 'out_size', 'out_type',\n",
       "       'outlet_age'],\n",
       "      dtype='object')"
      ]
     },
     "execution_count": 60,
     "metadata": {},
     "output_type": "execute_result"
    }
   ],
   "source": [
    "x_train_id_split.columns"
   ]
  },
  {
   "cell_type": "markdown",
   "id": "24c44ef7",
   "metadata": {},
   "source": [
    "### Initial set of columns"
   ]
  },
  {
   "cell_type": "code",
   "execution_count": 61,
   "id": "65bf50ee",
   "metadata": {},
   "outputs": [],
   "source": [
    "\n",
    "col = ['item_cat_0',\n",
    "       'item_cat_1', 'item_cat_2', 'item_cat_3',  'item_w', 'item_type', 'item_mrp', 'outlet_id',\n",
    "       'out_size', 'out_type','outlet_age']"
   ]
  },
  {
   "cell_type": "code",
   "execution_count": 62,
   "id": "4fbf1445",
   "metadata": {},
   "outputs": [],
   "source": [
    "# train_dict_ext = x_train_id_split.to_dict(orient= 'records')\n",
    "dv_ext = DictVectorizer()\n",
    "\n",
    "train_dict_ext = x_train_id_split[col].to_dict(orient= 'records')\n",
    "train_dv_ext = dv_ext.fit_transform(train_dict_ext)\n",
    "\n",
    "# val_dict = x_val[x_train.columns.to_list()[1:]].to_dict(orient= 'records')\n",
    "# val_dv = dv.transform(val_dict)"
   ]
  },
  {
   "cell_type": "code",
   "execution_count": 63,
   "id": "978ca6ef",
   "metadata": {},
   "outputs": [
    {
     "data": {
      "text/plain": [
       "'Number of columns after all processing: 118'"
      ]
     },
     "execution_count": 63,
     "metadata": {},
     "output_type": "execute_result"
    }
   ],
   "source": [
    "(f'Number of columns after all processing: {len(dv_ext.get_feature_names())}')"
   ]
  },
  {
   "cell_type": "markdown",
   "id": "60173001",
   "metadata": {},
   "source": [
    "#### Preprocessing validation data"
   ]
  },
  {
   "cell_type": "code",
   "execution_count": 64,
   "id": "eded659a",
   "metadata": {},
   "outputs": [
    {
     "data": {
      "text/html": [
       "<div>\n",
       "<style scoped>\n",
       "    .dataframe tbody tr th:only-of-type {\n",
       "        vertical-align: middle;\n",
       "    }\n",
       "\n",
       "    .dataframe tbody tr th {\n",
       "        vertical-align: top;\n",
       "    }\n",
       "\n",
       "    .dataframe thead th {\n",
       "        text-align: right;\n",
       "    }\n",
       "</style>\n",
       "<table border=\"1\" class=\"dataframe\">\n",
       "  <thead>\n",
       "    <tr style=\"text-align: right;\">\n",
       "      <th></th>\n",
       "      <th>item_id</th>\n",
       "      <th>item_w</th>\n",
       "      <th>item_type</th>\n",
       "      <th>item_mrp</th>\n",
       "      <th>outlet_id</th>\n",
       "      <th>outlet_year</th>\n",
       "      <th>outlet_size</th>\n",
       "      <th>outlet_location_type</th>\n",
       "    </tr>\n",
       "  </thead>\n",
       "  <tbody>\n",
       "    <tr>\n",
       "      <th>0</th>\n",
       "      <td>FDX31</td>\n",
       "      <td>14.834</td>\n",
       "      <td>Household</td>\n",
       "      <td>157.992</td>\n",
       "      <td>OUT018</td>\n",
       "      <td>2009</td>\n",
       "      <td>Medium</td>\n",
       "      <td>Tier 3</td>\n",
       "    </tr>\n",
       "    <tr>\n",
       "      <th>1</th>\n",
       "      <td>FDT07</td>\n",
       "      <td>20.354</td>\n",
       "      <td>Snack Foods</td>\n",
       "      <td>188.247</td>\n",
       "      <td>OUT049</td>\n",
       "      <td>2009</td>\n",
       "      <td>Medium</td>\n",
       "      <td>Tier 3</td>\n",
       "    </tr>\n",
       "    <tr>\n",
       "      <th>2</th>\n",
       "      <td>FDL13</td>\n",
       "      <td>20.682</td>\n",
       "      <td>Canned</td>\n",
       "      <td>207.561</td>\n",
       "      <td>OUT046</td>\n",
       "      <td>2004</td>\n",
       "      <td>Small</td>\n",
       "      <td>Tier 3</td>\n",
       "    </tr>\n",
       "    <tr>\n",
       "      <th>3</th>\n",
       "      <td>DRJ01</td>\n",
       "      <td>16.704</td>\n",
       "      <td>Meat</td>\n",
       "      <td>260.534</td>\n",
       "      <td>OUT018</td>\n",
       "      <td>2009</td>\n",
       "      <td>Medium</td>\n",
       "      <td>Tier 3</td>\n",
       "    </tr>\n",
       "    <tr>\n",
       "      <th>4</th>\n",
       "      <td>DRM59</td>\n",
       "      <td>20.700</td>\n",
       "      <td>Snack Foods</td>\n",
       "      <td>171.415</td>\n",
       "      <td>OUT046</td>\n",
       "      <td>1987</td>\n",
       "      <td>Small</td>\n",
       "      <td>Tier 2</td>\n",
       "    </tr>\n",
       "  </tbody>\n",
       "</table>\n",
       "</div>"
      ],
      "text/plain": [
       "  item_id  item_w    item_type  item_mrp outlet_id  outlet_year outlet_size  \\\n",
       "0   FDX31  14.834    Household   157.992    OUT018         2009      Medium   \n",
       "1   FDT07  20.354  Snack Foods   188.247    OUT049         2009      Medium   \n",
       "2   FDL13  20.682       Canned   207.561    OUT046         2004       Small   \n",
       "3   DRJ01  16.704         Meat   260.534    OUT018         2009      Medium   \n",
       "4   DRM59  20.700  Snack Foods   171.415    OUT046         1987       Small   \n",
       "\n",
       "  outlet_location_type  \n",
       "0               Tier 3  \n",
       "1               Tier 3  \n",
       "2               Tier 3  \n",
       "3               Tier 3  \n",
       "4               Tier 2  "
      ]
     },
     "execution_count": 64,
     "metadata": {},
     "output_type": "execute_result"
    }
   ],
   "source": [
    "x_val.head()"
   ]
  },
  {
   "cell_type": "markdown",
   "id": "d19e7ede",
   "metadata": {},
   "source": [
    "### Perform transformations"
   ]
  },
  {
   "cell_type": "code",
   "execution_count": 65,
   "id": "f7d4d5b3",
   "metadata": {},
   "outputs": [],
   "source": [
    "x_val_ids =  pd.DataFrame(retrieve_item_cats(x_val, 'item_id'))\n",
    "x_val_id_split = pd.concat([x_val, x_val_ids], axis= 1)\n",
    "x_val_id_split['out_size'] = x_val['outlet_size'].map(outlet_size_map)\n",
    "x_val_id_split['out_type'] = x_val['outlet_location_type'].map(outlet_location_map)\n",
    "x_val_id_split['outlet_age']= 2021-x_val_id_split['outlet_year']\n",
    "# x_val_id_split['item_cat_3'] = x_val_id_split['item_cat_3'].astype('str')"
   ]
  },
  {
   "cell_type": "code",
   "execution_count": 66,
   "id": "807ab644",
   "metadata": {},
   "outputs": [
    {
     "data": {
      "text/html": [
       "<div>\n",
       "<style scoped>\n",
       "    .dataframe tbody tr th:only-of-type {\n",
       "        vertical-align: middle;\n",
       "    }\n",
       "\n",
       "    .dataframe tbody tr th {\n",
       "        vertical-align: top;\n",
       "    }\n",
       "\n",
       "    .dataframe thead th {\n",
       "        text-align: right;\n",
       "    }\n",
       "</style>\n",
       "<table border=\"1\" class=\"dataframe\">\n",
       "  <thead>\n",
       "    <tr style=\"text-align: right;\">\n",
       "      <th></th>\n",
       "      <th>item_cat_0</th>\n",
       "      <th>item_cat_1</th>\n",
       "      <th>item_cat_2</th>\n",
       "      <th>item_cat_3</th>\n",
       "      <th>item_w</th>\n",
       "      <th>item_type</th>\n",
       "      <th>item_mrp</th>\n",
       "      <th>outlet_id</th>\n",
       "      <th>out_size</th>\n",
       "      <th>out_type</th>\n",
       "      <th>outlet_age</th>\n",
       "    </tr>\n",
       "  </thead>\n",
       "  <tbody>\n",
       "    <tr>\n",
       "      <th>0</th>\n",
       "      <td>F</td>\n",
       "      <td>D</td>\n",
       "      <td>X</td>\n",
       "      <td>31</td>\n",
       "      <td>14.834</td>\n",
       "      <td>Household</td>\n",
       "      <td>157.992</td>\n",
       "      <td>OUT018</td>\n",
       "      <td>2</td>\n",
       "      <td>1</td>\n",
       "      <td>12</td>\n",
       "    </tr>\n",
       "    <tr>\n",
       "      <th>1</th>\n",
       "      <td>F</td>\n",
       "      <td>D</td>\n",
       "      <td>T</td>\n",
       "      <td>07</td>\n",
       "      <td>20.354</td>\n",
       "      <td>Snack Foods</td>\n",
       "      <td>188.247</td>\n",
       "      <td>OUT049</td>\n",
       "      <td>2</td>\n",
       "      <td>1</td>\n",
       "      <td>12</td>\n",
       "    </tr>\n",
       "    <tr>\n",
       "      <th>2</th>\n",
       "      <td>F</td>\n",
       "      <td>D</td>\n",
       "      <td>L</td>\n",
       "      <td>13</td>\n",
       "      <td>20.682</td>\n",
       "      <td>Canned</td>\n",
       "      <td>207.561</td>\n",
       "      <td>OUT046</td>\n",
       "      <td>1</td>\n",
       "      <td>1</td>\n",
       "      <td>17</td>\n",
       "    </tr>\n",
       "    <tr>\n",
       "      <th>3</th>\n",
       "      <td>D</td>\n",
       "      <td>R</td>\n",
       "      <td>J</td>\n",
       "      <td>01</td>\n",
       "      <td>16.704</td>\n",
       "      <td>Meat</td>\n",
       "      <td>260.534</td>\n",
       "      <td>OUT018</td>\n",
       "      <td>2</td>\n",
       "      <td>1</td>\n",
       "      <td>12</td>\n",
       "    </tr>\n",
       "    <tr>\n",
       "      <th>4</th>\n",
       "      <td>D</td>\n",
       "      <td>R</td>\n",
       "      <td>M</td>\n",
       "      <td>59</td>\n",
       "      <td>20.700</td>\n",
       "      <td>Snack Foods</td>\n",
       "      <td>171.415</td>\n",
       "      <td>OUT046</td>\n",
       "      <td>1</td>\n",
       "      <td>2</td>\n",
       "      <td>34</td>\n",
       "    </tr>\n",
       "  </tbody>\n",
       "</table>\n",
       "</div>"
      ],
      "text/plain": [
       "  item_cat_0 item_cat_1 item_cat_2 item_cat_3  item_w    item_type  item_mrp  \\\n",
       "0          F          D          X         31  14.834    Household   157.992   \n",
       "1          F          D          T         07  20.354  Snack Foods   188.247   \n",
       "2          F          D          L         13  20.682       Canned   207.561   \n",
       "3          D          R          J         01  16.704         Meat   260.534   \n",
       "4          D          R          M         59  20.700  Snack Foods   171.415   \n",
       "\n",
       "  outlet_id  out_size  out_type  outlet_age  \n",
       "0    OUT018         2         1          12  \n",
       "1    OUT049         2         1          12  \n",
       "2    OUT046         1         1          17  \n",
       "3    OUT018         2         1          12  \n",
       "4    OUT046         1         2          34  "
      ]
     },
     "execution_count": 66,
     "metadata": {},
     "output_type": "execute_result"
    }
   ],
   "source": [
    "x_val_id_split[col].head()"
   ]
  },
  {
   "cell_type": "code",
   "execution_count": 67,
   "id": "31428ac8",
   "metadata": {},
   "outputs": [
    {
     "name": "stdout",
     "output_type": "stream",
     "text": [
      "<class 'pandas.core.frame.DataFrame'>\n",
      "RangeIndex: 13180 entries, 0 to 13179\n",
      "Data columns (total 11 columns):\n",
      " #   Column      Non-Null Count  Dtype  \n",
      "---  ------      --------------  -----  \n",
      " 0   item_cat_0  13180 non-null  object \n",
      " 1   item_cat_1  13180 non-null  object \n",
      " 2   item_cat_2  13180 non-null  object \n",
      " 3   item_cat_3  13180 non-null  object \n",
      " 4   item_w      13180 non-null  float64\n",
      " 5   item_type   13180 non-null  object \n",
      " 6   item_mrp    13180 non-null  float64\n",
      " 7   outlet_id   13180 non-null  object \n",
      " 8   out_size    13180 non-null  int64  \n",
      " 9   out_type    13180 non-null  int64  \n",
      " 10  outlet_age  13180 non-null  int64  \n",
      "dtypes: float64(2), int64(3), object(6)\n",
      "memory usage: 1.1+ MB\n"
     ]
    }
   ],
   "source": [
    "x_val_id_split[col].info()"
   ]
  },
  {
   "cell_type": "code",
   "execution_count": 68,
   "id": "5b60d850",
   "metadata": {},
   "outputs": [],
   "source": [
    "val_dict_ext = x_val_id_split[col].to_dict(orient= 'records')\n",
    "val_dv_ext = dv_ext.transform(val_dict_ext)"
   ]
  },
  {
   "cell_type": "markdown",
   "id": "aeb644d5",
   "metadata": {},
   "source": [
    "####  Linear Regression"
   ]
  },
  {
   "cell_type": "code",
   "execution_count": 69,
   "id": "a8674fbf",
   "metadata": {},
   "outputs": [],
   "source": [
    "lr_ext = LinearRegression()"
   ]
  },
  {
   "cell_type": "code",
   "execution_count": 70,
   "id": "a93c78aa",
   "metadata": {},
   "outputs": [
    {
     "data": {
      "text/plain": [
       "LinearRegression()"
      ]
     },
     "execution_count": 70,
     "metadata": {},
     "output_type": "execute_result"
    }
   ],
   "source": [
    "lr_ext.fit(train_dv_ext, y_train)"
   ]
  },
  {
   "cell_type": "code",
   "execution_count": 71,
   "id": "bac2991a",
   "metadata": {},
   "outputs": [],
   "source": [
    "lr_train_preds_ext = lr_ext.predict(train_dv_ext)"
   ]
  },
  {
   "cell_type": "code",
   "execution_count": 72,
   "id": "d5c8139d",
   "metadata": {},
   "outputs": [],
   "source": [
    "lr_val_preds_ext = lr_ext.predict(val_dv_ext)"
   ]
  },
  {
   "cell_type": "code",
   "execution_count": 73,
   "id": "5c4a2e6b",
   "metadata": {
    "scrolled": true
   },
   "outputs": [
    {
     "name": "stdout",
     "output_type": "stream",
     "text": [
      "1281.597055181512\n",
      "1281.3008554284595\n"
     ]
    }
   ],
   "source": [
    "print(mean_squared_error(y_train, lr_train_preds_ext, squared= False))\n",
    "print(mean_squared_error(y_train, lr_train_preds, squared= False))\n",
    "\n",
    "# eval_rmse(lr_ext, lr_train_preds_ext.reshape(-1,1), lr_val_preds_ext.reshape(-1,1))"
   ]
  },
  {
   "cell_type": "code",
   "execution_count": 74,
   "id": "bc537d06",
   "metadata": {},
   "outputs": [
    {
     "name": "stdout",
     "output_type": "stream",
     "text": [
      "1286.4157457505694\n",
      "1284.1006661527758\n"
     ]
    }
   ],
   "source": [
    "lr_val_preds = lr.predict(val_dv)\n",
    "print(mean_squared_error(y_val, lr_val_preds_ext, squared=False))\n",
    "print(mean_squared_error(y_val, lr_val_preds, squared=False))"
   ]
  },
  {
   "cell_type": "markdown",
   "id": "99319013",
   "metadata": {},
   "source": [
    "### Feature importance for LinearRegression"
   ]
  },
  {
   "cell_type": "code",
   "execution_count": 75,
   "id": "1a699b23",
   "metadata": {
    "scrolled": true
   },
   "outputs": [
    {
     "data": {
      "text/html": [
       "<div>\n",
       "<style scoped>\n",
       "    .dataframe tbody tr th:only-of-type {\n",
       "        vertical-align: middle;\n",
       "    }\n",
       "\n",
       "    .dataframe tbody tr th {\n",
       "        vertical-align: top;\n",
       "    }\n",
       "\n",
       "    .dataframe thead th {\n",
       "        text-align: right;\n",
       "    }\n",
       "</style>\n",
       "<table border=\"1\" class=\"dataframe\">\n",
       "  <thead>\n",
       "    <tr style=\"text-align: right;\">\n",
       "      <th></th>\n",
       "      <th>0</th>\n",
       "      <th>1</th>\n",
       "    </tr>\n",
       "  </thead>\n",
       "  <tbody>\n",
       "    <tr>\n",
       "      <th>116</th>\n",
       "      <td>outlet_id=OUT046</td>\n",
       "      <td>19.051</td>\n",
       "    </tr>\n",
       "    <tr>\n",
       "      <th>49</th>\n",
       "      <td>item_cat_3=18</td>\n",
       "      <td>18.791</td>\n",
       "    </tr>\n",
       "    <tr>\n",
       "      <th>19</th>\n",
       "      <td>item_cat_2=N</td>\n",
       "      <td>18.420</td>\n",
       "    </tr>\n",
       "    <tr>\n",
       "      <th>46</th>\n",
       "      <td>item_cat_3=15</td>\n",
       "      <td>17.735</td>\n",
       "    </tr>\n",
       "    <tr>\n",
       "      <th>5</th>\n",
       "      <td>item_cat_1=R</td>\n",
       "      <td>17.469</td>\n",
       "    </tr>\n",
       "    <tr>\n",
       "      <th>0</th>\n",
       "      <td>item_cat_0=D</td>\n",
       "      <td>17.469</td>\n",
       "    </tr>\n",
       "    <tr>\n",
       "      <th>47</th>\n",
       "      <td>item_cat_3=16</td>\n",
       "      <td>17.036</td>\n",
       "    </tr>\n",
       "    <tr>\n",
       "      <th>89</th>\n",
       "      <td>item_cat_3=58</td>\n",
       "      <td>17.008</td>\n",
       "    </tr>\n",
       "    <tr>\n",
       "      <th>26</th>\n",
       "      <td>item_cat_2=U</td>\n",
       "      <td>16.730</td>\n",
       "    </tr>\n",
       "    <tr>\n",
       "      <th>33</th>\n",
       "      <td>item_cat_3=02</td>\n",
       "      <td>16.161</td>\n",
       "    </tr>\n",
       "    <tr>\n",
       "      <th>111</th>\n",
       "      <td>out_type</td>\n",
       "      <td>16.049</td>\n",
       "    </tr>\n",
       "    <tr>\n",
       "      <th>30</th>\n",
       "      <td>item_cat_2=Y</td>\n",
       "      <td>16.019</td>\n",
       "    </tr>\n",
       "    <tr>\n",
       "      <th>66</th>\n",
       "      <td>item_cat_3=35</td>\n",
       "      <td>15.877</td>\n",
       "    </tr>\n",
       "    <tr>\n",
       "      <th>103</th>\n",
       "      <td>item_type=Meat</td>\n",
       "      <td>13.438</td>\n",
       "    </tr>\n",
       "    <tr>\n",
       "      <th>9</th>\n",
       "      <td>item_cat_2=D</td>\n",
       "      <td>12.830</td>\n",
       "    </tr>\n",
       "    <tr>\n",
       "      <th>28</th>\n",
       "      <td>item_cat_2=W</td>\n",
       "      <td>12.211</td>\n",
       "    </tr>\n",
       "    <tr>\n",
       "      <th>13</th>\n",
       "      <td>item_cat_2=H</td>\n",
       "      <td>11.929</td>\n",
       "    </tr>\n",
       "    <tr>\n",
       "      <th>41</th>\n",
       "      <td>item_cat_3=10</td>\n",
       "      <td>11.699</td>\n",
       "    </tr>\n",
       "    <tr>\n",
       "      <th>21</th>\n",
       "      <td>item_cat_2=P</td>\n",
       "      <td>10.922</td>\n",
       "    </tr>\n",
       "    <tr>\n",
       "      <th>43</th>\n",
       "      <td>item_cat_3=12</td>\n",
       "      <td>10.748</td>\n",
       "    </tr>\n",
       "    <tr>\n",
       "      <th>32</th>\n",
       "      <td>item_cat_3=01</td>\n",
       "      <td>10.310</td>\n",
       "    </tr>\n",
       "    <tr>\n",
       "      <th>88</th>\n",
       "      <td>item_cat_3=57</td>\n",
       "      <td>10.110</td>\n",
       "    </tr>\n",
       "    <tr>\n",
       "      <th>79</th>\n",
       "      <td>item_cat_3=48</td>\n",
       "      <td>9.987</td>\n",
       "    </tr>\n",
       "    <tr>\n",
       "      <th>106</th>\n",
       "      <td>item_type=Snack Foods</td>\n",
       "      <td>9.906</td>\n",
       "    </tr>\n",
       "    <tr>\n",
       "      <th>108</th>\n",
       "      <td>item_type=Starchy Foods</td>\n",
       "      <td>9.893</td>\n",
       "    </tr>\n",
       "    <tr>\n",
       "      <th>54</th>\n",
       "      <td>item_cat_3=23</td>\n",
       "      <td>9.180</td>\n",
       "    </tr>\n",
       "    <tr>\n",
       "      <th>23</th>\n",
       "      <td>item_cat_2=R</td>\n",
       "      <td>9.163</td>\n",
       "    </tr>\n",
       "    <tr>\n",
       "      <th>71</th>\n",
       "      <td>item_cat_3=40</td>\n",
       "      <td>8.147</td>\n",
       "    </tr>\n",
       "    <tr>\n",
       "      <th>17</th>\n",
       "      <td>item_cat_2=L</td>\n",
       "      <td>8.046</td>\n",
       "    </tr>\n",
       "    <tr>\n",
       "      <th>58</th>\n",
       "      <td>item_cat_3=27</td>\n",
       "      <td>7.905</td>\n",
       "    </tr>\n",
       "    <tr>\n",
       "      <th>27</th>\n",
       "      <td>item_cat_2=V</td>\n",
       "      <td>6.741</td>\n",
       "    </tr>\n",
       "    <tr>\n",
       "      <th>40</th>\n",
       "      <td>item_cat_3=09</td>\n",
       "      <td>6.326</td>\n",
       "    </tr>\n",
       "    <tr>\n",
       "      <th>70</th>\n",
       "      <td>item_cat_3=39</td>\n",
       "      <td>5.422</td>\n",
       "    </tr>\n",
       "    <tr>\n",
       "      <th>8</th>\n",
       "      <td>item_cat_2=C</td>\n",
       "      <td>4.657</td>\n",
       "    </tr>\n",
       "    <tr>\n",
       "      <th>74</th>\n",
       "      <td>item_cat_3=43</td>\n",
       "      <td>4.529</td>\n",
       "    </tr>\n",
       "    <tr>\n",
       "      <th>31</th>\n",
       "      <td>item_cat_2=Z</td>\n",
       "      <td>4.277</td>\n",
       "    </tr>\n",
       "    <tr>\n",
       "      <th>39</th>\n",
       "      <td>item_cat_3=08</td>\n",
       "      <td>4.002</td>\n",
       "    </tr>\n",
       "    <tr>\n",
       "      <th>75</th>\n",
       "      <td>item_cat_3=44</td>\n",
       "      <td>3.929</td>\n",
       "    </tr>\n",
       "    <tr>\n",
       "      <th>57</th>\n",
       "      <td>item_cat_3=26</td>\n",
       "      <td>3.879</td>\n",
       "    </tr>\n",
       "    <tr>\n",
       "      <th>37</th>\n",
       "      <td>item_cat_3=06</td>\n",
       "      <td>3.877</td>\n",
       "    </tr>\n",
       "    <tr>\n",
       "      <th>29</th>\n",
       "      <td>item_cat_2=X</td>\n",
       "      <td>3.340</td>\n",
       "    </tr>\n",
       "    <tr>\n",
       "      <th>112</th>\n",
       "      <td>outlet_age</td>\n",
       "      <td>2.063</td>\n",
       "    </tr>\n",
       "    <tr>\n",
       "      <th>98</th>\n",
       "      <td>item_type=Frozen Foods</td>\n",
       "      <td>2.023</td>\n",
       "    </tr>\n",
       "    <tr>\n",
       "      <th>4</th>\n",
       "      <td>item_cat_1=D</td>\n",
       "      <td>1.831</td>\n",
       "    </tr>\n",
       "    <tr>\n",
       "      <th>1</th>\n",
       "      <td>item_cat_0=F</td>\n",
       "      <td>1.831</td>\n",
       "    </tr>\n",
       "    <tr>\n",
       "      <th>109</th>\n",
       "      <td>item_w</td>\n",
       "      <td>1.049</td>\n",
       "    </tr>\n",
       "    <tr>\n",
       "      <th>78</th>\n",
       "      <td>item_cat_3=47</td>\n",
       "      <td>0.983</td>\n",
       "    </tr>\n",
       "    <tr>\n",
       "      <th>44</th>\n",
       "      <td>item_cat_3=13</td>\n",
       "      <td>0.941</td>\n",
       "    </tr>\n",
       "    <tr>\n",
       "      <th>11</th>\n",
       "      <td>item_cat_2=F</td>\n",
       "      <td>0.535</td>\n",
       "    </tr>\n",
       "    <tr>\n",
       "      <th>92</th>\n",
       "      <td>item_mrp</td>\n",
       "      <td>0.299</td>\n",
       "    </tr>\n",
       "  </tbody>\n",
       "</table>\n",
       "</div>"
      ],
      "text/plain": [
       "                           0       1\n",
       "116         outlet_id=OUT046  19.051\n",
       "49             item_cat_3=18  18.791\n",
       "19              item_cat_2=N  18.420\n",
       "46             item_cat_3=15  17.735\n",
       "5               item_cat_1=R  17.469\n",
       "0               item_cat_0=D  17.469\n",
       "47             item_cat_3=16  17.036\n",
       "89             item_cat_3=58  17.008\n",
       "26              item_cat_2=U  16.730\n",
       "33             item_cat_3=02  16.161\n",
       "111                 out_type  16.049\n",
       "30              item_cat_2=Y  16.019\n",
       "66             item_cat_3=35  15.877\n",
       "103           item_type=Meat  13.438\n",
       "9               item_cat_2=D  12.830\n",
       "28              item_cat_2=W  12.211\n",
       "13              item_cat_2=H  11.929\n",
       "41             item_cat_3=10  11.699\n",
       "21              item_cat_2=P  10.922\n",
       "43             item_cat_3=12  10.748\n",
       "32             item_cat_3=01  10.310\n",
       "88             item_cat_3=57  10.110\n",
       "79             item_cat_3=48   9.987\n",
       "106    item_type=Snack Foods   9.906\n",
       "108  item_type=Starchy Foods   9.893\n",
       "54             item_cat_3=23   9.180\n",
       "23              item_cat_2=R   9.163\n",
       "71             item_cat_3=40   8.147\n",
       "17              item_cat_2=L   8.046\n",
       "58             item_cat_3=27   7.905\n",
       "27              item_cat_2=V   6.741\n",
       "40             item_cat_3=09   6.326\n",
       "70             item_cat_3=39   5.422\n",
       "8               item_cat_2=C   4.657\n",
       "74             item_cat_3=43   4.529\n",
       "31              item_cat_2=Z   4.277\n",
       "39             item_cat_3=08   4.002\n",
       "75             item_cat_3=44   3.929\n",
       "57             item_cat_3=26   3.879\n",
       "37             item_cat_3=06   3.877\n",
       "29              item_cat_2=X   3.340\n",
       "112               outlet_age   2.063\n",
       "98    item_type=Frozen Foods   2.023\n",
       "4               item_cat_1=D   1.831\n",
       "1               item_cat_0=F   1.831\n",
       "109                   item_w   1.049\n",
       "78             item_cat_3=47   0.983\n",
       "44             item_cat_3=13   0.941\n",
       "11              item_cat_2=F   0.535\n",
       "92                  item_mrp   0.299"
      ]
     },
     "execution_count": 75,
     "metadata": {},
     "output_type": "execute_result"
    }
   ],
   "source": [
    "pd.DataFrame(list(zip(dv_ext.get_feature_names(), abs(lr_ext.coef_) ))).sort_values(by=1, ascending=False )[-50:]"
   ]
  },
  {
   "cell_type": "markdown",
   "id": "879c72a1",
   "metadata": {},
   "source": [
    "## Testing Models"
   ]
  },
  {
   "cell_type": "markdown",
   "id": "a8685ec7",
   "metadata": {},
   "source": [
    "### Data"
   ]
  },
  {
   "cell_type": "code",
   "execution_count": 76,
   "id": "93f8799d",
   "metadata": {},
   "outputs": [
    {
     "data": {
      "text/html": [
       "<div>\n",
       "<style scoped>\n",
       "    .dataframe tbody tr th:only-of-type {\n",
       "        vertical-align: middle;\n",
       "    }\n",
       "\n",
       "    .dataframe tbody tr th {\n",
       "        vertical-align: top;\n",
       "    }\n",
       "\n",
       "    .dataframe thead th {\n",
       "        text-align: right;\n",
       "    }\n",
       "</style>\n",
       "<table border=\"1\" class=\"dataframe\">\n",
       "  <thead>\n",
       "    <tr style=\"text-align: right;\">\n",
       "      <th></th>\n",
       "      <th>item_id</th>\n",
       "      <th>item_w</th>\n",
       "      <th>item_type</th>\n",
       "      <th>item_mrp</th>\n",
       "      <th>outlet_id</th>\n",
       "      <th>outlet_year</th>\n",
       "      <th>outlet_size</th>\n",
       "      <th>outlet_location_type</th>\n",
       "    </tr>\n",
       "  </thead>\n",
       "  <tbody>\n",
       "    <tr>\n",
       "      <th>0</th>\n",
       "      <td>DRM23</td>\n",
       "      <td>10.157</td>\n",
       "      <td>Snack Foods</td>\n",
       "      <td>119.319</td>\n",
       "      <td>OUT013</td>\n",
       "      <td>1999</td>\n",
       "      <td>High</td>\n",
       "      <td>Tier 3</td>\n",
       "    </tr>\n",
       "    <tr>\n",
       "      <th>1</th>\n",
       "      <td>FDG47</td>\n",
       "      <td>10.434</td>\n",
       "      <td>Household</td>\n",
       "      <td>263.600</td>\n",
       "      <td>OUT018</td>\n",
       "      <td>1987</td>\n",
       "      <td>High</td>\n",
       "      <td>Tier 3</td>\n",
       "    </tr>\n",
       "    <tr>\n",
       "      <th>2</th>\n",
       "      <td>FDN21</td>\n",
       "      <td>11.954</td>\n",
       "      <td>Health and Hygiene</td>\n",
       "      <td>246.287</td>\n",
       "      <td>OUT018</td>\n",
       "      <td>1997</td>\n",
       "      <td>High</td>\n",
       "      <td>Tier 1</td>\n",
       "    </tr>\n",
       "    <tr>\n",
       "      <th>3</th>\n",
       "      <td>FDZ23</td>\n",
       "      <td>14.949</td>\n",
       "      <td>Dairy</td>\n",
       "      <td>136.201</td>\n",
       "      <td>OUT046</td>\n",
       "      <td>2004</td>\n",
       "      <td>Medium</td>\n",
       "      <td>Tier 2</td>\n",
       "    </tr>\n",
       "    <tr>\n",
       "      <th>4</th>\n",
       "      <td>FDC16</td>\n",
       "      <td>11.080</td>\n",
       "      <td>Canned</td>\n",
       "      <td>173.146</td>\n",
       "      <td>OUT018</td>\n",
       "      <td>2009</td>\n",
       "      <td>Medium</td>\n",
       "      <td>Tier 3</td>\n",
       "    </tr>\n",
       "  </tbody>\n",
       "</table>\n",
       "</div>"
      ],
      "text/plain": [
       "  item_id  item_w           item_type  item_mrp outlet_id  outlet_year  \\\n",
       "0   DRM23  10.157         Snack Foods   119.319    OUT013         1999   \n",
       "1   FDG47  10.434           Household   263.600    OUT018         1987   \n",
       "2   FDN21  11.954  Health and Hygiene   246.287    OUT018         1997   \n",
       "3   FDZ23  14.949               Dairy   136.201    OUT046         2004   \n",
       "4   FDC16  11.080              Canned   173.146    OUT018         2009   \n",
       "\n",
       "  outlet_size outlet_location_type  \n",
       "0        High               Tier 3  \n",
       "1        High               Tier 3  \n",
       "2        High               Tier 1  \n",
       "3      Medium               Tier 2  \n",
       "4      Medium               Tier 3  "
      ]
     },
     "execution_count": 76,
     "metadata": {},
     "output_type": "execute_result"
    }
   ],
   "source": [
    "x_test.head()\n"
   ]
  },
  {
   "cell_type": "code",
   "execution_count": 77,
   "id": "9dcf18f8",
   "metadata": {},
   "outputs": [],
   "source": [
    "x_test_ids =  pd.DataFrame(retrieve_item_cats(x_test, 'item_id'))\n",
    "x_test_id_split = pd.concat([x_test, x_test_ids], axis= 1)\n",
    "x_test_id_split['out_size'] = x_test['outlet_size'].map(outlet_size_map)\n",
    "x_test_id_split['out_type'] = x_test['outlet_location_type'].map(outlet_location_map)\n",
    "x_test_id_split['outlet_age']= 2021-x_test_id_split['outlet_year']\n",
    "# x_val_id_split['item_cat_3'] = x_val_id_split['item_cat_3'].astype('str')"
   ]
  },
  {
   "cell_type": "code",
   "execution_count": 78,
   "id": "ed585dc2",
   "metadata": {},
   "outputs": [],
   "source": [
    "test_dict_ext = x_test_id_split[col].to_dict(orient= 'records')\n",
    "test_dv_ext = dv_ext.transform(test_dict_ext)"
   ]
  },
  {
   "cell_type": "code",
   "execution_count": 79,
   "id": "c864f4a3",
   "metadata": {},
   "outputs": [],
   "source": [
    "lr_test_preds_ext = lr_ext.predict(test_dv_ext)"
   ]
  },
  {
   "cell_type": "markdown",
   "id": "eeccb41f",
   "metadata": {},
   "source": [
    "#### Decision Trees"
   ]
  },
  {
   "cell_type": "code",
   "execution_count": 80,
   "id": "95ccffc9",
   "metadata": {},
   "outputs": [
    {
     "data": {
      "text/plain": [
       "DecisionTreeRegressor(ccp_alpha=0.25, max_depth=5, max_features=10)"
      ]
     },
     "execution_count": 80,
     "metadata": {},
     "output_type": "execute_result"
    }
   ],
   "source": [
    "dt_ext = DecisionTreeRegressor(max_depth= 5, max_features=10, ccp_alpha=0.25 )\n",
    "\n",
    "dt_ext.fit(train_dv_ext, y_train)"
   ]
  },
  {
   "cell_type": "code",
   "execution_count": 81,
   "id": "1b9042db",
   "metadata": {},
   "outputs": [],
   "source": [
    "# pd.DataFrame(list(zip(dv_ext.get_feature_names(), abs(dt_ext.feature_importances_)))).sort_values(by= 1, ascending=False)"
   ]
  },
  {
   "cell_type": "code",
   "execution_count": 82,
   "id": "cddb015e",
   "metadata": {},
   "outputs": [],
   "source": [
    "dt_train_preds_ext = dt_ext.predict(train_dv_ext)\n",
    "\n",
    "dt_val_preds_ext = dt_ext.predict(val_dv_ext)"
   ]
  },
  {
   "cell_type": "code",
   "execution_count": 83,
   "id": "2ae52174",
   "metadata": {},
   "outputs": [
    {
     "name": "stdout",
     "output_type": "stream",
     "text": [
      "1285.5238973962735\n",
      "1288.5057893073697\n"
     ]
    }
   ],
   "source": [
    "print(mean_squared_error(y_train, dt_train_preds_ext, squared= False))\n",
    "print(mean_squared_error(y_val, dt_val_preds_ext, squared= False))"
   ]
  },
  {
   "cell_type": "code",
   "execution_count": 84,
   "id": "14fe929c",
   "metadata": {},
   "outputs": [],
   "source": [
    "dt_test_preds_ext = dt_ext.predict(test_dv_ext)"
   ]
  },
  {
   "cell_type": "markdown",
   "id": "63169c85",
   "metadata": {},
   "source": [
    "#### Random Forests"
   ]
  },
  {
   "cell_type": "code",
   "execution_count": 85,
   "id": "75e027be",
   "metadata": {},
   "outputs": [
    {
     "data": {
      "text/plain": [
       "RandomForestRegressor(max_depth=6)"
      ]
     },
     "execution_count": 85,
     "metadata": {},
     "output_type": "execute_result"
    }
   ],
   "source": [
    "rf = RandomForestRegressor(n_estimators= 100, max_depth= 6)\n",
    "\n",
    "rf.fit(train_dv_ext, y_train)"
   ]
  },
  {
   "cell_type": "code",
   "execution_count": 86,
   "id": "5b82b915",
   "metadata": {},
   "outputs": [],
   "source": [
    "rf_train_preds = rf.predict(train_dv_ext)\n",
    "\n",
    "rf_val_preds= rf.predict(val_dv_ext)"
   ]
  },
  {
   "cell_type": "code",
   "execution_count": 87,
   "id": "9a1231f7",
   "metadata": {},
   "outputs": [
    {
     "name": "stdout",
     "output_type": "stream",
     "text": [
      "1272.081288387675\n",
      "1281.254024019582\n"
     ]
    }
   ],
   "source": [
    "print(mean_squared_error(y_train, rf_train_preds, squared= False))\n",
    "print(mean_squared_error(y_val, rf_val_preds, squared= False))"
   ]
  },
  {
   "cell_type": "code",
   "execution_count": 88,
   "id": "00bc0c08",
   "metadata": {},
   "outputs": [],
   "source": [
    "rf_test_preds = rf.predict(test_dv_ext)"
   ]
  },
  {
   "cell_type": "markdown",
   "id": "678fc35d",
   "metadata": {},
   "source": [
    "## Fit models to entire train dataset"
   ]
  },
  {
   "cell_type": "code",
   "execution_count": 89,
   "id": "0df96677",
   "metadata": {},
   "outputs": [],
   "source": [
    "col = ['item_cat_0',\n",
    "       'item_cat_1', 'item_cat_2', 'item_cat_3',  'item_w', 'item_type', 'item_mrp', 'outlet_id',\n",
    "       'out_size', 'out_type','outlet_age']\n",
    "scaled_cols = ['item_cat_0',\n",
    "       'item_cat_1', 'item_cat_2', 'item_cat_3',  'item_w_scale', 'item_type', 'item_mrp_scale', 'outlet_id',\n",
    "       'out_size', 'out_type','outlet_age_scale']\n",
    "scale_cols = ['item_w', 'item_mrp', 'outlet_age']"
   ]
  },
  {
   "cell_type": "code",
   "execution_count": 90,
   "id": "da0ee85d",
   "metadata": {},
   "outputs": [
    {
     "data": {
      "text/html": [
       "<div>\n",
       "<style scoped>\n",
       "    .dataframe tbody tr th:only-of-type {\n",
       "        vertical-align: middle;\n",
       "    }\n",
       "\n",
       "    .dataframe tbody tr th {\n",
       "        vertical-align: top;\n",
       "    }\n",
       "\n",
       "    .dataframe thead th {\n",
       "        text-align: right;\n",
       "    }\n",
       "</style>\n",
       "<table border=\"1\" class=\"dataframe\">\n",
       "  <thead>\n",
       "    <tr style=\"text-align: right;\">\n",
       "      <th></th>\n",
       "      <th>item_cat_0</th>\n",
       "      <th>item_cat_1</th>\n",
       "      <th>item_cat_2</th>\n",
       "      <th>item_cat_3</th>\n",
       "      <th>item_w</th>\n",
       "      <th>item_type</th>\n",
       "      <th>item_mrp</th>\n",
       "      <th>outlet_id</th>\n",
       "      <th>out_size</th>\n",
       "      <th>out_type</th>\n",
       "      <th>outlet_age</th>\n",
       "    </tr>\n",
       "  </thead>\n",
       "  <tbody>\n",
       "    <tr>\n",
       "      <th>0</th>\n",
       "      <td>F</td>\n",
       "      <td>D</td>\n",
       "      <td>I</td>\n",
       "      <td>15</td>\n",
       "      <td>10.256</td>\n",
       "      <td>Starchy Foods</td>\n",
       "      <td>65.639</td>\n",
       "      <td>OUT035</td>\n",
       "      <td>3</td>\n",
       "      <td>3</td>\n",
       "      <td>22</td>\n",
       "    </tr>\n",
       "    <tr>\n",
       "      <th>1</th>\n",
       "      <td>F</td>\n",
       "      <td>D</td>\n",
       "      <td>G</td>\n",
       "      <td>33</td>\n",
       "      <td>17.097</td>\n",
       "      <td>Fruits and Vegetables</td>\n",
       "      <td>62.723</td>\n",
       "      <td>OUT049</td>\n",
       "      <td>2</td>\n",
       "      <td>1</td>\n",
       "      <td>24</td>\n",
       "    </tr>\n",
       "    <tr>\n",
       "      <th>2</th>\n",
       "      <td>F</td>\n",
       "      <td>D</td>\n",
       "      <td>K</td>\n",
       "      <td>21</td>\n",
       "      <td>20.459</td>\n",
       "      <td>Dairy</td>\n",
       "      <td>169.515</td>\n",
       "      <td>OUT013</td>\n",
       "      <td>1</td>\n",
       "      <td>2</td>\n",
       "      <td>12</td>\n",
       "    </tr>\n",
       "    <tr>\n",
       "      <th>3</th>\n",
       "      <td>F</td>\n",
       "      <td>D</td>\n",
       "      <td>R</td>\n",
       "      <td>58</td>\n",
       "      <td>17.485</td>\n",
       "      <td>Meat</td>\n",
       "      <td>185.331</td>\n",
       "      <td>OUT046</td>\n",
       "      <td>1</td>\n",
       "      <td>1</td>\n",
       "      <td>17</td>\n",
       "    </tr>\n",
       "    <tr>\n",
       "      <th>4</th>\n",
       "      <td>F</td>\n",
       "      <td>D</td>\n",
       "      <td>X</td>\n",
       "      <td>33</td>\n",
       "      <td>9.363</td>\n",
       "      <td>Baking Goods</td>\n",
       "      <td>132.951</td>\n",
       "      <td>OUT035</td>\n",
       "      <td>1</td>\n",
       "      <td>2</td>\n",
       "      <td>18</td>\n",
       "    </tr>\n",
       "  </tbody>\n",
       "</table>\n",
       "</div>"
      ],
      "text/plain": [
       "  item_cat_0 item_cat_1 item_cat_2 item_cat_3  item_w              item_type  \\\n",
       "0          F          D          I         15  10.256          Starchy Foods   \n",
       "1          F          D          G         33  17.097  Fruits and Vegetables   \n",
       "2          F          D          K         21  20.459                  Dairy   \n",
       "3          F          D          R         58  17.485                   Meat   \n",
       "4          F          D          X         33   9.363           Baking Goods   \n",
       "\n",
       "   item_mrp outlet_id  out_size  out_type  outlet_age  \n",
       "0    65.639    OUT035         3         3          22  \n",
       "1    62.723    OUT049         2         1          24  \n",
       "2   169.515    OUT013         1         2          12  \n",
       "3   185.331    OUT046         1         1          17  \n",
       "4   132.951    OUT035         1         2          18  "
      ]
     },
     "execution_count": 90,
     "metadata": {},
     "output_type": "execute_result"
    }
   ],
   "source": [
    "full_train = process_data(train, col)\n",
    "full_train.head()"
   ]
  },
  {
   "cell_type": "markdown",
   "id": "c10bca75",
   "metadata": {},
   "source": [
    "### Mutual Information - Regression"
   ]
  },
  {
   "cell_type": "code",
   "execution_count": 91,
   "id": "7adee869",
   "metadata": {},
   "outputs": [
    {
     "data": {
      "image/png": "[encoded data removed]",
      "text/plain": [
       "<Figure size 1080x360 with 5 Axes>"
      ]
     },
     "metadata": {
      "needs_background": "light"
     },
     "output_type": "display_data"
    }
   ],
   "source": [
    "mi_cols = [  'item_w',  'item_mrp', \n",
    "       'out_size', 'out_type','outlet_age']\n",
    "\n",
    "X = full_train[mi_cols]\n",
    "y = train['sales']\n",
    "\n",
    "f_test, _ = f_regression(X, y)\n",
    "f_test /= np.max(f_test)\n",
    "\n",
    "mi = mutual_info_regression(X, y)\n",
    "mi /= np.max(mi)\n",
    "\n",
    "plt.figure(figsize=(15, 5))\n",
    "for i in range(5):\n",
    "    plt.subplot(1, 5, i + 1)\n",
    "    plt.scatter(X.iloc[:, i], y, edgecolor=\"black\", s=20)\n",
    "    plt.xlabel(\"$x_{}$\".format(i + 1), fontsize=14)\n",
    "    if i == 0:\n",
    "        plt.ylabel(\"$y$\", fontsize=14)\n",
    "    plt.title(\"F-test={:.2f}, MI={:.2f}\".format(f_test[i], mi[i]), fontsize=16)\n",
    "plt.show()\n",
    "\n"
   ]
  },
  {
   "cell_type": "code",
   "execution_count": 92,
   "id": "4c078b56",
   "metadata": {},
   "outputs": [
    {
     "data": {
      "text/plain": [
       "[('item_w', 0.16473068637653768),\n",
       " ('item_mrp', 0.2960984097944326),\n",
       " ('out_size', 0.39468828475425305),\n",
       " ('out_type', 0.3333055302969199),\n",
       " ('outlet_age', 1.0)]"
      ]
     },
     "execution_count": 92,
     "metadata": {},
     "output_type": "execute_result"
    }
   ],
   "source": [
    "list(zip(mi_cols, mi))"
   ]
  },
  {
   "cell_type": "markdown",
   "id": "6f4b4108",
   "metadata": {},
   "source": [
    "### Scale numerical columns using Min-Max Normalization"
   ]
  },
  {
   "cell_type": "code",
   "execution_count": 93,
   "id": "ebb78f62",
   "metadata": {
    "scrolled": true
   },
   "outputs": [],
   "source": [
    "for col in scale_cols:\n",
    "    full_train[col+'_scale'] = (full_train[col] - min(full_train[col])) / (max(full_train[col]) - min(full_train[col]))\n",
    "    x_test_id_split[col+'_scale'] = (x_test_id_split[col] - min(x_test_id_split[col])) / (max(x_test_id_split[col]) - min(x_test_id_split[col]))\n"
   ]
  },
  {
   "cell_type": "code",
   "execution_count": 94,
   "id": "2c92af6e",
   "metadata": {},
   "outputs": [
    {
     "data": {
      "text/html": [
       "<div>\n",
       "<style scoped>\n",
       "    .dataframe tbody tr th:only-of-type {\n",
       "        vertical-align: middle;\n",
       "    }\n",
       "\n",
       "    .dataframe tbody tr th {\n",
       "        vertical-align: top;\n",
       "    }\n",
       "\n",
       "    .dataframe thead th {\n",
       "        text-align: right;\n",
       "    }\n",
       "</style>\n",
       "<table border=\"1\" class=\"dataframe\">\n",
       "  <thead>\n",
       "    <tr style=\"text-align: right;\">\n",
       "      <th></th>\n",
       "      <th>item_cat_0</th>\n",
       "      <th>item_cat_1</th>\n",
       "      <th>item_cat_2</th>\n",
       "      <th>item_cat_3</th>\n",
       "      <th>item_w_scale</th>\n",
       "      <th>item_type</th>\n",
       "      <th>item_mrp_scale</th>\n",
       "      <th>outlet_id</th>\n",
       "      <th>out_size</th>\n",
       "      <th>out_type</th>\n",
       "      <th>outlet_age_scale</th>\n",
       "    </tr>\n",
       "  </thead>\n",
       "  <tbody>\n",
       "    <tr>\n",
       "      <th>0</th>\n",
       "      <td>D</td>\n",
       "      <td>R</td>\n",
       "      <td>M</td>\n",
       "      <td>23</td>\n",
       "      <td>0.334</td>\n",
       "      <td>Snack Foods</td>\n",
       "      <td>0.372</td>\n",
       "      <td>OUT013</td>\n",
       "      <td>3</td>\n",
       "      <td>1</td>\n",
       "      <td>0.455</td>\n",
       "    </tr>\n",
       "    <tr>\n",
       "      <th>1</th>\n",
       "      <td>F</td>\n",
       "      <td>D</td>\n",
       "      <td>G</td>\n",
       "      <td>47</td>\n",
       "      <td>0.350</td>\n",
       "      <td>Household</td>\n",
       "      <td>0.993</td>\n",
       "      <td>OUT018</td>\n",
       "      <td>3</td>\n",
       "      <td>1</td>\n",
       "      <td>1.000</td>\n",
       "    </tr>\n",
       "    <tr>\n",
       "      <th>2</th>\n",
       "      <td>F</td>\n",
       "      <td>D</td>\n",
       "      <td>N</td>\n",
       "      <td>21</td>\n",
       "      <td>0.442</td>\n",
       "      <td>Health and Hygiene</td>\n",
       "      <td>0.919</td>\n",
       "      <td>OUT018</td>\n",
       "      <td>3</td>\n",
       "      <td>3</td>\n",
       "      <td>0.545</td>\n",
       "    </tr>\n",
       "    <tr>\n",
       "      <th>3</th>\n",
       "      <td>F</td>\n",
       "      <td>D</td>\n",
       "      <td>Z</td>\n",
       "      <td>23</td>\n",
       "      <td>0.622</td>\n",
       "      <td>Dairy</td>\n",
       "      <td>0.444</td>\n",
       "      <td>OUT046</td>\n",
       "      <td>2</td>\n",
       "      <td>2</td>\n",
       "      <td>0.227</td>\n",
       "    </tr>\n",
       "    <tr>\n",
       "      <th>4</th>\n",
       "      <td>F</td>\n",
       "      <td>D</td>\n",
       "      <td>C</td>\n",
       "      <td>16</td>\n",
       "      <td>0.389</td>\n",
       "      <td>Canned</td>\n",
       "      <td>0.604</td>\n",
       "      <td>OUT018</td>\n",
       "      <td>2</td>\n",
       "      <td>1</td>\n",
       "      <td>0.000</td>\n",
       "    </tr>\n",
       "  </tbody>\n",
       "</table>\n",
       "</div>"
      ],
      "text/plain": [
       "  item_cat_0 item_cat_1 item_cat_2 item_cat_3  item_w_scale  \\\n",
       "0          D          R          M         23         0.334   \n",
       "1          F          D          G         47         0.350   \n",
       "2          F          D          N         21         0.442   \n",
       "3          F          D          Z         23         0.622   \n",
       "4          F          D          C         16         0.389   \n",
       "\n",
       "            item_type  item_mrp_scale outlet_id  out_size  out_type  \\\n",
       "0         Snack Foods           0.372    OUT013         3         1   \n",
       "1           Household           0.993    OUT018         3         1   \n",
       "2  Health and Hygiene           0.919    OUT018         3         3   \n",
       "3               Dairy           0.444    OUT046         2         2   \n",
       "4              Canned           0.604    OUT018         2         1   \n",
       "\n",
       "   outlet_age_scale  \n",
       "0             0.455  \n",
       "1             1.000  \n",
       "2             0.545  \n",
       "3             0.227  \n",
       "4             0.000  "
      ]
     },
     "execution_count": 94,
     "metadata": {},
     "output_type": "execute_result"
    }
   ],
   "source": [
    "x_test_id_split[scaled_cols].head()"
   ]
  },
  {
   "cell_type": "markdown",
   "id": "f1e9d4a3",
   "metadata": {},
   "source": [
    "### Create DictVectorizer instance for entire train set"
   ]
  },
  {
   "cell_type": "code",
   "execution_count": 95,
   "id": "1025b0d0",
   "metadata": {},
   "outputs": [],
   "source": [
    "full_dv = DictVectorizer()\n",
    "full_train_dict = full_train[scaled_cols].to_dict(orient= 'records')\n",
    "full_train_dv = full_dv.fit_transform(full_train_dict)"
   ]
  },
  {
   "cell_type": "code",
   "execution_count": 96,
   "id": "6c24eea9",
   "metadata": {},
   "outputs": [],
   "source": [
    "full_test_dict = x_test_id_split[scaled_cols].to_dict(orient= 'records')\n",
    "full_test_dv = full_dv.transform(full_test_dict)"
   ]
  },
  {
   "cell_type": "code",
   "execution_count": 97,
   "id": "137e5920",
   "metadata": {},
   "outputs": [
    {
     "data": {
      "text/plain": [
       "1281.597055161418"
      ]
     },
     "execution_count": 97,
     "metadata": {},
     "output_type": "execute_result"
    }
   ],
   "source": [
    "lr_full = LinearRegression()\n",
    "lr_full.fit(full_train_dv, train['sales'])\n",
    "\n",
    "\n",
    "lr_full_pred = lr_full.predict(full_train_dv)\n",
    "mean_squared_error(train['sales'], lr_full_pred, squared=False)"
   ]
  },
  {
   "cell_type": "code",
   "execution_count": 98,
   "id": "fd68e6be",
   "metadata": {},
   "outputs": [
    {
     "data": {
      "text/plain": [
       "1287.1520440267245"
      ]
     },
     "execution_count": 98,
     "metadata": {},
     "output_type": "execute_result"
    }
   ],
   "source": [
    "dt_full = DecisionTreeRegressor(max_depth= 5, max_features=10, ccp_alpha=0.01 )\n",
    "dt_full.fit(full_train_dv, train['sales'])\n",
    "dt_full_pred = dt_full.predict(full_train_dv)\n",
    "mean_squared_error(train['sales'], dt_full_pred, squared=False)"
   ]
  },
  {
   "cell_type": "markdown",
   "id": "2e375926",
   "metadata": {},
   "source": [
    "### Display Decision Tree split as text"
   ]
  },
  {
   "cell_type": "code",
   "execution_count": 99,
   "id": "51985299",
   "metadata": {},
   "outputs": [
    {
     "name": "stdout",
     "output_type": "stream",
     "text": [
      "|--- item_type=Dairy <= 0.50\n",
      "|   |--- item_type=Hard Drinks <= 0.50\n",
      "|   |   |--- out_type <= 1.50\n",
      "|   |   |   |--- item_cat_2=K <= 0.50\n",
      "|   |   |   |   |--- item_type=Canned <= 0.50\n",
      "|   |   |   |   |   |--- value: [1803.23]\n",
      "|   |   |   |   |--- item_type=Canned >  0.50\n",
      "|   |   |   |   |   |--- value: [1672.00]\n",
      "|   |   |   |--- item_cat_2=K >  0.50\n",
      "|   |   |   |   |--- item_type=Snack Foods <= 0.50\n",
      "|   |   |   |   |   |--- value: [1721.64]\n",
      "|   |   |   |   |--- item_type=Snack Foods >  0.50\n",
      "|   |   |   |   |   |--- value: [1647.63]\n",
      "|   |   |--- out_type >  1.50\n",
      "|   |   |   |--- outlet_id=OUT046 <= 0.50\n",
      "|   |   |   |   |--- item_type=Soft Drinks <= 0.50\n",
      "|   |   |   |   |   |--- value: [1996.68]\n",
      "|   |   |   |   |--- item_type=Soft Drinks >  0.50\n",
      "|   |   |   |   |   |--- value: [2136.62]\n",
      "|   |   |   |--- outlet_id=OUT046 >  0.50\n",
      "|   |   |   |   |--- out_type <= 2.50\n",
      "|   |   |   |   |   |--- value: [1930.41]\n",
      "|   |   |   |   |--- out_type >  2.50\n",
      "|   |   |   |   |   |--- value: [1880.12]\n",
      "|   |--- item_type=Hard Drinks >  0.50\n",
      "|   |   |--- item_cat_3=32 <= 0.50\n",
      "|   |   |   |--- item_cat_3=39 <= 0.50\n",
      "|   |   |   |   |--- outlet_id=OUT018 <= 0.50\n",
      "|   |   |   |   |   |--- value: [2001.07]\n",
      "|   |   |   |   |--- outlet_id=OUT018 >  0.50\n",
      "|   |   |   |   |   |--- value: [1812.88]\n",
      "|   |   |   |--- item_cat_3=39 >  0.50\n",
      "|   |   |   |   |--- outlet_id=OUT049 <= 0.50\n",
      "|   |   |   |   |   |--- value: [1710.62]\n",
      "|   |   |   |   |--- outlet_id=OUT049 >  0.50\n",
      "|   |   |   |   |   |--- value: [1991.99]\n",
      "|   |   |--- item_cat_3=32 >  0.50\n",
      "|   |   |   |--- item_cat_2=T <= 0.50\n",
      "|   |   |   |   |--- outlet_age_scale <= 0.52\n",
      "|   |   |   |   |   |--- value: [1972.06]\n",
      "|   |   |   |   |--- outlet_age_scale >  0.52\n",
      "|   |   |   |   |   |--- value: [1770.34]\n",
      "|   |   |   |--- item_cat_2=T >  0.50\n",
      "|   |   |   |   |--- item_mrp_scale <= 0.59\n",
      "|   |   |   |   |   |--- value: [1807.49]\n",
      "|   |   |   |   |--- item_mrp_scale >  0.59\n",
      "|   |   |   |   |   |--- value: [776.93]\n",
      "|--- item_type=Dairy >  0.50\n",
      "|   |--- item_cat_3=24 <= 0.50\n",
      "|   |   |--- item_cat_3=31 <= 0.50\n",
      "|   |   |   |--- outlet_id=OUT018 <= 0.50\n",
      "|   |   |   |   |--- item_cat_3=15 <= 0.50\n",
      "|   |   |   |   |   |--- value: [1822.78]\n",
      "|   |   |   |   |--- item_cat_3=15 >  0.50\n",
      "|   |   |   |   |   |--- value: [2440.91]\n",
      "|   |   |   |--- outlet_id=OUT018 >  0.50\n",
      "|   |   |   |   |--- item_cat_3=38 <= 0.50\n",
      "|   |   |   |   |   |--- value: [1721.16]\n",
      "|   |   |   |   |--- item_cat_3=38 >  0.50\n",
      "|   |   |   |   |   |--- value: [1103.60]\n",
      "|   |   |--- item_cat_3=31 >  0.50\n",
      "|   |   |   |--- item_cat_1=C <= 0.50\n",
      "|   |   |   |   |--- item_mrp_scale <= 0.46\n",
      "|   |   |   |   |   |--- value: [1112.05]\n",
      "|   |   |   |   |--- item_mrp_scale >  0.46\n",
      "|   |   |   |   |   |--- value: [1898.12]\n",
      "|   |   |   |--- item_cat_1=C >  0.50\n",
      "|   |   |   |   |--- item_cat_2=B <= 0.50\n",
      "|   |   |   |   |   |--- value: [1584.76]\n",
      "|   |   |   |   |--- item_cat_2=B >  0.50\n",
      "|   |   |   |   |   |--- value: [2255.46]\n",
      "|   |--- item_cat_3=24 >  0.50\n",
      "|   |   |--- item_w_scale <= 0.20\n",
      "|   |   |   |--- item_mrp_scale <= 0.44\n",
      "|   |   |   |   |--- outlet_id=OUT013 <= 0.50\n",
      "|   |   |   |   |   |--- value: [641.79]\n",
      "|   |   |   |   |--- outlet_id=OUT013 >  0.50\n",
      "|   |   |   |   |   |--- value: [99.01]\n",
      "|   |   |   |--- item_mrp_scale >  0.44\n",
      "|   |   |   |   |--- outlet_age_scale <= 0.73\n",
      "|   |   |   |   |   |--- value: [1745.68]\n",
      "|   |   |   |   |--- outlet_age_scale >  0.73\n",
      "|   |   |   |   |   |--- value: [1178.91]\n",
      "|   |   |--- item_w_scale >  0.20\n",
      "|   |   |   |--- outlet_id=OUT049 <= 0.50\n",
      "|   |   |   |   |--- outlet_id=OUT018 <= 0.50\n",
      "|   |   |   |   |   |--- value: [1955.81]\n",
      "|   |   |   |   |--- outlet_id=OUT018 >  0.50\n",
      "|   |   |   |   |   |--- value: [1051.62]\n",
      "|   |   |   |--- outlet_id=OUT049 >  0.50\n",
      "|   |   |   |   |--- item_cat_0=D <= 0.50\n",
      "|   |   |   |   |   |--- value: [764.05]\n",
      "|   |   |   |   |--- item_cat_0=D >  0.50\n",
      "|   |   |   |   |   |--- value: [2037.84]\n",
      "\n"
     ]
    }
   ],
   "source": [
    "print(export_text(dt_full, feature_names=full_dv.get_feature_names()))"
   ]
  },
  {
   "cell_type": "code",
   "execution_count": 100,
   "id": "db9fda7e",
   "metadata": {},
   "outputs": [],
   "source": [
    "dt_full_test_pred = dt_full.predict(test_dv_ext)\n",
    "# export(dt_full_test_pred, 'dt_full')"
   ]
  },
  {
   "cell_type": "code",
   "execution_count": 101,
   "id": "9ef8fa3b",
   "metadata": {},
   "outputs": [
    {
     "data": {
      "text/plain": [
       "0    22\n",
       "1    24\n",
       "2    12\n",
       "3    17\n",
       "4    18\n",
       "Name: outlet_age, dtype: int64"
      ]
     },
     "execution_count": 101,
     "metadata": {},
     "output_type": "execute_result"
    }
   ],
   "source": [
    "full_train[col].head()"
   ]
  },
  {
   "cell_type": "code",
   "execution_count": 102,
   "id": "aedc6731",
   "metadata": {},
   "outputs": [
    {
     "data": {
      "text/plain": [
       "0         734.512\n",
       "1        4146.958\n",
       "2        2161.110\n",
       "3        2267.133\n",
       "4         581.665\n",
       "           ...   \n",
       "74679    1132.516\n",
       "74680    2002.876\n",
       "74681    1295.099\n",
       "74682    1659.243\n",
       "74683     884.406\n",
       "Name: sales, Length: 74684, dtype: float64"
      ]
     },
     "execution_count": 102,
     "metadata": {},
     "output_type": "execute_result"
    }
   ],
   "source": [
    "train['sales']"
   ]
  },
  {
   "cell_type": "code",
   "execution_count": 103,
   "id": "d6e41763",
   "metadata": {},
   "outputs": [
    {
     "data": {
      "text/plain": [
       "1276.1528351018699"
      ]
     },
     "execution_count": 103,
     "metadata": {},
     "output_type": "execute_result"
    }
   ],
   "source": [
    "rf_full = RandomForestRegressor(max_depth= 5, n_estimators= 50)\n",
    "rf_full.fit(full_train_dv, train['sales'])\n",
    "rf_full_pred = rf_full.predict(full_train_dv)\n",
    "mean_squared_error(train['sales'], rf_full_pred, squared=False)"
   ]
  },
  {
   "cell_type": "markdown",
   "id": "2a474397",
   "metadata": {},
   "source": [
    "### Parameter Tuning"
   ]
  },
  {
   "cell_type": "markdown",
   "id": "9229b2f9",
   "metadata": {},
   "source": [
    "Tuning takes time, hence below code block is commented. The best model is used to train data"
   ]
  },
  {
   "cell_type": "code",
   "execution_count": 104,
   "id": "55bea055",
   "metadata": {},
   "outputs": [],
   "source": [
    "\n",
    "# rf_tune = RandomForestRegressor()\n",
    "# distrib = {\n",
    "#     'n_estimators': [10, 50, 100, 150, 200],\n",
    "#     'max_depth': [5, 10, 15, 20],\n",
    "#     'max_features':['sqrt', 'log2', 5, 10, 15],\n",
    "#     'ccp_alpha' : [0.01, 0.05, 0.1, .05],\n",
    "#     'max_samples': [0.15, 0.25, 0.33, 0.5]\n",
    "# }\n",
    "\n",
    "# tuner = RandomizedSearchCV(rf_tune, distrib, random_state = 42)\n",
    "\n",
    "# tuner.fit(full_train_dv, train['sales'])"
   ]
  },
  {
   "cell_type": "code",
   "execution_count": 105,
   "id": "6d692d44",
   "metadata": {},
   "outputs": [],
   "source": [
    "# tuner.score"
   ]
  },
  {
   "cell_type": "code",
   "execution_count": 106,
   "id": "cf81a221",
   "metadata": {},
   "outputs": [],
   "source": [
    "rf_tuned = RandomForestRegressor(ccp_alpha=0.05, max_depth=15, max_features=5,\n",
    "                      max_samples=0.5, n_estimators=200)\n",
    "\n",
    "rf_tuned.fit(full_train_dv, train['sales'])\n",
    "rf_full_pred = rf_tuned.predict(full_train_dv)\n"
   ]
  },
  {
   "cell_type": "code",
   "execution_count": 107,
   "id": "676d3ecc",
   "metadata": {},
   "outputs": [
    {
     "name": "stdout",
     "output_type": "stream",
     "text": [
      "Tuned model RMSE: 1245.003\n"
     ]
    }
   ],
   "source": [
    "rf_rmse= mean_squared_error( train['sales'], rf_full_pred, squared= False )\n",
    "print(f'Tuned model RMSE: {round(rf_rmse, 3)}')"
   ]
  },
  {
   "cell_type": "markdown",
   "id": "212271cc",
   "metadata": {},
   "source": [
    "### XGBoost"
   ]
  },
  {
   "cell_type": "markdown",
   "id": "9650f567",
   "metadata": {},
   "source": [
    "Let's try boosting trees\n",
    "\n",
    "Required Data objects:\n",
    "- dv_ext\n",
    "- train_dv_ext\n",
    "- val_dv_ext\n",
    "- test_dv_ext"
   ]
  },
  {
   "cell_type": "markdown",
   "id": "5094ab40",
   "metadata": {},
   "source": [
    "#### Baseline XGB"
   ]
  },
  {
   "cell_type": "code",
   "execution_count": 130,
   "id": "3386b48d",
   "metadata": {},
   "outputs": [],
   "source": [
    "features = dv_ext.get_feature_names()\n",
    "dtrain = xgb.DMatrix(train_dv_ext, label= y_train, feature_names= features)\n",
    "dval = xgb.DMatrix(val_dv_ext, label= y_val, feature_names= features)\n",
    "dtest = xgb.DMatrix(full_test_dv, feature_names= features) \n",
    "dfulltrain = xgb.DMatrix(full_train_dv, label= train['sales'], feature_names= features) "
   ]
  },
  {
   "cell_type": "code",
   "execution_count": 111,
   "id": "456f1788",
   "metadata": {},
   "outputs": [],
   "source": [
    "xgb_params = {\n",
    "    'eta': 0.3, \n",
    "    'max_depth': 6,\n",
    "    'min_child_weight': 1,\n",
    "    \n",
    "    'objective': 'reg:squarederror',\n",
    "    'eval_metric': 'rmse',\n",
    "    'nthread': 8,\n",
    "    \n",
    "    'seed': 1,\n",
    "    'verbosity': 1,\n",
    "}"
   ]
  },
  {
   "cell_type": "code",
   "execution_count": 121,
   "id": "bc86b456",
   "metadata": {},
   "outputs": [],
   "source": [
    "%%capture output\n",
    "watchlist = [(dtrain, 'train'), (dval, 'val')]\n",
    "xgb_base = xgb.train(xgb_params, dtrain, num_boost_round=15, evals= watchlist)"
   ]
  },
  {
   "cell_type": "code",
   "execution_count": 134,
   "id": "1704f66c",
   "metadata": {},
   "outputs": [
    {
     "data": {
      "text/plain": [
       "<matplotlib.legend.Legend at 0x7f541625e2b0>"
      ]
     },
     "execution_count": 134,
     "metadata": {},
     "output_type": "execute_result"
    },
    {
     "data": {
      "image/png": "[encoded data removed]",
      "text/plain": [
       "<Figure size 432x288 with 1 Axes>"
      ]
     },
     "metadata": {
      "needs_background": "light"
     },
     "output_type": "display_data"
    }
   ],
   "source": [
    "df_score = parse_xgb_output(output)\n",
    "\n",
    "plt.plot(df_score.num_iter, df_score.train_auc, label='train')\n",
    "plt.plot(df_score.num_iter, df_score.val_auc, label='val')\n",
    "plt.legend()"
   ]
  },
  {
   "cell_type": "code",
   "execution_count": 113,
   "id": "76df597c",
   "metadata": {},
   "outputs": [],
   "source": [
    "xgb_train_pred = xgb_base.predict(dtrain)\n",
    "xgb_val_pred = xgb_base.predict(dval)"
   ]
  },
  {
   "cell_type": "code",
   "execution_count": 118,
   "id": "44e55b61",
   "metadata": {},
   "outputs": [
    {
     "name": "stdout",
     "output_type": "stream",
     "text": [
      "XGB (train, val) RMSE: (1262.3312881615866, 1280.794387402808)\n"
     ]
    }
   ],
   "source": [
    "xgb_train_score = mean_squared_error(y_train, xgb_train_pred, squared= False)\n",
    "xgb_val_score = mean_squared_error(y_val, xgb_val_pred, squared= False)\n",
    "print(f'XGB (train, val) RMSE: ({xgb_train_score}, {xgb_val_score})')"
   ]
  },
  {
   "cell_type": "markdown",
   "id": "18998f09",
   "metadata": {},
   "source": [
    "#### Train baseline on full set"
   ]
  },
  {
   "cell_type": "code",
   "execution_count": 132,
   "id": "30f9ff59",
   "metadata": {},
   "outputs": [],
   "source": [
    "xgb_base_full = xgb.train(xgb_params, dfulltrain, num_boost_round=15)\n",
    "xgb_base_full_pred = xgb_base_full.predict(dtest)\n",
    "export(xgb_base_full_pred, 'xgb_base')"
   ]
  },
  {
   "cell_type": "markdown",
   "id": "30888aa5",
   "metadata": {},
   "source": [
    "### Tuning XGB"
   ]
  },
  {
   "cell_type": "markdown",
   "id": "a2e2296e",
   "metadata": {},
   "source": [
    "##### Tuning `eta`"
   ]
  },
  {
   "cell_type": "code",
   "execution_count": 208,
   "id": "37aae845",
   "metadata": {},
   "outputs": [],
   "source": [
    "scores = {}"
   ]
  },
  {
   "cell_type": "code",
   "execution_count": 229,
   "id": "e9e4bb84",
   "metadata": {},
   "outputs": [],
   "source": [
    "%%capture output\n",
    "\n",
    "watchlist = [(dtrain, 'train'), (dval, 'val')]\n",
    "\n",
    "# for eta in [0.01, 0.1, , 0.3, 0.5, 1]: #\n",
    "tune_params = {\n",
    "    'eta': 0.75, \n",
    "    'max_depth': 6,\n",
    "    'min_child_weight': 1,\n",
    "\n",
    "    'objective': 'reg:squarederror',\n",
    "    'eval_metric': 'rmse',\n",
    "\n",
    "    'nthread': 8,\n",
    "    'seed': 1,\n",
    "    'verbosity': 1,\n",
    "}\n",
    "\n",
    "model = xgb.train(tune_params, dtrain, num_boost_round=200, evals=watchlist)\n",
    "key = 'eta=%s' % (tune_params['eta'])\n",
    "scores[key] = parse_xgb_output(output)\n",
    "print(scores.keys())"
   ]
  },
  {
   "cell_type": "code",
   "execution_count": 231,
   "id": "2be94295",
   "metadata": {},
   "outputs": [
    {
     "data": {
      "text/plain": [
       "<matplotlib.legend.Legend at 0x7f540f6b3310>"
      ]
     },
     "execution_count": 231,
     "metadata": {},
     "output_type": "execute_result"
    },
    {
     "data": {
      "image/png": "[encoded data removed]",
      "text/plain": [
       "<Figure size 432x288 with 1 Axes>"
      ]
     },
     "metadata": {
      "needs_background": "light"
     },
     "output_type": "display_data"
    }
   ],
   "source": [
    "for eta, df_score in scores.items():\n",
    "    plt.plot(df_score.num_iter, df_score.val_rmse, label=eta)\n",
    "plt.legend()"
   ]
  },
  {
   "cell_type": "markdown",
   "id": "541fa34d",
   "metadata": {},
   "source": [
    "We will select `'eta': 0.3`"
   ]
  },
  {
   "cell_type": "markdown",
   "id": "3c1450d5",
   "metadata": {},
   "source": [
    "##### Tuning `max_depth`"
   ]
  },
  {
   "cell_type": "code",
   "execution_count": 252,
   "id": "f4b95844",
   "metadata": {},
   "outputs": [],
   "source": [
    "scores = {}\n",
    "watchlist = [(dtrain, 'train'), (dval, 'val')]\n"
   ]
  },
  {
   "cell_type": "code",
   "execution_count": 266,
   "id": "8799a652",
   "metadata": {},
   "outputs": [],
   "source": [
    "%%capture output\n",
    "\n",
    "# for eta in [0.01, 0.1, , 0.3, 0.5, 1]: \n",
    "tune_params = {\n",
    "    'eta':0.3, \n",
    "    'max_depth': 15,\n",
    "    'min_child_weight': 1,\n",
    "\n",
    "    'objective': 'reg:squarederror',\n",
    "    'eval_metric': 'rmse',\n",
    "\n",
    "    'nthread': 8,\n",
    "    'seed': 1,\n",
    "    'verbosity': 1,\n",
    "}\n",
    "\n",
    "model = xgb.train(tune_params, dtrain, num_boost_round=200, evals=watchlist)\n",
    "key = 'max_depth=%s' % (tune_params['max_depth'])\n",
    "scores[key] = parse_xgb_output(output)\n"
   ]
  },
  {
   "cell_type": "code",
   "execution_count": 267,
   "id": "ff53367c",
   "metadata": {},
   "outputs": [
    {
     "name": "stdout",
     "output_type": "stream",
     "text": [
      "dict_keys(['max_depth=3', 'max_depth=6', 'max_depth=10', 'max_depth=15'])\n"
     ]
    }
   ],
   "source": [
    "print(scores.keys())"
   ]
  },
  {
   "cell_type": "code",
   "execution_count": 268,
   "id": "59a3f10e",
   "metadata": {},
   "outputs": [
    {
     "data": {
      "text/plain": [
       "<matplotlib.legend.Legend at 0x7f540f06b190>"
      ]
     },
     "execution_count": 268,
     "metadata": {},
     "output_type": "execute_result"
    },
    {
     "data": {
      "image/png": "[encoded data removed]",
      "text/plain": [
       "<Figure size 432x288 with 1 Axes>"
      ]
     },
     "metadata": {
      "needs_background": "light"
     },
     "output_type": "display_data"
    }
   ],
   "source": [
    "for max_depth, df_score in scores.items():\n",
    "    plt.plot(df_score.num_iter, df_score.val_rmse, label=max_depth)\n",
    "plt.legend()"
   ]
  },
  {
   "cell_type": "markdown",
   "id": "a9e4b05f",
   "metadata": {},
   "source": [
    "We will select `'max_depth': 3`"
   ]
  },
  {
   "cell_type": "markdown",
   "id": "d5363d66",
   "metadata": {},
   "source": [
    "##### Tuning 'min_child_weight'"
   ]
  },
  {
   "cell_type": "code",
   "execution_count": 269,
   "id": "339527e0",
   "metadata": {},
   "outputs": [],
   "source": [
    "scores = {}\n",
    "watchlist = [(dtrain, 'train'), (dval, 'val')]\n"
   ]
  },
  {
   "cell_type": "code",
   "execution_count": 277,
   "id": "3a0a2710",
   "metadata": {},
   "outputs": [],
   "source": [
    "%%capture output\n",
    "\n",
    "# for eta in [0.01, 0.1, , 0.3, 0.5, 1]: \n",
    "tune_params = {\n",
    "    'eta':0.3, \n",
    "    'max_depth': 3,\n",
    "    'min_child_weight': 200,\n",
    "\n",
    "    'objective': 'reg:squarederror',\n",
    "    'eval_metric': 'rmse',\n",
    "\n",
    "    'nthread': 8,\n",
    "    'seed': 1,\n",
    "    'verbosity': 1,\n",
    "}\n",
    "\n",
    "model = xgb.train(tune_params, dtrain, num_boost_round=200, evals=watchlist)\n",
    "key = 'min_child_weight=%s' % (tune_params['min_child_weight'])\n",
    "scores[key] = parse_xgb_output(output)\n"
   ]
  },
  {
   "cell_type": "code",
   "execution_count": 279,
   "id": "66d492da",
   "metadata": {},
   "outputs": [
    {
     "data": {
      "text/plain": [
       "dict_keys(['min_child_weight=1', 'min_child_weight=10', 'min_child_weight=25', 'min_child_weight=200'])"
      ]
     },
     "execution_count": 279,
     "metadata": {},
     "output_type": "execute_result"
    }
   ],
   "source": [
    "scores.keys()"
   ]
  },
  {
   "cell_type": "code",
   "execution_count": 278,
   "id": "c7f20691",
   "metadata": {},
   "outputs": [
    {
     "data": {
      "text/plain": [
       "<matplotlib.legend.Legend at 0x7f540f2899d0>"
      ]
     },
     "execution_count": 278,
     "metadata": {},
     "output_type": "execute_result"
    },
    {
     "data": {
      "image/png": "[encoded data removed]",
      "text/plain": [
       "<Figure size 432x288 with 1 Axes>"
      ]
     },
     "metadata": {
      "needs_background": "light"
     },
     "output_type": "display_data"
    }
   ],
   "source": [
    "for min_child_weight, df_score in scores.items():\n",
    "    plt.plot(df_score.num_iter, df_score.val_rmse, label=min_child_weight)\n",
    "plt.legend()"
   ]
  },
  {
   "cell_type": "markdown",
   "id": "519579ad",
   "metadata": {},
   "source": [
    "We will select `'min_child_weight': 1`"
   ]
  },
  {
   "cell_type": "markdown",
   "id": "15f59bb3",
   "metadata": {},
   "source": [
    "##### Tuning `subsample`"
   ]
  },
  {
   "cell_type": "code",
   "execution_count": 295,
   "id": "82f1b2f8",
   "metadata": {},
   "outputs": [],
   "source": [
    "scores = {}\n",
    "watchlist = [(dtrain, 'train'), (dval, 'val')]\n"
   ]
  },
  {
   "cell_type": "code",
   "execution_count": 302,
   "id": "cfbfedb3",
   "metadata": {},
   "outputs": [],
   "source": [
    "%%capture output\n",
    "\n",
    "# for eta in [0.01, 0.1, , 0.3, 0.5, 1]: \n",
    "tune_params = {\n",
    "    'eta':0.3, \n",
    "    'max_depth': 3,\n",
    "    'min_child_weight': 1,\n",
    "    'subsample': 1,\n",
    "\n",
    "    'objective': 'reg:squarederror',\n",
    "    'eval_metric': 'rmse',\n",
    "\n",
    "    'nthread': 8,\n",
    "    'seed': 1,\n",
    "    'verbosity': 1,\n",
    "}\n",
    "\n",
    "model = xgb.train(tune_params, dtrain, num_boost_round=50, evals=watchlist)\n",
    "key = 'subsample=%s' % (tune_params['subsample'])\n",
    "scores[key] = parse_xgb_output(output)\n"
   ]
  },
  {
   "cell_type": "code",
   "execution_count": 304,
   "id": "2368a694",
   "metadata": {},
   "outputs": [
    {
     "data": {
      "text/plain": [
       "<matplotlib.legend.Legend at 0x7f540e9987c0>"
      ]
     },
     "execution_count": 304,
     "metadata": {},
     "output_type": "execute_result"
    },
    {
     "data": {
      "image/png": "[encoded data removed]",
      "text/plain": [
       "<Figure size 432x288 with 1 Axes>"
      ]
     },
     "metadata": {
      "needs_background": "light"
     },
     "output_type": "display_data"
    }
   ],
   "source": [
    "for subsample, df_score in scores.items():\n",
    "    plt.plot(df_score.num_iter, df_score.val_rmse, label=subsample)\n",
    "plt.ylim(1270, 1300)\n",
    "plt.legend()"
   ]
  },
  {
   "cell_type": "markdown",
   "id": "8a4b9259",
   "metadata": {},
   "source": [
    "We will select `'subsample': 1`"
   ]
  },
  {
   "cell_type": "markdown",
   "id": "6820953e",
   "metadata": {},
   "source": [
    "##### Tuning `colsample_bytree`"
   ]
  },
  {
   "cell_type": "code",
   "execution_count": 317,
   "id": "e4a1c602",
   "metadata": {},
   "outputs": [],
   "source": [
    "scores = {}\n",
    "watchlist = [(dtrain, 'train'), (dval, 'val')]\n"
   ]
  },
  {
   "cell_type": "code",
   "execution_count": 339,
   "id": "ddfd6fff",
   "metadata": {},
   "outputs": [],
   "source": [
    "%%capture output\n",
    "\n",
    "# for eta in [0.01, 0.1, , 0.3, 0.5, 1]: \n",
    "tune_params = {\n",
    "    'eta':0.3, \n",
    "    'max_depth': 3,\n",
    "    'min_child_weight': 1,\n",
    "    'subsample': 1,\n",
    "    'sampling_method': 'gradient_based',\n",
    "    'colsample_bytree': 1,\n",
    "\n",
    "    'objective': 'reg:squarederror',\n",
    "    'eval_metric': 'rmse',\n",
    "\n",
    "    'nthread': 8,\n",
    "    'seed': 1,\n",
    "    'verbosity': 1,\n",
    "}\n",
    "\n",
    "model = xgb.train(tune_params, dtrain, num_boost_round=100, evals=watchlist)\n",
    "key = 'colsample_bytree=%s' % (tune_params['colsample_bytree'])\n",
    "scores[key] = parse_xgb_output(output)\n"
   ]
  },
  {
   "cell_type": "code",
   "execution_count": 341,
   "id": "c37d0c26",
   "metadata": {},
   "outputs": [
    {
     "data": {
      "text/plain": [
       "dict_keys(['colsample_bytree=0.1', 'colsample_bytree=0.25', 'colsample_bytree=0.5', 'colsample_bytree=0.75', 'colsample_bytree=1'])"
      ]
     },
     "execution_count": 341,
     "metadata": {},
     "output_type": "execute_result"
    }
   ],
   "source": [
    "scores.keys()"
   ]
  },
  {
   "cell_type": "code",
   "execution_count": 346,
   "id": "04277279",
   "metadata": {},
   "outputs": [
    {
     "data": {
      "text/plain": [
       "<matplotlib.legend.Legend at 0x7f540e0821c0>"
      ]
     },
     "execution_count": 346,
     "metadata": {},
     "output_type": "execute_result"
    },
    {
     "data": {
      "image/png": "[encoded data removed]",
      "text/plain": [
       "<Figure size 432x288 with 1 Axes>"
      ]
     },
     "metadata": {
      "needs_background": "light"
     },
     "output_type": "display_data"
    }
   ],
   "source": [
    "for colsample in ['colsample_bytree=0.5', 'colsample_bytree=0.25', 'colsample_bytree=0.1']:\n",
    "#     colsample, df_score in scores.items():\n",
    "    df_score = scores[colsample]\n",
    "    plt.plot(df_score.num_iter, df_score.val_rmse, label=colsample)\n",
    "plt.ylim(1275, 1285)\n",
    "plt.legend()"
   ]
  },
  {
   "cell_type": "code",
   "execution_count": null,
   "id": "b94ce715",
   "metadata": {},
   "outputs": [],
   "source": [
    "We will select 'colsample': 0.1\n"
   ]
  },
  {
   "cell_type": "markdown",
   "id": "de0af968",
   "metadata": {},
   "source": [
    "### Train tuned XGB on full train"
   ]
  },
  {
   "cell_type": "code",
   "execution_count": 305,
   "id": "db39e72a",
   "metadata": {},
   "outputs": [],
   "source": [
    "tune_params = {\n",
    "    'eta':0.3, \n",
    "    'max_depth': 3,\n",
    "    'min_child_weight': 1,\n",
    "    'subsample': 1,\n",
    "\n",
    "    'objective': 'reg:squarederror',\n",
    "    'eval_metric': 'rmse',\n",
    "\n",
    "    'nthread': 8,\n",
    "    'seed': 1,\n",
    "    'verbosity': 1,\n",
    "}"
   ]
  },
  {
   "cell_type": "code",
   "execution_count": 307,
   "id": "b0a3ac08",
   "metadata": {},
   "outputs": [],
   "source": [
    "xgb_tuned_full = xgb.train(tune_params, dfulltrain, num_boost_round=200)\n",
    "xgb_tuned_full_pred = xgb_tuned_full.predict(dtest)\n",
    "export(xgb_tuned_full_pred, 'xgb_tuned')"
   ]
  },
  {
   "cell_type": "code",
   "execution_count": 348,
   "id": "cd8e4267",
   "metadata": {},
   "outputs": [],
   "source": [
    "%%capture output\n",
    "\n",
    "# for eta in [0.01, 0.1, , 0.3, 0.5, 1]: \n",
    "tune_params_ext = {\n",
    "    'eta':0.3, \n",
    "    'max_depth': 3,\n",
    "    'min_child_weight': 1,\n",
    "    'subsample': 1,\n",
    "    'sampling_method': 'gradient_based',\n",
    "    'colsample_bytree': 0.1,\n",
    "\n",
    "    'objective': 'reg:squarederror',\n",
    "    'eval_metric': 'rmse',\n",
    "\n",
    "    'nthread': 8,\n",
    "    'seed': 1,\n",
    "    'verbosity': 1,\n",
    "}\n",
    "\n",
    "model = xgb.train(tune_params, dtrain, num_boost_round=100, evals=watchlist)\n",
    "key = 'colsample_bytree=%s' % (tune_params['colsample_bytree'])\n",
    "scores[key] = parse_xgb_output(output)\n"
   ]
  },
  {
   "cell_type": "code",
   "execution_count": 350,
   "id": "1d01cc03",
   "metadata": {},
   "outputs": [],
   "source": [
    "xgb_tuned_full_ext = xgb.train(tune_params_ext, dfulltrain, num_boost_round=100)\n",
    "xgb_tuned_full_pred_ext = xgb_tuned_full_ext.predict(dtest)\n",
    "export(xgb_tuned_full_pred_ext, 'xgb_tuned_ext')"
   ]
  },
  {
   "cell_type": "markdown",
   "id": "5fe79e55",
   "metadata": {},
   "source": [
    "### Exporting to script\n",
    "- We shall use the above model for making predictions. The training operations are exported to `train.py` script\n",
    "<br>\n",
    "\n",
    "- Further detailing is done in the [Wiki](https://github.com/ada-nai/ag-mlcamp/wiki/Store-Sales-Prediction#model-training)\n"
   ]
  },
  {
   "cell_type": "markdown",
   "id": "2b6cbc2f",
   "metadata": {},
   "source": [
    "### Making predictions on test set"
   ]
  },
  {
   "cell_type": "code",
   "execution_count": null,
   "id": "842ae552",
   "metadata": {},
   "outputs": [],
   "source": [
    "# rf_tuned_test_preds = rf_tuned.predict(full_test_dv)\n",
    "# export(rf_tuned_test_preds, 'rf_tuned')"
   ]
  },
  {
   "cell_type": "markdown",
   "id": "3d93738a",
   "metadata": {},
   "source": [
    "### Dump Objects"
   ]
  },
  {
   "cell_type": "code",
   "execution_count": null,
   "id": "45c847ec",
   "metadata": {},
   "outputs": [],
   "source": [
    "# import pickle\n",
    "\n",
    "# with open('model.bin', 'wb') as outfile:\n",
    "#     pickle.dump(rf_tuned, outfile)\n",
    "    \n",
    "# with open('dv.bin', 'wb') as outfile:\n",
    "#     pickle.dump(full_dv, outfile)\n",
    "    \n",
    "# with open('test_samples.bin', 'wb') as outfile:\n",
    "#     pickle.dump(test_samples, outfile)"
   ]
  },
  {
   "cell_type": "markdown",
   "id": "6277edf4",
   "metadata": {},
   "source": [
    "## Rough Work \n",
    "\n",
    "Below are some code snippets for quick prototyping of functions.  Code further on can be ignored"
   ]
  },
  {
   "cell_type": "code",
   "execution_count": null,
   "id": "180ceb4c",
   "metadata": {},
   "outputs": [],
   "source": [
    "test_samples= eval(df.sample(15, random_state= 42).to_json(orient= 'records'))\n",
    "test_samples"
   ]
  },
  {
   "cell_type": "code",
   "execution_count": null,
   "id": "55f9a8ae",
   "metadata": {},
   "outputs": [],
   "source": [
    "pd.DataFrame(test_samples).head()"
   ]
  },
  {
   "cell_type": "code",
   "execution_count": null,
   "id": "5ad15a14",
   "metadata": {},
   "outputs": [],
   "source": [
    "def retrieve_item_cats(df, col):\n",
    "    \"\"\"\n",
    "    Split the item_id feature into categories\n",
    "    \"\"\"\n",
    "    item_cats={}\n",
    "    for x in range(4):\n",
    "#         print(x)\n",
    "        if x<3:\n",
    "            item_cats[f'item_cat_{x}'] = [df[col][loc][x] for loc in range(len(df))]\n",
    "        else:\n",
    "            item_cats[f'item_cat_{x}'] = [df[col][loc][x:] for loc in range(len(df))]\n",
    "    return item_cats\n",
    "\n",
    "def scale_num_cols(df, scale_cols):\n",
    "    for col in scale_cols:\n",
    "        df[col+'_scale'] = (df[col] - min(df[col])) / (max(df[col]) - min(df[col]))\n",
    "    return df\n",
    "\n",
    "def process_data(df, cols):\n",
    "    \"\"\"\n",
    "\n",
    "    \"\"\"\n",
    "    df = pd.DataFrame.from_dict(df).reset_index(drop= True)\n",
    "    df_ids =  pd.DataFrame(retrieve_item_cats(df, 'item_id')).reset_index(drop= True)\n",
    "    df_id_split = pd.concat([df, df_ids], axis= 1)\n",
    "#     print([len(df), len(df_ids), len(df_id_split)])\n",
    "    df_id_split['out_size'] = df['outlet_size'].map(outlet_size_map)\n",
    "    df_id_split['out_type'] = df['outlet_location_type'].map(outlet_location_map)\n",
    "    df_id_split['outlet_age']= 2021-df_id_split['outlet_year']\n",
    "    df_id_split = scale_num_cols(df_id_split, scale_cols)\n",
    "\n",
    "#     scale_num_cols(df_id_split, scale_cols)\n",
    "    return df_id_split[scaled_cols]"
   ]
  },
  {
   "cell_type": "code",
   "execution_count": null,
   "id": "4466f559",
   "metadata": {},
   "outputs": [],
   "source": [
    "scale_cols = ['item_w', 'item_mrp', 'outlet_age']\n",
    "scaled_cols = ['item_cat_0',\n",
    "       'item_cat_1', 'item_cat_2', 'item_cat_3',  'item_w_scale', 'item_type', 'item_mrp_scale', 'outlet_id',\n",
    "       'out_size', 'out_type','outlet_age_scale']\n",
    "ip = process_data(test_samples, scaled_cols)"
   ]
  },
  {
   "cell_type": "code",
   "execution_count": null,
   "id": "6d4afc5d",
   "metadata": {},
   "outputs": [],
   "source": [
    "# pd.DataFrame(test)\n",
    "pd.DataFrame(test.values())"
   ]
  }
 ],
 "metadata": {
  "kernelspec": {
   "display_name": "Python 3 (ipykernel)",
   "language": "python",
   "name": "python3"
  },
  "language_info": {
   "codemirror_mode": {
    "name": "ipython",
    "version": 3
   },
   "file_extension": ".py",
   "mimetype": "text/x-python",
   "name": "python",
   "nbconvert_exporter": "python",
   "pygments_lexer": "ipython3",
   "version": "3.8.11"
  }
 },
 "nbformat": 4,
 "nbformat_minor": 5
}
