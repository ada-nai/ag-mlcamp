{
 "cells": [
  {
   "cell_type": "markdown",
   "id": "53c8bf49",
   "metadata": {},
   "source": [
    "# Homework 8"
   ]
  },
  {
   "cell_type": "markdown",
   "id": "f84e87ac",
   "metadata": {},
   "source": [
    "## Data preparation\n",
    "\n",
    "- In this homework, we'll build a model for predicting if we have an image of a dog or a cat. For this, we will use the \"Dogs & Cats\" dataset that can be downloaded from Kaggle.\n",
    "\n",
    "- You need to download the train.zip file.\n",
    "\n",
    "- If you have troubles downloading from Kaggle, use this link instead:\n",
    "\n",
    "- `wget https://github.com/alexeygrigorev/large-datasets/releases/download/dogs-cats/train.zip`"
   ]
  },
  {
   "cell_type": "code",
   "execution_count": null,
   "id": "79af83aa",
   "metadata": {},
   "outputs": [],
   "source": [
    "import os \n",
    "import shutil"
   ]
  },
  {
   "cell_type": "code",
   "execution_count": null,
   "id": "42b5302a",
   "metadata": {},
   "outputs": [],
   "source": [
    "os.getcwd()"
   ]
  },
  {
   "cell_type": "code",
   "execution_count": null,
   "id": "7185f216",
   "metadata": {},
   "outputs": [],
   "source": [
    "# !wget https://github.com/alexeygrigorev/large-datasets/releases/download/dogs-cats/train.zip"
   ]
  },
  {
   "cell_type": "code",
   "execution_count": null,
   "id": "c1e32753",
   "metadata": {},
   "outputs": [],
   "source": [
    "os.listdir()"
   ]
  },
  {
   "cell_type": "code",
   "execution_count": null,
   "id": "6f0ecda2",
   "metadata": {},
   "outputs": [],
   "source": [
    "# !unzip train.zip -d ."
   ]
  },
  {
   "cell_type": "code",
   "execution_count": null,
   "id": "f63c7b25",
   "metadata": {},
   "outputs": [],
   "source": [
    "os.listdir('./train')"
   ]
  },
  {
   "cell_type": "code",
   "execution_count": null,
   "id": "09119594",
   "metadata": {},
   "outputs": [],
   "source": [
    "# os.mkdir('./train/cats')\n",
    "# os.mkdir('./train/dogs')"
   ]
  },
  {
   "cell_type": "code",
   "execution_count": null,
   "id": "59f1c64b",
   "metadata": {},
   "outputs": [],
   "source": [
    "# os.mkdir('./val')\n",
    "# os.mkdir('./val/cats')\n",
    "# os.mkdir('./val/dogs')\n",
    "\n",
    "# cat_train_files = [f'cat.{i}.jpg' for i in range(10000)]\n",
    "# cat_val_files = [f'cat.{i}.jpg' for i in range(10000, 12500)]\n",
    "# dog_train_files = [f'dog.{i}.jpg' for i in range(10000)]\n",
    "# dog_val_files = [f'dog.{i}.jpg' for i in range(10000, 12500)]\n",
    "\n",
    "# os.chdir(os.getcwd()+'/train')\n",
    "# os.getcwd()\n",
    "\n",
    "# for file in cat_train_files:\n",
    "#     shutil.move(f'./{file}', './cats/')\n",
    "\n",
    "# for file in dog_train_files:\n",
    "#     shutil.move(f'./{file}', './dogs')"
   ]
  },
  {
   "cell_type": "code",
   "execution_count": null,
   "id": "a721970b",
   "metadata": {},
   "outputs": [],
   "source": [
    "os.getcwd()"
   ]
  },
  {
   "cell_type": "code",
   "execution_count": null,
   "id": "913abd0f",
   "metadata": {},
   "outputs": [],
   "source": [
    "# for file in cat_val_files:\n",
    "#     shutil.move(f'./{file}', '../val/cats')\n",
    "\n",
    "# for file in dog_val_files:\n",
    "#     shutil.move(f'./{file}', '../val/dogs')"
   ]
  },
  {
   "cell_type": "code",
   "execution_count": null,
   "id": "d138aa8a",
   "metadata": {},
   "outputs": [],
   "source": [
    "os.getcwd()"
   ]
  },
  {
   "cell_type": "code",
   "execution_count": null,
   "id": "604a04c8",
   "metadata": {},
   "outputs": [],
   "source": [
    "# os.chdir('..')\n",
    "\n",
    "# !mkdir hw-data\n",
    "\n",
    "# shutil.move('./train', './hw-data/')\n",
    "# shutil.move('./val', './hw-data/')"
   ]
  },
  {
   "cell_type": "markdown",
   "id": "038eead3",
   "metadata": {},
   "source": [
    "## Model\n",
    "\n",
    "develop the model with following structure:\n",
    "\n",
    "The shape for input should be `(150, 150, 3)`\n",
    "Next, create a covolutional layer (Conv2D):\n",
    "```\n",
    "Use 32 filters\n",
    "Kernel size should be (3, 3) (that's the size of the filter)\n",
    "Use 'relu' as activation\n",
    "Reduce the size of the feature map with max pooling (MaxPooling2D)\n",
    "Set the pooling size to (2, 2)\n",
    "\n",
    "Turn the multi-dimensional result into vectors using a Flatten layer\n",
    "Next, add a Dense layer with 64 neurons and 'relu' activation\n",
    "Finally, create the Dense layer with 1 neuron - this will be the output\n",
    "The output layer should have an activation - use the appropriate activation for the binary classification case\n",
    "\n",
    "As optimizer use SGD with the following parameters:\n",
    "\n",
    "SGD(lr=0.002, momentum=0.8)\n",
    "```"
   ]
  },
  {
   "cell_type": "code",
   "execution_count": 1,
   "id": "be9a8bb1",
   "metadata": {},
   "outputs": [
    {
     "name": "stderr",
     "output_type": "stream",
     "text": [
      "2021-11-22 17:37:05.925970: I tensorflow/stream_executor/platform/default/dso_loader.cc:49] Successfully opened dynamic library libcudart.so.10.1\n"
     ]
    }
   ],
   "source": [
    "import tensorflow as tf\n",
    "from tensorflow import keras as keras\n",
    "from tensorflow.keras import layers"
   ]
  },
  {
   "cell_type": "code",
   "execution_count": 2,
   "id": "a30e5422",
   "metadata": {},
   "outputs": [
    {
     "name": "stderr",
     "output_type": "stream",
     "text": [
      "2021-11-22 17:37:18.962232: I tensorflow/compiler/jit/xla_cpu_device.cc:41] Not creating XLA devices, tf_xla_enable_xla_devices not set\n",
      "2021-11-22 17:37:18.963637: I tensorflow/stream_executor/platform/default/dso_loader.cc:49] Successfully opened dynamic library libcuda.so.1\n",
      "2021-11-22 17:37:19.044465: I tensorflow/stream_executor/cuda/cuda_gpu_executor.cc:941] successful NUMA node read from SysFS had negative value (-1), but there must be at least one NUMA node, so returning NUMA node zero\n",
      "2021-11-22 17:37:19.045010: I tensorflow/core/common_runtime/gpu/gpu_device.cc:1720] Found device 0 with properties: \n",
      "pciBusID: 0000:01:00.0 name: NVIDIA GeForce GTX 1050 Ti computeCapability: 6.1\n",
      "coreClock: 1.62GHz coreCount: 6 deviceMemorySize: 3.95GiB deviceMemoryBandwidth: 104.43GiB/s\n",
      "2021-11-22 17:37:19.045051: I tensorflow/stream_executor/platform/default/dso_loader.cc:49] Successfully opened dynamic library libcudart.so.10.1\n",
      "2021-11-22 17:37:19.121418: I tensorflow/stream_executor/platform/default/dso_loader.cc:49] Successfully opened dynamic library libcublas.so.10\n",
      "2021-11-22 17:37:19.121588: I tensorflow/stream_executor/platform/default/dso_loader.cc:49] Successfully opened dynamic library libcublasLt.so.10\n",
      "2021-11-22 17:37:19.136964: I tensorflow/stream_executor/platform/default/dso_loader.cc:49] Successfully opened dynamic library libcufft.so.10\n",
      "2021-11-22 17:37:19.159890: I tensorflow/stream_executor/platform/default/dso_loader.cc:49] Successfully opened dynamic library libcurand.so.10\n",
      "2021-11-22 17:37:19.182149: I tensorflow/stream_executor/platform/default/dso_loader.cc:49] Successfully opened dynamic library libcusolver.so.10\n",
      "2021-11-22 17:37:19.192997: I tensorflow/stream_executor/platform/default/dso_loader.cc:49] Successfully opened dynamic library libcusparse.so.10\n",
      "2021-11-22 17:37:19.232015: I tensorflow/stream_executor/platform/default/dso_loader.cc:49] Successfully opened dynamic library libcudnn.so.7\n",
      "2021-11-22 17:37:19.232382: I tensorflow/stream_executor/cuda/cuda_gpu_executor.cc:941] successful NUMA node read from SysFS had negative value (-1), but there must be at least one NUMA node, so returning NUMA node zero\n",
      "2021-11-22 17:37:19.233392: I tensorflow/stream_executor/cuda/cuda_gpu_executor.cc:941] successful NUMA node read from SysFS had negative value (-1), but there must be at least one NUMA node, so returning NUMA node zero\n",
      "2021-11-22 17:37:19.234144: I tensorflow/core/common_runtime/gpu/gpu_device.cc:1862] Adding visible gpu devices: 0\n",
      "2021-11-22 17:37:19.235192: I tensorflow/core/platform/cpu_feature_guard.cc:142] This TensorFlow binary is optimized with oneAPI Deep Neural Network Library (oneDNN) to use the following CPU instructions in performance-critical operations:  SSE4.1 SSE4.2 AVX AVX2 FMA\n",
      "To enable them in other operations, rebuild TensorFlow with the appropriate compiler flags.\n",
      "2021-11-22 17:37:19.236894: I tensorflow/stream_executor/cuda/cuda_gpu_executor.cc:941] successful NUMA node read from SysFS had negative value (-1), but there must be at least one NUMA node, so returning NUMA node zero\n",
      "2021-11-22 17:37:19.237761: I tensorflow/core/common_runtime/gpu/gpu_device.cc:1720] Found device 0 with properties: \n",
      "pciBusID: 0000:01:00.0 name: NVIDIA GeForce GTX 1050 Ti computeCapability: 6.1\n",
      "coreClock: 1.62GHz coreCount: 6 deviceMemorySize: 3.95GiB deviceMemoryBandwidth: 104.43GiB/s\n",
      "2021-11-22 17:37:19.237834: I tensorflow/stream_executor/platform/default/dso_loader.cc:49] Successfully opened dynamic library libcudart.so.10.1\n",
      "2021-11-22 17:37:19.237904: I tensorflow/stream_executor/platform/default/dso_loader.cc:49] Successfully opened dynamic library libcublas.so.10\n",
      "2021-11-22 17:37:19.237956: I tensorflow/stream_executor/platform/default/dso_loader.cc:49] Successfully opened dynamic library libcublasLt.so.10\n",
      "2021-11-22 17:37:19.238006: I tensorflow/stream_executor/platform/default/dso_loader.cc:49] Successfully opened dynamic library libcufft.so.10\n",
      "2021-11-22 17:37:19.238055: I tensorflow/stream_executor/platform/default/dso_loader.cc:49] Successfully opened dynamic library libcurand.so.10\n",
      "2021-11-22 17:37:19.238105: I tensorflow/stream_executor/platform/default/dso_loader.cc:49] Successfully opened dynamic library libcusolver.so.10\n",
      "2021-11-22 17:37:19.238158: I tensorflow/stream_executor/platform/default/dso_loader.cc:49] Successfully opened dynamic library libcusparse.so.10\n",
      "2021-11-22 17:37:19.238208: I tensorflow/stream_executor/platform/default/dso_loader.cc:49] Successfully opened dynamic library libcudnn.so.7\n",
      "2021-11-22 17:37:19.238643: I tensorflow/stream_executor/cuda/cuda_gpu_executor.cc:941] successful NUMA node read from SysFS had negative value (-1), but there must be at least one NUMA node, so returning NUMA node zero\n",
      "2021-11-22 17:37:19.240058: I tensorflow/stream_executor/cuda/cuda_gpu_executor.cc:941] successful NUMA node read from SysFS had negative value (-1), but there must be at least one NUMA node, so returning NUMA node zero\n",
      "2021-11-22 17:37:19.240827: I tensorflow/core/common_runtime/gpu/gpu_device.cc:1862] Adding visible gpu devices: 0\n",
      "2021-11-22 17:37:19.240935: I tensorflow/stream_executor/platform/default/dso_loader.cc:49] Successfully opened dynamic library libcudart.so.10.1\n",
      "2021-11-22 17:37:19.837575: I tensorflow/core/common_runtime/gpu/gpu_device.cc:1261] Device interconnect StreamExecutor with strength 1 edge matrix:\n",
      "2021-11-22 17:37:19.837610: I tensorflow/core/common_runtime/gpu/gpu_device.cc:1267]      0 \n",
      "2021-11-22 17:37:19.837619: I tensorflow/core/common_runtime/gpu/gpu_device.cc:1280] 0:   N \n",
      "2021-11-22 17:37:19.837840: I tensorflow/stream_executor/cuda/cuda_gpu_executor.cc:941] successful NUMA node read from SysFS had negative value (-1), but there must be at least one NUMA node, so returning NUMA node zero\n",
      "2021-11-22 17:37:19.838446: I tensorflow/stream_executor/cuda/cuda_gpu_executor.cc:941] successful NUMA node read from SysFS had negative value (-1), but there must be at least one NUMA node, so returning NUMA node zero\n",
      "2021-11-22 17:37:19.838871: I tensorflow/stream_executor/cuda/cuda_gpu_executor.cc:941] successful NUMA node read from SysFS had negative value (-1), but there must be at least one NUMA node, so returning NUMA node zero\n",
      "2021-11-22 17:37:19.839170: I tensorflow/core/common_runtime/gpu/gpu_device.cc:1406] Created TensorFlow device (/job:localhost/replica:0/task:0/device:GPU:0 with 3193 MB memory) -> physical GPU (device: 0, name: NVIDIA GeForce GTX 1050 Ti, pci bus id: 0000:01:00.0, compute capability: 6.1)\n",
      "2021-11-22 17:37:19.839472: I tensorflow/compiler/jit/xla_gpu_device.cc:99] Not creating XLA devices, tf_xla_enable_xla_devices not set\n"
     ]
    }
   ],
   "source": [
    "model = keras.Sequential()\n",
    "model.add(keras.Input(shape= (150, 150, 3)))\n",
    "model.add(layers.Conv2D(filters= 32, kernel_size= (3, 3), activation= 'relu'))\n",
    "model.add(layers.MaxPooling2D(pool_size= (2, 2)))\n",
    "model.add(layers.Flatten())\n",
    "model.add(layers.Dense(64, activation= 'relu'))\n",
    "model.add(layers.Dense(1, activation= 'softmax'))"
   ]
  },
  {
   "cell_type": "markdown",
   "id": "64617d9e",
   "metadata": {},
   "source": [
    "### Question 1\n",
    "\n",
    "Since we have a binary classification problem, what is the best loss function for us?"
   ]
  },
  {
   "cell_type": "code",
   "execution_count": 3,
   "id": "d5e71f6b",
   "metadata": {},
   "outputs": [],
   "source": [
    "sgd = keras.optimizers.SGD(learning_rate=0.02, momentum= 0.8)\n",
    "model.compile(optimizer= sgd, loss= keras.losses.BinaryCrossentropy(), metrics=[\"accuracy\"])"
   ]
  },
  {
   "cell_type": "markdown",
   "id": "002a3065",
   "metadata": {},
   "source": [
    "### Question 2\n",
    "\n",
    "What's the total number of parameters of the model? You can use the summary method for that."
   ]
  },
  {
   "cell_type": "code",
   "execution_count": 4,
   "id": "13d59a16",
   "metadata": {},
   "outputs": [
    {
     "name": "stdout",
     "output_type": "stream",
     "text": [
      "Model: \"sequential\"\n",
      "_________________________________________________________________\n",
      "Layer (type)                 Output Shape              Param #   \n",
      "=================================================================\n",
      "conv2d (Conv2D)              (None, 148, 148, 32)      896       \n",
      "_________________________________________________________________\n",
      "max_pooling2d (MaxPooling2D) (None, 74, 74, 32)        0         \n",
      "_________________________________________________________________\n",
      "flatten (Flatten)            (None, 175232)            0         \n",
      "_________________________________________________________________\n",
      "dense (Dense)                (None, 64)                11214912  \n",
      "_________________________________________________________________\n",
      "dense_1 (Dense)              (None, 1)                 65        \n",
      "=================================================================\n",
      "Total params: 11,215,873\n",
      "Trainable params: 11,215,873\n",
      "Non-trainable params: 0\n",
      "_________________________________________________________________\n"
     ]
    }
   ],
   "source": [
    "model.summary()"
   ]
  },
  {
   "cell_type": "markdown",
   "id": "3b8677e2",
   "metadata": {},
   "source": [
    "## Generators and Training\n",
    "\n",
    "For the next two questions, use the following data generator for both train and validation:\n",
    "\n",
    "    `ImageDataGenerator(rescale=1./255)`  \n",
    "\n",
    "We don't need to do any additional pre-processing for the images.\n",
    "    When reading the data from train/val directories, check the class_mode parameter. Which value should it be for a binary classification problem?\n",
    "    Use `batch_size=20`\n",
    "\n",
    "For training use `.fit()` with the following params:\n",
    "\n",
    "```\n",
    "model.fit(\n",
    "    train_generator,\n",
    "    steps_per_epoch=100,\n",
    "    epochs=10,\n",
    "    validation_data=validation_generator,\n",
    "    validation_steps=50\n",
    ")\n",
    "```"
   ]
  },
  {
   "cell_type": "code",
   "execution_count": 5,
   "id": "fc9166f0",
   "metadata": {},
   "outputs": [],
   "source": [
    "from tensorflow.keras.preprocessing.image import ImageDataGenerator"
   ]
  },
  {
   "cell_type": "code",
   "execution_count": 6,
   "id": "a7833324",
   "metadata": {},
   "outputs": [],
   "source": [
    "image_size = (150, 150)\n",
    "batch_size = 20"
   ]
  },
  {
   "cell_type": "code",
   "execution_count": 7,
   "id": "2e22adf2",
   "metadata": {},
   "outputs": [
    {
     "name": "stdout",
     "output_type": "stream",
     "text": [
      "Found 20000 images belonging to 2 classes.\n"
     ]
    }
   ],
   "source": [
    "train_gen = ImageDataGenerator(rescale=1./255)\n",
    "\n",
    "train_ds = train_gen.flow_from_directory('./hw-data/train/', target_size= image_size, batch_size= batch_size, class_mode= 'binary', shuffle= True)"
   ]
  },
  {
   "cell_type": "code",
   "execution_count": 8,
   "id": "3935bef4",
   "metadata": {},
   "outputs": [
    {
     "name": "stdout",
     "output_type": "stream",
     "text": [
      "Found 5000 images belonging to 2 classes.\n"
     ]
    }
   ],
   "source": [
    "val_gen = ImageDataGenerator(rescale=1./255)\n",
    "\n",
    "val_ds = val_gen.flow_from_directory('./hw-data/val/', target_size= image_size, batch_size= batch_size, class_mode= 'binary', shuffle= True)"
   ]
  },
  {
   "cell_type": "code",
   "execution_count": 9,
   "id": "4e9a4fc5",
   "metadata": {},
   "outputs": [
    {
     "name": "stderr",
     "output_type": "stream",
     "text": [
      "2021-11-22 17:37:27.544981: I tensorflow/compiler/mlir/mlir_graph_optimization_pass.cc:116] None of the MLIR optimization passes are enabled (registered 2)\n",
      "2021-11-22 17:37:27.564093: I tensorflow/core/platform/profile_utils/cpu_utils.cc:112] CPU Frequency: 2299965000 Hz\n"
     ]
    },
    {
     "name": "stdout",
     "output_type": "stream",
     "text": [
      "Epoch 1/10\n"
     ]
    },
    {
     "name": "stderr",
     "output_type": "stream",
     "text": [
      "2021-11-22 17:37:28.019155: I tensorflow/stream_executor/platform/default/dso_loader.cc:49] Successfully opened dynamic library libcublas.so.10\n",
      "2021-11-22 17:37:28.214674: I tensorflow/stream_executor/platform/default/dso_loader.cc:49] Successfully opened dynamic library libcudnn.so.7\n",
      "2021-11-22 17:37:28.954388: W tensorflow/stream_executor/gpu/asm_compiler.cc:98] *** WARNING *** You are using ptxas 9.1.108, which is older than 9.2.88. ptxas 9.x before 9.2.88 is known to miscompile XLA code, leading to incorrect results or invalid-address errors.\n",
      "\n",
      "You do not need to update to CUDA 9.2.88; cherry-picking the ptxas binary is sufficient.\n"
     ]
    },
    {
     "name": "stdout",
     "output_type": "stream",
     "text": [
      "100/100 [==============================] - 13s 112ms/step - loss: 0.7128 - accuracy: 0.4818 - val_loss: 0.6894 - val_accuracy: 0.4940\n",
      "Epoch 2/10\n",
      "100/100 [==============================] - 10s 97ms/step - loss: 0.6925 - accuracy: 0.5229 - val_loss: 0.6897 - val_accuracy: 0.5210\n",
      "Epoch 3/10\n",
      "100/100 [==============================] - 10s 101ms/step - loss: 0.6869 - accuracy: 0.5259 - val_loss: 0.6810 - val_accuracy: 0.5200\n",
      "Epoch 4/10\n",
      "100/100 [==============================] - 11s 105ms/step - loss: 0.6772 - accuracy: 0.5005 - val_loss: 0.6513 - val_accuracy: 0.5110\n",
      "Epoch 5/10\n",
      "100/100 [==============================] - 11s 109ms/step - loss: 0.6787 - accuracy: 0.4883 - val_loss: 0.6611 - val_accuracy: 0.4950\n",
      "Epoch 6/10\n",
      "100/100 [==============================] - 12s 115ms/step - loss: 0.6697 - accuracy: 0.4903 - val_loss: 0.6700 - val_accuracy: 0.4910\n",
      "Epoch 7/10\n",
      "100/100 [==============================] - 12s 119ms/step - loss: 0.6650 - accuracy: 0.4958 - val_loss: 0.6465 - val_accuracy: 0.5230\n",
      "Epoch 8/10\n",
      "100/100 [==============================] - 12s 120ms/step - loss: 0.6486 - accuracy: 0.5276 - val_loss: 0.6200 - val_accuracy: 0.5130\n",
      "Epoch 9/10\n",
      "100/100 [==============================] - 12s 119ms/step - loss: 0.6324 - accuracy: 0.5001 - val_loss: 0.6305 - val_accuracy: 0.4810\n",
      "Epoch 10/10\n",
      "100/100 [==============================] - 12s 118ms/step - loss: 0.6227 - accuracy: 0.4752 - val_loss: 0.6450 - val_accuracy: 0.5090\n"
     ]
    }
   ],
   "source": [
    "# cb = [\n",
    "#     keras.callbacks.ModelCheckpoint(\n",
    "#         \"cat_dog.h5\",\n",
    "#         monitor=\"val_accuracy\",\n",
    "#         save_best_only=False,\n",
    "#         mode='auto'\n",
    "#     )\n",
    "# ]\n",
    "\n",
    "\n",
    "history = model.fit(\n",
    "    train_ds,\n",
    "    steps_per_epoch=100,\n",
    "    epochs=10,\n",
    "    validation_data=val_ds,\n",
    "    validation_steps=50\n",
    ")"
   ]
  },
  {
   "cell_type": "markdown",
   "id": "75bb8e28",
   "metadata": {},
   "source": [
    "### Question 3\n",
    "\n",
    "What is the median of training accuracy for this model?"
   ]
  },
  {
   "cell_type": "code",
   "execution_count": 10,
   "id": "e59d6943",
   "metadata": {},
   "outputs": [],
   "source": [
    "import numpy as np"
   ]
  },
  {
   "cell_type": "code",
   "execution_count": 11,
   "id": "4d1ad367",
   "metadata": {},
   "outputs": [
    {
     "name": "stdout",
     "output_type": "stream",
     "text": [
      "Median training accuracy is: 0.500\n"
     ]
    }
   ],
   "source": [
    "train_median = np.median(history.history['accuracy'])\n",
    "print(f'Median training accuracy is: {train_median:.3f}')"
   ]
  },
  {
   "cell_type": "markdown",
   "id": "29a5fcc2",
   "metadata": {},
   "source": [
    "### Question 4\n",
    "\n",
    "What is the standard deviation of training loss for this model?"
   ]
  },
  {
   "cell_type": "code",
   "execution_count": 12,
   "id": "96e87781",
   "metadata": {},
   "outputs": [
    {
     "name": "stdout",
     "output_type": "stream",
     "text": [
      "Standard deviation of training loss is: 0.025\n"
     ]
    }
   ],
   "source": [
    "std_train_loss = np.std(history.history['loss'])\n",
    "print(f'Standard deviation of training loss is: {std_train_loss:.3f}')"
   ]
  },
  {
   "cell_type": "markdown",
   "id": "9b8abd6a",
   "metadata": {},
   "source": [
    "## Data Augmentation\n",
    "\n",
    "For the next two questions, we'll generate more data using data augmentations.\n",
    "\n",
    "Add the following augmentations to your training data generator:\n",
    "\n",
    "- rotation_range=40,\n",
    "- width_shift_range=0.2,\n",
    "- height_shift_range=0.2,\n",
    "- shear_range=0.2,\n",
    "- zoom_range=0.2,\n",
    "- horizontal_flip=True,\n",
    "- fill_mode='nearest'\n"
   ]
  },
  {
   "cell_type": "code",
   "execution_count": 13,
   "id": "3148646b",
   "metadata": {},
   "outputs": [],
   "source": [
    "train_gen_aug = ImageDataGenerator(\n",
    "    rescale=1./255,\n",
    "    rotation_range=40,\n",
    "    width_shift_range=0.2,\n",
    "    height_shift_range=0.2,\n",
    "    shear_range=0.2,\n",
    "    zoom_range=0.2,\n",
    "    horizontal_flip=True,\n",
    "    fill_mode='nearest'\n",
    ")"
   ]
  },
  {
   "cell_type": "code",
   "execution_count": 14,
   "id": "bba5b240",
   "metadata": {},
   "outputs": [
    {
     "name": "stdout",
     "output_type": "stream",
     "text": [
      "Found 20000 images belonging to 2 classes.\n"
     ]
    }
   ],
   "source": [
    "train_ds_aug = train_gen_aug.flow_from_directory('./hw-data/train/', target_size= image_size, batch_size= batch_size, class_mode= 'binary', shuffle= True)"
   ]
  },
  {
   "cell_type": "markdown",
   "id": "f6c92e33",
   "metadata": {},
   "source": [
    "Train our model for 10 more epochs using the same code as previously. Make sure you don't re-create the model - we want to continue training the model we already started training."
   ]
  },
  {
   "cell_type": "code",
   "execution_count": 15,
   "id": "05c1c504",
   "metadata": {
    "scrolled": true
   },
   "outputs": [
    {
     "name": "stdout",
     "output_type": "stream",
     "text": [
      "Epoch 11/20\n",
      "100/100 [==============================] - 21s 210ms/step - loss: 0.6706 - accuracy: 0.4800 - val_loss: 0.6218 - val_accuracy: 0.5020\n",
      "Epoch 12/20\n",
      "100/100 [==============================] - 21s 208ms/step - loss: 0.6623 - accuracy: 0.5115 - val_loss: 0.6402 - val_accuracy: 0.5010\n",
      "Epoch 13/20\n",
      "100/100 [==============================] - 21s 208ms/step - loss: 0.6529 - accuracy: 0.4890 - val_loss: 0.6212 - val_accuracy: 0.4950\n",
      "Epoch 14/20\n",
      "100/100 [==============================] - 21s 206ms/step - loss: 0.6504 - accuracy: 0.5035 - val_loss: 0.6125 - val_accuracy: 0.5250\n",
      "Epoch 15/20\n",
      "100/100 [==============================] - 21s 208ms/step - loss: 0.6575 - accuracy: 0.5030 - val_loss: 0.6171 - val_accuracy: 0.5080\n",
      "Epoch 16/20\n",
      "100/100 [==============================] - 21s 207ms/step - loss: 0.6653 - accuracy: 0.4930 - val_loss: 0.6421 - val_accuracy: 0.4770\n",
      "Epoch 17/20\n",
      "100/100 [==============================] - 21s 209ms/step - loss: 0.6581 - accuracy: 0.5115 - val_loss: 0.6216 - val_accuracy: 0.4950\n",
      "Epoch 18/20\n",
      "100/100 [==============================] - 21s 207ms/step - loss: 0.6551 - accuracy: 0.4855 - val_loss: 0.6231 - val_accuracy: 0.5010\n",
      "Epoch 19/20\n",
      "100/100 [==============================] - 21s 209ms/step - loss: 0.6426 - accuracy: 0.4895 - val_loss: 0.6279 - val_accuracy: 0.4700\n",
      "Epoch 20/20\n",
      "100/100 [==============================] - 21s 210ms/step - loss: 0.6478 - accuracy: 0.5240 - val_loss: 0.6491 - val_accuracy: 0.5100\n"
     ]
    }
   ],
   "source": [
    "history_aug = model.fit(\n",
    "train_ds_aug,\n",
    "steps_per_epoch=100,\n",
    "initial_epoch= 10,\n",
    "epochs=20,\n",
    "validation_data=val_ds,\n",
    "validation_steps=50,\n",
    "shuffle= True\n",
    ")"
   ]
  },
  {
   "cell_type": "markdown",
   "id": "0887678d",
   "metadata": {},
   "source": [
    "### Question 5\n",
    "\n",
    "What is the mean of validation loss for the model trained with augmentations?"
   ]
  },
  {
   "cell_type": "code",
   "execution_count": 16,
   "id": "cf4ee067",
   "metadata": {},
   "outputs": [
    {
     "name": "stdout",
     "output_type": "stream",
     "text": [
      "Mean of validation loss is: 0.628\n"
     ]
    }
   ],
   "source": [
    "mean_val_loss = np.mean(history_aug.history['val_loss'])\n",
    "print(f'Mean of validation loss is: {mean_val_loss:.3f}')"
   ]
  },
  {
   "cell_type": "markdown",
   "id": "56ee707b",
   "metadata": {},
   "source": [
    "### Question 6\n",
    "\n",
    "What's the average of validation accuracy for the last 5 epochs (from 6 to 10) for the model trained with augmentations?"
   ]
  },
  {
   "cell_type": "code",
   "execution_count": 17,
   "id": "744f5b01",
   "metadata": {},
   "outputs": [
    {
     "name": "stdout",
     "output_type": "stream",
     "text": [
      "Mean of validation accuracy is: 0.477\n"
     ]
    }
   ],
   "source": [
    "mean_val_acc = np.mean(history_aug.history['val_accuracy'][-5])\n",
    "print(f'Mean of validation accuracy is: {mean_val_acc:.3f}')"
   ]
  }
 ],
 "metadata": {
  "kernelspec": {
   "display_name": "Python [conda env:ml] *",
   "language": "python",
   "name": "conda-env-ml-py"
  },
  "language_info": {
   "codemirror_mode": {
    "name": "ipython",
    "version": 3
   },
   "file_extension": ".py",
   "mimetype": "text/x-python",
   "name": "python",
   "nbconvert_exporter": "python",
   "pygments_lexer": "ipython3",
   "version": "3.8.11"
  }
 },
 "nbformat": 4,
 "nbformat_minor": 5
}
