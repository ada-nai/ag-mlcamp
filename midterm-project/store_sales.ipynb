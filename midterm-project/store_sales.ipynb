{
 "cells": [
  {
   "cell_type": "markdown",
   "id": "85a9db9a",
   "metadata": {},
   "source": [
    "# Store Item Sales Prediction "
   ]
  },
  {
   "cell_type": "markdown",
   "id": "1fda7cf6",
   "metadata": {},
   "source": [
    "### Import packages"
   ]
  },
  {
   "cell_type": "code",
   "execution_count": null,
   "id": "7aeca5f5",
   "metadata": {},
   "outputs": [],
   "source": [
    "import os \n",
    "\n",
    "import math\n",
    "import numpy as np\n",
    "import pandas as pd\n",
    "import sklearn\n",
    "\n",
    "import matplotlib.pyplot as plt\n",
    "import seaborn as sns\n",
    "\n",
    "# from pandas_profiling import ProfileReport\n",
    "\n",
    "from sklearn.model_selection import train_test_split\n",
    "\n",
    "from sklearn.feature_selection import f_regression, mutual_info_regression\n",
    "\n",
    "\n",
    "from sklearn.feature_extraction import DictVectorizer\n",
    "\n",
    "\n",
    "\n",
    "from sklearn.metrics import mean_squared_error\n",
    "\n",
    "from sklearn.linear_model import LinearRegression\n",
    "from sklearn.tree import DecisionTreeRegressor\n",
    "from sklearn.tree import export_text\n",
    "from sklearn.ensemble import RandomForestRegressor\n",
    "\n",
    "from sklearn.model_selection import RandomizedSearchCV\n",
    "\n",
    "import warnings\n",
    "warnings.filterwarnings(\"ignore\", category=FutureWarning)\n"
   ]
  },
  {
   "cell_type": "code",
   "execution_count": null,
   "id": "c898d917",
   "metadata": {},
   "outputs": [],
   "source": [
    "pd.set_option('display.precision', 3)"
   ]
  },
  {
   "cell_type": "code",
   "execution_count": null,
   "id": "cde0c5b6",
   "metadata": {},
   "outputs": [],
   "source": [
    "path = os.getcwd()\n",
    "os.listdir(path)"
   ]
  },
  {
   "cell_type": "markdown",
   "id": "91b2d6cb",
   "metadata": {},
   "source": [
    "### Convert column names to lower case \n",
    "For the sake of convenience"
   ]
  },
  {
   "cell_type": "code",
   "execution_count": null,
   "id": "806e278b",
   "metadata": {},
   "outputs": [],
   "source": [
    "def std_col_names(df):\n",
    "    df.columns = df.columns.str.lower().str.strip().str.replace(' ', '_')\n",
    "    return df"
   ]
  },
  {
   "cell_type": "markdown",
   "id": "3f7221ce",
   "metadata": {},
   "source": [
    "### Load data"
   ]
  },
  {
   "cell_type": "code",
   "execution_count": null,
   "id": "e5aba9d5",
   "metadata": {},
   "outputs": [],
   "source": [
    "df = std_col_names(pd.read_csv('train.csv'))\n"
   ]
  },
  {
   "cell_type": "code",
   "execution_count": null,
   "id": "aeb89c4e",
   "metadata": {},
   "outputs": [],
   "source": [
    "x_test = std_col_names(pd.read_csv('test.csv'))\n"
   ]
  },
  {
   "cell_type": "markdown",
   "id": "2b3e3f64",
   "metadata": {},
   "source": [
    "### Observe data"
   ]
  },
  {
   "cell_type": "code",
   "execution_count": null,
   "id": "8146a465",
   "metadata": {},
   "outputs": [],
   "source": [
    "df.head()"
   ]
  },
  {
   "cell_type": "code",
   "execution_count": null,
   "id": "fb662f06",
   "metadata": {},
   "outputs": [],
   "source": [
    "df.info()"
   ]
  },
  {
   "cell_type": "code",
   "execution_count": null,
   "id": "2b647a2c",
   "metadata": {},
   "outputs": [],
   "source": [
    "df.describe()"
   ]
  },
  {
   "cell_type": "markdown",
   "id": "34517620",
   "metadata": {},
   "source": [
    "- Minimum sales value is -1230\n",
    "- Check for number of items with negative sales values\n"
   ]
  },
  {
   "cell_type": "code",
   "execution_count": null,
   "id": "922d631d",
   "metadata": {},
   "outputs": [],
   "source": [
    "a= (df['sales']<0).value_counts(normalize=True)\n",
    "print(f'Ratio of negative sales values: {a.loc[1]:.3f}')"
   ]
  },
  {
   "cell_type": "markdown",
   "id": "ea8607d6",
   "metadata": {},
   "source": [
    "Ratio of negative sales values is negligible"
   ]
  },
  {
   "cell_type": "code",
   "execution_count": null,
   "id": "ad6ed766",
   "metadata": {},
   "outputs": [],
   "source": [
    "df.hist(bins= 50, figsize= (20,15))"
   ]
  },
  {
   "cell_type": "markdown",
   "id": "ead73f7d",
   "metadata": {},
   "source": [
    "Sales is right skewed distribution"
   ]
  },
  {
   "cell_type": "code",
   "execution_count": null,
   "id": "b5bd967a",
   "metadata": {},
   "outputs": [],
   "source": [
    "# profile = ProfileReport(df)\n",
    "# profile.to_file(\"sales_analysis.html\")"
   ]
  },
  {
   "cell_type": "markdown",
   "id": "506327d0",
   "metadata": {},
   "source": [
    "### Split data"
   ]
  },
  {
   "cell_type": "code",
   "execution_count": null,
   "id": "18dc64d4",
   "metadata": {},
   "outputs": [],
   "source": [
    "# Split data into train, validation\n",
    "train, val = train_test_split(df, random_state=42, test_size=0.15)"
   ]
  },
  {
   "cell_type": "code",
   "execution_count": null,
   "id": "cacbf2ed",
   "metadata": {},
   "outputs": [],
   "source": [
    "# Reset index to be sequenced\n",
    "train = train.reset_index(drop= True)\n",
    "val=val.reset_index(drop= True)"
   ]
  },
  {
   "cell_type": "markdown",
   "id": "862ce21f",
   "metadata": {},
   "source": [
    "#### Drop the target column from train and validation feature sets\n"
   ]
  },
  {
   "cell_type": "code",
   "execution_count": null,
   "id": "0048f9f6",
   "metadata": {},
   "outputs": [],
   "source": [
    "x_train = train.drop('sales', axis= 1)\n",
    "y_train = train['sales'].copy()\n",
    "\n",
    "x_val = val.drop('sales', axis= 1)\n",
    "y_val = val['sales'].copy()"
   ]
  },
  {
   "cell_type": "code",
   "execution_count": null,
   "id": "de903609",
   "metadata": {},
   "outputs": [],
   "source": [
    "len(df), len(x_train), len(x_val)"
   ]
  },
  {
   "cell_type": "markdown",
   "id": "9e086764",
   "metadata": {},
   "source": [
    "### Extract numerical | categorical columns"
   ]
  },
  {
   "cell_type": "code",
   "execution_count": null,
   "id": "37f8a1f3",
   "metadata": {},
   "outputs": [],
   "source": [
    "num_cols = x_train.select_dtypes(include=['int64', 'float64']).columns.to_list()\n",
    "cat_cols = x_train.select_dtypes(include=['object']).columns.to_list()"
   ]
  },
  {
   "cell_type": "markdown",
   "id": "b472ea93",
   "metadata": {},
   "source": [
    "### Check the sales of items as a function of outlet attributes (Size | Location type)"
   ]
  },
  {
   "cell_type": "code",
   "execution_count": null,
   "id": "c3bb1bdc",
   "metadata": {},
   "outputs": [],
   "source": [
    "outlet_df = (train.pivot_table( values = ['sales'], columns= ['outlet_location_type',\\\n",
    "                                                             'outlet_size'],\\\n",
    "                              aggfunc= 'sum')/math.pow(10, 6)).T.reset_index()\n",
    "outlet_df"
   ]
  },
  {
   "cell_type": "code",
   "execution_count": null,
   "id": "2a3e1514",
   "metadata": {},
   "outputs": [],
   "source": [
    "outlet_df.pivot(\"outlet_location_type\", \"outlet_size\", \"sales\").plot(kind='bar', ylabel= 'Sales', title= 'Sales vs Location type | size')"
   ]
  },
  {
   "cell_type": "code",
   "execution_count": null,
   "id": "af33571f",
   "metadata": {},
   "outputs": [],
   "source": [
    "sales_by_location = outlet_df.groupby(by='outlet_location_type').agg('sum')\n",
    "sales_by_location.plot(kind= 'bar', title= 'Sales by location type', ylabel='Sales(M)')"
   ]
  },
  {
   "cell_type": "code",
   "execution_count": null,
   "id": "4fadeb49",
   "metadata": {
    "scrolled": true
   },
   "outputs": [],
   "source": [
    "location_count = train['outlet_location_type'].value_counts()\n",
    "location_count.plot(kind= 'bar', title= 'Store count by location type')\n"
   ]
  },
  {
   "cell_type": "code",
   "execution_count": null,
   "id": "423e7e51",
   "metadata": {},
   "outputs": [],
   "source": [
    "sales_by_size = outlet_df.groupby(by='outlet_size').agg('sum')\n",
    "sales_by_size.plot(kind='bar', ylabel= 'Sales(M)')"
   ]
  },
  {
   "cell_type": "code",
   "execution_count": null,
   "id": "2fff52d9",
   "metadata": {
    "scrolled": true
   },
   "outputs": [],
   "source": [
    "location_count = train['outlet_location_type'].value_counts()\n",
    "location_count.plot(kind= 'bar', title= 'Store count by location type')\n",
    "location_count"
   ]
  },
  {
   "cell_type": "code",
   "execution_count": null,
   "id": "e746a743",
   "metadata": {},
   "outputs": [],
   "source": [
    "size_count = train['outlet_size'].value_counts()\n",
    "size_count.plot(kind= 'bar', title= 'Store count by size')"
   ]
  },
  {
   "cell_type": "markdown",
   "id": "3c223185",
   "metadata": {},
   "source": [
    "### Insights on Sales vs Outlet\n",
    "From the above pivot graphs, we get the following insights:\n",
    "\n",
    "- The small stores in Tier 1 and Tier 2 locations account for exceptionally higher sales\n",
    "- Small stores in aggregation account for highest sales\n",
    "- Aggregated sales are in order (Tier 1->3->2)"
   ]
  },
  {
   "cell_type": "markdown",
   "id": "b0ee3003",
   "metadata": {},
   "source": [
    "## Helper Functions"
   ]
  },
  {
   "cell_type": "code",
   "execution_count": null,
   "id": "03b4e0d3",
   "metadata": {},
   "outputs": [],
   "source": [
    "def eval_rmse(model, train, val, train_actual= y_train, val_actual= y_val ):\n",
    "    train_pred = model.predict(train)\n",
    "    train_rmse = mean_squared_error(train_actual, train_pred, squared= False)\n",
    "#     yield(f'{model} Train RMSE: {train_rmse}')\n",
    "\n",
    "    val_pred = model.predict(val)\n",
    "    val_rmse = mean_squared_error(val_actual,val_pred, squared= False)\n",
    "#     yield(f'{model} Validation RMSE: {val_rmse}')\n",
    "    \n",
    "    return {f'{model}':(train_rmse, val_rmse)}"
   ]
  },
  {
   "cell_type": "code",
   "execution_count": null,
   "id": "6b595573",
   "metadata": {},
   "outputs": [],
   "source": [
    "def retrieve_item_cats(df, col):\n",
    "    item_cats={}\n",
    "    for x in range(4):\n",
    "        if x<3:\n",
    "            item_cats[f'item_cat_{x}'] = [df[col][idx][x] for idx in range(len(df))]\n",
    "        else:\n",
    "            item_cats[f'item_cat_{x}'] = [df[col][idx][x:] for idx in range(len(df))]\n",
    "    return item_cats\n",
    "            \n",
    "            "
   ]
  },
  {
   "cell_type": "code",
   "execution_count": null,
   "id": "a285edcc",
   "metadata": {},
   "outputs": [],
   "source": [
    "def process_data(df, cols):\n",
    "    df_ids =  pd.DataFrame(retrieve_item_cats(df, 'item_id'))\n",
    "    df_id_split = pd.concat([df, df_ids], axis= 1)\n",
    "    df_id_split['out_size'] = df['outlet_size'].map(outlet_size_map)\n",
    "    df_id_split['out_type'] = df['outlet_location_type'].map(outlet_location_map)\n",
    "    df_id_split['outlet_age']= 2021-df_id_split['outlet_year']\n",
    "    return df_id_split[cols]"
   ]
  },
  {
   "cell_type": "code",
   "execution_count": null,
   "id": "7b4744dd",
   "metadata": {},
   "outputs": [],
   "source": [
    "def export(series, name):\n",
    "    sol = pd.DataFrame(series, columns= ['Sales'])\n",
    "\n",
    "\n",
    "    sub = sol.to_csv(f'./subs/{name}.csv', index= False)"
   ]
  },
  {
   "cell_type": "code",
   "execution_count": null,
   "id": "3b8178a1",
   "metadata": {},
   "outputs": [],
   "source": [
    "def ord_encode(df):\n",
    "    outlet_size_map = {'Small': 1, 'Medium': 2, 'High': 3}\n",
    "    outlet_location_map = {'Tier 1': 3,'Tier 2': 2, 'Tier 3': 1}\n",
    "    df['out_size'] = df['outlet_size'].map(outlet_size_map)\n",
    "    df['out_type'] = df['outlet_location_type'].map(outlet_location_map)\n",
    "    return df"
   ]
  },
  {
   "cell_type": "code",
   "execution_count": null,
   "id": "206a67a2",
   "metadata": {},
   "outputs": [],
   "source": [
    "def scale_num_cols(df, scale_cols):\n",
    "    for col in scale_cols:\n",
    "        df[col+'_scale'] = (df[col] - min(df[col])) / (max(df[col]) - min(df[col]))\n",
    "    return df"
   ]
  },
  {
   "cell_type": "markdown",
   "id": "08fce283",
   "metadata": {},
   "source": [
    "## Approach 1: Innocent (without `item_id`)"
   ]
  },
  {
   "cell_type": "code",
   "execution_count": null,
   "id": "d5daf2ce",
   "metadata": {},
   "outputs": [],
   "source": [
    "len(num_cols), len(cat_cols)"
   ]
  },
  {
   "cell_type": "markdown",
   "id": "90278c85",
   "metadata": {},
   "source": [
    "### Initialize DictVectorizer for OneHotEncoding"
   ]
  },
  {
   "cell_type": "code",
   "execution_count": null,
   "id": "b40673d0",
   "metadata": {},
   "outputs": [],
   "source": [
    "\n",
    "dv = DictVectorizer(sparse=False)\n",
    "\n",
    "train_dict = x_train[x_train.columns.to_list()[1:]].to_dict(orient= 'records')\n",
    "train_dv = dv.fit_transform(train_dict)\n",
    "\n",
    "val_dict = x_val[x_train.columns.to_list()[1:]].to_dict(orient= 'records')\n",
    "val_dv = dv.transform(val_dict)"
   ]
  },
  {
   "cell_type": "code",
   "execution_count": null,
   "id": "565713ad",
   "metadata": {},
   "outputs": [],
   "source": [
    "(f'Number of columns after OneHotEncoding: {len(dv.feature_names_)}')"
   ]
  },
  {
   "cell_type": "markdown",
   "id": "efa6437f",
   "metadata": {},
   "source": [
    "### LinearRegression "
   ]
  },
  {
   "cell_type": "code",
   "execution_count": null,
   "id": "eb64c7c0",
   "metadata": {},
   "outputs": [],
   "source": [
    "lr= LinearRegression()"
   ]
  },
  {
   "cell_type": "code",
   "execution_count": null,
   "id": "bf7a2dcf",
   "metadata": {},
   "outputs": [],
   "source": [
    "lr.fit(train_dv, y_train)"
   ]
  },
  {
   "cell_type": "code",
   "execution_count": null,
   "id": "f7280505",
   "metadata": {},
   "outputs": [],
   "source": [
    "lr_train_preds = lr.predict(train_dv)\n"
   ]
  },
  {
   "cell_type": "code",
   "execution_count": null,
   "id": "9e765457",
   "metadata": {},
   "outputs": [],
   "source": [
    "lr_rmse = eval_rmse(lr, train_dv, val_dv)\n",
    "lr_rmse"
   ]
  },
  {
   "cell_type": "code",
   "execution_count": null,
   "id": "de87a0d1",
   "metadata": {},
   "outputs": [],
   "source": [
    "# # Predict on test set\n",
    "# test_dict = x_test[x_test.columns.to_list()[1:]].to_dict(orient= 'records')\n",
    "# test_dv = dv.transform(test_dict)\n",
    "\n",
    "# dt_test_preds = dt.predict(test_dv)\n",
    "\n",
    "# sol = pd.DataFrame(dt_test_preds, columns= ['Sales'])\n",
    "\n",
    "\n",
    "# sub = sol.to_csv('./subs/dt_noItemID.csv', index= False)"
   ]
  },
  {
   "cell_type": "markdown",
   "id": "62fb5624",
   "metadata": {},
   "source": [
    "### DecisionTree"
   ]
  },
  {
   "cell_type": "code",
   "execution_count": null,
   "id": "433c607b",
   "metadata": {},
   "outputs": [],
   "source": [
    "dt = DecisionTreeRegressor()"
   ]
  },
  {
   "cell_type": "code",
   "execution_count": null,
   "id": "ce903177",
   "metadata": {},
   "outputs": [],
   "source": [
    "dt.fit(train_dv, y_train)"
   ]
  },
  {
   "cell_type": "code",
   "execution_count": null,
   "id": "62efe8b9",
   "metadata": {},
   "outputs": [],
   "source": [
    "dt_train_preds = dt.predict(train_dv)\n"
   ]
  },
  {
   "cell_type": "code",
   "execution_count": null,
   "id": "bed2ef26",
   "metadata": {},
   "outputs": [],
   "source": [
    "dt_rmse = eval_rmse(dt, train_dv, val_dv)\n",
    "dt_rmse"
   ]
  },
  {
   "cell_type": "code",
   "execution_count": null,
   "id": "0197d03e",
   "metadata": {},
   "outputs": [],
   "source": [
    "# test_dict = x_test[x_test.columns.to_list()[1:]].to_dict(orient= 'records')\n",
    "# test_dv = dv.transform(test_dict)\n",
    "\n",
    "# lr_test_preds = lr.predict(test_dv)\n",
    "\n",
    "# sol = pd.DataFrame(lr_test_preds, columns= ['Sales'])\n",
    "\n",
    "\n",
    "# sub = sol.to_csv('./subs/lr_noItemID.csv', index= False)"
   ]
  },
  {
   "cell_type": "markdown",
   "id": "02e63da3",
   "metadata": {},
   "source": [
    "## Approach 2:  Better pre-processing\n",
    "Let's look at the dataset again"
   ]
  },
  {
   "cell_type": "code",
   "execution_count": null,
   "id": "6390b26f",
   "metadata": {},
   "outputs": [],
   "source": [
    "x_train.head()"
   ]
  },
  {
   "cell_type": "markdown",
   "id": "d1f583ca",
   "metadata": {},
   "source": [
    "### Observe sales based on `item_type`"
   ]
  },
  {
   "cell_type": "code",
   "execution_count": null,
   "id": "50ad85e9",
   "metadata": {},
   "outputs": [],
   "source": [
    "item_sales_df = (train[['item_type', 'sales']].groupby(by= 'item_type').agg('sum'))/math.pow(10,6)\n",
    "item_sales_df = item_sales_df.sort_values(by='sales', ascending= False)\n",
    "item_sales_df['sales_ratio'] = (item_sales_df['sales']/ item_sales_df['sales'].sum())*100\n",
    "item_sales_df"
   ]
  },
  {
   "cell_type": "code",
   "execution_count": null,
   "id": "cdc35659",
   "metadata": {},
   "outputs": [],
   "source": [
    "unique_item_types = train['item_type'].nunique()\n",
    "print(f'Unique_item_types: {unique_item_types }')\n",
    "unique_item_ids = train['item_id'].nunique()\n",
    "print(f'Unique_item_ids: {unique_item_ids }')\n"
   ]
  },
  {
   "cell_type": "markdown",
   "id": "eb9ede1a",
   "metadata": {},
   "source": [
    "### Split the `item_id` feature into more categorical parts"
   ]
  },
  {
   "cell_type": "code",
   "execution_count": null,
   "id": "b1e5f598",
   "metadata": {},
   "outputs": [],
   "source": [
    "x_train_ids = pd.DataFrame(retrieve_item_cats(x_train, 'item_id'))\n"
   ]
  },
  {
   "cell_type": "code",
   "execution_count": null,
   "id": "b82dc735",
   "metadata": {},
   "outputs": [],
   "source": [
    "x_train_ids.head()"
   ]
  },
  {
   "cell_type": "code",
   "execution_count": null,
   "id": "2b1d5203",
   "metadata": {},
   "outputs": [],
   "source": [
    "x_train_id_split = pd.concat([x_train, x_train_ids], axis= 1)"
   ]
  },
  {
   "cell_type": "code",
   "execution_count": null,
   "id": "020b23aa",
   "metadata": {},
   "outputs": [],
   "source": [
    "x_train_ids.nunique()"
   ]
  },
  {
   "cell_type": "markdown",
   "id": "569cc907",
   "metadata": {},
   "source": [
    "- We have expanded the `item_id` column now. As observed above, the unique number of values in the 4 columns should ideally be lesser than the number of unique columns when they are combined (`item_id` as a whole).   \n",
    "<br>\n",
    "\n",
    "- The number of unique values for the split columns is `(3+3+26+60)= 92`  \n",
    "<br>\n",
    "\n",
    "- Let's check for item_id as a single column."
   ]
  },
  {
   "cell_type": "code",
   "execution_count": null,
   "id": "ede6e3df",
   "metadata": {},
   "outputs": [],
   "source": [
    "x_train['item_id'].nunique()"
   ]
  },
  {
   "cell_type": "markdown",
   "id": "2878648d",
   "metadata": {},
   "source": [
    "894 unique values for `item_id`! This is bound to create too many features and mostly not be able to capture patterns"
   ]
  },
  {
   "cell_type": "code",
   "execution_count": null,
   "id": "5485f9fa",
   "metadata": {},
   "outputs": [],
   "source": [
    "item_id_counts = pd.DataFrame(train['item_id'].value_counts()).sort_index()\n",
    "item_id_counts"
   ]
  },
  {
   "cell_type": "code",
   "execution_count": null,
   "id": "9ba552cd",
   "metadata": {},
   "outputs": [],
   "source": [
    "pd.DataFrame(train.groupby(by='item_id').agg('sum')['sales'] / item_id_counts['item_id']).sort_values(by=0,ascending=False)"
   ]
  },
  {
   "cell_type": "code",
   "execution_count": null,
   "id": "c136de72",
   "metadata": {},
   "outputs": [],
   "source": [
    "x_train_id_split.head()"
   ]
  },
  {
   "cell_type": "markdown",
   "id": "c806c279",
   "metadata": {},
   "source": [
    "## Ordinal Encode `outlet_size` and `outlet_location_type`"
   ]
  },
  {
   "cell_type": "code",
   "execution_count": null,
   "id": "13650ad1",
   "metadata": {},
   "outputs": [],
   "source": [
    "outlet_size_map = {'Small': 1, 'Medium': 2, 'High': 3}\n",
    "outlet_location_map = {'Tier 1': 3,'Tier 2': 2, 'Tier 3': 1}"
   ]
  },
  {
   "cell_type": "code",
   "execution_count": null,
   "id": "439c5462",
   "metadata": {},
   "outputs": [],
   "source": [
    "x_train_id_split['out_size'] = x_train['outlet_size'].map(outlet_size_map)\n",
    "x_train_id_split['out_type'] = x_train['outlet_location_type'].map(outlet_location_map)"
   ]
  },
  {
   "cell_type": "markdown",
   "id": "467bfd45",
   "metadata": {},
   "source": [
    "### Convert `oulet_year` to `outlet_age`"
   ]
  },
  {
   "cell_type": "code",
   "execution_count": null,
   "id": "da4dfcc3",
   "metadata": {
    "scrolled": true
   },
   "outputs": [],
   "source": [
    "x_train_id_split['outlet_age']= 2021-x_train_id_split['outlet_year']\n",
    "x_train_id_split.head()"
   ]
  },
  {
   "cell_type": "code",
   "execution_count": null,
   "id": "1a60354e",
   "metadata": {},
   "outputs": [],
   "source": [
    "x_train_id_split['item_cat_3'] = x_train_id_split['item_cat_3'].astype('str')"
   ]
  },
  {
   "cell_type": "markdown",
   "id": "61f7cc8a",
   "metadata": {},
   "source": [
    "### Transformations done:\n",
    "- Split item_id -> `retrieve_item_cats`\n",
    "- Ordinally encode -> `pd.map`\n",
    "- Outlet age -> `2021 - x['outlet_year']`\n",
    "- One hot encode/DictVectorize columns -> use `cols`"
   ]
  },
  {
   "cell_type": "code",
   "execution_count": null,
   "id": "bd4237a7",
   "metadata": {},
   "outputs": [],
   "source": [
    "x_train_id_split.columns"
   ]
  },
  {
   "cell_type": "markdown",
   "id": "6bdbd64d",
   "metadata": {},
   "source": [
    "### Initial set of columns"
   ]
  },
  {
   "cell_type": "code",
   "execution_count": null,
   "id": "65bf50ee",
   "metadata": {},
   "outputs": [],
   "source": [
    "\n",
    "col = ['item_cat_0',\n",
    "       'item_cat_1', 'item_cat_2', 'item_cat_3',  'item_w', 'item_type', 'item_mrp', 'outlet_id',\n",
    "       'out_size', 'out_type','outlet_age']"
   ]
  },
  {
   "cell_type": "code",
   "execution_count": null,
   "id": "4fbf1445",
   "metadata": {},
   "outputs": [],
   "source": [
    "# train_dict_ext = x_train_id_split.to_dict(orient= 'records')\n",
    "dv_ext = DictVectorizer()\n",
    "\n",
    "train_dict_ext = x_train_id_split[col].to_dict(orient= 'records')\n",
    "train_dv_ext = dv_ext.fit_transform(train_dict_ext)\n",
    "\n",
    "# val_dict = x_val[x_train.columns.to_list()[1:]].to_dict(orient= 'records')\n",
    "# val_dv = dv.transform(val_dict)"
   ]
  },
  {
   "cell_type": "code",
   "execution_count": null,
   "id": "978ca6ef",
   "metadata": {},
   "outputs": [],
   "source": [
    "(f'Number of columns after all processing: {len(dv_ext.get_feature_names())}')"
   ]
  },
  {
   "cell_type": "markdown",
   "id": "60173001",
   "metadata": {},
   "source": [
    "#### Preprocessing validation data"
   ]
  },
  {
   "cell_type": "code",
   "execution_count": null,
   "id": "eded659a",
   "metadata": {},
   "outputs": [],
   "source": [
    "x_val.head()"
   ]
  },
  {
   "cell_type": "markdown",
   "id": "f1eeb308",
   "metadata": {},
   "source": [
    "### Perform transformations"
   ]
  },
  {
   "cell_type": "code",
   "execution_count": null,
   "id": "f7d4d5b3",
   "metadata": {},
   "outputs": [],
   "source": [
    "x_val_ids =  pd.DataFrame(retrieve_item_cats(x_val, 'item_id'))\n",
    "x_val_id_split = pd.concat([x_val, x_val_ids], axis= 1)\n",
    "x_val_id_split['out_size'] = x_val['outlet_size'].map(outlet_size_map)\n",
    "x_val_id_split['out_type'] = x_val['outlet_location_type'].map(outlet_location_map)\n",
    "x_val_id_split['outlet_age']= 2021-x_val_id_split['outlet_year']\n",
    "# x_val_id_split['item_cat_3'] = x_val_id_split['item_cat_3'].astype('str')"
   ]
  },
  {
   "cell_type": "code",
   "execution_count": null,
   "id": "807ab644",
   "metadata": {},
   "outputs": [],
   "source": [
    "x_val_id_split[col].head()"
   ]
  },
  {
   "cell_type": "code",
   "execution_count": null,
   "id": "31428ac8",
   "metadata": {},
   "outputs": [],
   "source": [
    "x_val_id_split[col].info()"
   ]
  },
  {
   "cell_type": "code",
   "execution_count": null,
   "id": "5b60d850",
   "metadata": {},
   "outputs": [],
   "source": [
    "val_dict_ext = x_val_id_split[col].to_dict(orient= 'records')\n",
    "val_dv_ext = dv_ext.transform(val_dict_ext)"
   ]
  },
  {
   "cell_type": "markdown",
   "id": "aeb644d5",
   "metadata": {},
   "source": [
    "####  Linear Regression"
   ]
  },
  {
   "cell_type": "code",
   "execution_count": null,
   "id": "a8674fbf",
   "metadata": {},
   "outputs": [],
   "source": [
    "lr_ext = LinearRegression()"
   ]
  },
  {
   "cell_type": "code",
   "execution_count": null,
   "id": "a93c78aa",
   "metadata": {},
   "outputs": [],
   "source": [
    "lr_ext.fit(train_dv_ext, y_train)"
   ]
  },
  {
   "cell_type": "code",
   "execution_count": null,
   "id": "bac2991a",
   "metadata": {},
   "outputs": [],
   "source": [
    "lr_train_preds_ext = lr_ext.predict(train_dv_ext)"
   ]
  },
  {
   "cell_type": "code",
   "execution_count": null,
   "id": "d5c8139d",
   "metadata": {},
   "outputs": [],
   "source": [
    "lr_val_preds_ext = lr_ext.predict(val_dv_ext)"
   ]
  },
  {
   "cell_type": "code",
   "execution_count": null,
   "id": "5c4a2e6b",
   "metadata": {
    "scrolled": true
   },
   "outputs": [],
   "source": [
    "print(mean_squared_error(y_train, lr_train_preds_ext, squared= False))\n",
    "print(mean_squared_error(y_train, lr_train_preds, squared= False))\n",
    "\n",
    "# eval_rmse(lr_ext, lr_train_preds_ext.reshape(-1,1), lr_val_preds_ext.reshape(-1,1))"
   ]
  },
  {
   "cell_type": "code",
   "execution_count": null,
   "id": "bc537d06",
   "metadata": {},
   "outputs": [],
   "source": [
    "lr_val_preds = lr.predict(val_dv)\n",
    "print(mean_squared_error(y_val, lr_val_preds_ext, squared=False))\n",
    "print(mean_squared_error(y_val, lr_val_preds, squared=False))"
   ]
  },
  {
   "cell_type": "markdown",
   "id": "41db03bf",
   "metadata": {},
   "source": [
    "### Feature importance for LinearRegression"
   ]
  },
  {
   "cell_type": "code",
   "execution_count": null,
   "id": "1a699b23",
   "metadata": {
    "scrolled": true
   },
   "outputs": [],
   "source": [
    "pd.DataFrame(list(zip(dv_ext.get_feature_names(), abs(lr_ext.coef_) ))).sort_values(by=1, ascending=False )[-50:]"
   ]
  },
  {
   "cell_type": "markdown",
   "id": "879c72a1",
   "metadata": {},
   "source": [
    "## Testing Models"
   ]
  },
  {
   "cell_type": "markdown",
   "id": "a8685ec7",
   "metadata": {},
   "source": [
    "### Data"
   ]
  },
  {
   "cell_type": "code",
   "execution_count": null,
   "id": "93f8799d",
   "metadata": {},
   "outputs": [],
   "source": [
    "x_test.head()\n"
   ]
  },
  {
   "cell_type": "code",
   "execution_count": null,
   "id": "9dcf18f8",
   "metadata": {},
   "outputs": [],
   "source": [
    "x_test_ids =  pd.DataFrame(retrieve_item_cats(x_test, 'item_id'))\n",
    "x_test_id_split = pd.concat([x_test, x_test_ids], axis= 1)\n",
    "x_test_id_split['out_size'] = x_test['outlet_size'].map(outlet_size_map)\n",
    "x_test_id_split['out_type'] = x_test['outlet_location_type'].map(outlet_location_map)\n",
    "x_test_id_split['outlet_age']= 2021-x_test_id_split['outlet_year']\n",
    "# x_val_id_split['item_cat_3'] = x_val_id_split['item_cat_3'].astype('str')"
   ]
  },
  {
   "cell_type": "code",
   "execution_count": null,
   "id": "ed585dc2",
   "metadata": {},
   "outputs": [],
   "source": [
    "test_dict_ext = x_test_id_split[col].to_dict(orient= 'records')\n",
    "test_dv_ext = dv_ext.transform(test_dict_ext)"
   ]
  },
  {
   "cell_type": "code",
   "execution_count": null,
   "id": "c864f4a3",
   "metadata": {},
   "outputs": [],
   "source": [
    "lr_test_preds_ext = lr_ext.predict(test_dv_ext)"
   ]
  },
  {
   "cell_type": "markdown",
   "id": "eeccb41f",
   "metadata": {},
   "source": [
    "#### Decision Trees"
   ]
  },
  {
   "cell_type": "code",
   "execution_count": null,
   "id": "95ccffc9",
   "metadata": {},
   "outputs": [],
   "source": [
    "dt_ext = DecisionTreeRegressor(max_depth= 5, max_features=10, ccp_alpha=0.25 )\n",
    "\n",
    "dt_ext.fit(train_dv_ext, y_train)"
   ]
  },
  {
   "cell_type": "code",
   "execution_count": null,
   "id": "1b9042db",
   "metadata": {},
   "outputs": [],
   "source": [
    "# pd.DataFrame(list(zip(dv_ext.get_feature_names(), abs(dt_ext.feature_importances_)))).sort_values(by= 1, ascending=False)"
   ]
  },
  {
   "cell_type": "code",
   "execution_count": null,
   "id": "cddb015e",
   "metadata": {},
   "outputs": [],
   "source": [
    "dt_train_preds_ext = dt_ext.predict(train_dv_ext)\n",
    "\n",
    "dt_val_preds_ext = dt_ext.predict(val_dv_ext)"
   ]
  },
  {
   "cell_type": "code",
   "execution_count": null,
   "id": "2ae52174",
   "metadata": {},
   "outputs": [],
   "source": [
    "print(mean_squared_error(y_train, dt_train_preds_ext, squared= False))\n",
    "print(mean_squared_error(y_val, dt_val_preds_ext, squared= False))"
   ]
  },
  {
   "cell_type": "code",
   "execution_count": null,
   "id": "14fe929c",
   "metadata": {},
   "outputs": [],
   "source": [
    "dt_test_preds_ext = dt_ext.predict(test_dv_ext)"
   ]
  },
  {
   "cell_type": "markdown",
   "id": "63169c85",
   "metadata": {},
   "source": [
    "#### Random Forests"
   ]
  },
  {
   "cell_type": "code",
   "execution_count": null,
   "id": "75e027be",
   "metadata": {},
   "outputs": [],
   "source": [
    "rf = RandomForestRegressor(n_estimators= 100, max_depth= 6)\n",
    "\n",
    "rf.fit(train_dv_ext, y_train)"
   ]
  },
  {
   "cell_type": "code",
   "execution_count": null,
   "id": "5b82b915",
   "metadata": {},
   "outputs": [],
   "source": [
    "rf_train_preds = rf.predict(train_dv_ext)\n",
    "\n",
    "rf_val_preds= rf.predict(val_dv_ext)"
   ]
  },
  {
   "cell_type": "code",
   "execution_count": null,
   "id": "9a1231f7",
   "metadata": {},
   "outputs": [],
   "source": [
    "print(mean_squared_error(y_train, rf_train_preds, squared= False))\n",
    "print(mean_squared_error(y_val, rf_val_preds, squared= False))"
   ]
  },
  {
   "cell_type": "code",
   "execution_count": null,
   "id": "00bc0c08",
   "metadata": {},
   "outputs": [],
   "source": [
    "rf_test_preds = rf.predict(test_dv_ext)"
   ]
  },
  {
   "cell_type": "markdown",
   "id": "678fc35d",
   "metadata": {},
   "source": [
    "## Fit models to entire train dataset"
   ]
  },
  {
   "cell_type": "code",
   "execution_count": null,
   "id": "0df96677",
   "metadata": {},
   "outputs": [],
   "source": [
    "col = ['item_cat_0',\n",
    "       'item_cat_1', 'item_cat_2', 'item_cat_3',  'item_w', 'item_type', 'item_mrp', 'outlet_id',\n",
    "       'out_size', 'out_type','outlet_age']\n",
    "scaled_cols = ['item_cat_0',\n",
    "       'item_cat_1', 'item_cat_2', 'item_cat_3',  'item_w_scale', 'item_type', 'item_mrp_scale', 'outlet_id',\n",
    "       'out_size', 'out_type','outlet_age_scale']\n",
    "scale_cols = ['item_w', 'item_mrp', 'outlet_age']"
   ]
  },
  {
   "cell_type": "code",
   "execution_count": null,
   "id": "da0ee85d",
   "metadata": {},
   "outputs": [],
   "source": [
    "full_train = process_data(train, col)\n",
    "full_train.head()"
   ]
  },
  {
   "cell_type": "markdown",
   "id": "d502bc6f",
   "metadata": {},
   "source": [
    "### Mutual Information - Regression"
   ]
  },
  {
   "cell_type": "code",
   "execution_count": null,
   "id": "ae89b800",
   "metadata": {},
   "outputs": [],
   "source": [
    "mi_cols = [  'item_w',  'item_mrp', \n",
    "       'out_size', 'out_type','outlet_age']\n",
    "\n",
    "X = full_train[mi_cols]\n",
    "y = train['sales']\n",
    "\n",
    "f_test, _ = f_regression(X, y)\n",
    "f_test /= np.max(f_test)\n",
    "\n",
    "mi = mutual_info_regression(X, y)\n",
    "mi /= np.max(mi)\n",
    "\n",
    "plt.figure(figsize=(15, 5))\n",
    "for i in range(5):\n",
    "    plt.subplot(1, 5, i + 1)\n",
    "    plt.scatter(X.iloc[:, i], y, edgecolor=\"black\", s=20)\n",
    "    plt.xlabel(\"$x_{}$\".format(i + 1), fontsize=14)\n",
    "    if i == 0:\n",
    "        plt.ylabel(\"$y$\", fontsize=14)\n",
    "    plt.title(\"F-test={:.2f}, MI={:.2f}\".format(f_test[i], mi[i]), fontsize=16)\n",
    "plt.show()\n",
    "\n"
   ]
  },
  {
   "cell_type": "code",
   "execution_count": null,
   "id": "6fbc5aaf",
   "metadata": {},
   "outputs": [],
   "source": [
    "list(zip(mi_cols, mi))"
   ]
  },
  {
   "cell_type": "markdown",
   "id": "1d6d230f",
   "metadata": {},
   "source": [
    "### Scale numerical columns using Min-Max Normalization"
   ]
  },
  {
   "cell_type": "code",
   "execution_count": null,
   "id": "ebb78f62",
   "metadata": {
    "scrolled": true
   },
   "outputs": [],
   "source": [
    "for col in scale_cols:\n",
    "    full_train[col+'_scale'] = (full_train[col] - min(full_train[col])) / (max(full_train[col]) - min(full_train[col]))\n",
    "    x_test_id_split[col+'_scale'] = (x_test_id_split[col] - min(x_test_id_split[col])) / (max(x_test_id_split[col]) - min(x_test_id_split[col]))\n"
   ]
  },
  {
   "cell_type": "code",
   "execution_count": null,
   "id": "2c92af6e",
   "metadata": {},
   "outputs": [],
   "source": [
    "x_test_id_split[scaled_cols].head()"
   ]
  },
  {
   "cell_type": "markdown",
   "id": "cb4f0074",
   "metadata": {},
   "source": [
    "### Create DictVectorizer instance for entire train set"
   ]
  },
  {
   "cell_type": "code",
   "execution_count": null,
   "id": "1025b0d0",
   "metadata": {},
   "outputs": [],
   "source": [
    "full_dv = DictVectorizer()\n",
    "full_train_dict = full_train[scaled_cols].to_dict(orient= 'records')\n",
    "full_train_dv = full_dv.fit_transform(full_train_dict)"
   ]
  },
  {
   "cell_type": "code",
   "execution_count": null,
   "id": "6c24eea9",
   "metadata": {},
   "outputs": [],
   "source": [
    "full_test_dict = x_test_id_split[scaled_cols].to_dict(orient= 'records')\n",
    "full_test_dv = full_dv.transform(full_test_dict)"
   ]
  },
  {
   "cell_type": "code",
   "execution_count": null,
   "id": "137e5920",
   "metadata": {},
   "outputs": [],
   "source": [
    "lr_full = LinearRegression()\n",
    "lr_full.fit(full_train_dv, train['sales'])\n",
    "\n",
    "\n",
    "lr_full_pred = lr_full.predict(full_train_dv)\n",
    "mean_squared_error(train['sales'], lr_full_pred, squared=False)"
   ]
  },
  {
   "cell_type": "code",
   "execution_count": null,
   "id": "fd68e6be",
   "metadata": {},
   "outputs": [],
   "source": [
    "dt_full = DecisionTreeRegressor(max_depth= 5, max_features=10, ccp_alpha=0.01 )\n",
    "dt_full.fit(full_train_dv, train['sales'])\n",
    "dt_full_pred = dt_full.predict(full_train_dv)\n",
    "mean_squared_error(train['sales'], dt_full_pred, squared=False)"
   ]
  },
  {
   "cell_type": "markdown",
   "id": "0d32b074",
   "metadata": {},
   "source": [
    "### Display Decision Tree split as text"
   ]
  },
  {
   "cell_type": "code",
   "execution_count": null,
   "id": "51985299",
   "metadata": {},
   "outputs": [],
   "source": [
    "print(export_text(dt_full, feature_names=full_dv.get_feature_names()))"
   ]
  },
  {
   "cell_type": "code",
   "execution_count": null,
   "id": "db9fda7e",
   "metadata": {},
   "outputs": [],
   "source": [
    "dt_full_test_pred = dt_full.predict(test_dv_ext)\n",
    "# export(dt_full_test_pred, 'dt_full')"
   ]
  },
  {
   "cell_type": "code",
   "execution_count": null,
   "id": "9ef8fa3b",
   "metadata": {},
   "outputs": [],
   "source": [
    "full_train[col].head()"
   ]
  },
  {
   "cell_type": "code",
   "execution_count": null,
   "id": "aedc6731",
   "metadata": {},
   "outputs": [],
   "source": [
    "train['sales']"
   ]
  },
  {
   "cell_type": "code",
   "execution_count": null,
   "id": "d6e41763",
   "metadata": {},
   "outputs": [],
   "source": [
    "rf_full = RandomForestRegressor(max_depth= 5, n_estimators= 50)\n",
    "rf_full.fit(full_train_dv, train['sales'])\n",
    "rf_full_pred = rf_full.predict(full_train_dv)\n",
    "mean_squared_error(train['sales'], rf_full_pred, squared=False)"
   ]
  },
  {
   "cell_type": "markdown",
   "id": "2a474397",
   "metadata": {},
   "source": [
    "### Parameter Tuning"
   ]
  },
  {
   "cell_type": "markdown",
   "id": "f24a3865",
   "metadata": {},
   "source": [
    "Tuning takes time, hence below code block is commented. The best model is used to train data"
   ]
  },
  {
   "cell_type": "code",
   "execution_count": null,
   "id": "55bea055",
   "metadata": {},
   "outputs": [],
   "source": [
    "\n",
    "# rf_tune = RandomForestRegressor()\n",
    "# distrib = {\n",
    "#     'n_estimators': [10, 50, 100, 150, 200],\n",
    "#     'max_depth': [5, 10, 15, 20],\n",
    "#     'max_features':['sqrt', 'log2', 5, 10, 15],\n",
    "#     'ccp_alpha' : [0.01, 0.05, 0.1, .05],\n",
    "#     'max_samples': [0.15, 0.25, 0.33, 0.5]\n",
    "# }\n",
    "\n",
    "# tuner = RandomizedSearchCV(rf_tune, distrib, random_state = 42)\n",
    "\n",
    "# tuner.fit(full_train_dv, train['sales'])"
   ]
  },
  {
   "cell_type": "code",
   "execution_count": null,
   "id": "6d692d44",
   "metadata": {},
   "outputs": [],
   "source": [
    "# tuner.score"
   ]
  },
  {
   "cell_type": "code",
   "execution_count": null,
   "id": "cf81a221",
   "metadata": {},
   "outputs": [],
   "source": [
    "rf_tuned = RandomForestRegressor(ccp_alpha=0.05, max_depth=15, max_features=5,\n",
    "                      max_samples=0.5, n_estimators=200)\n",
    "\n",
    "rf_tuned.fit(full_train_dv, train['sales'])\n",
    "rf_full_pred = rf_tuned.predict(full_train_dv)\n"
   ]
  },
  {
   "cell_type": "code",
   "execution_count": null,
   "id": "1fbb2541",
   "metadata": {},
   "outputs": [],
   "source": [
    "rf_rmse= mean_squared_error( train['sales'], rf_full_pred, squared= False )\n",
    "print(f'Tuned model RMSE: {round(rf_rmse, 3)}')"
   ]
  },
  {
   "cell_type": "markdown",
   "id": "95eb12a2",
   "metadata": {},
   "source": [
    "### Exporting to script\n",
    "- We shall use the above model for making predictions. The training operations are exported to `train.py` script\n",
    "<br>\n",
    "\n",
    "- Further detailing is done in the [Wiki](https://github.com/ada-nai/ag-mlcamp/wiki/Store-Sales-Prediction#model-training)\n"
   ]
  },
  {
   "cell_type": "markdown",
   "id": "43adeb36",
   "metadata": {},
   "source": [
    "### Making predictions on test set"
   ]
  },
  {
   "cell_type": "code",
   "execution_count": null,
   "id": "842ae552",
   "metadata": {},
   "outputs": [],
   "source": [
    "# rf_tuned_test_preds = rf_tuned.predict(full_test_dv)\n",
    "# export(rf_tuned_test_preds, 'rf_tuned')"
   ]
  },
  {
   "cell_type": "markdown",
   "id": "3d93738a",
   "metadata": {},
   "source": [
    "### Dump Objects"
   ]
  },
  {
   "cell_type": "code",
   "execution_count": null,
   "id": "b3f724b0",
   "metadata": {},
   "outputs": [],
   "source": [
    "# import pickle\n",
    "\n",
    "# with open('model.bin', 'wb') as outfile:\n",
    "#     pickle.dump(rf_tuned, outfile)\n",
    "    \n",
    "# with open('dv.bin', 'wb') as outfile:\n",
    "#     pickle.dump(full_dv, outfile)\n",
    "    \n",
    "# with open('test_samples.bin', 'wb') as outfile:\n",
    "#     pickle.dump(test_samples, outfile)"
   ]
  },
  {
   "cell_type": "markdown",
   "id": "6277edf4",
   "metadata": {},
   "source": [
    "## Rough Work \n",
    "\n",
    "Below are some code snippets for quick prototyping of functions.  Code further on can be ignored"
   ]
  },
  {
   "cell_type": "code",
   "execution_count": null,
   "id": "180ceb4c",
   "metadata": {},
   "outputs": [],
   "source": [
    "test_samples= eval(df.sample(15, random_state= 42).to_json(orient= 'records'))\n",
    "test_samples"
   ]
  },
  {
   "cell_type": "code",
   "execution_count": null,
   "id": "55f9a8ae",
   "metadata": {},
   "outputs": [],
   "source": [
    "pd.DataFrame(test_samples).head()"
   ]
  },
  {
   "cell_type": "code",
   "execution_count": null,
   "id": "5ad15a14",
   "metadata": {},
   "outputs": [],
   "source": [
    "def retrieve_item_cats(df, col):\n",
    "    \"\"\"\n",
    "    Split the item_id feature into categories\n",
    "    \"\"\"\n",
    "    item_cats={}\n",
    "    for x in range(4):\n",
    "#         print(x)\n",
    "        if x<3:\n",
    "            item_cats[f'item_cat_{x}'] = [df[col][loc][x] for loc in range(len(df))]\n",
    "        else:\n",
    "            item_cats[f'item_cat_{x}'] = [df[col][loc][x:] for loc in range(len(df))]\n",
    "    return item_cats\n",
    "\n",
    "def scale_num_cols(df, scale_cols):\n",
    "    for col in scale_cols:\n",
    "        df[col+'_scale'] = (df[col] - min(df[col])) / (max(df[col]) - min(df[col]))\n",
    "    return df\n",
    "\n",
    "def process_data(df, cols):\n",
    "    \"\"\"\n",
    "\n",
    "    \"\"\"\n",
    "    df = pd.DataFrame.from_dict(df).reset_index(drop= True)\n",
    "    df_ids =  pd.DataFrame(retrieve_item_cats(df, 'item_id')).reset_index(drop= True)\n",
    "    df_id_split = pd.concat([df, df_ids], axis= 1)\n",
    "#     print([len(df), len(df_ids), len(df_id_split)])\n",
    "    df_id_split['out_size'] = df['outlet_size'].map(outlet_size_map)\n",
    "    df_id_split['out_type'] = df['outlet_location_type'].map(outlet_location_map)\n",
    "    df_id_split['outlet_age']= 2021-df_id_split['outlet_year']\n",
    "    df_id_split = scale_num_cols(df_id_split, scale_cols)\n",
    "\n",
    "#     scale_num_cols(df_id_split, scale_cols)\n",
    "    return df_id_split[scaled_cols]"
   ]
  },
  {
   "cell_type": "code",
   "execution_count": null,
   "id": "4466f559",
   "metadata": {},
   "outputs": [],
   "source": [
    "scale_cols = ['item_w', 'item_mrp', 'outlet_age']\n",
    "scaled_cols = ['item_cat_0',\n",
    "       'item_cat_1', 'item_cat_2', 'item_cat_3',  'item_w_scale', 'item_type', 'item_mrp_scale', 'outlet_id',\n",
    "       'out_size', 'out_type','outlet_age_scale']\n",
    "ip = process_data(test_samples, scaled_cols)"
   ]
  },
  {
   "cell_type": "code",
   "execution_count": null,
   "id": "6d4afc5d",
   "metadata": {},
   "outputs": [],
   "source": [
    "# pd.DataFrame(test)\n",
    "pd.DataFrame(test.values())"
   ]
  }
 ],
 "metadata": {
  "kernelspec": {
   "display_name": "Python 3 (ipykernel)",
   "language": "python",
   "name": "python3"
  },
  "language_info": {
   "codemirror_mode": {
    "name": "ipython",
    "version": 3
   },
   "file_extension": ".py",
   "mimetype": "text/x-python",
   "name": "python",
   "nbconvert_exporter": "python",
   "pygments_lexer": "ipython3",
   "version": "3.8.11"
  }
 },
 "nbformat": 4,
 "nbformat_minor": 5
}
