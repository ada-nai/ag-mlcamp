{
 "cells": [
  {
   "cell_type": "markdown",
   "id": "85a9db9a",
   "metadata": {},
   "source": [
    "# Store Item Sales Prediction "
   ]
  },
  {
   "cell_type": "code",
   "execution_count": 1,
   "id": "7aeca5f5",
   "metadata": {},
   "outputs": [],
   "source": [
    "# import packages\n",
    "import os \n",
    "\n",
    "import math\n",
    "import numpy as np\n",
    "import pandas as pd\n",
    "import sklearn\n",
    "\n",
    "import matplotlib.pyplot as plt\n",
    "import seaborn as sns\n",
    "\n",
    "# from pandas_profiling import  ProfileReport\n",
    "\n",
    "from sklearn.model_selection import train_test_split\n",
    "\n",
    "from sklearn.feature_extraction import DictVectorizer\n",
    "\n",
    "\n",
    "\n",
    "from sklearn.metrics import mean_squared_error\n",
    "\n",
    "from sklearn.linear_model import LinearRegression\n",
    "from sklearn.tree import DecisionTreeRegressor\n",
    "from sklearn.tree import export_text\n",
    "from sklearn.ensemble import RandomForestRegressor\n",
    "\n",
    "# from sklearn.model_selection import RandomizedSearchCV\n",
    "\n",
    "\n"
   ]
  },
  {
   "cell_type": "code",
   "execution_count": 2,
   "id": "c898d917",
   "metadata": {},
   "outputs": [],
   "source": [
    "pd.set_option('display.precision', 3)"
   ]
  },
  {
   "cell_type": "code",
   "execution_count": 3,
   "id": "cde0c5b6",
   "metadata": {},
   "outputs": [
    {
     "data": {
      "text/plain": [
       "['.ipynb_checkpoints',\n",
       " 'dao_sales.ipynb',\n",
       " 'predict.py',\n",
       " 'sales_analysis.html',\n",
       " 'submission.csv',\n",
       " 'subs',\n",
       " 'test.csv',\n",
       " 'train.csv',\n",
       " 'train.py']"
      ]
     },
     "execution_count": 3,
     "metadata": {},
     "output_type": "execute_result"
    }
   ],
   "source": [
    "path = os.getcwd()\n",
    "os.listdir(path)"
   ]
  },
  {
   "cell_type": "code",
   "execution_count": 4,
   "id": "806e278b",
   "metadata": {},
   "outputs": [],
   "source": [
    "def std_col_names(df):\n",
    "    df.columns = df.columns.str.lower().str.strip().str.replace(' ', '_')\n",
    "    return df"
   ]
  },
  {
   "cell_type": "code",
   "execution_count": 5,
   "id": "e5aba9d5",
   "metadata": {},
   "outputs": [],
   "source": [
    "df = std_col_names(pd.read_csv('train.csv'))\n"
   ]
  },
  {
   "cell_type": "code",
   "execution_count": 6,
   "id": "aeb89c4e",
   "metadata": {},
   "outputs": [],
   "source": [
    "x_test = std_col_names(pd.read_csv('test.csv'))\n"
   ]
  },
  {
   "cell_type": "code",
   "execution_count": 7,
   "id": "8146a465",
   "metadata": {},
   "outputs": [
    {
     "data": {
      "text/html": [
       "<div>\n",
       "<style scoped>\n",
       "    .dataframe tbody tr th:only-of-type {\n",
       "        vertical-align: middle;\n",
       "    }\n",
       "\n",
       "    .dataframe tbody tr th {\n",
       "        vertical-align: top;\n",
       "    }\n",
       "\n",
       "    .dataframe thead th {\n",
       "        text-align: right;\n",
       "    }\n",
       "</style>\n",
       "<table border=\"1\" class=\"dataframe\">\n",
       "  <thead>\n",
       "    <tr style=\"text-align: right;\">\n",
       "      <th></th>\n",
       "      <th>item_id</th>\n",
       "      <th>item_w</th>\n",
       "      <th>item_type</th>\n",
       "      <th>item_mrp</th>\n",
       "      <th>outlet_id</th>\n",
       "      <th>outlet_year</th>\n",
       "      <th>outlet_size</th>\n",
       "      <th>outlet_location_type</th>\n",
       "      <th>sales</th>\n",
       "    </tr>\n",
       "  </thead>\n",
       "  <tbody>\n",
       "    <tr>\n",
       "      <th>0</th>\n",
       "      <td>FDU32</td>\n",
       "      <td>21.027</td>\n",
       "      <td>Baking Goods</td>\n",
       "      <td>197.352</td>\n",
       "      <td>OUT046</td>\n",
       "      <td>2004</td>\n",
       "      <td>Small</td>\n",
       "      <td>Tier 2</td>\n",
       "      <td>2689.458</td>\n",
       "    </tr>\n",
       "    <tr>\n",
       "      <th>1</th>\n",
       "      <td>NCT54</td>\n",
       "      <td>21.102</td>\n",
       "      <td>Meat</td>\n",
       "      <td>148.250</td>\n",
       "      <td>OUT035</td>\n",
       "      <td>1987</td>\n",
       "      <td>Small</td>\n",
       "      <td>Tier 1</td>\n",
       "      <td>3437.350</td>\n",
       "    </tr>\n",
       "    <tr>\n",
       "      <th>2</th>\n",
       "      <td>FDW08</td>\n",
       "      <td>20.882</td>\n",
       "      <td>Hard Drinks</td>\n",
       "      <td>205.465</td>\n",
       "      <td>OUT035</td>\n",
       "      <td>1999</td>\n",
       "      <td>Small</td>\n",
       "      <td>Tier 3</td>\n",
       "      <td>3129.967</td>\n",
       "    </tr>\n",
       "    <tr>\n",
       "      <th>3</th>\n",
       "      <td>FDJ22</td>\n",
       "      <td>21.050</td>\n",
       "      <td>Starchy Foods</td>\n",
       "      <td>253.418</td>\n",
       "      <td>OUT046</td>\n",
       "      <td>1996</td>\n",
       "      <td>Small</td>\n",
       "      <td>Tier 1</td>\n",
       "      <td>1306.514</td>\n",
       "    </tr>\n",
       "    <tr>\n",
       "      <th>4</th>\n",
       "      <td>FDF47</td>\n",
       "      <td>21.248</td>\n",
       "      <td>Baking Goods</td>\n",
       "      <td>240.871</td>\n",
       "      <td>OUT035</td>\n",
       "      <td>1988</td>\n",
       "      <td>Small</td>\n",
       "      <td>Tier 3</td>\n",
       "      <td>1739.770</td>\n",
       "    </tr>\n",
       "  </tbody>\n",
       "</table>\n",
       "</div>"
      ],
      "text/plain": [
       "  item_id  item_w      item_type  item_mrp outlet_id  outlet_year outlet_size  \\\n",
       "0   FDU32  21.027   Baking Goods   197.352    OUT046         2004       Small   \n",
       "1   NCT54  21.102           Meat   148.250    OUT035         1987       Small   \n",
       "2   FDW08  20.882    Hard Drinks   205.465    OUT035         1999       Small   \n",
       "3   FDJ22  21.050  Starchy Foods   253.418    OUT046         1996       Small   \n",
       "4   FDF47  21.248   Baking Goods   240.871    OUT035         1988       Small   \n",
       "\n",
       "  outlet_location_type     sales  \n",
       "0               Tier 2  2689.458  \n",
       "1               Tier 1  3437.350  \n",
       "2               Tier 3  3129.967  \n",
       "3               Tier 1  1306.514  \n",
       "4               Tier 3  1739.770  "
      ]
     },
     "execution_count": 7,
     "metadata": {},
     "output_type": "execute_result"
    }
   ],
   "source": [
    "df.head()"
   ]
  },
  {
   "cell_type": "code",
   "execution_count": 8,
   "id": "fb662f06",
   "metadata": {},
   "outputs": [
    {
     "name": "stdout",
     "output_type": "stream",
     "text": [
      "<class 'pandas.core.frame.DataFrame'>\n",
      "RangeIndex: 87864 entries, 0 to 87863\n",
      "Data columns (total 9 columns):\n",
      " #   Column                Non-Null Count  Dtype  \n",
      "---  ------                --------------  -----  \n",
      " 0   item_id               87864 non-null  object \n",
      " 1   item_w                87864 non-null  float64\n",
      " 2   item_type             87864 non-null  object \n",
      " 3   item_mrp              87864 non-null  float64\n",
      " 4   outlet_id             87864 non-null  object \n",
      " 5   outlet_year           87864 non-null  int64  \n",
      " 6   outlet_size           87864 non-null  object \n",
      " 7   outlet_location_type  87864 non-null  object \n",
      " 8   sales                 87864 non-null  float64\n",
      "dtypes: float64(3), int64(1), object(5)\n",
      "memory usage: 6.0+ MB\n"
     ]
    }
   ],
   "source": [
    "df.info()"
   ]
  },
  {
   "cell_type": "code",
   "execution_count": 9,
   "id": "2b647a2c",
   "metadata": {},
   "outputs": [
    {
     "data": {
      "text/html": [
       "<div>\n",
       "<style scoped>\n",
       "    .dataframe tbody tr th:only-of-type {\n",
       "        vertical-align: middle;\n",
       "    }\n",
       "\n",
       "    .dataframe tbody tr th {\n",
       "        vertical-align: top;\n",
       "    }\n",
       "\n",
       "    .dataframe thead th {\n",
       "        text-align: right;\n",
       "    }\n",
       "</style>\n",
       "<table border=\"1\" class=\"dataframe\">\n",
       "  <thead>\n",
       "    <tr style=\"text-align: right;\">\n",
       "      <th></th>\n",
       "      <th>item_w</th>\n",
       "      <th>item_mrp</th>\n",
       "      <th>outlet_year</th>\n",
       "      <th>sales</th>\n",
       "    </tr>\n",
       "  </thead>\n",
       "  <tbody>\n",
       "    <tr>\n",
       "      <th>count</th>\n",
       "      <td>87864.000</td>\n",
       "      <td>87864.000</td>\n",
       "      <td>87864.000</td>\n",
       "      <td>87864.000</td>\n",
       "    </tr>\n",
       "    <tr>\n",
       "      <th>mean</th>\n",
       "      <td>15.591</td>\n",
       "      <td>151.243</td>\n",
       "      <td>1999.871</td>\n",
       "      <td>1911.842</td>\n",
       "    </tr>\n",
       "    <tr>\n",
       "      <th>std</th>\n",
       "      <td>4.364</td>\n",
       "      <td>59.536</td>\n",
       "      <td>6.634</td>\n",
       "      <td>1291.386</td>\n",
       "    </tr>\n",
       "    <tr>\n",
       "      <th>min</th>\n",
       "      <td>7.993</td>\n",
       "      <td>32.910</td>\n",
       "      <td>1987.000</td>\n",
       "      <td>-1229.360</td>\n",
       "    </tr>\n",
       "    <tr>\n",
       "      <th>25%</th>\n",
       "      <td>10.969</td>\n",
       "      <td>112.423</td>\n",
       "      <td>1997.000</td>\n",
       "      <td>959.250</td>\n",
       "    </tr>\n",
       "    <tr>\n",
       "      <th>50%</th>\n",
       "      <td>15.831</td>\n",
       "      <td>145.581</td>\n",
       "      <td>1999.000</td>\n",
       "      <td>1606.308</td>\n",
       "    </tr>\n",
       "    <tr>\n",
       "      <th>75%</th>\n",
       "      <td>19.970</td>\n",
       "      <td>197.110</td>\n",
       "      <td>2004.000</td>\n",
       "      <td>2608.058</td>\n",
       "    </tr>\n",
       "    <tr>\n",
       "      <th>max</th>\n",
       "      <td>21.250</td>\n",
       "      <td>265.214</td>\n",
       "      <td>2009.000</td>\n",
       "      <td>10309.283</td>\n",
       "    </tr>\n",
       "  </tbody>\n",
       "</table>\n",
       "</div>"
      ],
      "text/plain": [
       "          item_w   item_mrp  outlet_year      sales\n",
       "count  87864.000  87864.000    87864.000  87864.000\n",
       "mean      15.591    151.243     1999.871   1911.842\n",
       "std        4.364     59.536        6.634   1291.386\n",
       "min        7.993     32.910     1987.000  -1229.360\n",
       "25%       10.969    112.423     1997.000    959.250\n",
       "50%       15.831    145.581     1999.000   1606.308\n",
       "75%       19.970    197.110     2004.000   2608.058\n",
       "max       21.250    265.214     2009.000  10309.283"
      ]
     },
     "execution_count": 9,
     "metadata": {},
     "output_type": "execute_result"
    }
   ],
   "source": [
    "df.describe()"
   ]
  },
  {
   "cell_type": "markdown",
   "id": "34517620",
   "metadata": {},
   "source": [
    "- Minimum sales value is -1230\n",
    "- Check for number of items with negative sales values\n"
   ]
  },
  {
   "cell_type": "code",
   "execution_count": 10,
   "id": "922d631d",
   "metadata": {},
   "outputs": [
    {
     "name": "stdout",
     "output_type": "stream",
     "text": [
      "Ratio of negative sales values: 0.005\n"
     ]
    }
   ],
   "source": [
    "a= (df['sales']<0).value_counts(normalize=True)\n",
    "print(f'Ratio of negative sales values: {a.loc[1]:.3f}')"
   ]
  },
  {
   "cell_type": "code",
   "execution_count": 11,
   "id": "ad6ed766",
   "metadata": {},
   "outputs": [
    {
     "data": {
      "text/plain": [
       "array([[<AxesSubplot:title={'center':'item_w'}>,\n",
       "        <AxesSubplot:title={'center':'item_mrp'}>],\n",
       "       [<AxesSubplot:title={'center':'outlet_year'}>,\n",
       "        <AxesSubplot:title={'center':'sales'}>]], dtype=object)"
      ]
     },
     "execution_count": 11,
     "metadata": {},
     "output_type": "execute_result"
    },
    {
     "data": {
      "image/png": "[encoded data removed]",
      "text/plain": [
       "<Figure size 1440x1080 with 4 Axes>"
      ]
     },
     "metadata": {
      "needs_background": "light"
     },
     "output_type": "display_data"
    }
   ],
   "source": [
    "df.hist(bins= 50, figsize= (20,15))"
   ]
  },
  {
   "cell_type": "code",
   "execution_count": 12,
   "id": "b5bd967a",
   "metadata": {},
   "outputs": [],
   "source": [
    "# profile = ProfileReport(df)\n",
    "# profile.to_file(\"sales_analysis.html\")"
   ]
  },
  {
   "cell_type": "code",
   "execution_count": 13,
   "id": "18dc64d4",
   "metadata": {},
   "outputs": [],
   "source": [
    "train, val = train_test_split(df, random_state=42, test_size=0.15)"
   ]
  },
  {
   "cell_type": "code",
   "execution_count": 14,
   "id": "cacbf2ed",
   "metadata": {},
   "outputs": [],
   "source": [
    "train = train.reset_index(drop= True)\n",
    "val=val.reset_index(drop= True)"
   ]
  },
  {
   "cell_type": "code",
   "execution_count": 15,
   "id": "0048f9f6",
   "metadata": {},
   "outputs": [],
   "source": [
    "x_train = train.drop('sales', axis= 1)\n",
    "y_train = train['sales'].copy()\n",
    "\n",
    "x_val = val.drop('sales', axis= 1)\n",
    "y_val = val['sales'].copy()"
   ]
  },
  {
   "cell_type": "code",
   "execution_count": 16,
   "id": "de903609",
   "metadata": {},
   "outputs": [
    {
     "data": {
      "text/plain": [
       "(87864, 74684, 13180)"
      ]
     },
     "execution_count": 16,
     "metadata": {},
     "output_type": "execute_result"
    }
   ],
   "source": [
    "len(df), len(x_train), len(x_val)"
   ]
  },
  {
   "cell_type": "code",
   "execution_count": 17,
   "id": "37f8a1f3",
   "metadata": {},
   "outputs": [],
   "source": [
    "num_cols = x_train.select_dtypes(include=['int64', 'float64']).columns.to_list()\n",
    "cat_cols = x_train.select_dtypes(include=['object']).columns.to_list()"
   ]
  },
  {
   "cell_type": "code",
   "execution_count": 18,
   "id": "c3bb1bdc",
   "metadata": {},
   "outputs": [
    {
     "data": {
      "text/html": [
       "<div>\n",
       "<style scoped>\n",
       "    .dataframe tbody tr th:only-of-type {\n",
       "        vertical-align: middle;\n",
       "    }\n",
       "\n",
       "    .dataframe tbody tr th {\n",
       "        vertical-align: top;\n",
       "    }\n",
       "\n",
       "    .dataframe thead th {\n",
       "        text-align: right;\n",
       "    }\n",
       "</style>\n",
       "<table border=\"1\" class=\"dataframe\">\n",
       "  <thead>\n",
       "    <tr style=\"text-align: right;\">\n",
       "      <th></th>\n",
       "      <th>outlet_location_type</th>\n",
       "      <th>outlet_size</th>\n",
       "      <th>sales</th>\n",
       "    </tr>\n",
       "  </thead>\n",
       "  <tbody>\n",
       "    <tr>\n",
       "      <th>0</th>\n",
       "      <td>Tier 1</td>\n",
       "      <td>High</td>\n",
       "      <td>6.500</td>\n",
       "    </tr>\n",
       "    <tr>\n",
       "      <th>1</th>\n",
       "      <td>Tier 1</td>\n",
       "      <td>Medium</td>\n",
       "      <td>8.360</td>\n",
       "    </tr>\n",
       "    <tr>\n",
       "      <th>2</th>\n",
       "      <td>Tier 1</td>\n",
       "      <td>Small</td>\n",
       "      <td>40.644</td>\n",
       "    </tr>\n",
       "    <tr>\n",
       "      <th>3</th>\n",
       "      <td>Tier 2</td>\n",
       "      <td>High</td>\n",
       "      <td>5.461</td>\n",
       "    </tr>\n",
       "    <tr>\n",
       "      <th>4</th>\n",
       "      <td>Tier 2</td>\n",
       "      <td>Medium</td>\n",
       "      <td>5.614</td>\n",
       "    </tr>\n",
       "    <tr>\n",
       "      <th>5</th>\n",
       "      <td>Tier 2</td>\n",
       "      <td>Small</td>\n",
       "      <td>31.998</td>\n",
       "    </tr>\n",
       "    <tr>\n",
       "      <th>6</th>\n",
       "      <td>Tier 3</td>\n",
       "      <td>High</td>\n",
       "      <td>9.746</td>\n",
       "    </tr>\n",
       "    <tr>\n",
       "      <th>7</th>\n",
       "      <td>Tier 3</td>\n",
       "      <td>Medium</td>\n",
       "      <td>26.087</td>\n",
       "    </tr>\n",
       "    <tr>\n",
       "      <th>8</th>\n",
       "      <td>Tier 3</td>\n",
       "      <td>Small</td>\n",
       "      <td>8.311</td>\n",
       "    </tr>\n",
       "  </tbody>\n",
       "</table>\n",
       "</div>"
      ],
      "text/plain": [
       "  outlet_location_type outlet_size   sales\n",
       "0               Tier 1        High   6.500\n",
       "1               Tier 1      Medium   8.360\n",
       "2               Tier 1       Small  40.644\n",
       "3               Tier 2        High   5.461\n",
       "4               Tier 2      Medium   5.614\n",
       "5               Tier 2       Small  31.998\n",
       "6               Tier 3        High   9.746\n",
       "7               Tier 3      Medium  26.087\n",
       "8               Tier 3       Small   8.311"
      ]
     },
     "execution_count": 18,
     "metadata": {},
     "output_type": "execute_result"
    }
   ],
   "source": [
    "outlet_df = (train.pivot_table( values = ['sales'], columns= ['outlet_location_type',\\\n",
    "                                                             'outlet_size'],\\\n",
    "                              aggfunc= 'sum')/math.pow(10, 6)).T.reset_index()\n",
    "outlet_df"
   ]
  },
  {
   "cell_type": "code",
   "execution_count": 19,
   "id": "2a3e1514",
   "metadata": {},
   "outputs": [
    {
     "data": {
      "text/plain": [
       "<AxesSubplot:title={'center':'Sales vs Location type | size'}, xlabel='outlet_location_type', ylabel='Sales'>"
      ]
     },
     "execution_count": 19,
     "metadata": {},
     "output_type": "execute_result"
    },
    {
     "data": {
      "image/png": "[encoded data removed]",
      "text/plain": [
       "<Figure size 432x288 with 1 Axes>"
      ]
     },
     "metadata": {
      "needs_background": "light"
     },
     "output_type": "display_data"
    }
   ],
   "source": [
    "outlet_df.pivot(\"outlet_location_type\", \"outlet_size\", \"sales\").plot(kind='bar', ylabel= 'Sales', title= 'Sales vs Location type | size')"
   ]
  },
  {
   "cell_type": "code",
   "execution_count": 20,
   "id": "af33571f",
   "metadata": {},
   "outputs": [
    {
     "data": {
      "text/plain": [
       "<AxesSubplot:title={'center':'Sales by location type'}, xlabel='outlet_location_type', ylabel='Sales(M)'>"
      ]
     },
     "execution_count": 20,
     "metadata": {},
     "output_type": "execute_result"
    },
    {
     "data": {
      "image/png": "[encoded data removed]",
      "text/plain": [
       "<Figure size 432x288 with 1 Axes>"
      ]
     },
     "metadata": {
      "needs_background": "light"
     },
     "output_type": "display_data"
    }
   ],
   "source": [
    "sales_by_location = outlet_df.groupby(by='outlet_location_type').agg('sum')\n",
    "sales_by_location.plot(kind= 'bar', title= 'Sales by location type', ylabel='Sales(M)')"
   ]
  },
  {
   "cell_type": "code",
   "execution_count": 21,
   "id": "4fadeb49",
   "metadata": {
    "scrolled": true
   },
   "outputs": [
    {
     "data": {
      "text/plain": [
       "<AxesSubplot:title={'center':'Store count by location type'}>"
      ]
     },
     "execution_count": 21,
     "metadata": {},
     "output_type": "execute_result"
    },
    {
     "data": {
      "image/png": "[encoded data removed]",
      "text/plain": [
       "<Figure size 432x288 with 1 Axes>"
      ]
     },
     "metadata": {
      "needs_background": "light"
     },
     "output_type": "display_data"
    }
   ],
   "source": [
    "location_count = train['outlet_location_type'].value_counts()\n",
    "location_count.plot(kind= 'bar', title= 'Store count by location type')\n"
   ]
  },
  {
   "cell_type": "code",
   "execution_count": 22,
   "id": "423e7e51",
   "metadata": {},
   "outputs": [
    {
     "data": {
      "text/plain": [
       "<AxesSubplot:xlabel='outlet_size', ylabel='Sales(M)'>"
      ]
     },
     "execution_count": 22,
     "metadata": {},
     "output_type": "execute_result"
    },
    {
     "data": {
      "image/png": "[encoded data removed]",
      "text/plain": [
       "<Figure size 432x288 with 1 Axes>"
      ]
     },
     "metadata": {
      "needs_background": "light"
     },
     "output_type": "display_data"
    }
   ],
   "source": [
    "sales_by_size = outlet_df.groupby(by='outlet_size').agg('sum')\n",
    "sales_by_size.plot(kind='bar', ylabel= 'Sales(M)')"
   ]
  },
  {
   "cell_type": "code",
   "execution_count": 23,
   "id": "2fff52d9",
   "metadata": {
    "scrolled": true
   },
   "outputs": [
    {
     "data": {
      "text/plain": [
       "Tier 1    28592\n",
       "Tier 3    24605\n",
       "Tier 2    21487\n",
       "Name: outlet_location_type, dtype: int64"
      ]
     },
     "execution_count": 23,
     "metadata": {},
     "output_type": "execute_result"
    },
    {
     "data": {
      "image/png": "[encoded data removed]",
      "text/plain": [
       "<Figure size 432x288 with 1 Axes>"
      ]
     },
     "metadata": {
      "needs_background": "light"
     },
     "output_type": "display_data"
    }
   ],
   "source": [
    "location_count = train['outlet_location_type'].value_counts()\n",
    "location_count.plot(kind= 'bar', title= 'Store count by location type')\n",
    "location_count"
   ]
  },
  {
   "cell_type": "code",
   "execution_count": 24,
   "id": "e746a743",
   "metadata": {},
   "outputs": [
    {
     "data": {
      "text/plain": [
       "<AxesSubplot:title={'center':'Store count by size'}>"
      ]
     },
     "execution_count": 24,
     "metadata": {},
     "output_type": "execute_result"
    },
    {
     "data": {
      "image/png": "[encoded data removed]",
      "text/plain": [
       "<Figure size 432x288 with 1 Axes>"
      ]
     },
     "metadata": {
      "needs_background": "light"
     },
     "output_type": "display_data"
    }
   ],
   "source": [
    "size_count = train['outlet_size'].value_counts()\n",
    "size_count.plot(kind= 'bar', title= 'Store count by size')"
   ]
  },
  {
   "cell_type": "markdown",
   "id": "3c223185",
   "metadata": {},
   "source": [
    "From the above pivot graphs, we get the following insights:\n",
    "\n",
    "- The small stores in Tier 1 and Tier 2 locations account for exceptionally higher sales\n",
    "- Small stores in aggregation account for highest sales\n",
    "- Aggregated sales are in order (Tier 1->3->2)"
   ]
  },
  {
   "cell_type": "code",
   "execution_count": null,
   "id": "f64a4741",
   "metadata": {},
   "outputs": [],
   "source": [
    "mi_cols = [  'item_w',  'item_mrp', \n",
    "       'out_size', 'out_type','outlet_age']\n",
    "\n",
    "import numpy as np\n",
    "import matplotlib.pyplot as plt\n",
    "from sklearn.feature_selection import f_regression, mutual_info_regression\n",
    "\n",
    "X = full_train[mi_cols]\n",
    "y = train['sales']\n",
    "\n",
    "f_test, _ = f_regression(X, y)\n",
    "f_test /= np.max(f_test)\n",
    "\n",
    "mi = mutual_info_regression(X, y)\n",
    "mi /= np.max(mi)\n",
    "\n",
    "plt.figure(figsize=(15, 5))\n",
    "for i in range(5):\n",
    "    plt.subplot(1, 5, i + 1)\n",
    "    plt.scatter(X.iloc[:, i], y, edgecolor=\"black\", s=20)\n",
    "    plt.xlabel(\"$x_{}$\".format(i + 1), fontsize=14)\n",
    "    if i == 0:\n",
    "        plt.ylabel(\"$y$\", fontsize=14)\n",
    "    plt.title(\"F-test={:.2f}, MI={:.2f}\".format(f_test[i], mi[i]), fontsize=16)\n",
    "plt.show()\n",
    "\n"
   ]
  },
  {
   "cell_type": "code",
   "execution_count": null,
   "id": "a82fc53c",
   "metadata": {},
   "outputs": [],
   "source": [
    "list(zip(mi_cols, mi))"
   ]
  },
  {
   "cell_type": "markdown",
   "id": "b0ee3003",
   "metadata": {},
   "source": [
    "## Helper Functions"
   ]
  },
  {
   "cell_type": "code",
   "execution_count": 25,
   "id": "03b4e0d3",
   "metadata": {},
   "outputs": [],
   "source": [
    "def eval_rmse(model, train, val, train_actual= y_train, val_actual= y_val ):\n",
    "    train_pred = model.predict(train)\n",
    "    train_rmse = mean_squared_error(train_actual, train_pred, squared= False)\n",
    "#     yield(f'{model} Train RMSE: {train_rmse}')\n",
    "\n",
    "    val_pred = model.predict(val)\n",
    "    val_rmse = mean_squared_error(val_actual,val_pred, squared= False)\n",
    "#     yield(f'{model} Validation RMSE: {val_rmse}')\n",
    "    \n",
    "    return {f'{model}':(train_rmse, val_rmse)}"
   ]
  },
  {
   "cell_type": "code",
   "execution_count": 26,
   "id": "6b595573",
   "metadata": {},
   "outputs": [],
   "source": [
    "def retrieve_item_cats(df, col):\n",
    "    item_cats={}\n",
    "    for x in range(4):\n",
    "        if x<3:\n",
    "            item_cats[f'item_cat_{x}'] = [df[col][idx][x] for idx in range(len(df))]\n",
    "        else:\n",
    "            item_cats[f'item_cat_{x}'] = [df[col][idx][x:] for idx in range(len(df))]\n",
    "    return item_cats\n",
    "            \n",
    "            "
   ]
  },
  {
   "cell_type": "code",
   "execution_count": 27,
   "id": "a285edcc",
   "metadata": {},
   "outputs": [],
   "source": [
    "def process_data(df, cols):\n",
    "    df_ids =  pd.DataFrame(retrieve_item_cats(df, 'item_id'))\n",
    "    df_id_split = pd.concat([df, df_ids], axis= 1)\n",
    "    df_id_split['out_size'] = df['outlet_size'].map(outlet_size_map)\n",
    "    df_id_split['out_type'] = df['outlet_location_type'].map(outlet_location_map)\n",
    "    df_id_split['outlet_age']= 2021-df_id_split['outlet_year']\n",
    "    return df_id_split[cols]"
   ]
  },
  {
   "cell_type": "code",
   "execution_count": 28,
   "id": "7b4744dd",
   "metadata": {},
   "outputs": [],
   "source": [
    "def export(series, name):\n",
    "    sol = pd.DataFrame(series, columns= ['Sales'])\n",
    "\n",
    "\n",
    "    sub = sol.to_csv(f'./subs/{name}.csv', index= False)"
   ]
  },
  {
   "cell_type": "markdown",
   "id": "08fce283",
   "metadata": {},
   "source": [
    "## Approach 1: Innocent (w/o `item_id`)"
   ]
  },
  {
   "cell_type": "code",
   "execution_count": 29,
   "id": "d5daf2ce",
   "metadata": {},
   "outputs": [
    {
     "data": {
      "text/plain": [
       "(3, 5)"
      ]
     },
     "execution_count": 29,
     "metadata": {},
     "output_type": "execute_result"
    }
   ],
   "source": [
    "len(num_cols), len(cat_cols)"
   ]
  },
  {
   "cell_type": "code",
   "execution_count": 30,
   "id": "b40673d0",
   "metadata": {},
   "outputs": [],
   "source": [
    "\n",
    "dv = DictVectorizer(sparse=False)\n",
    "\n",
    "train_dict = x_train[x_train.columns.to_list()[1:]].to_dict(orient= 'records')\n",
    "train_dv = dv.fit_transform(train_dict)\n",
    "\n",
    "val_dict = x_val[x_train.columns.to_list()[1:]].to_dict(orient= 'records')\n",
    "val_dv = dv.transform(val_dict)"
   ]
  },
  {
   "cell_type": "code",
   "execution_count": 31,
   "id": "565713ad",
   "metadata": {},
   "outputs": [
    {
     "data": {
      "text/plain": [
       "30"
      ]
     },
     "execution_count": 31,
     "metadata": {},
     "output_type": "execute_result"
    }
   ],
   "source": [
    "len(dv.feature_names_)"
   ]
  },
  {
   "cell_type": "code",
   "execution_count": 32,
   "id": "52a8235f",
   "metadata": {},
   "outputs": [
    {
     "data": {
      "text/plain": [
       "30"
      ]
     },
     "execution_count": 32,
     "metadata": {},
     "output_type": "execute_result"
    }
   ],
   "source": [
    "len(dv.feature_names_)"
   ]
  },
  {
   "cell_type": "markdown",
   "id": "efa6437f",
   "metadata": {},
   "source": [
    "### LinearRegression "
   ]
  },
  {
   "cell_type": "code",
   "execution_count": 33,
   "id": "eb64c7c0",
   "metadata": {},
   "outputs": [],
   "source": [
    "lr= LinearRegression()"
   ]
  },
  {
   "cell_type": "code",
   "execution_count": 34,
   "id": "bf7a2dcf",
   "metadata": {},
   "outputs": [
    {
     "data": {
      "text/plain": [
       "LinearRegression()"
      ]
     },
     "execution_count": 34,
     "metadata": {},
     "output_type": "execute_result"
    }
   ],
   "source": [
    "lr.fit(train_dv, y_train)"
   ]
  },
  {
   "cell_type": "code",
   "execution_count": 35,
   "id": "f7280505",
   "metadata": {},
   "outputs": [],
   "source": [
    "lr_train_preds = lr.predict(train_dv)\n"
   ]
  },
  {
   "cell_type": "code",
   "execution_count": 36,
   "id": "9e765457",
   "metadata": {},
   "outputs": [
    {
     "data": {
      "text/plain": [
       "{'LinearRegression()': (1281.3008554284595, 1284.1006661527758)}"
      ]
     },
     "execution_count": 36,
     "metadata": {},
     "output_type": "execute_result"
    }
   ],
   "source": [
    "lr_rmse = eval_rmse(lr, train_dv, val_dv)\n",
    "lr_rmse"
   ]
  },
  {
   "cell_type": "code",
   "execution_count": 37,
   "id": "de87a0d1",
   "metadata": {},
   "outputs": [],
   "source": [
    "# # Predict on test set\n",
    "# test_dict = x_test[x_test.columns.to_list()[1:]].to_dict(orient= 'records')\n",
    "# test_dv = dv.transform(test_dict)\n",
    "\n",
    "# dt_test_preds = dt.predict(test_dv)\n",
    "\n",
    "# sol = pd.DataFrame(dt_test_preds, columns= ['Sales'])\n",
    "\n",
    "\n",
    "# sub = sol.to_csv('./subs/dt_noItemID.csv', index= False)"
   ]
  },
  {
   "cell_type": "markdown",
   "id": "62fb5624",
   "metadata": {},
   "source": [
    "### DecisionTree"
   ]
  },
  {
   "cell_type": "code",
   "execution_count": 38,
   "id": "433c607b",
   "metadata": {},
   "outputs": [],
   "source": [
    "dt = DecisionTreeRegressor()"
   ]
  },
  {
   "cell_type": "code",
   "execution_count": 39,
   "id": "ce903177",
   "metadata": {},
   "outputs": [
    {
     "data": {
      "text/plain": [
       "DecisionTreeRegressor()"
      ]
     },
     "execution_count": 39,
     "metadata": {},
     "output_type": "execute_result"
    }
   ],
   "source": [
    "dt.fit(train_dv, y_train)"
   ]
  },
  {
   "cell_type": "code",
   "execution_count": 40,
   "id": "62efe8b9",
   "metadata": {},
   "outputs": [],
   "source": [
    "dt_train_preds = dt.predict(train_dv)\n"
   ]
  },
  {
   "cell_type": "code",
   "execution_count": 41,
   "id": "bed2ef26",
   "metadata": {},
   "outputs": [
    {
     "data": {
      "text/plain": [
       "{'DecisionTreeRegressor()': (0.0, 1830.690000944991)}"
      ]
     },
     "execution_count": 41,
     "metadata": {},
     "output_type": "execute_result"
    }
   ],
   "source": [
    "dt_rmse = eval_rmse(dt, train_dv, val_dv)\n",
    "dt_rmse"
   ]
  },
  {
   "cell_type": "code",
   "execution_count": 42,
   "id": "0197d03e",
   "metadata": {},
   "outputs": [],
   "source": [
    "# test_dict = x_test[x_test.columns.to_list()[1:]].to_dict(orient= 'records')\n",
    "# test_dv = dv.transform(test_dict)\n",
    "\n",
    "# lr_test_preds = lr.predict(test_dv)\n",
    "\n",
    "# sol = pd.DataFrame(lr_test_preds, columns= ['Sales'])\n",
    "\n",
    "\n",
    "# sub = sol.to_csv('./subs/lr_noItemID.csv', index= False)"
   ]
  },
  {
   "cell_type": "markdown",
   "id": "02e63da3",
   "metadata": {},
   "source": [
    "## Approach 2:  Better pre-processing"
   ]
  },
  {
   "cell_type": "markdown",
   "id": "a21ea13e",
   "metadata": {},
   "source": [
    "Let's look at the dataset again"
   ]
  },
  {
   "cell_type": "code",
   "execution_count": 43,
   "id": "6390b26f",
   "metadata": {},
   "outputs": [
    {
     "data": {
      "text/html": [
       "<div>\n",
       "<style scoped>\n",
       "    .dataframe tbody tr th:only-of-type {\n",
       "        vertical-align: middle;\n",
       "    }\n",
       "\n",
       "    .dataframe tbody tr th {\n",
       "        vertical-align: top;\n",
       "    }\n",
       "\n",
       "    .dataframe thead th {\n",
       "        text-align: right;\n",
       "    }\n",
       "</style>\n",
       "<table border=\"1\" class=\"dataframe\">\n",
       "  <thead>\n",
       "    <tr style=\"text-align: right;\">\n",
       "      <th></th>\n",
       "      <th>item_id</th>\n",
       "      <th>item_w</th>\n",
       "      <th>item_type</th>\n",
       "      <th>item_mrp</th>\n",
       "      <th>outlet_id</th>\n",
       "      <th>outlet_year</th>\n",
       "      <th>outlet_size</th>\n",
       "      <th>outlet_location_type</th>\n",
       "    </tr>\n",
       "  </thead>\n",
       "  <tbody>\n",
       "    <tr>\n",
       "      <th>0</th>\n",
       "      <td>FDI15</td>\n",
       "      <td>10.256</td>\n",
       "      <td>Starchy Foods</td>\n",
       "      <td>65.639</td>\n",
       "      <td>OUT035</td>\n",
       "      <td>1999</td>\n",
       "      <td>High</td>\n",
       "      <td>Tier 1</td>\n",
       "    </tr>\n",
       "    <tr>\n",
       "      <th>1</th>\n",
       "      <td>FDG33</td>\n",
       "      <td>17.097</td>\n",
       "      <td>Fruits and Vegetables</td>\n",
       "      <td>62.723</td>\n",
       "      <td>OUT049</td>\n",
       "      <td>1997</td>\n",
       "      <td>Medium</td>\n",
       "      <td>Tier 3</td>\n",
       "    </tr>\n",
       "    <tr>\n",
       "      <th>2</th>\n",
       "      <td>FDK21</td>\n",
       "      <td>20.459</td>\n",
       "      <td>Dairy</td>\n",
       "      <td>169.515</td>\n",
       "      <td>OUT013</td>\n",
       "      <td>2009</td>\n",
       "      <td>Small</td>\n",
       "      <td>Tier 2</td>\n",
       "    </tr>\n",
       "    <tr>\n",
       "      <th>3</th>\n",
       "      <td>FDR58</td>\n",
       "      <td>17.485</td>\n",
       "      <td>Meat</td>\n",
       "      <td>185.331</td>\n",
       "      <td>OUT046</td>\n",
       "      <td>2004</td>\n",
       "      <td>Small</td>\n",
       "      <td>Tier 3</td>\n",
       "    </tr>\n",
       "    <tr>\n",
       "      <th>4</th>\n",
       "      <td>FDX33</td>\n",
       "      <td>9.363</td>\n",
       "      <td>Baking Goods</td>\n",
       "      <td>132.951</td>\n",
       "      <td>OUT035</td>\n",
       "      <td>2003</td>\n",
       "      <td>Small</td>\n",
       "      <td>Tier 2</td>\n",
       "    </tr>\n",
       "  </tbody>\n",
       "</table>\n",
       "</div>"
      ],
      "text/plain": [
       "  item_id  item_w              item_type  item_mrp outlet_id  outlet_year  \\\n",
       "0   FDI15  10.256          Starchy Foods    65.639    OUT035         1999   \n",
       "1   FDG33  17.097  Fruits and Vegetables    62.723    OUT049         1997   \n",
       "2   FDK21  20.459                  Dairy   169.515    OUT013         2009   \n",
       "3   FDR58  17.485                   Meat   185.331    OUT046         2004   \n",
       "4   FDX33   9.363           Baking Goods   132.951    OUT035         2003   \n",
       "\n",
       "  outlet_size outlet_location_type  \n",
       "0        High               Tier 1  \n",
       "1      Medium               Tier 3  \n",
       "2       Small               Tier 2  \n",
       "3       Small               Tier 3  \n",
       "4       Small               Tier 2  "
      ]
     },
     "execution_count": 43,
     "metadata": {},
     "output_type": "execute_result"
    }
   ],
   "source": [
    "x_train.head()"
   ]
  },
  {
   "cell_type": "code",
   "execution_count": 44,
   "id": "50ad85e9",
   "metadata": {},
   "outputs": [
    {
     "data": {
      "text/html": [
       "<div>\n",
       "<style scoped>\n",
       "    .dataframe tbody tr th:only-of-type {\n",
       "        vertical-align: middle;\n",
       "    }\n",
       "\n",
       "    .dataframe tbody tr th {\n",
       "        vertical-align: top;\n",
       "    }\n",
       "\n",
       "    .dataframe thead th {\n",
       "        text-align: right;\n",
       "    }\n",
       "</style>\n",
       "<table border=\"1\" class=\"dataframe\">\n",
       "  <thead>\n",
       "    <tr style=\"text-align: right;\">\n",
       "      <th></th>\n",
       "      <th>sales</th>\n",
       "      <th>sales_ratio</th>\n",
       "    </tr>\n",
       "    <tr>\n",
       "      <th>item_type</th>\n",
       "      <th></th>\n",
       "      <th></th>\n",
       "    </tr>\n",
       "  </thead>\n",
       "  <tbody>\n",
       "    <tr>\n",
       "      <th>Baking Goods</th>\n",
       "      <td>24.591</td>\n",
       "      <td>17.231</td>\n",
       "    </tr>\n",
       "    <tr>\n",
       "      <th>Fruits and Vegetables</th>\n",
       "      <td>22.017</td>\n",
       "      <td>15.427</td>\n",
       "    </tr>\n",
       "    <tr>\n",
       "      <th>Meat</th>\n",
       "      <td>13.212</td>\n",
       "      <td>9.258</td>\n",
       "    </tr>\n",
       "    <tr>\n",
       "      <th>Snack Foods</th>\n",
       "      <td>12.611</td>\n",
       "      <td>8.836</td>\n",
       "    </tr>\n",
       "    <tr>\n",
       "      <th>Household</th>\n",
       "      <td>9.612</td>\n",
       "      <td>6.735</td>\n",
       "    </tr>\n",
       "    <tr>\n",
       "      <th>Soft Drinks</th>\n",
       "      <td>9.221</td>\n",
       "      <td>6.461</td>\n",
       "    </tr>\n",
       "    <tr>\n",
       "      <th>Frozen Foods</th>\n",
       "      <td>8.421</td>\n",
       "      <td>5.900</td>\n",
       "    </tr>\n",
       "    <tr>\n",
       "      <th>Canned</th>\n",
       "      <td>7.366</td>\n",
       "      <td>5.161</td>\n",
       "    </tr>\n",
       "    <tr>\n",
       "      <th>Others</th>\n",
       "      <td>5.953</td>\n",
       "      <td>4.171</td>\n",
       "    </tr>\n",
       "    <tr>\n",
       "      <th>Breads</th>\n",
       "      <td>5.945</td>\n",
       "      <td>4.166</td>\n",
       "    </tr>\n",
       "    <tr>\n",
       "      <th>Dairy</th>\n",
       "      <td>5.910</td>\n",
       "      <td>4.141</td>\n",
       "    </tr>\n",
       "    <tr>\n",
       "      <th>Hard Drinks</th>\n",
       "      <td>5.314</td>\n",
       "      <td>3.723</td>\n",
       "    </tr>\n",
       "    <tr>\n",
       "      <th>Starchy Foods</th>\n",
       "      <td>4.827</td>\n",
       "      <td>3.382</td>\n",
       "    </tr>\n",
       "    <tr>\n",
       "      <th>Health and Hygiene</th>\n",
       "      <td>4.711</td>\n",
       "      <td>3.301</td>\n",
       "    </tr>\n",
       "    <tr>\n",
       "      <th>Seafood</th>\n",
       "      <td>1.907</td>\n",
       "      <td>1.336</td>\n",
       "    </tr>\n",
       "    <tr>\n",
       "      <th>Breakfast</th>\n",
       "      <td>1.100</td>\n",
       "      <td>0.771</td>\n",
       "    </tr>\n",
       "  </tbody>\n",
       "</table>\n",
       "</div>"
      ],
      "text/plain": [
       "                        sales  sales_ratio\n",
       "item_type                                 \n",
       "Baking Goods           24.591       17.231\n",
       "Fruits and Vegetables  22.017       15.427\n",
       "Meat                   13.212        9.258\n",
       "Snack Foods            12.611        8.836\n",
       "Household               9.612        6.735\n",
       "Soft Drinks             9.221        6.461\n",
       "Frozen Foods            8.421        5.900\n",
       "Canned                  7.366        5.161\n",
       "Others                  5.953        4.171\n",
       "Breads                  5.945        4.166\n",
       "Dairy                   5.910        4.141\n",
       "Hard Drinks             5.314        3.723\n",
       "Starchy Foods           4.827        3.382\n",
       "Health and Hygiene      4.711        3.301\n",
       "Seafood                 1.907        1.336\n",
       "Breakfast               1.100        0.771"
      ]
     },
     "execution_count": 44,
     "metadata": {},
     "output_type": "execute_result"
    }
   ],
   "source": [
    "item_sales_df = (train[['item_type', 'sales']].groupby(by= 'item_type').agg('sum'))/math.pow(10,6)\n",
    "item_sales_df = item_sales_df.sort_values(by='sales', ascending= False)\n",
    "item_sales_df['sales_ratio'] = (item_sales_df['sales']/ item_sales_df['sales'].sum())*100\n",
    "item_sales_df"
   ]
  },
  {
   "cell_type": "code",
   "execution_count": 45,
   "id": "cdc35659",
   "metadata": {},
   "outputs": [
    {
     "name": "stdout",
     "output_type": "stream",
     "text": [
      "unique_item_types: 16\n",
      "unique_item_ids: 894\n"
     ]
    }
   ],
   "source": [
    "unique_item_types = train['item_type'].nunique()\n",
    "print(f'unique_item_types: {unique_item_types }')\n",
    "unique_item_ids = train['item_id'].nunique()\n",
    "print(f'unique_item_ids: {unique_item_ids }')\n"
   ]
  },
  {
   "cell_type": "code",
   "execution_count": null,
   "id": "7cf7df85",
   "metadata": {},
   "outputs": [],
   "source": []
  },
  {
   "cell_type": "code",
   "execution_count": 46,
   "id": "b1e5f598",
   "metadata": {},
   "outputs": [],
   "source": [
    "x_train_ids = pd.DataFrame(retrieve_item_cats(x_train, 'item_id'))\n"
   ]
  },
  {
   "cell_type": "code",
   "execution_count": 47,
   "id": "b82dc735",
   "metadata": {},
   "outputs": [
    {
     "data": {
      "text/html": [
       "<div>\n",
       "<style scoped>\n",
       "    .dataframe tbody tr th:only-of-type {\n",
       "        vertical-align: middle;\n",
       "    }\n",
       "\n",
       "    .dataframe tbody tr th {\n",
       "        vertical-align: top;\n",
       "    }\n",
       "\n",
       "    .dataframe thead th {\n",
       "        text-align: right;\n",
       "    }\n",
       "</style>\n",
       "<table border=\"1\" class=\"dataframe\">\n",
       "  <thead>\n",
       "    <tr style=\"text-align: right;\">\n",
       "      <th></th>\n",
       "      <th>item_cat_0</th>\n",
       "      <th>item_cat_1</th>\n",
       "      <th>item_cat_2</th>\n",
       "      <th>item_cat_3</th>\n",
       "    </tr>\n",
       "  </thead>\n",
       "  <tbody>\n",
       "    <tr>\n",
       "      <th>0</th>\n",
       "      <td>F</td>\n",
       "      <td>D</td>\n",
       "      <td>I</td>\n",
       "      <td>15</td>\n",
       "    </tr>\n",
       "    <tr>\n",
       "      <th>1</th>\n",
       "      <td>F</td>\n",
       "      <td>D</td>\n",
       "      <td>G</td>\n",
       "      <td>33</td>\n",
       "    </tr>\n",
       "    <tr>\n",
       "      <th>2</th>\n",
       "      <td>F</td>\n",
       "      <td>D</td>\n",
       "      <td>K</td>\n",
       "      <td>21</td>\n",
       "    </tr>\n",
       "    <tr>\n",
       "      <th>3</th>\n",
       "      <td>F</td>\n",
       "      <td>D</td>\n",
       "      <td>R</td>\n",
       "      <td>58</td>\n",
       "    </tr>\n",
       "    <tr>\n",
       "      <th>4</th>\n",
       "      <td>F</td>\n",
       "      <td>D</td>\n",
       "      <td>X</td>\n",
       "      <td>33</td>\n",
       "    </tr>\n",
       "  </tbody>\n",
       "</table>\n",
       "</div>"
      ],
      "text/plain": [
       "  item_cat_0 item_cat_1 item_cat_2 item_cat_3\n",
       "0          F          D          I         15\n",
       "1          F          D          G         33\n",
       "2          F          D          K         21\n",
       "3          F          D          R         58\n",
       "4          F          D          X         33"
      ]
     },
     "execution_count": 47,
     "metadata": {},
     "output_type": "execute_result"
    }
   ],
   "source": [
    "x_train_ids.head()"
   ]
  },
  {
   "cell_type": "code",
   "execution_count": 48,
   "id": "2b1d5203",
   "metadata": {},
   "outputs": [],
   "source": [
    "x_train_id_split = pd.concat([x_train, x_train_ids], axis= 1)"
   ]
  },
  {
   "cell_type": "code",
   "execution_count": 49,
   "id": "020b23aa",
   "metadata": {},
   "outputs": [
    {
     "data": {
      "text/plain": [
       "item_cat_0     3\n",
       "item_cat_1     3\n",
       "item_cat_2    26\n",
       "item_cat_3    60\n",
       "dtype: int64"
      ]
     },
     "execution_count": 49,
     "metadata": {},
     "output_type": "execute_result"
    }
   ],
   "source": [
    "x_train_ids.nunique()"
   ]
  },
  {
   "cell_type": "markdown",
   "id": "569cc907",
   "metadata": {},
   "source": [
    "We have expanded the `item_id` column now. As observed above, the unique number of values in the 4 columns should ideally be lesser than the number of unique columns when they are combined (`item_id` as a whole). \n",
    "\n",
    "The number of unique values for the split columns is (3+3+26+60)= 92\n",
    "\n",
    "Let's check for item_id as a single column."
   ]
  },
  {
   "cell_type": "code",
   "execution_count": 50,
   "id": "ede6e3df",
   "metadata": {},
   "outputs": [
    {
     "data": {
      "text/plain": [
       "894"
      ]
     },
     "execution_count": 50,
     "metadata": {},
     "output_type": "execute_result"
    }
   ],
   "source": [
    "x_train['item_id'].nunique()"
   ]
  },
  {
   "cell_type": "markdown",
   "id": "2878648d",
   "metadata": {},
   "source": [
    "894 unique values for `item_id`!"
   ]
  },
  {
   "cell_type": "code",
   "execution_count": 51,
   "id": "5485f9fa",
   "metadata": {},
   "outputs": [
    {
     "data": {
      "text/html": [
       "<div>\n",
       "<style scoped>\n",
       "    .dataframe tbody tr th:only-of-type {\n",
       "        vertical-align: middle;\n",
       "    }\n",
       "\n",
       "    .dataframe tbody tr th {\n",
       "        vertical-align: top;\n",
       "    }\n",
       "\n",
       "    .dataframe thead th {\n",
       "        text-align: right;\n",
       "    }\n",
       "</style>\n",
       "<table border=\"1\" class=\"dataframe\">\n",
       "  <thead>\n",
       "    <tr style=\"text-align: right;\">\n",
       "      <th></th>\n",
       "      <th>item_id</th>\n",
       "    </tr>\n",
       "  </thead>\n",
       "  <tbody>\n",
       "    <tr>\n",
       "      <th>DRA12</th>\n",
       "      <td>63</td>\n",
       "    </tr>\n",
       "    <tr>\n",
       "      <th>DRA24</th>\n",
       "      <td>13</td>\n",
       "    </tr>\n",
       "    <tr>\n",
       "      <th>DRA59</th>\n",
       "      <td>87</td>\n",
       "    </tr>\n",
       "    <tr>\n",
       "      <th>DRB13</th>\n",
       "      <td>48</td>\n",
       "    </tr>\n",
       "    <tr>\n",
       "      <th>DRB24</th>\n",
       "      <td>9</td>\n",
       "    </tr>\n",
       "    <tr>\n",
       "      <th>...</th>\n",
       "      <td>...</td>\n",
       "    </tr>\n",
       "    <tr>\n",
       "      <th>NCZ29</th>\n",
       "      <td>22</td>\n",
       "    </tr>\n",
       "    <tr>\n",
       "      <th>NCZ41</th>\n",
       "      <td>145</td>\n",
       "    </tr>\n",
       "    <tr>\n",
       "      <th>NCZ42</th>\n",
       "      <td>22</td>\n",
       "    </tr>\n",
       "    <tr>\n",
       "      <th>NCZ53</th>\n",
       "      <td>159</td>\n",
       "    </tr>\n",
       "    <tr>\n",
       "      <th>NCZ54</th>\n",
       "      <td>45</td>\n",
       "    </tr>\n",
       "  </tbody>\n",
       "</table>\n",
       "<p>894 rows × 1 columns</p>\n",
       "</div>"
      ],
      "text/plain": [
       "       item_id\n",
       "DRA12       63\n",
       "DRA24       13\n",
       "DRA59       87\n",
       "DRB13       48\n",
       "DRB24        9\n",
       "...        ...\n",
       "NCZ29       22\n",
       "NCZ41      145\n",
       "NCZ42       22\n",
       "NCZ53      159\n",
       "NCZ54       45\n",
       "\n",
       "[894 rows x 1 columns]"
      ]
     },
     "execution_count": 51,
     "metadata": {},
     "output_type": "execute_result"
    }
   ],
   "source": [
    "item_id_counts = pd.DataFrame(train['item_id'].value_counts()).sort_index()\n",
    "item_id_counts"
   ]
  },
  {
   "cell_type": "code",
   "execution_count": 52,
   "id": "9ba552cd",
   "metadata": {},
   "outputs": [
    {
     "data": {
      "text/html": [
       "<div>\n",
       "<style scoped>\n",
       "    .dataframe tbody tr th:only-of-type {\n",
       "        vertical-align: middle;\n",
       "    }\n",
       "\n",
       "    .dataframe tbody tr th {\n",
       "        vertical-align: top;\n",
       "    }\n",
       "\n",
       "    .dataframe thead th {\n",
       "        text-align: right;\n",
       "    }\n",
       "</style>\n",
       "<table border=\"1\" class=\"dataframe\">\n",
       "  <thead>\n",
       "    <tr style=\"text-align: right;\">\n",
       "      <th></th>\n",
       "      <th>0</th>\n",
       "    </tr>\n",
       "    <tr>\n",
       "      <th>item_id</th>\n",
       "      <th></th>\n",
       "    </tr>\n",
       "  </thead>\n",
       "  <tbody>\n",
       "    <tr>\n",
       "      <th>NCG18</th>\n",
       "      <td>3532.192</td>\n",
       "    </tr>\n",
       "    <tr>\n",
       "      <th>FDZ16</th>\n",
       "      <td>3161.893</td>\n",
       "    </tr>\n",
       "    <tr>\n",
       "      <th>NCG55</th>\n",
       "      <td>3144.762</td>\n",
       "    </tr>\n",
       "    <tr>\n",
       "      <th>DRG25</th>\n",
       "      <td>3102.795</td>\n",
       "    </tr>\n",
       "    <tr>\n",
       "      <th>DRC27</th>\n",
       "      <td>3100.625</td>\n",
       "    </tr>\n",
       "    <tr>\n",
       "      <th>...</th>\n",
       "      <td>...</td>\n",
       "    </tr>\n",
       "    <tr>\n",
       "      <th>NCY29</th>\n",
       "      <td>1168.668</td>\n",
       "    </tr>\n",
       "    <tr>\n",
       "      <th>NCY53</th>\n",
       "      <td>1153.821</td>\n",
       "    </tr>\n",
       "    <tr>\n",
       "      <th>FDQ47</th>\n",
       "      <td>1149.351</td>\n",
       "    </tr>\n",
       "    <tr>\n",
       "      <th>FDB05</th>\n",
       "      <td>1142.481</td>\n",
       "    </tr>\n",
       "    <tr>\n",
       "      <th>FDI12</th>\n",
       "      <td>938.457</td>\n",
       "    </tr>\n",
       "  </tbody>\n",
       "</table>\n",
       "<p>894 rows × 1 columns</p>\n",
       "</div>"
      ],
      "text/plain": [
       "                0\n",
       "item_id          \n",
       "NCG18    3532.192\n",
       "FDZ16    3161.893\n",
       "NCG55    3144.762\n",
       "DRG25    3102.795\n",
       "DRC27    3100.625\n",
       "...           ...\n",
       "NCY29    1168.668\n",
       "NCY53    1153.821\n",
       "FDQ47    1149.351\n",
       "FDB05    1142.481\n",
       "FDI12     938.457\n",
       "\n",
       "[894 rows x 1 columns]"
      ]
     },
     "execution_count": 52,
     "metadata": {},
     "output_type": "execute_result"
    }
   ],
   "source": [
    "pd.DataFrame(train.groupby(by='item_id').agg('sum')['sales'] / item_id_counts['item_id']).sort_values(by=0,ascending=False)"
   ]
  },
  {
   "cell_type": "code",
   "execution_count": 53,
   "id": "c136de72",
   "metadata": {},
   "outputs": [
    {
     "data": {
      "text/html": [
       "<div>\n",
       "<style scoped>\n",
       "    .dataframe tbody tr th:only-of-type {\n",
       "        vertical-align: middle;\n",
       "    }\n",
       "\n",
       "    .dataframe tbody tr th {\n",
       "        vertical-align: top;\n",
       "    }\n",
       "\n",
       "    .dataframe thead th {\n",
       "        text-align: right;\n",
       "    }\n",
       "</style>\n",
       "<table border=\"1\" class=\"dataframe\">\n",
       "  <thead>\n",
       "    <tr style=\"text-align: right;\">\n",
       "      <th></th>\n",
       "      <th>item_id</th>\n",
       "      <th>item_w</th>\n",
       "      <th>item_type</th>\n",
       "      <th>item_mrp</th>\n",
       "      <th>outlet_id</th>\n",
       "      <th>outlet_year</th>\n",
       "      <th>outlet_size</th>\n",
       "      <th>outlet_location_type</th>\n",
       "      <th>item_cat_0</th>\n",
       "      <th>item_cat_1</th>\n",
       "      <th>item_cat_2</th>\n",
       "      <th>item_cat_3</th>\n",
       "    </tr>\n",
       "  </thead>\n",
       "  <tbody>\n",
       "    <tr>\n",
       "      <th>0</th>\n",
       "      <td>FDI15</td>\n",
       "      <td>10.256</td>\n",
       "      <td>Starchy Foods</td>\n",
       "      <td>65.639</td>\n",
       "      <td>OUT035</td>\n",
       "      <td>1999</td>\n",
       "      <td>High</td>\n",
       "      <td>Tier 1</td>\n",
       "      <td>F</td>\n",
       "      <td>D</td>\n",
       "      <td>I</td>\n",
       "      <td>15</td>\n",
       "    </tr>\n",
       "    <tr>\n",
       "      <th>1</th>\n",
       "      <td>FDG33</td>\n",
       "      <td>17.097</td>\n",
       "      <td>Fruits and Vegetables</td>\n",
       "      <td>62.723</td>\n",
       "      <td>OUT049</td>\n",
       "      <td>1997</td>\n",
       "      <td>Medium</td>\n",
       "      <td>Tier 3</td>\n",
       "      <td>F</td>\n",
       "      <td>D</td>\n",
       "      <td>G</td>\n",
       "      <td>33</td>\n",
       "    </tr>\n",
       "    <tr>\n",
       "      <th>2</th>\n",
       "      <td>FDK21</td>\n",
       "      <td>20.459</td>\n",
       "      <td>Dairy</td>\n",
       "      <td>169.515</td>\n",
       "      <td>OUT013</td>\n",
       "      <td>2009</td>\n",
       "      <td>Small</td>\n",
       "      <td>Tier 2</td>\n",
       "      <td>F</td>\n",
       "      <td>D</td>\n",
       "      <td>K</td>\n",
       "      <td>21</td>\n",
       "    </tr>\n",
       "    <tr>\n",
       "      <th>3</th>\n",
       "      <td>FDR58</td>\n",
       "      <td>17.485</td>\n",
       "      <td>Meat</td>\n",
       "      <td>185.331</td>\n",
       "      <td>OUT046</td>\n",
       "      <td>2004</td>\n",
       "      <td>Small</td>\n",
       "      <td>Tier 3</td>\n",
       "      <td>F</td>\n",
       "      <td>D</td>\n",
       "      <td>R</td>\n",
       "      <td>58</td>\n",
       "    </tr>\n",
       "    <tr>\n",
       "      <th>4</th>\n",
       "      <td>FDX33</td>\n",
       "      <td>9.363</td>\n",
       "      <td>Baking Goods</td>\n",
       "      <td>132.951</td>\n",
       "      <td>OUT035</td>\n",
       "      <td>2003</td>\n",
       "      <td>Small</td>\n",
       "      <td>Tier 2</td>\n",
       "      <td>F</td>\n",
       "      <td>D</td>\n",
       "      <td>X</td>\n",
       "      <td>33</td>\n",
       "    </tr>\n",
       "  </tbody>\n",
       "</table>\n",
       "</div>"
      ],
      "text/plain": [
       "  item_id  item_w              item_type  item_mrp outlet_id  outlet_year  \\\n",
       "0   FDI15  10.256          Starchy Foods    65.639    OUT035         1999   \n",
       "1   FDG33  17.097  Fruits and Vegetables    62.723    OUT049         1997   \n",
       "2   FDK21  20.459                  Dairy   169.515    OUT013         2009   \n",
       "3   FDR58  17.485                   Meat   185.331    OUT046         2004   \n",
       "4   FDX33   9.363           Baking Goods   132.951    OUT035         2003   \n",
       "\n",
       "  outlet_size outlet_location_type item_cat_0 item_cat_1 item_cat_2 item_cat_3  \n",
       "0        High               Tier 1          F          D          I         15  \n",
       "1      Medium               Tier 3          F          D          G         33  \n",
       "2       Small               Tier 2          F          D          K         21  \n",
       "3       Small               Tier 3          F          D          R         58  \n",
       "4       Small               Tier 2          F          D          X         33  "
      ]
     },
     "execution_count": 53,
     "metadata": {},
     "output_type": "execute_result"
    }
   ],
   "source": [
    "x_train_id_split.head()"
   ]
  },
  {
   "cell_type": "code",
   "execution_count": 54,
   "id": "13650ad1",
   "metadata": {},
   "outputs": [],
   "source": [
    "outlet_size_map = {'Small': 1, 'Medium': 2, 'High': 3}\n",
    "outlet_location_map = {'Tier 1': 3,'Tier 2': 2, 'Tier 3': 1}"
   ]
  },
  {
   "cell_type": "code",
   "execution_count": 55,
   "id": "439c5462",
   "metadata": {},
   "outputs": [],
   "source": [
    "x_train_id_split['out_size'] = x_train['outlet_size'].map(outlet_size_map)\n",
    "x_train_id_split['out_type'] = x_train['outlet_location_type'].map(outlet_location_map)"
   ]
  },
  {
   "cell_type": "code",
   "execution_count": 56,
   "id": "9b9bb41c",
   "metadata": {},
   "outputs": [],
   "source": [
    "def ord_encode(df):\n",
    "    outlet_size_map = {'Small': 1, 'Medium': 2, 'High': 3}\n",
    "    outlet_location_map = {'Tier 1': 3,'Tier 2': 2, 'Tier 3': 1}\n",
    "    df['out_size'] = df['outlet_size'].map(outlet_size_map)\n",
    "    df['out_type'] = df['outlet_location_type'].map(outlet_location_map)\n",
    "    return df"
   ]
  },
  {
   "cell_type": "code",
   "execution_count": null,
   "id": "bbee6bf9",
   "metadata": {},
   "outputs": [],
   "source": []
  },
  {
   "cell_type": "code",
   "execution_count": 57,
   "id": "da4dfcc3",
   "metadata": {
    "scrolled": true
   },
   "outputs": [
    {
     "data": {
      "text/html": [
       "<div>\n",
       "<style scoped>\n",
       "    .dataframe tbody tr th:only-of-type {\n",
       "        vertical-align: middle;\n",
       "    }\n",
       "\n",
       "    .dataframe tbody tr th {\n",
       "        vertical-align: top;\n",
       "    }\n",
       "\n",
       "    .dataframe thead th {\n",
       "        text-align: right;\n",
       "    }\n",
       "</style>\n",
       "<table border=\"1\" class=\"dataframe\">\n",
       "  <thead>\n",
       "    <tr style=\"text-align: right;\">\n",
       "      <th></th>\n",
       "      <th>item_id</th>\n",
       "      <th>item_w</th>\n",
       "      <th>item_type</th>\n",
       "      <th>item_mrp</th>\n",
       "      <th>outlet_id</th>\n",
       "      <th>outlet_year</th>\n",
       "      <th>outlet_size</th>\n",
       "      <th>outlet_location_type</th>\n",
       "      <th>item_cat_0</th>\n",
       "      <th>item_cat_1</th>\n",
       "      <th>item_cat_2</th>\n",
       "      <th>item_cat_3</th>\n",
       "      <th>out_size</th>\n",
       "      <th>out_type</th>\n",
       "      <th>outlet_age</th>\n",
       "    </tr>\n",
       "  </thead>\n",
       "  <tbody>\n",
       "    <tr>\n",
       "      <th>0</th>\n",
       "      <td>FDI15</td>\n",
       "      <td>10.256</td>\n",
       "      <td>Starchy Foods</td>\n",
       "      <td>65.639</td>\n",
       "      <td>OUT035</td>\n",
       "      <td>1999</td>\n",
       "      <td>High</td>\n",
       "      <td>Tier 1</td>\n",
       "      <td>F</td>\n",
       "      <td>D</td>\n",
       "      <td>I</td>\n",
       "      <td>15</td>\n",
       "      <td>3</td>\n",
       "      <td>3</td>\n",
       "      <td>22</td>\n",
       "    </tr>\n",
       "    <tr>\n",
       "      <th>1</th>\n",
       "      <td>FDG33</td>\n",
       "      <td>17.097</td>\n",
       "      <td>Fruits and Vegetables</td>\n",
       "      <td>62.723</td>\n",
       "      <td>OUT049</td>\n",
       "      <td>1997</td>\n",
       "      <td>Medium</td>\n",
       "      <td>Tier 3</td>\n",
       "      <td>F</td>\n",
       "      <td>D</td>\n",
       "      <td>G</td>\n",
       "      <td>33</td>\n",
       "      <td>2</td>\n",
       "      <td>1</td>\n",
       "      <td>24</td>\n",
       "    </tr>\n",
       "    <tr>\n",
       "      <th>2</th>\n",
       "      <td>FDK21</td>\n",
       "      <td>20.459</td>\n",
       "      <td>Dairy</td>\n",
       "      <td>169.515</td>\n",
       "      <td>OUT013</td>\n",
       "      <td>2009</td>\n",
       "      <td>Small</td>\n",
       "      <td>Tier 2</td>\n",
       "      <td>F</td>\n",
       "      <td>D</td>\n",
       "      <td>K</td>\n",
       "      <td>21</td>\n",
       "      <td>1</td>\n",
       "      <td>2</td>\n",
       "      <td>12</td>\n",
       "    </tr>\n",
       "    <tr>\n",
       "      <th>3</th>\n",
       "      <td>FDR58</td>\n",
       "      <td>17.485</td>\n",
       "      <td>Meat</td>\n",
       "      <td>185.331</td>\n",
       "      <td>OUT046</td>\n",
       "      <td>2004</td>\n",
       "      <td>Small</td>\n",
       "      <td>Tier 3</td>\n",
       "      <td>F</td>\n",
       "      <td>D</td>\n",
       "      <td>R</td>\n",
       "      <td>58</td>\n",
       "      <td>1</td>\n",
       "      <td>1</td>\n",
       "      <td>17</td>\n",
       "    </tr>\n",
       "    <tr>\n",
       "      <th>4</th>\n",
       "      <td>FDX33</td>\n",
       "      <td>9.363</td>\n",
       "      <td>Baking Goods</td>\n",
       "      <td>132.951</td>\n",
       "      <td>OUT035</td>\n",
       "      <td>2003</td>\n",
       "      <td>Small</td>\n",
       "      <td>Tier 2</td>\n",
       "      <td>F</td>\n",
       "      <td>D</td>\n",
       "      <td>X</td>\n",
       "      <td>33</td>\n",
       "      <td>1</td>\n",
       "      <td>2</td>\n",
       "      <td>18</td>\n",
       "    </tr>\n",
       "  </tbody>\n",
       "</table>\n",
       "</div>"
      ],
      "text/plain": [
       "  item_id  item_w              item_type  item_mrp outlet_id  outlet_year  \\\n",
       "0   FDI15  10.256          Starchy Foods    65.639    OUT035         1999   \n",
       "1   FDG33  17.097  Fruits and Vegetables    62.723    OUT049         1997   \n",
       "2   FDK21  20.459                  Dairy   169.515    OUT013         2009   \n",
       "3   FDR58  17.485                   Meat   185.331    OUT046         2004   \n",
       "4   FDX33   9.363           Baking Goods   132.951    OUT035         2003   \n",
       "\n",
       "  outlet_size outlet_location_type item_cat_0 item_cat_1 item_cat_2  \\\n",
       "0        High               Tier 1          F          D          I   \n",
       "1      Medium               Tier 3          F          D          G   \n",
       "2       Small               Tier 2          F          D          K   \n",
       "3       Small               Tier 3          F          D          R   \n",
       "4       Small               Tier 2          F          D          X   \n",
       "\n",
       "  item_cat_3  out_size  out_type  outlet_age  \n",
       "0         15         3         3          22  \n",
       "1         33         2         1          24  \n",
       "2         21         1         2          12  \n",
       "3         58         1         1          17  \n",
       "4         33         1         2          18  "
      ]
     },
     "execution_count": 57,
     "metadata": {},
     "output_type": "execute_result"
    }
   ],
   "source": [
    "x_train_id_split['outlet_age']= 2021-x_train_id_split['outlet_year']\n",
    "x_train_id_split.head()"
   ]
  },
  {
   "cell_type": "code",
   "execution_count": 58,
   "id": "1a60354e",
   "metadata": {},
   "outputs": [],
   "source": [
    "x_train_id_split['item_cat_3'] = x_train_id_split['item_cat_3'].astype('str')"
   ]
  },
  {
   "cell_type": "markdown",
   "id": "61f7cc8a",
   "metadata": {},
   "source": [
    "Transformations done:\n",
    "- Split item_id -> `retrieve_item_cats`\n",
    "- Ordinally encode -> `pd.map`\n",
    "- Outlet age -> `2021 - x['outlet_year']`\n",
    "- One hot encode/DictVectorize columns -> use `cols`"
   ]
  },
  {
   "cell_type": "code",
   "execution_count": 59,
   "id": "bd4237a7",
   "metadata": {},
   "outputs": [
    {
     "data": {
      "text/plain": [
       "Index(['item_id', 'item_w', 'item_type', 'item_mrp', 'outlet_id',\n",
       "       'outlet_year', 'outlet_size', 'outlet_location_type', 'item_cat_0',\n",
       "       'item_cat_1', 'item_cat_2', 'item_cat_3', 'out_size', 'out_type',\n",
       "       'outlet_age'],\n",
       "      dtype='object')"
      ]
     },
     "execution_count": 59,
     "metadata": {},
     "output_type": "execute_result"
    }
   ],
   "source": [
    "x_train_id_split.columns"
   ]
  },
  {
   "cell_type": "code",
   "execution_count": 62,
   "id": "65bf50ee",
   "metadata": {},
   "outputs": [],
   "source": [
    "col = ['item_cat_0',\n",
    "       'item_cat_1', 'item_cat_2', 'item_cat_3',  'item_w', 'item_type', 'item_mrp', 'outlet_id',\n",
    "       'out_size', 'out_type','outlet_age']"
   ]
  },
  {
   "cell_type": "code",
   "execution_count": 63,
   "id": "4fbf1445",
   "metadata": {},
   "outputs": [],
   "source": [
    "# train_dict_ext = x_train_id_split.to_dict(orient= 'records')\n",
    "dv_ext = DictVectorizer()\n",
    "\n",
    "train_dict_ext = x_train_id_split[col].to_dict(orient= 'records')\n",
    "train_dv_ext = dv_ext.fit_transform(train_dict_ext)\n",
    "\n",
    "# val_dict = x_val[x_train.columns.to_list()[1:]].to_dict(orient= 'records')\n",
    "# val_dv = dv.transform(val_dict)"
   ]
  },
  {
   "cell_type": "code",
   "execution_count": 64,
   "id": "978ca6ef",
   "metadata": {},
   "outputs": [
    {
     "data": {
      "text/plain": [
       "118"
      ]
     },
     "execution_count": 64,
     "metadata": {},
     "output_type": "execute_result"
    }
   ],
   "source": [
    "len(dv_ext.get_feature_names())"
   ]
  },
  {
   "cell_type": "markdown",
   "id": "60173001",
   "metadata": {},
   "source": [
    "#### Preprocessing validation data"
   ]
  },
  {
   "cell_type": "code",
   "execution_count": 65,
   "id": "eded659a",
   "metadata": {},
   "outputs": [
    {
     "data": {
      "text/html": [
       "<div>\n",
       "<style scoped>\n",
       "    .dataframe tbody tr th:only-of-type {\n",
       "        vertical-align: middle;\n",
       "    }\n",
       "\n",
       "    .dataframe tbody tr th {\n",
       "        vertical-align: top;\n",
       "    }\n",
       "\n",
       "    .dataframe thead th {\n",
       "        text-align: right;\n",
       "    }\n",
       "</style>\n",
       "<table border=\"1\" class=\"dataframe\">\n",
       "  <thead>\n",
       "    <tr style=\"text-align: right;\">\n",
       "      <th></th>\n",
       "      <th>item_id</th>\n",
       "      <th>item_w</th>\n",
       "      <th>item_type</th>\n",
       "      <th>item_mrp</th>\n",
       "      <th>outlet_id</th>\n",
       "      <th>outlet_year</th>\n",
       "      <th>outlet_size</th>\n",
       "      <th>outlet_location_type</th>\n",
       "    </tr>\n",
       "  </thead>\n",
       "  <tbody>\n",
       "    <tr>\n",
       "      <th>0</th>\n",
       "      <td>FDX31</td>\n",
       "      <td>14.834</td>\n",
       "      <td>Household</td>\n",
       "      <td>157.992</td>\n",
       "      <td>OUT018</td>\n",
       "      <td>2009</td>\n",
       "      <td>Medium</td>\n",
       "      <td>Tier 3</td>\n",
       "    </tr>\n",
       "    <tr>\n",
       "      <th>1</th>\n",
       "      <td>FDT07</td>\n",
       "      <td>20.354</td>\n",
       "      <td>Snack Foods</td>\n",
       "      <td>188.247</td>\n",
       "      <td>OUT049</td>\n",
       "      <td>2009</td>\n",
       "      <td>Medium</td>\n",
       "      <td>Tier 3</td>\n",
       "    </tr>\n",
       "    <tr>\n",
       "      <th>2</th>\n",
       "      <td>FDL13</td>\n",
       "      <td>20.682</td>\n",
       "      <td>Canned</td>\n",
       "      <td>207.561</td>\n",
       "      <td>OUT046</td>\n",
       "      <td>2004</td>\n",
       "      <td>Small</td>\n",
       "      <td>Tier 3</td>\n",
       "    </tr>\n",
       "    <tr>\n",
       "      <th>3</th>\n",
       "      <td>DRJ01</td>\n",
       "      <td>16.704</td>\n",
       "      <td>Meat</td>\n",
       "      <td>260.534</td>\n",
       "      <td>OUT018</td>\n",
       "      <td>2009</td>\n",
       "      <td>Medium</td>\n",
       "      <td>Tier 3</td>\n",
       "    </tr>\n",
       "    <tr>\n",
       "      <th>4</th>\n",
       "      <td>DRM59</td>\n",
       "      <td>20.700</td>\n",
       "      <td>Snack Foods</td>\n",
       "      <td>171.415</td>\n",
       "      <td>OUT046</td>\n",
       "      <td>1987</td>\n",
       "      <td>Small</td>\n",
       "      <td>Tier 2</td>\n",
       "    </tr>\n",
       "  </tbody>\n",
       "</table>\n",
       "</div>"
      ],
      "text/plain": [
       "  item_id  item_w    item_type  item_mrp outlet_id  outlet_year outlet_size  \\\n",
       "0   FDX31  14.834    Household   157.992    OUT018         2009      Medium   \n",
       "1   FDT07  20.354  Snack Foods   188.247    OUT049         2009      Medium   \n",
       "2   FDL13  20.682       Canned   207.561    OUT046         2004       Small   \n",
       "3   DRJ01  16.704         Meat   260.534    OUT018         2009      Medium   \n",
       "4   DRM59  20.700  Snack Foods   171.415    OUT046         1987       Small   \n",
       "\n",
       "  outlet_location_type  \n",
       "0               Tier 3  \n",
       "1               Tier 3  \n",
       "2               Tier 3  \n",
       "3               Tier 3  \n",
       "4               Tier 2  "
      ]
     },
     "execution_count": 65,
     "metadata": {},
     "output_type": "execute_result"
    }
   ],
   "source": [
    "x_val.head()"
   ]
  },
  {
   "cell_type": "code",
   "execution_count": 68,
   "id": "f7d4d5b3",
   "metadata": {},
   "outputs": [],
   "source": [
    "x_val_ids =  pd.DataFrame(retrieve_item_cats(x_val, 'item_id'))\n",
    "x_val_id_split = pd.concat([x_val, x_val_ids], axis= 1)\n",
    "x_val_id_split['out_size'] = x_val['outlet_size'].map(outlet_size_map)\n",
    "x_val_id_split['out_type'] = x_val['outlet_location_type'].map(outlet_location_map)\n",
    "x_val_id_split['outlet_age']= 2021-x_val_id_split['outlet_year']\n",
    "# x_val_id_split['item_cat_3'] = x_val_id_split['item_cat_3'].astype('str')"
   ]
  },
  {
   "cell_type": "code",
   "execution_count": 69,
   "id": "807ab644",
   "metadata": {},
   "outputs": [
    {
     "data": {
      "text/html": [
       "<div>\n",
       "<style scoped>\n",
       "    .dataframe tbody tr th:only-of-type {\n",
       "        vertical-align: middle;\n",
       "    }\n",
       "\n",
       "    .dataframe tbody tr th {\n",
       "        vertical-align: top;\n",
       "    }\n",
       "\n",
       "    .dataframe thead th {\n",
       "        text-align: right;\n",
       "    }\n",
       "</style>\n",
       "<table border=\"1\" class=\"dataframe\">\n",
       "  <thead>\n",
       "    <tr style=\"text-align: right;\">\n",
       "      <th></th>\n",
       "      <th>item_cat_0</th>\n",
       "      <th>item_cat_1</th>\n",
       "      <th>item_cat_2</th>\n",
       "      <th>item_cat_3</th>\n",
       "      <th>item_w</th>\n",
       "      <th>item_type</th>\n",
       "      <th>item_mrp</th>\n",
       "      <th>outlet_id</th>\n",
       "      <th>out_size</th>\n",
       "      <th>out_type</th>\n",
       "      <th>outlet_age</th>\n",
       "    </tr>\n",
       "  </thead>\n",
       "  <tbody>\n",
       "    <tr>\n",
       "      <th>0</th>\n",
       "      <td>F</td>\n",
       "      <td>D</td>\n",
       "      <td>X</td>\n",
       "      <td>31</td>\n",
       "      <td>14.834</td>\n",
       "      <td>Household</td>\n",
       "      <td>157.992</td>\n",
       "      <td>OUT018</td>\n",
       "      <td>2</td>\n",
       "      <td>1</td>\n",
       "      <td>12</td>\n",
       "    </tr>\n",
       "    <tr>\n",
       "      <th>1</th>\n",
       "      <td>F</td>\n",
       "      <td>D</td>\n",
       "      <td>T</td>\n",
       "      <td>07</td>\n",
       "      <td>20.354</td>\n",
       "      <td>Snack Foods</td>\n",
       "      <td>188.247</td>\n",
       "      <td>OUT049</td>\n",
       "      <td>2</td>\n",
       "      <td>1</td>\n",
       "      <td>12</td>\n",
       "    </tr>\n",
       "    <tr>\n",
       "      <th>2</th>\n",
       "      <td>F</td>\n",
       "      <td>D</td>\n",
       "      <td>L</td>\n",
       "      <td>13</td>\n",
       "      <td>20.682</td>\n",
       "      <td>Canned</td>\n",
       "      <td>207.561</td>\n",
       "      <td>OUT046</td>\n",
       "      <td>1</td>\n",
       "      <td>1</td>\n",
       "      <td>17</td>\n",
       "    </tr>\n",
       "    <tr>\n",
       "      <th>3</th>\n",
       "      <td>D</td>\n",
       "      <td>R</td>\n",
       "      <td>J</td>\n",
       "      <td>01</td>\n",
       "      <td>16.704</td>\n",
       "      <td>Meat</td>\n",
       "      <td>260.534</td>\n",
       "      <td>OUT018</td>\n",
       "      <td>2</td>\n",
       "      <td>1</td>\n",
       "      <td>12</td>\n",
       "    </tr>\n",
       "    <tr>\n",
       "      <th>4</th>\n",
       "      <td>D</td>\n",
       "      <td>R</td>\n",
       "      <td>M</td>\n",
       "      <td>59</td>\n",
       "      <td>20.700</td>\n",
       "      <td>Snack Foods</td>\n",
       "      <td>171.415</td>\n",
       "      <td>OUT046</td>\n",
       "      <td>1</td>\n",
       "      <td>2</td>\n",
       "      <td>34</td>\n",
       "    </tr>\n",
       "  </tbody>\n",
       "</table>\n",
       "</div>"
      ],
      "text/plain": [
       "  item_cat_0 item_cat_1 item_cat_2 item_cat_3  item_w    item_type  item_mrp  \\\n",
       "0          F          D          X         31  14.834    Household   157.992   \n",
       "1          F          D          T         07  20.354  Snack Foods   188.247   \n",
       "2          F          D          L         13  20.682       Canned   207.561   \n",
       "3          D          R          J         01  16.704         Meat   260.534   \n",
       "4          D          R          M         59  20.700  Snack Foods   171.415   \n",
       "\n",
       "  outlet_id  out_size  out_type  outlet_age  \n",
       "0    OUT018         2         1          12  \n",
       "1    OUT049         2         1          12  \n",
       "2    OUT046         1         1          17  \n",
       "3    OUT018         2         1          12  \n",
       "4    OUT046         1         2          34  "
      ]
     },
     "execution_count": 69,
     "metadata": {},
     "output_type": "execute_result"
    }
   ],
   "source": [
    "x_val_id_split[col].head()"
   ]
  },
  {
   "cell_type": "code",
   "execution_count": 71,
   "id": "31428ac8",
   "metadata": {},
   "outputs": [
    {
     "name": "stdout",
     "output_type": "stream",
     "text": [
      "<class 'pandas.core.frame.DataFrame'>\n",
      "RangeIndex: 13180 entries, 0 to 13179\n",
      "Data columns (total 11 columns):\n",
      " #   Column      Non-Null Count  Dtype  \n",
      "---  ------      --------------  -----  \n",
      " 0   item_cat_0  13180 non-null  object \n",
      " 1   item_cat_1  13180 non-null  object \n",
      " 2   item_cat_2  13180 non-null  object \n",
      " 3   item_cat_3  13180 non-null  object \n",
      " 4   item_w      13180 non-null  float64\n",
      " 5   item_type   13180 non-null  object \n",
      " 6   item_mrp    13180 non-null  float64\n",
      " 7   outlet_id   13180 non-null  object \n",
      " 8   out_size    13180 non-null  int64  \n",
      " 9   out_type    13180 non-null  int64  \n",
      " 10  outlet_age  13180 non-null  int64  \n",
      "dtypes: float64(2), int64(3), object(6)\n",
      "memory usage: 1.1+ MB\n"
     ]
    }
   ],
   "source": [
    "x_val_id_split[col].info()"
   ]
  },
  {
   "cell_type": "code",
   "execution_count": 72,
   "id": "5b60d850",
   "metadata": {},
   "outputs": [],
   "source": [
    "val_dict_ext = x_val_id_split[col].to_dict(orient= 'records')\n",
    "val_dv_ext = dv_ext.transform(val_dict_ext)"
   ]
  },
  {
   "cell_type": "markdown",
   "id": "aeb644d5",
   "metadata": {},
   "source": [
    "####  Linear Regression"
   ]
  },
  {
   "cell_type": "code",
   "execution_count": 73,
   "id": "a8674fbf",
   "metadata": {},
   "outputs": [],
   "source": [
    "lr_ext = LinearRegression()"
   ]
  },
  {
   "cell_type": "code",
   "execution_count": 74,
   "id": "a93c78aa",
   "metadata": {},
   "outputs": [
    {
     "data": {
      "text/plain": [
       "LinearRegression()"
      ]
     },
     "execution_count": 74,
     "metadata": {},
     "output_type": "execute_result"
    }
   ],
   "source": [
    "lr_ext.fit(train_dv_ext, y_train)"
   ]
  },
  {
   "cell_type": "code",
   "execution_count": 75,
   "id": "bac2991a",
   "metadata": {},
   "outputs": [],
   "source": [
    "lr_train_preds_ext = lr_ext.predict(train_dv_ext)"
   ]
  },
  {
   "cell_type": "code",
   "execution_count": 76,
   "id": "d5c8139d",
   "metadata": {},
   "outputs": [],
   "source": [
    "lr_val_preds_ext = lr_ext.predict(val_dv_ext)"
   ]
  },
  {
   "cell_type": "code",
   "execution_count": 77,
   "id": "5c4a2e6b",
   "metadata": {
    "scrolled": true
   },
   "outputs": [
    {
     "name": "stdout",
     "output_type": "stream",
     "text": [
      "1281.597055181512\n",
      "1281.3008554284595\n"
     ]
    }
   ],
   "source": [
    "print(mean_squared_error(y_train, lr_train_preds_ext, squared= False))\n",
    "print(mean_squared_error(y_train, lr_train_preds, squared= False))\n",
    "\n",
    "# eval_rmse(lr_ext, lr_train_preds_ext.reshape(-1,1), lr_val_preds_ext.reshape(-1,1))"
   ]
  },
  {
   "cell_type": "code",
   "execution_count": 78,
   "id": "bc537d06",
   "metadata": {},
   "outputs": [
    {
     "name": "stdout",
     "output_type": "stream",
     "text": [
      "1286.4157457505694\n",
      "1284.1006661527758\n"
     ]
    }
   ],
   "source": [
    "lr_val_preds = lr.predict(val_dv)\n",
    "print(mean_squared_error(y_val, lr_val_preds_ext, squared=False))\n",
    "print(mean_squared_error(y_val, lr_val_preds, squared=False))"
   ]
  },
  {
   "cell_type": "code",
   "execution_count": 79,
   "id": "bc5b8098",
   "metadata": {},
   "outputs": [
    {
     "data": {
      "text/plain": [
       "118"
      ]
     },
     "execution_count": 79,
     "metadata": {},
     "output_type": "execute_result"
    }
   ],
   "source": [
    "len(dv_ext.get_feature_names())"
   ]
  },
  {
   "cell_type": "code",
   "execution_count": 80,
   "id": "1a699b23",
   "metadata": {
    "scrolled": true
   },
   "outputs": [
    {
     "data": {
      "text/html": [
       "<div>\n",
       "<style scoped>\n",
       "    .dataframe tbody tr th:only-of-type {\n",
       "        vertical-align: middle;\n",
       "    }\n",
       "\n",
       "    .dataframe tbody tr th {\n",
       "        vertical-align: top;\n",
       "    }\n",
       "\n",
       "    .dataframe thead th {\n",
       "        text-align: right;\n",
       "    }\n",
       "</style>\n",
       "<table border=\"1\" class=\"dataframe\">\n",
       "  <thead>\n",
       "    <tr style=\"text-align: right;\">\n",
       "      <th></th>\n",
       "      <th>0</th>\n",
       "      <th>1</th>\n",
       "    </tr>\n",
       "  </thead>\n",
       "  <tbody>\n",
       "    <tr>\n",
       "      <th>116</th>\n",
       "      <td>outlet_id=OUT046</td>\n",
       "      <td>19.051</td>\n",
       "    </tr>\n",
       "    <tr>\n",
       "      <th>49</th>\n",
       "      <td>item_cat_3=18</td>\n",
       "      <td>18.791</td>\n",
       "    </tr>\n",
       "    <tr>\n",
       "      <th>19</th>\n",
       "      <td>item_cat_2=N</td>\n",
       "      <td>18.420</td>\n",
       "    </tr>\n",
       "    <tr>\n",
       "      <th>46</th>\n",
       "      <td>item_cat_3=15</td>\n",
       "      <td>17.735</td>\n",
       "    </tr>\n",
       "    <tr>\n",
       "      <th>5</th>\n",
       "      <td>item_cat_1=R</td>\n",
       "      <td>17.469</td>\n",
       "    </tr>\n",
       "    <tr>\n",
       "      <th>0</th>\n",
       "      <td>item_cat_0=D</td>\n",
       "      <td>17.469</td>\n",
       "    </tr>\n",
       "    <tr>\n",
       "      <th>47</th>\n",
       "      <td>item_cat_3=16</td>\n",
       "      <td>17.036</td>\n",
       "    </tr>\n",
       "    <tr>\n",
       "      <th>89</th>\n",
       "      <td>item_cat_3=58</td>\n",
       "      <td>17.008</td>\n",
       "    </tr>\n",
       "    <tr>\n",
       "      <th>26</th>\n",
       "      <td>item_cat_2=U</td>\n",
       "      <td>16.730</td>\n",
       "    </tr>\n",
       "    <tr>\n",
       "      <th>33</th>\n",
       "      <td>item_cat_3=02</td>\n",
       "      <td>16.161</td>\n",
       "    </tr>\n",
       "    <tr>\n",
       "      <th>111</th>\n",
       "      <td>out_type</td>\n",
       "      <td>16.049</td>\n",
       "    </tr>\n",
       "    <tr>\n",
       "      <th>30</th>\n",
       "      <td>item_cat_2=Y</td>\n",
       "      <td>16.019</td>\n",
       "    </tr>\n",
       "    <tr>\n",
       "      <th>66</th>\n",
       "      <td>item_cat_3=35</td>\n",
       "      <td>15.877</td>\n",
       "    </tr>\n",
       "    <tr>\n",
       "      <th>103</th>\n",
       "      <td>item_type=Meat</td>\n",
       "      <td>13.438</td>\n",
       "    </tr>\n",
       "    <tr>\n",
       "      <th>9</th>\n",
       "      <td>item_cat_2=D</td>\n",
       "      <td>12.830</td>\n",
       "    </tr>\n",
       "    <tr>\n",
       "      <th>28</th>\n",
       "      <td>item_cat_2=W</td>\n",
       "      <td>12.211</td>\n",
       "    </tr>\n",
       "    <tr>\n",
       "      <th>13</th>\n",
       "      <td>item_cat_2=H</td>\n",
       "      <td>11.929</td>\n",
       "    </tr>\n",
       "    <tr>\n",
       "      <th>41</th>\n",
       "      <td>item_cat_3=10</td>\n",
       "      <td>11.699</td>\n",
       "    </tr>\n",
       "    <tr>\n",
       "      <th>21</th>\n",
       "      <td>item_cat_2=P</td>\n",
       "      <td>10.922</td>\n",
       "    </tr>\n",
       "    <tr>\n",
       "      <th>43</th>\n",
       "      <td>item_cat_3=12</td>\n",
       "      <td>10.748</td>\n",
       "    </tr>\n",
       "    <tr>\n",
       "      <th>32</th>\n",
       "      <td>item_cat_3=01</td>\n",
       "      <td>10.310</td>\n",
       "    </tr>\n",
       "    <tr>\n",
       "      <th>88</th>\n",
       "      <td>item_cat_3=57</td>\n",
       "      <td>10.110</td>\n",
       "    </tr>\n",
       "    <tr>\n",
       "      <th>79</th>\n",
       "      <td>item_cat_3=48</td>\n",
       "      <td>9.987</td>\n",
       "    </tr>\n",
       "    <tr>\n",
       "      <th>106</th>\n",
       "      <td>item_type=Snack Foods</td>\n",
       "      <td>9.906</td>\n",
       "    </tr>\n",
       "    <tr>\n",
       "      <th>108</th>\n",
       "      <td>item_type=Starchy Foods</td>\n",
       "      <td>9.893</td>\n",
       "    </tr>\n",
       "    <tr>\n",
       "      <th>54</th>\n",
       "      <td>item_cat_3=23</td>\n",
       "      <td>9.180</td>\n",
       "    </tr>\n",
       "    <tr>\n",
       "      <th>23</th>\n",
       "      <td>item_cat_2=R</td>\n",
       "      <td>9.163</td>\n",
       "    </tr>\n",
       "    <tr>\n",
       "      <th>71</th>\n",
       "      <td>item_cat_3=40</td>\n",
       "      <td>8.147</td>\n",
       "    </tr>\n",
       "    <tr>\n",
       "      <th>17</th>\n",
       "      <td>item_cat_2=L</td>\n",
       "      <td>8.046</td>\n",
       "    </tr>\n",
       "    <tr>\n",
       "      <th>58</th>\n",
       "      <td>item_cat_3=27</td>\n",
       "      <td>7.905</td>\n",
       "    </tr>\n",
       "    <tr>\n",
       "      <th>27</th>\n",
       "      <td>item_cat_2=V</td>\n",
       "      <td>6.741</td>\n",
       "    </tr>\n",
       "    <tr>\n",
       "      <th>40</th>\n",
       "      <td>item_cat_3=09</td>\n",
       "      <td>6.326</td>\n",
       "    </tr>\n",
       "    <tr>\n",
       "      <th>70</th>\n",
       "      <td>item_cat_3=39</td>\n",
       "      <td>5.422</td>\n",
       "    </tr>\n",
       "    <tr>\n",
       "      <th>8</th>\n",
       "      <td>item_cat_2=C</td>\n",
       "      <td>4.657</td>\n",
       "    </tr>\n",
       "    <tr>\n",
       "      <th>74</th>\n",
       "      <td>item_cat_3=43</td>\n",
       "      <td>4.529</td>\n",
       "    </tr>\n",
       "    <tr>\n",
       "      <th>31</th>\n",
       "      <td>item_cat_2=Z</td>\n",
       "      <td>4.277</td>\n",
       "    </tr>\n",
       "    <tr>\n",
       "      <th>39</th>\n",
       "      <td>item_cat_3=08</td>\n",
       "      <td>4.002</td>\n",
       "    </tr>\n",
       "    <tr>\n",
       "      <th>75</th>\n",
       "      <td>item_cat_3=44</td>\n",
       "      <td>3.929</td>\n",
       "    </tr>\n",
       "    <tr>\n",
       "      <th>57</th>\n",
       "      <td>item_cat_3=26</td>\n",
       "      <td>3.879</td>\n",
       "    </tr>\n",
       "    <tr>\n",
       "      <th>37</th>\n",
       "      <td>item_cat_3=06</td>\n",
       "      <td>3.877</td>\n",
       "    </tr>\n",
       "    <tr>\n",
       "      <th>29</th>\n",
       "      <td>item_cat_2=X</td>\n",
       "      <td>3.340</td>\n",
       "    </tr>\n",
       "    <tr>\n",
       "      <th>112</th>\n",
       "      <td>outlet_age</td>\n",
       "      <td>2.063</td>\n",
       "    </tr>\n",
       "    <tr>\n",
       "      <th>98</th>\n",
       "      <td>item_type=Frozen Foods</td>\n",
       "      <td>2.023</td>\n",
       "    </tr>\n",
       "    <tr>\n",
       "      <th>4</th>\n",
       "      <td>item_cat_1=D</td>\n",
       "      <td>1.831</td>\n",
       "    </tr>\n",
       "    <tr>\n",
       "      <th>1</th>\n",
       "      <td>item_cat_0=F</td>\n",
       "      <td>1.831</td>\n",
       "    </tr>\n",
       "    <tr>\n",
       "      <th>109</th>\n",
       "      <td>item_w</td>\n",
       "      <td>1.049</td>\n",
       "    </tr>\n",
       "    <tr>\n",
       "      <th>78</th>\n",
       "      <td>item_cat_3=47</td>\n",
       "      <td>0.983</td>\n",
       "    </tr>\n",
       "    <tr>\n",
       "      <th>44</th>\n",
       "      <td>item_cat_3=13</td>\n",
       "      <td>0.941</td>\n",
       "    </tr>\n",
       "    <tr>\n",
       "      <th>11</th>\n",
       "      <td>item_cat_2=F</td>\n",
       "      <td>0.535</td>\n",
       "    </tr>\n",
       "    <tr>\n",
       "      <th>92</th>\n",
       "      <td>item_mrp</td>\n",
       "      <td>0.299</td>\n",
       "    </tr>\n",
       "  </tbody>\n",
       "</table>\n",
       "</div>"
      ],
      "text/plain": [
       "                           0       1\n",
       "116         outlet_id=OUT046  19.051\n",
       "49             item_cat_3=18  18.791\n",
       "19              item_cat_2=N  18.420\n",
       "46             item_cat_3=15  17.735\n",
       "5               item_cat_1=R  17.469\n",
       "0               item_cat_0=D  17.469\n",
       "47             item_cat_3=16  17.036\n",
       "89             item_cat_3=58  17.008\n",
       "26              item_cat_2=U  16.730\n",
       "33             item_cat_3=02  16.161\n",
       "111                 out_type  16.049\n",
       "30              item_cat_2=Y  16.019\n",
       "66             item_cat_3=35  15.877\n",
       "103           item_type=Meat  13.438\n",
       "9               item_cat_2=D  12.830\n",
       "28              item_cat_2=W  12.211\n",
       "13              item_cat_2=H  11.929\n",
       "41             item_cat_3=10  11.699\n",
       "21              item_cat_2=P  10.922\n",
       "43             item_cat_3=12  10.748\n",
       "32             item_cat_3=01  10.310\n",
       "88             item_cat_3=57  10.110\n",
       "79             item_cat_3=48   9.987\n",
       "106    item_type=Snack Foods   9.906\n",
       "108  item_type=Starchy Foods   9.893\n",
       "54             item_cat_3=23   9.180\n",
       "23              item_cat_2=R   9.163\n",
       "71             item_cat_3=40   8.147\n",
       "17              item_cat_2=L   8.046\n",
       "58             item_cat_3=27   7.905\n",
       "27              item_cat_2=V   6.741\n",
       "40             item_cat_3=09   6.326\n",
       "70             item_cat_3=39   5.422\n",
       "8               item_cat_2=C   4.657\n",
       "74             item_cat_3=43   4.529\n",
       "31              item_cat_2=Z   4.277\n",
       "39             item_cat_3=08   4.002\n",
       "75             item_cat_3=44   3.929\n",
       "57             item_cat_3=26   3.879\n",
       "37             item_cat_3=06   3.877\n",
       "29              item_cat_2=X   3.340\n",
       "112               outlet_age   2.063\n",
       "98    item_type=Frozen Foods   2.023\n",
       "4               item_cat_1=D   1.831\n",
       "1               item_cat_0=F   1.831\n",
       "109                   item_w   1.049\n",
       "78             item_cat_3=47   0.983\n",
       "44             item_cat_3=13   0.941\n",
       "11              item_cat_2=F   0.535\n",
       "92                  item_mrp   0.299"
      ]
     },
     "execution_count": 80,
     "metadata": {},
     "output_type": "execute_result"
    }
   ],
   "source": [
    "pd.DataFrame(list(zip(dv_ext.get_feature_names(), abs(lr_ext.coef_) ))).sort_values(by=1, ascending=False )[-50:]"
   ]
  },
  {
   "cell_type": "markdown",
   "id": "879c72a1",
   "metadata": {},
   "source": [
    "## Testing Models"
   ]
  },
  {
   "cell_type": "markdown",
   "id": "a8685ec7",
   "metadata": {},
   "source": [
    "### Data"
   ]
  },
  {
   "cell_type": "code",
   "execution_count": 81,
   "id": "93f8799d",
   "metadata": {},
   "outputs": [
    {
     "data": {
      "text/html": [
       "<div>\n",
       "<style scoped>\n",
       "    .dataframe tbody tr th:only-of-type {\n",
       "        vertical-align: middle;\n",
       "    }\n",
       "\n",
       "    .dataframe tbody tr th {\n",
       "        vertical-align: top;\n",
       "    }\n",
       "\n",
       "    .dataframe thead th {\n",
       "        text-align: right;\n",
       "    }\n",
       "</style>\n",
       "<table border=\"1\" class=\"dataframe\">\n",
       "  <thead>\n",
       "    <tr style=\"text-align: right;\">\n",
       "      <th></th>\n",
       "      <th>item_id</th>\n",
       "      <th>item_w</th>\n",
       "      <th>item_type</th>\n",
       "      <th>item_mrp</th>\n",
       "      <th>outlet_id</th>\n",
       "      <th>outlet_year</th>\n",
       "      <th>outlet_size</th>\n",
       "      <th>outlet_location_type</th>\n",
       "    </tr>\n",
       "  </thead>\n",
       "  <tbody>\n",
       "    <tr>\n",
       "      <th>0</th>\n",
       "      <td>DRM23</td>\n",
       "      <td>10.157</td>\n",
       "      <td>Snack Foods</td>\n",
       "      <td>119.319</td>\n",
       "      <td>OUT013</td>\n",
       "      <td>1999</td>\n",
       "      <td>High</td>\n",
       "      <td>Tier 3</td>\n",
       "    </tr>\n",
       "    <tr>\n",
       "      <th>1</th>\n",
       "      <td>FDG47</td>\n",
       "      <td>10.434</td>\n",
       "      <td>Household</td>\n",
       "      <td>263.600</td>\n",
       "      <td>OUT018</td>\n",
       "      <td>1987</td>\n",
       "      <td>High</td>\n",
       "      <td>Tier 3</td>\n",
       "    </tr>\n",
       "    <tr>\n",
       "      <th>2</th>\n",
       "      <td>FDN21</td>\n",
       "      <td>11.954</td>\n",
       "      <td>Health and Hygiene</td>\n",
       "      <td>246.287</td>\n",
       "      <td>OUT018</td>\n",
       "      <td>1997</td>\n",
       "      <td>High</td>\n",
       "      <td>Tier 1</td>\n",
       "    </tr>\n",
       "    <tr>\n",
       "      <th>3</th>\n",
       "      <td>FDZ23</td>\n",
       "      <td>14.949</td>\n",
       "      <td>Dairy</td>\n",
       "      <td>136.201</td>\n",
       "      <td>OUT046</td>\n",
       "      <td>2004</td>\n",
       "      <td>Medium</td>\n",
       "      <td>Tier 2</td>\n",
       "    </tr>\n",
       "    <tr>\n",
       "      <th>4</th>\n",
       "      <td>FDC16</td>\n",
       "      <td>11.080</td>\n",
       "      <td>Canned</td>\n",
       "      <td>173.146</td>\n",
       "      <td>OUT018</td>\n",
       "      <td>2009</td>\n",
       "      <td>Medium</td>\n",
       "      <td>Tier 3</td>\n",
       "    </tr>\n",
       "  </tbody>\n",
       "</table>\n",
       "</div>"
      ],
      "text/plain": [
       "  item_id  item_w           item_type  item_mrp outlet_id  outlet_year  \\\n",
       "0   DRM23  10.157         Snack Foods   119.319    OUT013         1999   \n",
       "1   FDG47  10.434           Household   263.600    OUT018         1987   \n",
       "2   FDN21  11.954  Health and Hygiene   246.287    OUT018         1997   \n",
       "3   FDZ23  14.949               Dairy   136.201    OUT046         2004   \n",
       "4   FDC16  11.080              Canned   173.146    OUT018         2009   \n",
       "\n",
       "  outlet_size outlet_location_type  \n",
       "0        High               Tier 3  \n",
       "1        High               Tier 3  \n",
       "2        High               Tier 1  \n",
       "3      Medium               Tier 2  \n",
       "4      Medium               Tier 3  "
      ]
     },
     "execution_count": 81,
     "metadata": {},
     "output_type": "execute_result"
    }
   ],
   "source": [
    "x_test.head()\n"
   ]
  },
  {
   "cell_type": "code",
   "execution_count": null,
   "id": "c077dc93",
   "metadata": {},
   "outputs": [],
   "source": []
  },
  {
   "cell_type": "code",
   "execution_count": 82,
   "id": "9dcf18f8",
   "metadata": {},
   "outputs": [],
   "source": [
    "x_test_ids =  pd.DataFrame(retrieve_item_cats(x_test, 'item_id'))\n",
    "x_test_id_split = pd.concat([x_test, x_test_ids], axis= 1)\n",
    "x_test_id_split['out_size'] = x_test['outlet_size'].map(outlet_size_map)\n",
    "x_test_id_split['out_type'] = x_test['outlet_location_type'].map(outlet_location_map)\n",
    "x_test_id_split['outlet_age']= 2021-x_test_id_split['outlet_year']\n",
    "# x_val_id_split['item_cat_3'] = x_val_id_split['item_cat_3'].astype('str')"
   ]
  },
  {
   "cell_type": "code",
   "execution_count": null,
   "id": "2551c8e9",
   "metadata": {},
   "outputs": [],
   "source": []
  },
  {
   "cell_type": "code",
   "execution_count": 84,
   "id": "ed585dc2",
   "metadata": {},
   "outputs": [],
   "source": [
    "test_dict_ext = x_test_id_split[col].to_dict(orient= 'records')\n",
    "test_dv_ext = dv_ext.transform(test_dict_ext)"
   ]
  },
  {
   "cell_type": "code",
   "execution_count": 85,
   "id": "c864f4a3",
   "metadata": {},
   "outputs": [],
   "source": [
    "lr_test_preds_ext = lr_ext.predict(test_dv_ext)"
   ]
  },
  {
   "cell_type": "markdown",
   "id": "eeccb41f",
   "metadata": {},
   "source": [
    "#### Decision Trees"
   ]
  },
  {
   "cell_type": "code",
   "execution_count": 86,
   "id": "95ccffc9",
   "metadata": {},
   "outputs": [
    {
     "data": {
      "text/plain": [
       "DecisionTreeRegressor(ccp_alpha=0.25, max_depth=5, max_features=10)"
      ]
     },
     "execution_count": 86,
     "metadata": {},
     "output_type": "execute_result"
    }
   ],
   "source": [
    "dt_ext = DecisionTreeRegressor(max_depth= 5, max_features=10, ccp_alpha=0.25 )\n",
    "\n",
    "dt_ext.fit(train_dv_ext, y_train)"
   ]
  },
  {
   "cell_type": "code",
   "execution_count": 87,
   "id": "1b9042db",
   "metadata": {},
   "outputs": [],
   "source": [
    "# pd.DataFrame(list(zip(dv_ext.get_feature_names(), abs(dt_ext.feature_importances_)))).sort_values(by= 1, ascending=False)"
   ]
  },
  {
   "cell_type": "code",
   "execution_count": 88,
   "id": "cddb015e",
   "metadata": {},
   "outputs": [],
   "source": [
    "dt_train_preds_ext = dt_ext.predict(train_dv_ext)\n",
    "\n",
    "dt_val_preds_ext = dt_ext.predict(val_dv_ext)"
   ]
  },
  {
   "cell_type": "code",
   "execution_count": 89,
   "id": "2ae52174",
   "metadata": {},
   "outputs": [
    {
     "name": "stdout",
     "output_type": "stream",
     "text": [
      "1286.9882658706665\n",
      "1290.4030232901032\n"
     ]
    }
   ],
   "source": [
    "print(mean_squared_error(y_train, dt_train_preds_ext, squared= False))\n",
    "print(mean_squared_error(y_val, dt_val_preds_ext, squared= False))"
   ]
  },
  {
   "cell_type": "code",
   "execution_count": 90,
   "id": "14fe929c",
   "metadata": {},
   "outputs": [],
   "source": [
    "dt_test_preds_ext = dt_ext.predict(test_dv_ext)"
   ]
  },
  {
   "cell_type": "markdown",
   "id": "63169c85",
   "metadata": {},
   "source": [
    "#### Random Forests"
   ]
  },
  {
   "cell_type": "code",
   "execution_count": 91,
   "id": "75e027be",
   "metadata": {},
   "outputs": [
    {
     "data": {
      "text/plain": [
       "RandomForestRegressor(max_depth=6)"
      ]
     },
     "execution_count": 91,
     "metadata": {},
     "output_type": "execute_result"
    }
   ],
   "source": [
    "\n",
    "\n",
    "rf = RandomForestRegressor(n_estimators= 100, max_depth= 6)\n",
    "\n",
    "rf.fit(train_dv_ext, y_train)"
   ]
  },
  {
   "cell_type": "code",
   "execution_count": 92,
   "id": "5b82b915",
   "metadata": {},
   "outputs": [],
   "source": [
    "rf_train_preds = rf.predict(train_dv_ext)\n",
    "\n",
    "rf_val_preds= rf.predict(val_dv_ext)"
   ]
  },
  {
   "cell_type": "code",
   "execution_count": 93,
   "id": "9a1231f7",
   "metadata": {},
   "outputs": [
    {
     "name": "stdout",
     "output_type": "stream",
     "text": [
      "1272.1088683998637\n",
      "1281.4503306675176\n"
     ]
    }
   ],
   "source": [
    "print(mean_squared_error(y_train, rf_train_preds, squared= False))\n",
    "print(mean_squared_error(y_val, rf_val_preds, squared= False))"
   ]
  },
  {
   "cell_type": "code",
   "execution_count": 94,
   "id": "00bc0c08",
   "metadata": {},
   "outputs": [],
   "source": [
    "rf_test_preds = rf.predict(test_dv_ext)"
   ]
  },
  {
   "cell_type": "markdown",
   "id": "678fc35d",
   "metadata": {},
   "source": [
    "## Test on entire train dataset"
   ]
  },
  {
   "cell_type": "code",
   "execution_count": 104,
   "id": "0df96677",
   "metadata": {},
   "outputs": [],
   "source": [
    "col = ['item_cat_0',\n",
    "       'item_cat_1', 'item_cat_2', 'item_cat_3',  'item_w', 'item_type', 'item_mrp', 'outlet_id',\n",
    "       'out_size', 'out_type','outlet_age']\n",
    "scaled_cols = ['item_cat_0',\n",
    "       'item_cat_1', 'item_cat_2', 'item_cat_3',  'item_w_scale', 'item_type', 'item_mrp_scale', 'outlet_id',\n",
    "       'out_size', 'out_type','outlet_age_scale']\n",
    "scale_cols = ['item_w', 'item_mrp', 'outlet_age']"
   ]
  },
  {
   "cell_type": "code",
   "execution_count": 105,
   "id": "da0ee85d",
   "metadata": {},
   "outputs": [
    {
     "data": {
      "text/html": [
       "<div>\n",
       "<style scoped>\n",
       "    .dataframe tbody tr th:only-of-type {\n",
       "        vertical-align: middle;\n",
       "    }\n",
       "\n",
       "    .dataframe tbody tr th {\n",
       "        vertical-align: top;\n",
       "    }\n",
       "\n",
       "    .dataframe thead th {\n",
       "        text-align: right;\n",
       "    }\n",
       "</style>\n",
       "<table border=\"1\" class=\"dataframe\">\n",
       "  <thead>\n",
       "    <tr style=\"text-align: right;\">\n",
       "      <th></th>\n",
       "      <th>item_cat_0</th>\n",
       "      <th>item_cat_1</th>\n",
       "      <th>item_cat_2</th>\n",
       "      <th>item_cat_3</th>\n",
       "      <th>item_w</th>\n",
       "      <th>item_type</th>\n",
       "      <th>item_mrp</th>\n",
       "      <th>outlet_id</th>\n",
       "      <th>out_size</th>\n",
       "      <th>out_type</th>\n",
       "      <th>outlet_age</th>\n",
       "    </tr>\n",
       "  </thead>\n",
       "  <tbody>\n",
       "    <tr>\n",
       "      <th>0</th>\n",
       "      <td>F</td>\n",
       "      <td>D</td>\n",
       "      <td>I</td>\n",
       "      <td>15</td>\n",
       "      <td>10.256</td>\n",
       "      <td>Starchy Foods</td>\n",
       "      <td>65.639</td>\n",
       "      <td>OUT035</td>\n",
       "      <td>3</td>\n",
       "      <td>3</td>\n",
       "      <td>22</td>\n",
       "    </tr>\n",
       "    <tr>\n",
       "      <th>1</th>\n",
       "      <td>F</td>\n",
       "      <td>D</td>\n",
       "      <td>G</td>\n",
       "      <td>33</td>\n",
       "      <td>17.097</td>\n",
       "      <td>Fruits and Vegetables</td>\n",
       "      <td>62.723</td>\n",
       "      <td>OUT049</td>\n",
       "      <td>2</td>\n",
       "      <td>1</td>\n",
       "      <td>24</td>\n",
       "    </tr>\n",
       "    <tr>\n",
       "      <th>2</th>\n",
       "      <td>F</td>\n",
       "      <td>D</td>\n",
       "      <td>K</td>\n",
       "      <td>21</td>\n",
       "      <td>20.459</td>\n",
       "      <td>Dairy</td>\n",
       "      <td>169.515</td>\n",
       "      <td>OUT013</td>\n",
       "      <td>1</td>\n",
       "      <td>2</td>\n",
       "      <td>12</td>\n",
       "    </tr>\n",
       "    <tr>\n",
       "      <th>3</th>\n",
       "      <td>F</td>\n",
       "      <td>D</td>\n",
       "      <td>R</td>\n",
       "      <td>58</td>\n",
       "      <td>17.485</td>\n",
       "      <td>Meat</td>\n",
       "      <td>185.331</td>\n",
       "      <td>OUT046</td>\n",
       "      <td>1</td>\n",
       "      <td>1</td>\n",
       "      <td>17</td>\n",
       "    </tr>\n",
       "    <tr>\n",
       "      <th>4</th>\n",
       "      <td>F</td>\n",
       "      <td>D</td>\n",
       "      <td>X</td>\n",
       "      <td>33</td>\n",
       "      <td>9.363</td>\n",
       "      <td>Baking Goods</td>\n",
       "      <td>132.951</td>\n",
       "      <td>OUT035</td>\n",
       "      <td>1</td>\n",
       "      <td>2</td>\n",
       "      <td>18</td>\n",
       "    </tr>\n",
       "  </tbody>\n",
       "</table>\n",
       "</div>"
      ],
      "text/plain": [
       "  item_cat_0 item_cat_1 item_cat_2 item_cat_3  item_w              item_type  \\\n",
       "0          F          D          I         15  10.256          Starchy Foods   \n",
       "1          F          D          G         33  17.097  Fruits and Vegetables   \n",
       "2          F          D          K         21  20.459                  Dairy   \n",
       "3          F          D          R         58  17.485                   Meat   \n",
       "4          F          D          X         33   9.363           Baking Goods   \n",
       "\n",
       "   item_mrp outlet_id  out_size  out_type  outlet_age  \n",
       "0    65.639    OUT035         3         3          22  \n",
       "1    62.723    OUT049         2         1          24  \n",
       "2   169.515    OUT013         1         2          12  \n",
       "3   185.331    OUT046         1         1          17  \n",
       "4   132.951    OUT035         1         2          18  "
      ]
     },
     "execution_count": 105,
     "metadata": {},
     "output_type": "execute_result"
    }
   ],
   "source": [
    "full_train = process_data(train, col)\n",
    "full_train.head()"
   ]
  },
  {
   "cell_type": "code",
   "execution_count": 106,
   "id": "ebb78f62",
   "metadata": {
    "scrolled": true
   },
   "outputs": [],
   "source": [
    "for col in scale_cols:\n",
    "    full_train[col+'_scale'] = (full_train[col] - min(full_train[col])) / (max(full_train[col]) - min(full_train[col]))\n",
    "    x_test_id_split[col+'_scale'] = (x_test_id_split[col] - min(x_test_id_split[col])) / (max(x_test_id_split[col]) - min(x_test_id_split[col]))\n"
   ]
  },
  {
   "cell_type": "code",
   "execution_count": 107,
   "id": "1ea88826",
   "metadata": {},
   "outputs": [],
   "source": [
    "def scale_num_cols(df, scale_cols):\n",
    "    for col in scale_cols:\n",
    "        df[col+'_scale'] = (df[col] - min(df[col])) / (max(df[col]) - min(df[col]))\n",
    "    return df"
   ]
  },
  {
   "cell_type": "code",
   "execution_count": 108,
   "id": "2c92af6e",
   "metadata": {},
   "outputs": [
    {
     "data": {
      "text/html": [
       "<div>\n",
       "<style scoped>\n",
       "    .dataframe tbody tr th:only-of-type {\n",
       "        vertical-align: middle;\n",
       "    }\n",
       "\n",
       "    .dataframe tbody tr th {\n",
       "        vertical-align: top;\n",
       "    }\n",
       "\n",
       "    .dataframe thead th {\n",
       "        text-align: right;\n",
       "    }\n",
       "</style>\n",
       "<table border=\"1\" class=\"dataframe\">\n",
       "  <thead>\n",
       "    <tr style=\"text-align: right;\">\n",
       "      <th></th>\n",
       "      <th>item_cat_0</th>\n",
       "      <th>item_cat_1</th>\n",
       "      <th>item_cat_2</th>\n",
       "      <th>item_cat_3</th>\n",
       "      <th>item_w_scale</th>\n",
       "      <th>item_type</th>\n",
       "      <th>item_mrp_scale</th>\n",
       "      <th>outlet_id</th>\n",
       "      <th>out_size</th>\n",
       "      <th>out_type</th>\n",
       "      <th>outlet_age_scale</th>\n",
       "    </tr>\n",
       "  </thead>\n",
       "  <tbody>\n",
       "    <tr>\n",
       "      <th>0</th>\n",
       "      <td>D</td>\n",
       "      <td>R</td>\n",
       "      <td>M</td>\n",
       "      <td>23</td>\n",
       "      <td>0.334</td>\n",
       "      <td>Snack Foods</td>\n",
       "      <td>0.372</td>\n",
       "      <td>OUT013</td>\n",
       "      <td>3</td>\n",
       "      <td>1</td>\n",
       "      <td>0.455</td>\n",
       "    </tr>\n",
       "    <tr>\n",
       "      <th>1</th>\n",
       "      <td>F</td>\n",
       "      <td>D</td>\n",
       "      <td>G</td>\n",
       "      <td>47</td>\n",
       "      <td>0.350</td>\n",
       "      <td>Household</td>\n",
       "      <td>0.993</td>\n",
       "      <td>OUT018</td>\n",
       "      <td>3</td>\n",
       "      <td>1</td>\n",
       "      <td>1.000</td>\n",
       "    </tr>\n",
       "    <tr>\n",
       "      <th>2</th>\n",
       "      <td>F</td>\n",
       "      <td>D</td>\n",
       "      <td>N</td>\n",
       "      <td>21</td>\n",
       "      <td>0.442</td>\n",
       "      <td>Health and Hygiene</td>\n",
       "      <td>0.919</td>\n",
       "      <td>OUT018</td>\n",
       "      <td>3</td>\n",
       "      <td>3</td>\n",
       "      <td>0.545</td>\n",
       "    </tr>\n",
       "    <tr>\n",
       "      <th>3</th>\n",
       "      <td>F</td>\n",
       "      <td>D</td>\n",
       "      <td>Z</td>\n",
       "      <td>23</td>\n",
       "      <td>0.622</td>\n",
       "      <td>Dairy</td>\n",
       "      <td>0.444</td>\n",
       "      <td>OUT046</td>\n",
       "      <td>2</td>\n",
       "      <td>2</td>\n",
       "      <td>0.227</td>\n",
       "    </tr>\n",
       "    <tr>\n",
       "      <th>4</th>\n",
       "      <td>F</td>\n",
       "      <td>D</td>\n",
       "      <td>C</td>\n",
       "      <td>16</td>\n",
       "      <td>0.389</td>\n",
       "      <td>Canned</td>\n",
       "      <td>0.604</td>\n",
       "      <td>OUT018</td>\n",
       "      <td>2</td>\n",
       "      <td>1</td>\n",
       "      <td>0.000</td>\n",
       "    </tr>\n",
       "  </tbody>\n",
       "</table>\n",
       "</div>"
      ],
      "text/plain": [
       "  item_cat_0 item_cat_1 item_cat_2 item_cat_3  item_w_scale  \\\n",
       "0          D          R          M         23         0.334   \n",
       "1          F          D          G         47         0.350   \n",
       "2          F          D          N         21         0.442   \n",
       "3          F          D          Z         23         0.622   \n",
       "4          F          D          C         16         0.389   \n",
       "\n",
       "            item_type  item_mrp_scale outlet_id  out_size  out_type  \\\n",
       "0         Snack Foods           0.372    OUT013         3         1   \n",
       "1           Household           0.993    OUT018         3         1   \n",
       "2  Health and Hygiene           0.919    OUT018         3         3   \n",
       "3               Dairy           0.444    OUT046         2         2   \n",
       "4              Canned           0.604    OUT018         2         1   \n",
       "\n",
       "   outlet_age_scale  \n",
       "0             0.455  \n",
       "1             1.000  \n",
       "2             0.545  \n",
       "3             0.227  \n",
       "4             0.000  "
      ]
     },
     "execution_count": 108,
     "metadata": {},
     "output_type": "execute_result"
    }
   ],
   "source": [
    "x_test_id_split[scaled_cols].head()"
   ]
  },
  {
   "cell_type": "code",
   "execution_count": 98,
   "id": "594d2703",
   "metadata": {},
   "outputs": [],
   "source": []
  },
  {
   "cell_type": "code",
   "execution_count": 109,
   "id": "1025b0d0",
   "metadata": {},
   "outputs": [],
   "source": [
    "full_dv = DictVectorizer()\n",
    "full_train_dict = full_train[scaled_cols].to_dict(orient= 'records')\n",
    "full_train_dv = full_dv.fit_transform(full_train_dict)"
   ]
  },
  {
   "cell_type": "code",
   "execution_count": 110,
   "id": "6c24eea9",
   "metadata": {},
   "outputs": [],
   "source": [
    "full_test_dict = x_test_id_split[scaled_cols].to_dict(orient= 'records')\n",
    "full_test_dv = full_dv.transform(full_test_dict)"
   ]
  },
  {
   "cell_type": "code",
   "execution_count": 111,
   "id": "137e5920",
   "metadata": {},
   "outputs": [
    {
     "data": {
      "text/plain": [
       "1281.597055161418"
      ]
     },
     "execution_count": 111,
     "metadata": {},
     "output_type": "execute_result"
    }
   ],
   "source": [
    "lr_full = LinearRegression()\n",
    "lr_full.fit(full_train_dv, train['sales'])\n",
    "\n",
    "\n",
    "lr_full_pred = lr_full.predict(full_train_dv)\n",
    "mean_squared_error(train['sales'], lr_full_pred, squared=False)"
   ]
  },
  {
   "cell_type": "code",
   "execution_count": 112,
   "id": "fd68e6be",
   "metadata": {},
   "outputs": [
    {
     "data": {
      "text/plain": [
       "1284.2622385414363"
      ]
     },
     "execution_count": 112,
     "metadata": {},
     "output_type": "execute_result"
    }
   ],
   "source": [
    "dt_full = DecisionTreeRegressor(max_depth= 5, max_features=10, ccp_alpha=0.01 )\n",
    "dt_full.fit(full_train_dv, train['sales'])\n",
    "dt_full_pred = dt_full.predict(full_train_dv)\n",
    "mean_squared_error(train['sales'], dt_full_pred, squared=False)"
   ]
  },
  {
   "cell_type": "code",
   "execution_count": 113,
   "id": "51985299",
   "metadata": {},
   "outputs": [
    {
     "name": "stdout",
     "output_type": "stream",
     "text": [
      "|--- out_type <= 1.50\n",
      "|   |--- item_cat_2=T <= 0.50\n",
      "|   |   |--- item_type=Breads <= 0.50\n",
      "|   |   |   |--- out_size <= 2.50\n",
      "|   |   |   |   |--- out_size <= 1.50\n",
      "|   |   |   |   |   |--- value: [1925.77]\n",
      "|   |   |   |   |--- out_size >  1.50\n",
      "|   |   |   |   |   |--- value: [1671.32]\n",
      "|   |   |   |--- out_size >  2.50\n",
      "|   |   |   |   |--- item_cat_3=43 <= 0.50\n",
      "|   |   |   |   |   |--- value: [2019.99]\n",
      "|   |   |   |   |--- item_cat_3=43 >  0.50\n",
      "|   |   |   |   |   |--- value: [2428.78]\n",
      "|   |   |--- item_type=Breads >  0.50\n",
      "|   |   |   |--- item_cat_3=01 <= 0.50\n",
      "|   |   |   |   |--- outlet_age_scale <= 0.14\n",
      "|   |   |   |   |   |--- value: [1693.05]\n",
      "|   |   |   |   |--- outlet_age_scale >  0.14\n",
      "|   |   |   |   |   |--- value: [2092.00]\n",
      "|   |   |   |--- item_cat_3=01 >  0.50\n",
      "|   |   |   |   |--- outlet_id=OUT013 <= 0.50\n",
      "|   |   |   |   |   |--- value: [2695.02]\n",
      "|   |   |   |   |--- outlet_id=OUT013 >  0.50\n",
      "|   |   |   |   |   |--- value: [2725.37]\n",
      "|   |--- item_cat_2=T >  0.50\n",
      "|   |   |--- item_mrp_scale <= 0.09\n",
      "|   |   |   |--- item_cat_1=D <= 0.50\n",
      "|   |   |   |   |--- outlet_age_scale <= 0.30\n",
      "|   |   |   |   |   |--- value: [1332.54]\n",
      "|   |   |   |   |--- outlet_age_scale >  0.30\n",
      "|   |   |   |   |   |--- value: [1421.20]\n",
      "|   |   |   |--- item_cat_1=D >  0.50\n",
      "|   |   |   |   |--- item_cat_3=32 <= 0.50\n",
      "|   |   |   |   |   |--- value: [2305.45]\n",
      "|   |   |   |   |--- item_cat_3=32 >  0.50\n",
      "|   |   |   |   |   |--- value: [4065.15]\n",
      "|   |   |--- item_mrp_scale >  0.09\n",
      "|   |   |   |--- outlet_id=OUT046 <= 0.50\n",
      "|   |   |   |   |--- item_cat_3=56 <= 0.50\n",
      "|   |   |   |   |   |--- value: [1849.32]\n",
      "|   |   |   |   |--- item_cat_3=56 >  0.50\n",
      "|   |   |   |   |   |--- value: [3525.34]\n",
      "|   |   |   |--- outlet_id=OUT046 >  0.50\n",
      "|   |   |   |   |--- item_cat_3=56 <= 0.50\n",
      "|   |   |   |   |   |--- value: [2080.37]\n",
      "|   |   |   |   |--- item_cat_3=56 >  0.50\n",
      "|   |   |   |   |   |--- value: [890.23]\n",
      "|--- out_type >  1.50\n",
      "|   |--- item_cat_3=42 <= 0.50\n",
      "|   |   |--- out_size <= 2.50\n",
      "|   |   |   |--- out_type <= 2.50\n",
      "|   |   |   |   |--- outlet_id=OUT035 <= 0.50\n",
      "|   |   |   |   |   |--- value: [1957.39]\n",
      "|   |   |   |   |--- outlet_id=OUT035 >  0.50\n",
      "|   |   |   |   |   |--- value: [2059.60]\n",
      "|   |   |   |--- out_type >  2.50\n",
      "|   |   |   |   |--- out_size <= 1.50\n",
      "|   |   |   |   |   |--- value: [1924.37]\n",
      "|   |   |   |   |--- out_size >  1.50\n",
      "|   |   |   |   |   |--- value: [1969.36]\n",
      "|   |   |--- out_size >  2.50\n",
      "|   |   |   |--- item_type=Canned <= 0.50\n",
      "|   |   |   |   |--- item_w_scale <= 0.03\n",
      "|   |   |   |   |   |--- value: [1576.01]\n",
      "|   |   |   |   |--- item_w_scale >  0.03\n",
      "|   |   |   |   |   |--- value: [2042.30]\n",
      "|   |   |   |--- item_type=Canned >  0.50\n",
      "|   |   |   |   |--- item_cat_3=20 <= 0.50\n",
      "|   |   |   |   |   |--- value: [2228.69]\n",
      "|   |   |   |   |--- item_cat_3=20 >  0.50\n",
      "|   |   |   |   |   |--- value: [3579.14]\n",
      "|   |--- item_cat_3=42 >  0.50\n",
      "|   |   |--- item_cat_2=Z <= 0.50\n",
      "|   |   |   |--- item_type=Canned <= 0.50\n",
      "|   |   |   |   |--- out_size <= 1.50\n",
      "|   |   |   |   |   |--- value: [2120.48]\n",
      "|   |   |   |   |--- out_size >  1.50\n",
      "|   |   |   |   |   |--- value: [1953.17]\n",
      "|   |   |   |--- item_type=Canned >  0.50\n",
      "|   |   |   |   |--- outlet_id=OUT035 <= 0.50\n",
      "|   |   |   |   |   |--- value: [1872.90]\n",
      "|   |   |   |   |--- outlet_id=OUT035 >  0.50\n",
      "|   |   |   |   |   |--- value: [1994.90]\n",
      "|   |   |--- item_cat_2=Z >  0.50\n",
      "|   |   |   |--- item_w_scale <= 0.05\n",
      "|   |   |   |   |--- value: [790.00]\n",
      "|   |   |   |--- item_w_scale >  0.05\n",
      "|   |   |   |   |--- item_type=Frozen Foods <= 0.50\n",
      "|   |   |   |   |   |--- value: [2765.99]\n",
      "|   |   |   |   |--- item_type=Frozen Foods >  0.50\n",
      "|   |   |   |   |   |--- value: [5887.77]\n",
      "\n"
     ]
    }
   ],
   "source": [
    "print(export_text(dt_full, feature_names=full_dv.get_feature_names()))"
   ]
  },
  {
   "cell_type": "code",
   "execution_count": 114,
   "id": "db9fda7e",
   "metadata": {},
   "outputs": [],
   "source": [
    "dt_full_test_pred = dt_full.predict(test_dv_ext)\n",
    "# export(dt_full_test_pred, 'dt_full')"
   ]
  },
  {
   "cell_type": "code",
   "execution_count": 115,
   "id": "9ef8fa3b",
   "metadata": {},
   "outputs": [
    {
     "data": {
      "text/html": [
       "<div>\n",
       "<style scoped>\n",
       "    .dataframe tbody tr th:only-of-type {\n",
       "        vertical-align: middle;\n",
       "    }\n",
       "\n",
       "    .dataframe tbody tr th {\n",
       "        vertical-align: top;\n",
       "    }\n",
       "\n",
       "    .dataframe thead th {\n",
       "        text-align: right;\n",
       "    }\n",
       "</style>\n",
       "<table border=\"1\" class=\"dataframe\">\n",
       "  <thead>\n",
       "    <tr style=\"text-align: right;\">\n",
       "      <th></th>\n",
       "      <th>item_cat_0</th>\n",
       "      <th>item_cat_1</th>\n",
       "      <th>item_cat_2</th>\n",
       "      <th>item_cat_3</th>\n",
       "      <th>item_w</th>\n",
       "      <th>item_type</th>\n",
       "      <th>item_mrp</th>\n",
       "      <th>outlet_id</th>\n",
       "      <th>out_size</th>\n",
       "      <th>out_type</th>\n",
       "      <th>outlet_age</th>\n",
       "    </tr>\n",
       "  </thead>\n",
       "  <tbody>\n",
       "    <tr>\n",
       "      <th>0</th>\n",
       "      <td>F</td>\n",
       "      <td>D</td>\n",
       "      <td>I</td>\n",
       "      <td>15</td>\n",
       "      <td>10.256</td>\n",
       "      <td>Starchy Foods</td>\n",
       "      <td>65.639</td>\n",
       "      <td>OUT035</td>\n",
       "      <td>3</td>\n",
       "      <td>3</td>\n",
       "      <td>22</td>\n",
       "    </tr>\n",
       "    <tr>\n",
       "      <th>1</th>\n",
       "      <td>F</td>\n",
       "      <td>D</td>\n",
       "      <td>G</td>\n",
       "      <td>33</td>\n",
       "      <td>17.097</td>\n",
       "      <td>Fruits and Vegetables</td>\n",
       "      <td>62.723</td>\n",
       "      <td>OUT049</td>\n",
       "      <td>2</td>\n",
       "      <td>1</td>\n",
       "      <td>24</td>\n",
       "    </tr>\n",
       "    <tr>\n",
       "      <th>2</th>\n",
       "      <td>F</td>\n",
       "      <td>D</td>\n",
       "      <td>K</td>\n",
       "      <td>21</td>\n",
       "      <td>20.459</td>\n",
       "      <td>Dairy</td>\n",
       "      <td>169.515</td>\n",
       "      <td>OUT013</td>\n",
       "      <td>1</td>\n",
       "      <td>2</td>\n",
       "      <td>12</td>\n",
       "    </tr>\n",
       "    <tr>\n",
       "      <th>3</th>\n",
       "      <td>F</td>\n",
       "      <td>D</td>\n",
       "      <td>R</td>\n",
       "      <td>58</td>\n",
       "      <td>17.485</td>\n",
       "      <td>Meat</td>\n",
       "      <td>185.331</td>\n",
       "      <td>OUT046</td>\n",
       "      <td>1</td>\n",
       "      <td>1</td>\n",
       "      <td>17</td>\n",
       "    </tr>\n",
       "    <tr>\n",
       "      <th>4</th>\n",
       "      <td>F</td>\n",
       "      <td>D</td>\n",
       "      <td>X</td>\n",
       "      <td>33</td>\n",
       "      <td>9.363</td>\n",
       "      <td>Baking Goods</td>\n",
       "      <td>132.951</td>\n",
       "      <td>OUT035</td>\n",
       "      <td>1</td>\n",
       "      <td>2</td>\n",
       "      <td>18</td>\n",
       "    </tr>\n",
       "  </tbody>\n",
       "</table>\n",
       "</div>"
      ],
      "text/plain": [
       "  item_cat_0 item_cat_1 item_cat_2 item_cat_3  item_w              item_type  \\\n",
       "0          F          D          I         15  10.256          Starchy Foods   \n",
       "1          F          D          G         33  17.097  Fruits and Vegetables   \n",
       "2          F          D          K         21  20.459                  Dairy   \n",
       "3          F          D          R         58  17.485                   Meat   \n",
       "4          F          D          X         33   9.363           Baking Goods   \n",
       "\n",
       "   item_mrp outlet_id  out_size  out_type  outlet_age  \n",
       "0    65.639    OUT035         3         3          22  \n",
       "1    62.723    OUT049         2         1          24  \n",
       "2   169.515    OUT013         1         2          12  \n",
       "3   185.331    OUT046         1         1          17  \n",
       "4   132.951    OUT035         1         2          18  "
      ]
     },
     "execution_count": 115,
     "metadata": {},
     "output_type": "execute_result"
    }
   ],
   "source": [
    "full_train[cols].head()"
   ]
  },
  {
   "cell_type": "code",
   "execution_count": 116,
   "id": "aedc6731",
   "metadata": {},
   "outputs": [
    {
     "data": {
      "text/plain": [
       "0         734.512\n",
       "1        4146.958\n",
       "2        2161.110\n",
       "3        2267.133\n",
       "4         581.665\n",
       "           ...   \n",
       "74679    1132.516\n",
       "74680    2002.876\n",
       "74681    1295.099\n",
       "74682    1659.243\n",
       "74683     884.406\n",
       "Name: sales, Length: 74684, dtype: float64"
      ]
     },
     "execution_count": 116,
     "metadata": {},
     "output_type": "execute_result"
    }
   ],
   "source": [
    "train['sales']"
   ]
  },
  {
   "cell_type": "code",
   "execution_count": 117,
   "id": "d6e41763",
   "metadata": {},
   "outputs": [
    {
     "data": {
      "text/plain": [
       "1276.183902585963"
      ]
     },
     "execution_count": 117,
     "metadata": {},
     "output_type": "execute_result"
    }
   ],
   "source": [
    "rf_full = RandomForestRegressor(max_depth= 5, n_estimators= 50)\n",
    "rf_full.fit(full_train_dv, train['sales'])\n",
    "rf_full_pred = rf_full.predict(full_train_dv)\n",
    "mean_squared_error(train['sales'], rf_full_pred, squared=False)"
   ]
  },
  {
   "cell_type": "markdown",
   "id": "2a474397",
   "metadata": {},
   "source": [
    "### Parameter Tuning"
   ]
  },
  {
   "cell_type": "code",
   "execution_count": 118,
   "id": "2f30233f",
   "metadata": {},
   "outputs": [],
   "source": [
    "import warnings\n",
    "warnings.filterwarnings(\"ignore\", category=FutureWarning)"
   ]
  },
  {
   "cell_type": "code",
   "execution_count": null,
   "id": "55bea055",
   "metadata": {},
   "outputs": [],
   "source": [
    "\n",
    "# rf_tune = RandomForestRegressor()\n",
    "# distrib = {\n",
    "#     'n_estimators': [10, 50, 100, 150, 200],\n",
    "#     'max_depth': [5, 10, 15, 20],\n",
    "#     'max_features':['sqrt', 'log2', 5, 10, 15],\n",
    "#     'ccp_alpha' : [0.01, 0.05, 0.1, .05],\n",
    "#     'max_samples': [0.15, 0.25, 0.33, 0.5]\n",
    "# }\n",
    "\n",
    "# tuner = RandomizedSearchCV(rf_tune, distrib, random_state = 42)\n",
    "\n",
    "# tuner.fit(full_train_dv, train['sales'])"
   ]
  },
  {
   "cell_type": "code",
   "execution_count": null,
   "id": "6d692d44",
   "metadata": {},
   "outputs": [],
   "source": [
    "# tuner.score"
   ]
  },
  {
   "cell_type": "code",
   "execution_count": 119,
   "id": "cf81a221",
   "metadata": {},
   "outputs": [
    {
     "name": "stdout",
     "output_type": "stream",
     "text": [
      "1245.092865637336\n"
     ]
    }
   ],
   "source": [
    "rf_tuned = RandomForestRegressor(ccp_alpha=0.05, max_depth=15, max_features=5,\n",
    "                      max_samples=0.5, n_estimators=200)\n",
    "\n",
    "rf_tuned.fit(full_train_dv, train['sales'])\n",
    "rf_full_pred = rf_tuned.predict(full_train_dv)\n",
    "print(mean_squared_error(train['sales'], rf_full_pred, squared=False))"
   ]
  },
  {
   "cell_type": "code",
   "execution_count": 120,
   "id": "842ae552",
   "metadata": {},
   "outputs": [],
   "source": [
    "rf_tuned_test_preds = rf_tuned.predict(full_test_dv)\n",
    "export(rf_tuned_test_preds, 'rf_tuned')"
   ]
  },
  {
   "cell_type": "markdown",
   "id": "3d93738a",
   "metadata": {},
   "source": [
    "### Dump Objects"
   ]
  },
  {
   "cell_type": "code",
   "execution_count": null,
   "id": "12c99f30",
   "metadata": {},
   "outputs": [],
   "source": [
    "import pickle\n",
    "\n",
    "with open('model.bin', 'wb') as outfile:\n",
    "    pickle.dump(rf_tuned, outfile)\n",
    "    \n",
    "with open('dv.bin', 'wb') as outfile:\n",
    "    pickle.dump(full_dv, outfile)\n",
    "    \n",
    "with open('test_samples.bin', 'wb') as outfile:\n",
    "    pickle.dump(test_samples, outfile)"
   ]
  },
  {
   "cell_type": "markdown",
   "id": "6277edf4",
   "metadata": {},
   "source": [
    "## Rough Work \n",
    "\n",
    "Below are some code snippets for quick prototyping of functions.  Code further on can be ignored"
   ]
  },
  {
   "cell_type": "code",
   "execution_count": 132,
   "id": "180ceb4c",
   "metadata": {},
   "outputs": [
    {
     "data": {
      "text/plain": [
       "[{'item_id': 'FDX31',\n",
       "  'item_w': 14.83449538,\n",
       "  'item_type': 'Household',\n",
       "  'item_mrp': 157.9916094,\n",
       "  'outlet_id': 'OUT018',\n",
       "  'outlet_year': 2009,\n",
       "  'outlet_size': 'Medium',\n",
       "  'outlet_location_type': 'Tier 3',\n",
       "  'sales': 880.525364},\n",
       " {'item_id': 'FDT07',\n",
       "  'item_w': 20.35357759,\n",
       "  'item_type': 'Snack Foods',\n",
       "  'item_mrp': 188.2468412,\n",
       "  'outlet_id': 'OUT049',\n",
       "  'outlet_year': 2009,\n",
       "  'outlet_size': 'Medium',\n",
       "  'outlet_location_type': 'Tier 3',\n",
       "  'sales': 3144.629668},\n",
       " {'item_id': 'FDL13',\n",
       "  'item_w': 20.68202943,\n",
       "  'item_type': 'Canned',\n",
       "  'item_mrp': 207.5607063,\n",
       "  'outlet_id': 'OUT046',\n",
       "  'outlet_year': 2004,\n",
       "  'outlet_size': 'Small',\n",
       "  'outlet_location_type': 'Tier 3',\n",
       "  'sales': 646.9358065},\n",
       " {'item_id': 'DRJ01',\n",
       "  'item_w': 16.70390978,\n",
       "  'item_type': 'Meat',\n",
       "  'item_mrp': 260.533968,\n",
       "  'outlet_id': 'OUT018',\n",
       "  'outlet_year': 2009,\n",
       "  'outlet_size': 'Medium',\n",
       "  'outlet_location_type': 'Tier 3',\n",
       "  'sales': 165.8082239},\n",
       " {'item_id': 'DRM59',\n",
       "  'item_w': 20.70043138,\n",
       "  'item_type': 'Snack Foods',\n",
       "  'item_mrp': 171.4147997,\n",
       "  'outlet_id': 'OUT046',\n",
       "  'outlet_year': 1987,\n",
       "  'outlet_size': 'Small',\n",
       "  'outlet_location_type': 'Tier 2',\n",
       "  'sales': 1787.964369},\n",
       " {'item_id': 'FDY49',\n",
       "  'item_w': 19.64010541,\n",
       "  'item_type': 'Starchy Foods',\n",
       "  'item_mrp': 65.88239918,\n",
       "  'outlet_id': 'OUT018',\n",
       "  'outlet_year': 1997,\n",
       "  'outlet_size': 'Medium',\n",
       "  'outlet_location_type': 'Tier 3',\n",
       "  'sales': 2190.463339},\n",
       " {'item_id': 'FDJ38',\n",
       "  'item_w': 21.15178379,\n",
       "  'item_type': 'Canned',\n",
       "  'item_mrp': 130.8623762,\n",
       "  'outlet_id': 'OUT018',\n",
       "  'outlet_year': 2004,\n",
       "  'outlet_size': 'High',\n",
       "  'outlet_location_type': 'Tier 3',\n",
       "  'sales': 1159.684936},\n",
       " {'item_id': 'NCM41',\n",
       "  'item_w': 9.725873007,\n",
       "  'item_type': 'Meat',\n",
       "  'item_mrp': 159.8957998,\n",
       "  'outlet_id': 'OUT035',\n",
       "  'outlet_year': 1997,\n",
       "  'outlet_size': 'Medium',\n",
       "  'outlet_location_type': 'Tier 1',\n",
       "  'sales': 2763.962381},\n",
       " {'item_id': 'NCL19',\n",
       "  'item_w': 13.01732805,\n",
       "  'item_type': 'Frozen Foods',\n",
       "  'item_mrp': 191.3092105,\n",
       "  'outlet_id': 'OUT046',\n",
       "  'outlet_year': 2004,\n",
       "  'outlet_size': 'Small',\n",
       "  'outlet_location_type': 'Tier 2',\n",
       "  'sales': 3167.840314},\n",
       " {'item_id': 'FDU59',\n",
       "  'item_w': 19.50051456,\n",
       "  'item_type': 'Frozen Foods',\n",
       "  'item_mrp': 164.5526996,\n",
       "  'outlet_id': 'OUT046',\n",
       "  'outlet_year': 2004,\n",
       "  'outlet_size': 'Small',\n",
       "  'outlet_location_type': 'Tier 1',\n",
       "  'sales': 1073.627334},\n",
       " {'item_id': 'FDL34',\n",
       "  'item_w': 20.86855434,\n",
       "  'item_type': 'Fruits and Vegetables',\n",
       "  'item_mrp': 170.9758417,\n",
       "  'outlet_id': 'OUT013',\n",
       "  'outlet_year': 1987,\n",
       "  'outlet_size': 'High',\n",
       "  'outlet_location_type': 'Tier 2',\n",
       "  'sales': 872.821101},\n",
       " {'item_id': 'FDH26',\n",
       "  'item_w': 17.23933503,\n",
       "  'item_type': 'Meat',\n",
       "  'item_mrp': 173.752258,\n",
       "  'outlet_id': 'OUT046',\n",
       "  'outlet_year': 1997,\n",
       "  'outlet_size': 'Small',\n",
       "  'outlet_location_type': 'Tier 1',\n",
       "  'sales': 2792.184785},\n",
       " {'item_id': 'FDI40',\n",
       "  'item_w': 18.07653509,\n",
       "  'item_type': 'Soft Drinks',\n",
       "  'item_mrp': 124.7932476,\n",
       "  'outlet_id': 'OUT013',\n",
       "  'outlet_year': 1997,\n",
       "  'outlet_size': 'Medium',\n",
       "  'outlet_location_type': 'Tier 3',\n",
       "  'sales': 3951.786194},\n",
       " {'item_id': 'NCZ41',\n",
       "  'item_w': 10.25071286,\n",
       "  'item_type': 'Frozen Foods',\n",
       "  'item_mrp': 124.1161908,\n",
       "  'outlet_id': 'OUT013',\n",
       "  'outlet_year': 2003,\n",
       "  'outlet_size': 'High',\n",
       "  'outlet_location_type': 'Tier 3',\n",
       "  'sales': 3215.31087},\n",
       " {'item_id': 'FDZ55',\n",
       "  'item_w': 9.293289702,\n",
       "  'item_type': 'Breads',\n",
       "  'item_mrp': 181.5567268,\n",
       "  'outlet_id': 'OUT046',\n",
       "  'outlet_year': 1996,\n",
       "  'outlet_size': 'Small',\n",
       "  'outlet_location_type': 'Tier 2',\n",
       "  'sales': 5223.846149}]"
      ]
     },
     "execution_count": 132,
     "metadata": {},
     "output_type": "execute_result"
    }
   ],
   "source": [
    "test_samples= eval(df.sample(15, random_state= 42).to_json(orient= 'records'))\n",
    "test_samples"
   ]
  },
  {
   "cell_type": "code",
   "execution_count": 134,
   "id": "55f9a8ae",
   "metadata": {},
   "outputs": [
    {
     "data": {
      "text/html": [
       "<div>\n",
       "<style scoped>\n",
       "    .dataframe tbody tr th:only-of-type {\n",
       "        vertical-align: middle;\n",
       "    }\n",
       "\n",
       "    .dataframe tbody tr th {\n",
       "        vertical-align: top;\n",
       "    }\n",
       "\n",
       "    .dataframe thead th {\n",
       "        text-align: right;\n",
       "    }\n",
       "</style>\n",
       "<table border=\"1\" class=\"dataframe\">\n",
       "  <thead>\n",
       "    <tr style=\"text-align: right;\">\n",
       "      <th></th>\n",
       "      <th>item_id</th>\n",
       "      <th>item_w</th>\n",
       "      <th>item_type</th>\n",
       "      <th>item_mrp</th>\n",
       "      <th>outlet_id</th>\n",
       "      <th>outlet_year</th>\n",
       "      <th>outlet_size</th>\n",
       "      <th>outlet_location_type</th>\n",
       "      <th>sales</th>\n",
       "    </tr>\n",
       "  </thead>\n",
       "  <tbody>\n",
       "    <tr>\n",
       "      <th>0</th>\n",
       "      <td>FDX31</td>\n",
       "      <td>14.834</td>\n",
       "      <td>Household</td>\n",
       "      <td>157.992</td>\n",
       "      <td>OUT018</td>\n",
       "      <td>2009</td>\n",
       "      <td>Medium</td>\n",
       "      <td>Tier 3</td>\n",
       "      <td>880.525</td>\n",
       "    </tr>\n",
       "    <tr>\n",
       "      <th>1</th>\n",
       "      <td>FDT07</td>\n",
       "      <td>20.354</td>\n",
       "      <td>Snack Foods</td>\n",
       "      <td>188.247</td>\n",
       "      <td>OUT049</td>\n",
       "      <td>2009</td>\n",
       "      <td>Medium</td>\n",
       "      <td>Tier 3</td>\n",
       "      <td>3144.630</td>\n",
       "    </tr>\n",
       "    <tr>\n",
       "      <th>2</th>\n",
       "      <td>FDL13</td>\n",
       "      <td>20.682</td>\n",
       "      <td>Canned</td>\n",
       "      <td>207.561</td>\n",
       "      <td>OUT046</td>\n",
       "      <td>2004</td>\n",
       "      <td>Small</td>\n",
       "      <td>Tier 3</td>\n",
       "      <td>646.936</td>\n",
       "    </tr>\n",
       "    <tr>\n",
       "      <th>3</th>\n",
       "      <td>DRJ01</td>\n",
       "      <td>16.704</td>\n",
       "      <td>Meat</td>\n",
       "      <td>260.534</td>\n",
       "      <td>OUT018</td>\n",
       "      <td>2009</td>\n",
       "      <td>Medium</td>\n",
       "      <td>Tier 3</td>\n",
       "      <td>165.808</td>\n",
       "    </tr>\n",
       "    <tr>\n",
       "      <th>4</th>\n",
       "      <td>DRM59</td>\n",
       "      <td>20.700</td>\n",
       "      <td>Snack Foods</td>\n",
       "      <td>171.415</td>\n",
       "      <td>OUT046</td>\n",
       "      <td>1987</td>\n",
       "      <td>Small</td>\n",
       "      <td>Tier 2</td>\n",
       "      <td>1787.964</td>\n",
       "    </tr>\n",
       "    <tr>\n",
       "      <th>5</th>\n",
       "      <td>FDY49</td>\n",
       "      <td>19.640</td>\n",
       "      <td>Starchy Foods</td>\n",
       "      <td>65.882</td>\n",
       "      <td>OUT018</td>\n",
       "      <td>1997</td>\n",
       "      <td>Medium</td>\n",
       "      <td>Tier 3</td>\n",
       "      <td>2190.463</td>\n",
       "    </tr>\n",
       "    <tr>\n",
       "      <th>6</th>\n",
       "      <td>FDJ38</td>\n",
       "      <td>21.152</td>\n",
       "      <td>Canned</td>\n",
       "      <td>130.862</td>\n",
       "      <td>OUT018</td>\n",
       "      <td>2004</td>\n",
       "      <td>High</td>\n",
       "      <td>Tier 3</td>\n",
       "      <td>1159.685</td>\n",
       "    </tr>\n",
       "    <tr>\n",
       "      <th>7</th>\n",
       "      <td>NCM41</td>\n",
       "      <td>9.726</td>\n",
       "      <td>Meat</td>\n",
       "      <td>159.896</td>\n",
       "      <td>OUT035</td>\n",
       "      <td>1997</td>\n",
       "      <td>Medium</td>\n",
       "      <td>Tier 1</td>\n",
       "      <td>2763.962</td>\n",
       "    </tr>\n",
       "    <tr>\n",
       "      <th>8</th>\n",
       "      <td>NCL19</td>\n",
       "      <td>13.017</td>\n",
       "      <td>Frozen Foods</td>\n",
       "      <td>191.309</td>\n",
       "      <td>OUT046</td>\n",
       "      <td>2004</td>\n",
       "      <td>Small</td>\n",
       "      <td>Tier 2</td>\n",
       "      <td>3167.840</td>\n",
       "    </tr>\n",
       "    <tr>\n",
       "      <th>9</th>\n",
       "      <td>FDU59</td>\n",
       "      <td>19.501</td>\n",
       "      <td>Frozen Foods</td>\n",
       "      <td>164.553</td>\n",
       "      <td>OUT046</td>\n",
       "      <td>2004</td>\n",
       "      <td>Small</td>\n",
       "      <td>Tier 1</td>\n",
       "      <td>1073.627</td>\n",
       "    </tr>\n",
       "    <tr>\n",
       "      <th>10</th>\n",
       "      <td>FDL34</td>\n",
       "      <td>20.869</td>\n",
       "      <td>Fruits and Vegetables</td>\n",
       "      <td>170.976</td>\n",
       "      <td>OUT013</td>\n",
       "      <td>1987</td>\n",
       "      <td>High</td>\n",
       "      <td>Tier 2</td>\n",
       "      <td>872.821</td>\n",
       "    </tr>\n",
       "    <tr>\n",
       "      <th>11</th>\n",
       "      <td>FDH26</td>\n",
       "      <td>17.239</td>\n",
       "      <td>Meat</td>\n",
       "      <td>173.752</td>\n",
       "      <td>OUT046</td>\n",
       "      <td>1997</td>\n",
       "      <td>Small</td>\n",
       "      <td>Tier 1</td>\n",
       "      <td>2792.185</td>\n",
       "    </tr>\n",
       "    <tr>\n",
       "      <th>12</th>\n",
       "      <td>FDI40</td>\n",
       "      <td>18.077</td>\n",
       "      <td>Soft Drinks</td>\n",
       "      <td>124.793</td>\n",
       "      <td>OUT013</td>\n",
       "      <td>1997</td>\n",
       "      <td>Medium</td>\n",
       "      <td>Tier 3</td>\n",
       "      <td>3951.786</td>\n",
       "    </tr>\n",
       "    <tr>\n",
       "      <th>13</th>\n",
       "      <td>NCZ41</td>\n",
       "      <td>10.251</td>\n",
       "      <td>Frozen Foods</td>\n",
       "      <td>124.116</td>\n",
       "      <td>OUT013</td>\n",
       "      <td>2003</td>\n",
       "      <td>High</td>\n",
       "      <td>Tier 3</td>\n",
       "      <td>3215.311</td>\n",
       "    </tr>\n",
       "    <tr>\n",
       "      <th>14</th>\n",
       "      <td>FDZ55</td>\n",
       "      <td>9.293</td>\n",
       "      <td>Breads</td>\n",
       "      <td>181.557</td>\n",
       "      <td>OUT046</td>\n",
       "      <td>1996</td>\n",
       "      <td>Small</td>\n",
       "      <td>Tier 2</td>\n",
       "      <td>5223.846</td>\n",
       "    </tr>\n",
       "  </tbody>\n",
       "</table>\n",
       "</div>"
      ],
      "text/plain": [
       "   item_id  item_w              item_type  item_mrp outlet_id  outlet_year  \\\n",
       "0    FDX31  14.834              Household   157.992    OUT018         2009   \n",
       "1    FDT07  20.354            Snack Foods   188.247    OUT049         2009   \n",
       "2    FDL13  20.682                 Canned   207.561    OUT046         2004   \n",
       "3    DRJ01  16.704                   Meat   260.534    OUT018         2009   \n",
       "4    DRM59  20.700            Snack Foods   171.415    OUT046         1987   \n",
       "5    FDY49  19.640          Starchy Foods    65.882    OUT018         1997   \n",
       "6    FDJ38  21.152                 Canned   130.862    OUT018         2004   \n",
       "7    NCM41   9.726                   Meat   159.896    OUT035         1997   \n",
       "8    NCL19  13.017           Frozen Foods   191.309    OUT046         2004   \n",
       "9    FDU59  19.501           Frozen Foods   164.553    OUT046         2004   \n",
       "10   FDL34  20.869  Fruits and Vegetables   170.976    OUT013         1987   \n",
       "11   FDH26  17.239                   Meat   173.752    OUT046         1997   \n",
       "12   FDI40  18.077            Soft Drinks   124.793    OUT013         1997   \n",
       "13   NCZ41  10.251           Frozen Foods   124.116    OUT013         2003   \n",
       "14   FDZ55   9.293                 Breads   181.557    OUT046         1996   \n",
       "\n",
       "   outlet_size outlet_location_type     sales  \n",
       "0       Medium               Tier 3   880.525  \n",
       "1       Medium               Tier 3  3144.630  \n",
       "2        Small               Tier 3   646.936  \n",
       "3       Medium               Tier 3   165.808  \n",
       "4        Small               Tier 2  1787.964  \n",
       "5       Medium               Tier 3  2190.463  \n",
       "6         High               Tier 3  1159.685  \n",
       "7       Medium               Tier 1  2763.962  \n",
       "8        Small               Tier 2  3167.840  \n",
       "9        Small               Tier 1  1073.627  \n",
       "10        High               Tier 2   872.821  \n",
       "11       Small               Tier 1  2792.185  \n",
       "12      Medium               Tier 3  3951.786  \n",
       "13        High               Tier 3  3215.311  \n",
       "14       Small               Tier 2  5223.846  "
      ]
     },
     "execution_count": 134,
     "metadata": {},
     "output_type": "execute_result"
    }
   ],
   "source": [
    "pd.DataFrame(test_samples).head()"
   ]
  },
  {
   "cell_type": "code",
   "execution_count": 130,
   "id": "5ad15a14",
   "metadata": {},
   "outputs": [],
   "source": [
    "def retrieve_item_cats(df, col):\n",
    "    \"\"\"\n",
    "    Split the item_id feature into categories\n",
    "    \"\"\"\n",
    "    item_cats={}\n",
    "    for x in range(4):\n",
    "#         print(x)\n",
    "        if x<3:\n",
    "            item_cats[f'item_cat_{x}'] = [df[col][loc][x] for loc in range(len(df))]\n",
    "        else:\n",
    "            item_cats[f'item_cat_{x}'] = [df[col][loc][x:] for loc in range(len(df))]\n",
    "    return item_cats\n",
    "\n",
    "def scale_num_cols(df, scale_cols):\n",
    "    for col in scale_cols:\n",
    "        df[col+'_scale'] = (df[col] - min(df[col])) / (max(df[col]) - min(df[col]))\n",
    "    return df\n",
    "\n",
    "def process_data(df, cols):\n",
    "    \"\"\"\n",
    "\n",
    "    \"\"\"\n",
    "    df = pd.DataFrame.from_dict(df).reset_index(drop= True)\n",
    "    df_ids =  pd.DataFrame(retrieve_item_cats(df, 'item_id')).reset_index(drop= True)\n",
    "    df_id_split = pd.concat([df, df_ids], axis= 1)\n",
    "#     print([len(df), len(df_ids), len(df_id_split)])\n",
    "    df_id_split['out_size'] = df['outlet_size'].map(outlet_size_map)\n",
    "    df_id_split['out_type'] = df['outlet_location_type'].map(outlet_location_map)\n",
    "    df_id_split['outlet_age']= 2021-df_id_split['outlet_year']\n",
    "    df_id_split = scale_num_cols(df_id_split, scale_cols)\n",
    "\n",
    "#     scale_num_cols(df_id_split, scale_cols)\n",
    "    return df_id_split[scaled_cols]"
   ]
  },
  {
   "cell_type": "code",
   "execution_count": 137,
   "id": "4466f559",
   "metadata": {},
   "outputs": [],
   "source": [
    "scale_cols = ['item_w', 'item_mrp', 'outlet_age']\n",
    "scaled_cols = ['item_cat_0',\n",
    "       'item_cat_1', 'item_cat_2', 'item_cat_3',  'item_w_scale', 'item_type', 'item_mrp_scale', 'outlet_id',\n",
    "       'out_size', 'out_type','outlet_age_scale']\n",
    "ip = process_data(test_samples, scaled_cols)"
   ]
  },
  {
   "cell_type": "code",
   "execution_count": null,
   "id": "6d4afc5d",
   "metadata": {},
   "outputs": [],
   "source": [
    "# pd.DataFrame(test)\n",
    "pd.DataFrame(test.values())"
   ]
  },
  {
   "cell_type": "code",
   "execution_count": null,
   "id": "f4f8f5ea",
   "metadata": {},
   "outputs": [],
   "source": []
  }
 ],
 "metadata": {
  "kernelspec": {
   "display_name": "Python 3 (ipykernel)",
   "language": "python",
   "name": "python3"
  },
  "language_info": {
   "codemirror_mode": {
    "name": "ipython",
    "version": 3
   },
   "file_extension": ".py",
   "mimetype": "text/x-python",
   "name": "python",
   "nbconvert_exporter": "python",
   "pygments_lexer": "ipython3",
   "version": "3.8.11"
  }
 },
 "nbformat": 4,
 "nbformat_minor": 5
}
