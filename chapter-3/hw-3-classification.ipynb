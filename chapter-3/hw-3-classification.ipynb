{
 "cells": [
  {
   "cell_type": "markdown",
   "id": "7708223d",
   "metadata": {},
   "source": [
    "## MLBookCamp Homework 3\n",
    "\n",
    "- [Course page](https://datatalks.club/courses/2021-winter-ml-zoomcamp.html)\n",
    "\n",
    "- [Homework page](https://github.com/alexeygrigorev/mlbookcamp-code/blob/master/course-zoomcamp/03-classification/homework.md)"
   ]
  },
  {
   "cell_type": "markdown",
   "id": "084e053b",
   "metadata": {},
   "source": [
    "### Dataset\n",
    "\n",
    "In this homework, we will continue the New York City Airbnb Open Data. You can take it from [Kaggle](https://www.kaggle.com/dgomonov/new-york-city-airbnb-open-data?select=AB_NYC_2019.csv) or download from [here](https://raw.githubusercontent.com/alexeygrigorev/datasets/master/AB_NYC_2019.csv) if you don't want to sign up to Kaggle.  \n",
    "\\\n",
    "We'll keep working with the 'price' variable, and we'll transform it to a classification task."
   ]
  },
  {
   "cell_type": "code",
   "execution_count": 1,
   "id": "bd51fa9b",
   "metadata": {},
   "outputs": [],
   "source": [
    "# Import basic modules beforehand\n",
    "import os\n",
    "import numpy as np\n",
    "import pandas as pd\n",
    "import sklearn\n",
    "\n"
   ]
  },
  {
   "cell_type": "code",
   "execution_count": 2,
   "id": "57a57e44",
   "metadata": {},
   "outputs": [
    {
     "data": {
      "text/plain": [
       "['.ipynb_checkpoints',\n",
       " 'airbnb.csv',\n",
       " 'ch-3-telecom-churn.ipynb',\n",
       " 'churn.csv',\n",
       " 'hw-3-classification.ipynb',\n",
       " 'metrics.ipynb']"
      ]
     },
     "execution_count": 2,
     "metadata": {},
     "output_type": "execute_result"
    }
   ],
   "source": [
    "os.listdir()"
   ]
  },
  {
   "cell_type": "code",
   "execution_count": 3,
   "id": "c481954c",
   "metadata": {},
   "outputs": [
    {
     "name": "stdout",
     "output_type": "stream",
     "text": [
      "--2021-09-26 21:17:24--  https://raw.githubusercontent.com/alexeygrigorev/datasets/master/AB_NYC_2019.csv\n",
      "Resolving raw.githubusercontent.com (raw.githubusercontent.com)... 185.199.108.133, 185.199.110.133, 185.199.111.133, ...\n",
      "Connecting to raw.githubusercontent.com (raw.githubusercontent.com)|185.199.108.133|:443... connected.\n",
      "HTTP request sent, awaiting response... 200 OK\n",
      "Length: 7077973 (6.8M) [text/plain]\n",
      "Saving to: ‘airbnb.csv’\n",
      "\n",
      "airbnb.csv          100%[===================>]   6.75M  6.42MB/s    in 1.1s    \n",
      "\n",
      "2021-09-26 21:17:28 (6.42 MB/s) - ‘airbnb.csv’ saved [7077973/7077973]\n",
      "\n"
     ]
    }
   ],
   "source": [
    "!wget https://raw.githubusercontent.com/alexeygrigorev/datasets/master/AB_NYC_2019.csv -O 'airbnb.csv'"
   ]
  },
  {
   "cell_type": "code",
   "execution_count": 4,
   "id": "4db914de",
   "metadata": {},
   "outputs": [
    {
     "data": {
      "text/plain": [
       "['.ipynb_checkpoints',\n",
       " 'airbnb.csv',\n",
       " 'ch-3-telecom-churn.ipynb',\n",
       " 'churn.csv',\n",
       " 'hw-3-classification.ipynb',\n",
       " 'metrics.ipynb']"
      ]
     },
     "execution_count": 4,
     "metadata": {},
     "output_type": "execute_result"
    }
   ],
   "source": [
    "os.listdir()"
   ]
  },
  {
   "cell_type": "code",
   "execution_count": 5,
   "id": "80920f50",
   "metadata": {},
   "outputs": [],
   "source": [
    "df = pd.read_csv('airbnb.csv')"
   ]
  },
  {
   "cell_type": "code",
   "execution_count": 6,
   "id": "22e1855e",
   "metadata": {},
   "outputs": [
    {
     "data": {
      "text/html": [
       "<div>\n",
       "<style scoped>\n",
       "    .dataframe tbody tr th:only-of-type {\n",
       "        vertical-align: middle;\n",
       "    }\n",
       "\n",
       "    .dataframe tbody tr th {\n",
       "        vertical-align: top;\n",
       "    }\n",
       "\n",
       "    .dataframe thead th {\n",
       "        text-align: right;\n",
       "    }\n",
       "</style>\n",
       "<table border=\"1\" class=\"dataframe\">\n",
       "  <thead>\n",
       "    <tr style=\"text-align: right;\">\n",
       "      <th></th>\n",
       "      <th>id</th>\n",
       "      <th>name</th>\n",
       "      <th>host_id</th>\n",
       "      <th>host_name</th>\n",
       "      <th>neighbourhood_group</th>\n",
       "      <th>neighbourhood</th>\n",
       "      <th>latitude</th>\n",
       "      <th>longitude</th>\n",
       "      <th>room_type</th>\n",
       "      <th>price</th>\n",
       "      <th>minimum_nights</th>\n",
       "      <th>number_of_reviews</th>\n",
       "      <th>last_review</th>\n",
       "      <th>reviews_per_month</th>\n",
       "      <th>calculated_host_listings_count</th>\n",
       "      <th>availability_365</th>\n",
       "    </tr>\n",
       "  </thead>\n",
       "  <tbody>\n",
       "    <tr>\n",
       "      <th>0</th>\n",
       "      <td>2539</td>\n",
       "      <td>Clean &amp; quiet apt home by the park</td>\n",
       "      <td>2787</td>\n",
       "      <td>John</td>\n",
       "      <td>Brooklyn</td>\n",
       "      <td>Kensington</td>\n",
       "      <td>40.64749</td>\n",
       "      <td>-73.97237</td>\n",
       "      <td>Private room</td>\n",
       "      <td>149</td>\n",
       "      <td>1</td>\n",
       "      <td>9</td>\n",
       "      <td>2018-10-19</td>\n",
       "      <td>0.21</td>\n",
       "      <td>6</td>\n",
       "      <td>365</td>\n",
       "    </tr>\n",
       "    <tr>\n",
       "      <th>1</th>\n",
       "      <td>2595</td>\n",
       "      <td>Skylit Midtown Castle</td>\n",
       "      <td>2845</td>\n",
       "      <td>Jennifer</td>\n",
       "      <td>Manhattan</td>\n",
       "      <td>Midtown</td>\n",
       "      <td>40.75362</td>\n",
       "      <td>-73.98377</td>\n",
       "      <td>Entire home/apt</td>\n",
       "      <td>225</td>\n",
       "      <td>1</td>\n",
       "      <td>45</td>\n",
       "      <td>2019-05-21</td>\n",
       "      <td>0.38</td>\n",
       "      <td>2</td>\n",
       "      <td>355</td>\n",
       "    </tr>\n",
       "    <tr>\n",
       "      <th>2</th>\n",
       "      <td>3647</td>\n",
       "      <td>THE VILLAGE OF HARLEM....NEW YORK !</td>\n",
       "      <td>4632</td>\n",
       "      <td>Elisabeth</td>\n",
       "      <td>Manhattan</td>\n",
       "      <td>Harlem</td>\n",
       "      <td>40.80902</td>\n",
       "      <td>-73.94190</td>\n",
       "      <td>Private room</td>\n",
       "      <td>150</td>\n",
       "      <td>3</td>\n",
       "      <td>0</td>\n",
       "      <td>NaN</td>\n",
       "      <td>NaN</td>\n",
       "      <td>1</td>\n",
       "      <td>365</td>\n",
       "    </tr>\n",
       "    <tr>\n",
       "      <th>3</th>\n",
       "      <td>3831</td>\n",
       "      <td>Cozy Entire Floor of Brownstone</td>\n",
       "      <td>4869</td>\n",
       "      <td>LisaRoxanne</td>\n",
       "      <td>Brooklyn</td>\n",
       "      <td>Clinton Hill</td>\n",
       "      <td>40.68514</td>\n",
       "      <td>-73.95976</td>\n",
       "      <td>Entire home/apt</td>\n",
       "      <td>89</td>\n",
       "      <td>1</td>\n",
       "      <td>270</td>\n",
       "      <td>2019-07-05</td>\n",
       "      <td>4.64</td>\n",
       "      <td>1</td>\n",
       "      <td>194</td>\n",
       "    </tr>\n",
       "    <tr>\n",
       "      <th>4</th>\n",
       "      <td>5022</td>\n",
       "      <td>Entire Apt: Spacious Studio/Loft by central park</td>\n",
       "      <td>7192</td>\n",
       "      <td>Laura</td>\n",
       "      <td>Manhattan</td>\n",
       "      <td>East Harlem</td>\n",
       "      <td>40.79851</td>\n",
       "      <td>-73.94399</td>\n",
       "      <td>Entire home/apt</td>\n",
       "      <td>80</td>\n",
       "      <td>10</td>\n",
       "      <td>9</td>\n",
       "      <td>2018-11-19</td>\n",
       "      <td>0.10</td>\n",
       "      <td>1</td>\n",
       "      <td>0</td>\n",
       "    </tr>\n",
       "  </tbody>\n",
       "</table>\n",
       "</div>"
      ],
      "text/plain": [
       "     id                                              name  host_id  \\\n",
       "0  2539                Clean & quiet apt home by the park     2787   \n",
       "1  2595                             Skylit Midtown Castle     2845   \n",
       "2  3647               THE VILLAGE OF HARLEM....NEW YORK !     4632   \n",
       "3  3831                   Cozy Entire Floor of Brownstone     4869   \n",
       "4  5022  Entire Apt: Spacious Studio/Loft by central park     7192   \n",
       "\n",
       "     host_name neighbourhood_group neighbourhood  latitude  longitude  \\\n",
       "0         John            Brooklyn    Kensington  40.64749  -73.97237   \n",
       "1     Jennifer           Manhattan       Midtown  40.75362  -73.98377   \n",
       "2    Elisabeth           Manhattan        Harlem  40.80902  -73.94190   \n",
       "3  LisaRoxanne            Brooklyn  Clinton Hill  40.68514  -73.95976   \n",
       "4        Laura           Manhattan   East Harlem  40.79851  -73.94399   \n",
       "\n",
       "         room_type  price  minimum_nights  number_of_reviews last_review  \\\n",
       "0     Private room    149               1                  9  2018-10-19   \n",
       "1  Entire home/apt    225               1                 45  2019-05-21   \n",
       "2     Private room    150               3                  0         NaN   \n",
       "3  Entire home/apt     89               1                270  2019-07-05   \n",
       "4  Entire home/apt     80              10                  9  2018-11-19   \n",
       "\n",
       "   reviews_per_month  calculated_host_listings_count  availability_365  \n",
       "0               0.21                               6               365  \n",
       "1               0.38                               2               355  \n",
       "2                NaN                               1               365  \n",
       "3               4.64                               1               194  \n",
       "4               0.10                               1                 0  "
      ]
     },
     "execution_count": 6,
     "metadata": {},
     "output_type": "execute_result"
    }
   ],
   "source": [
    "df.head()"
   ]
  },
  {
   "cell_type": "markdown",
   "id": "1bdef808",
   "metadata": {},
   "source": [
    "### Features\n",
    "\n",
    "For the rest of the homework, you'll need to use the features from the previous homework with additional two 'neighbourhood_group' and 'room_type'. So the whole feature set will be set as follows:\n",
    "\n",
    "    'neighbourhood_group',\n",
    "    'room_type',\n",
    "    'latitude',\n",
    "    'longitude',\n",
    "    'price',\n",
    "    'minimum_nights',\n",
    "    'number_of_reviews',\n",
    "    'reviews_per_month',\n",
    "    'calculated_host_listings_count',\n",
    "    'availability_365'\n",
    "\n",
    "Select only them and fill in the missing values with 0."
   ]
  },
  {
   "cell_type": "code",
   "execution_count": 7,
   "id": "052cffe1",
   "metadata": {},
   "outputs": [
    {
     "data": {
      "text/plain": [
       "10"
      ]
     },
     "execution_count": 7,
     "metadata": {},
     "output_type": "execute_result"
    }
   ],
   "source": [
    "# list of features to be used\n",
    "features = [\n",
    "'neighbourhood_group',\n",
    "'room_type',\n",
    "'latitude',\n",
    "'longitude',\n",
    "'minimum_nights',\n",
    "'number_of_reviews',\n",
    "'reviews_per_month',\n",
    "'calculated_host_listings_count',\n",
    "'availability_365',\n",
    "'price'\n",
    "]\n",
    "\n",
    "len(features)"
   ]
  },
  {
   "cell_type": "code",
   "execution_count": 8,
   "id": "94f5f440",
   "metadata": {},
   "outputs": [
    {
     "data": {
      "text/html": [
       "<div>\n",
       "<style scoped>\n",
       "    .dataframe tbody tr th:only-of-type {\n",
       "        vertical-align: middle;\n",
       "    }\n",
       "\n",
       "    .dataframe tbody tr th {\n",
       "        vertical-align: top;\n",
       "    }\n",
       "\n",
       "    .dataframe thead th {\n",
       "        text-align: right;\n",
       "    }\n",
       "</style>\n",
       "<table border=\"1\" class=\"dataframe\">\n",
       "  <thead>\n",
       "    <tr style=\"text-align: right;\">\n",
       "      <th></th>\n",
       "      <th>neighbourhood_group</th>\n",
       "      <th>room_type</th>\n",
       "      <th>latitude</th>\n",
       "      <th>longitude</th>\n",
       "      <th>minimum_nights</th>\n",
       "      <th>number_of_reviews</th>\n",
       "      <th>reviews_per_month</th>\n",
       "      <th>calculated_host_listings_count</th>\n",
       "      <th>availability_365</th>\n",
       "      <th>price</th>\n",
       "    </tr>\n",
       "  </thead>\n",
       "  <tbody>\n",
       "    <tr>\n",
       "      <th>0</th>\n",
       "      <td>Brooklyn</td>\n",
       "      <td>Private room</td>\n",
       "      <td>40.64749</td>\n",
       "      <td>-73.97237</td>\n",
       "      <td>1</td>\n",
       "      <td>9</td>\n",
       "      <td>0.21</td>\n",
       "      <td>6</td>\n",
       "      <td>365</td>\n",
       "      <td>149</td>\n",
       "    </tr>\n",
       "    <tr>\n",
       "      <th>1</th>\n",
       "      <td>Manhattan</td>\n",
       "      <td>Entire home/apt</td>\n",
       "      <td>40.75362</td>\n",
       "      <td>-73.98377</td>\n",
       "      <td>1</td>\n",
       "      <td>45</td>\n",
       "      <td>0.38</td>\n",
       "      <td>2</td>\n",
       "      <td>355</td>\n",
       "      <td>225</td>\n",
       "    </tr>\n",
       "    <tr>\n",
       "      <th>2</th>\n",
       "      <td>Manhattan</td>\n",
       "      <td>Private room</td>\n",
       "      <td>40.80902</td>\n",
       "      <td>-73.94190</td>\n",
       "      <td>3</td>\n",
       "      <td>0</td>\n",
       "      <td>NaN</td>\n",
       "      <td>1</td>\n",
       "      <td>365</td>\n",
       "      <td>150</td>\n",
       "    </tr>\n",
       "    <tr>\n",
       "      <th>3</th>\n",
       "      <td>Brooklyn</td>\n",
       "      <td>Entire home/apt</td>\n",
       "      <td>40.68514</td>\n",
       "      <td>-73.95976</td>\n",
       "      <td>1</td>\n",
       "      <td>270</td>\n",
       "      <td>4.64</td>\n",
       "      <td>1</td>\n",
       "      <td>194</td>\n",
       "      <td>89</td>\n",
       "    </tr>\n",
       "    <tr>\n",
       "      <th>4</th>\n",
       "      <td>Manhattan</td>\n",
       "      <td>Entire home/apt</td>\n",
       "      <td>40.79851</td>\n",
       "      <td>-73.94399</td>\n",
       "      <td>10</td>\n",
       "      <td>9</td>\n",
       "      <td>0.10</td>\n",
       "      <td>1</td>\n",
       "      <td>0</td>\n",
       "      <td>80</td>\n",
       "    </tr>\n",
       "  </tbody>\n",
       "</table>\n",
       "</div>"
      ],
      "text/plain": [
       "  neighbourhood_group        room_type  latitude  longitude  minimum_nights  \\\n",
       "0            Brooklyn     Private room  40.64749  -73.97237               1   \n",
       "1           Manhattan  Entire home/apt  40.75362  -73.98377               1   \n",
       "2           Manhattan     Private room  40.80902  -73.94190               3   \n",
       "3            Brooklyn  Entire home/apt  40.68514  -73.95976               1   \n",
       "4           Manhattan  Entire home/apt  40.79851  -73.94399              10   \n",
       "\n",
       "   number_of_reviews  reviews_per_month  calculated_host_listings_count  \\\n",
       "0                  9               0.21                               6   \n",
       "1                 45               0.38                               2   \n",
       "2                  0                NaN                               1   \n",
       "3                270               4.64                               1   \n",
       "4                  9               0.10                               1   \n",
       "\n",
       "   availability_365  price  \n",
       "0               365    149  \n",
       "1               355    225  \n",
       "2               365    150  \n",
       "3               194     89  \n",
       "4                 0     80  "
      ]
     },
     "execution_count": 8,
     "metadata": {},
     "output_type": "execute_result"
    }
   ],
   "source": [
    "# Fetching desired df\n",
    "abnb_df = df[features]\n",
    "abnb_df.head()"
   ]
  },
  {
   "cell_type": "code",
   "execution_count": 9,
   "id": "e5a5585a",
   "metadata": {},
   "outputs": [
    {
     "name": "stdout",
     "output_type": "stream",
     "text": [
      "<class 'pandas.core.frame.DataFrame'>\n",
      "RangeIndex: 48895 entries, 0 to 48894\n",
      "Data columns (total 10 columns):\n",
      " #   Column                          Non-Null Count  Dtype  \n",
      "---  ------                          --------------  -----  \n",
      " 0   neighbourhood_group             48895 non-null  object \n",
      " 1   room_type                       48895 non-null  object \n",
      " 2   latitude                        48895 non-null  float64\n",
      " 3   longitude                       48895 non-null  float64\n",
      " 4   minimum_nights                  48895 non-null  int64  \n",
      " 5   number_of_reviews               48895 non-null  int64  \n",
      " 6   reviews_per_month               38843 non-null  float64\n",
      " 7   calculated_host_listings_count  48895 non-null  int64  \n",
      " 8   availability_365                48895 non-null  int64  \n",
      " 9   price                           48895 non-null  int64  \n",
      "dtypes: float64(3), int64(5), object(2)\n",
      "memory usage: 3.7+ MB\n"
     ]
    }
   ],
   "source": [
    "abnb_df.info()"
   ]
  },
  {
   "cell_type": "markdown",
   "id": "906ad98a",
   "metadata": {},
   "source": [
    "> Select only them and fill in the missing values with 0.\n",
    "\n",
    "From df info, we can observe there is one column: `reviews_per_month` with NaN values"
   ]
  },
  {
   "cell_type": "code",
   "execution_count": 10,
   "id": "730a7fd3",
   "metadata": {},
   "outputs": [
    {
     "name": "stdout",
     "output_type": "stream",
     "text": [
      "<class 'pandas.core.frame.DataFrame'>\n",
      "RangeIndex: 48895 entries, 0 to 48894\n",
      "Data columns (total 10 columns):\n",
      " #   Column                          Non-Null Count  Dtype  \n",
      "---  ------                          --------------  -----  \n",
      " 0   neighbourhood_group             48895 non-null  object \n",
      " 1   room_type                       48895 non-null  object \n",
      " 2   latitude                        48895 non-null  float64\n",
      " 3   longitude                       48895 non-null  float64\n",
      " 4   minimum_nights                  48895 non-null  int64  \n",
      " 5   number_of_reviews               48895 non-null  int64  \n",
      " 6   reviews_per_month               48895 non-null  float64\n",
      " 7   calculated_host_listings_count  48895 non-null  int64  \n",
      " 8   availability_365                48895 non-null  int64  \n",
      " 9   price                           48895 non-null  int64  \n",
      "dtypes: float64(3), int64(5), object(2)\n",
      "memory usage: 3.7+ MB\n"
     ]
    },
    {
     "name": "stderr",
     "output_type": "stream",
     "text": [
      "/tmp/ipykernel_298/3957807480.py:2: SettingWithCopyWarning: \n",
      "A value is trying to be set on a copy of a slice from a DataFrame.\n",
      "Try using .loc[row_indexer,col_indexer] = value instead\n",
      "\n",
      "See the caveats in the documentation: https://pandas.pydata.org/pandas-docs/stable/user_guide/indexing.html#returning-a-view-versus-a-copy\n",
      "  abnb_df['reviews_per_month'] = abnb_df['reviews_per_month'].fillna(0)\n"
     ]
    }
   ],
   "source": [
    "# Fill nan values with 0\n",
    "abnb_df['reviews_per_month'] = abnb_df['reviews_per_month'].fillna(0)\n",
    "\n",
    "abnb_df.info()"
   ]
  },
  {
   "cell_type": "markdown",
   "id": "948472c9",
   "metadata": {},
   "source": [
    "#### Question 1\n",
    "\n",
    "What is the most frequent observation (mode) for the column 'neighbourhood_group'?\n",
    "> Manhattan - 21661"
   ]
  },
  {
   "cell_type": "code",
   "execution_count": 11,
   "id": "92aad7ce",
   "metadata": {},
   "outputs": [
    {
     "data": {
      "text/plain": [
       "Manhattan        21661\n",
       "Brooklyn         20104\n",
       "Queens            5666\n",
       "Bronx             1091\n",
       "Staten Island      373\n",
       "Name: neighbourhood_group, dtype: int64"
      ]
     },
     "execution_count": 11,
     "metadata": {},
     "output_type": "execute_result"
    }
   ],
   "source": [
    "# Fetch mode using value_counts\n",
    "abnb_df['neighbourhood_group'].value_counts(ascending= False)"
   ]
  },
  {
   "cell_type": "markdown",
   "id": "03b16775",
   "metadata": {},
   "source": [
    "### Split the data\n",
    "\n",
    "   -  Split your data in train/val/test sets, with 60%/20%/20% distribution.  \n",
    "    \n",
    "   -  Use Scikit-Learn for that (the train_test_split function) and set the seed to 42.  \n",
    "    \n",
    "   -  Make sure that the target value ('price') is not in your dataframe.\n"
   ]
  },
  {
   "cell_type": "code",
   "execution_count": 12,
   "id": "7cfd2883",
   "metadata": {},
   "outputs": [
    {
     "name": "stderr",
     "output_type": "stream",
     "text": [
      "/home/ada4ubuntu/anaconda3/envs/mlcamp/lib/python3.8/site-packages/pandas/core/frame.py:4901: SettingWithCopyWarning: \n",
      "A value is trying to be set on a copy of a slice from a DataFrame\n",
      "\n",
      "See the caveats in the documentation: https://pandas.pydata.org/pandas-docs/stable/user_guide/indexing.html#returning-a-view-versus-a-copy\n",
      "  return super().drop(\n"
     ]
    }
   ],
   "source": [
    "# Slice price column \n",
    "target = abnb_df['price'].to_frame()\n",
    "\n",
    "# Drop price column from df\n",
    "abnb_df.drop(columns='price', inplace= True)"
   ]
  },
  {
   "cell_type": "markdown",
   "id": "16b99aad",
   "metadata": {},
   "source": [
    "### Make price binary\n",
    "\n",
    "   -  We need to turn the price variable from numeric into binary.\n",
    "   -  Let's create a variable above_average which is 1 if the price is above (or equal to) 152.\n",
    "    "
   ]
  },
  {
   "cell_type": "code",
   "execution_count": 13,
   "id": "afb827db",
   "metadata": {},
   "outputs": [
    {
     "data": {
      "text/html": [
       "<div>\n",
       "<style scoped>\n",
       "    .dataframe tbody tr th:only-of-type {\n",
       "        vertical-align: middle;\n",
       "    }\n",
       "\n",
       "    .dataframe tbody tr th {\n",
       "        vertical-align: top;\n",
       "    }\n",
       "\n",
       "    .dataframe thead th {\n",
       "        text-align: right;\n",
       "    }\n",
       "</style>\n",
       "<table border=\"1\" class=\"dataframe\">\n",
       "  <thead>\n",
       "    <tr style=\"text-align: right;\">\n",
       "      <th></th>\n",
       "      <th>price</th>\n",
       "      <th>above_avg</th>\n",
       "    </tr>\n",
       "  </thead>\n",
       "  <tbody>\n",
       "    <tr>\n",
       "      <th>0</th>\n",
       "      <td>149</td>\n",
       "      <td>0</td>\n",
       "    </tr>\n",
       "    <tr>\n",
       "      <th>1</th>\n",
       "      <td>225</td>\n",
       "      <td>1</td>\n",
       "    </tr>\n",
       "    <tr>\n",
       "      <th>2</th>\n",
       "      <td>150</td>\n",
       "      <td>0</td>\n",
       "    </tr>\n",
       "    <tr>\n",
       "      <th>3</th>\n",
       "      <td>89</td>\n",
       "      <td>0</td>\n",
       "    </tr>\n",
       "    <tr>\n",
       "      <th>4</th>\n",
       "      <td>80</td>\n",
       "      <td>0</td>\n",
       "    </tr>\n",
       "  </tbody>\n",
       "</table>\n",
       "</div>"
      ],
      "text/plain": [
       "   price  above_avg\n",
       "0    149          0\n",
       "1    225          1\n",
       "2    150          0\n",
       "3     89          0\n",
       "4     80          0"
      ]
     },
     "execution_count": 13,
     "metadata": {},
     "output_type": "execute_result"
    }
   ],
   "source": [
    "# Binarize price\n",
    "target['above_avg'] = (target['price'] >= 152).astype(int)\n",
    "target.head()"
   ]
  },
  {
   "cell_type": "code",
   "execution_count": 14,
   "id": "e56b9610",
   "metadata": {},
   "outputs": [],
   "source": [
    "from sklearn.model_selection import train_test_split\n",
    "# Split data\n",
    "x_train, x_test, y_train, y_test = train_test_split(abnb_df, target, test_size=0.2, random_state=42)\n",
    "x_train, x_val, y_train, y_val = train_test_split(x_train, y_train, test_size=0.25, random_state=42)"
   ]
  },
  {
   "cell_type": "code",
   "execution_count": 15,
   "id": "84192fda",
   "metadata": {},
   "outputs": [
    {
     "name": "stdout",
     "output_type": "stream",
     "text": [
      "Train size: 29337, 29337\n",
      "Val size: 9779, 9779\n",
      "Test size: 9779, 9779\n"
     ]
    }
   ],
   "source": [
    "print(\n",
    "f'Train size: {len(x_train)}, {len(y_train)}\\n'\n",
    "f'Val size: {len(x_val)}, {len(y_val)}\\n'\n",
    "f'Test size: {len(x_test)}, {len(y_test)}'\n",
    ")"
   ]
  },
  {
   "attachments": {},
   "cell_type": "markdown",
   "id": "44a10221",
   "metadata": {},
   "source": [
    "### Question 2\n",
    "\n",
    "- Create the correlation matrix for the numerical features of your train dataset.\n",
    "    - In a correlation matrix, you compute the correlation coefficient between every pair of features in the dataset.\n",
    "- What are the two features that have the biggest correlation in this dataset?  \n",
    "\n",
    "\n",
    "> `reviews_per_month` and `number_of_reviews` -> 0.549792\n"
   ]
  },
  {
   "cell_type": "code",
   "execution_count": 16,
   "id": "1612d54b",
   "metadata": {},
   "outputs": [
    {
     "data": {
      "text/html": [
       "<style type=\"text/css\">\n",
       "#T_330f4_row0_col0, #T_330f4_row1_col1, #T_330f4_row2_col2, #T_330f4_row3_col3, #T_330f4_row4_col4, #T_330f4_row5_col5, #T_330f4_row6_col6 {\n",
       "  background-color: #b40426;\n",
       "  color: #f1f1f1;\n",
       "}\n",
       "#T_330f4_row0_col1, #T_330f4_row3_col6, #T_330f4_row6_col1 {\n",
       "  background-color: #7396f5;\n",
       "  color: #f1f1f1;\n",
       "}\n",
       "#T_330f4_row0_col2 {\n",
       "  background-color: #6384eb;\n",
       "  color: #f1f1f1;\n",
       "}\n",
       "#T_330f4_row0_col3, #T_330f4_row5_col4 {\n",
       "  background-color: #4e68d8;\n",
       "  color: #f1f1f1;\n",
       "}\n",
       "#T_330f4_row0_col4 {\n",
       "  background-color: #5977e3;\n",
       "  color: #f1f1f1;\n",
       "}\n",
       "#T_330f4_row0_col5, #T_330f4_row1_col3 {\n",
       "  background-color: #6180e9;\n",
       "  color: #f1f1f1;\n",
       "}\n",
       "#T_330f4_row0_col6, #T_330f4_row1_col5, #T_330f4_row2_col3, #T_330f4_row2_col4, #T_330f4_row3_col0, #T_330f4_row4_col0, #T_330f4_row4_col2, #T_330f4_row5_col1, #T_330f4_row5_col3, #T_330f4_row6_col0 {\n",
       "  background-color: #3b4cc0;\n",
       "  color: #f1f1f1;\n",
       "}\n",
       "#T_330f4_row1_col0, #T_330f4_row1_col6 {\n",
       "  background-color: #5572df;\n",
       "  color: #f1f1f1;\n",
       "}\n",
       "#T_330f4_row1_col2 {\n",
       "  background-color: #4a63d3;\n",
       "  color: #f1f1f1;\n",
       "}\n",
       "#T_330f4_row1_col4, #T_330f4_row5_col6 {\n",
       "  background-color: #85a8fc;\n",
       "  color: #f1f1f1;\n",
       "}\n",
       "#T_330f4_row2_col0 {\n",
       "  background-color: #445acc;\n",
       "  color: #f1f1f1;\n",
       "}\n",
       "#T_330f4_row2_col1 {\n",
       "  background-color: #4961d2;\n",
       "  color: #f1f1f1;\n",
       "}\n",
       "#T_330f4_row2_col5, #T_330f4_row5_col2 {\n",
       "  background-color: #80a3fa;\n",
       "  color: #f1f1f1;\n",
       "}\n",
       "#T_330f4_row2_col6 {\n",
       "  background-color: #6788ee;\n",
       "  color: #f1f1f1;\n",
       "}\n",
       "#T_330f4_row3_col1 {\n",
       "  background-color: #6b8df0;\n",
       "  color: #f1f1f1;\n",
       "}\n",
       "#T_330f4_row3_col2, #T_330f4_row3_col5 {\n",
       "  background-color: #465ecf;\n",
       "  color: #f1f1f1;\n",
       "}\n",
       "#T_330f4_row3_col4 {\n",
       "  background-color: #f5c1a9;\n",
       "  color: #000000;\n",
       "}\n",
       "#T_330f4_row4_col1 {\n",
       "  background-color: #84a7fc;\n",
       "  color: #f1f1f1;\n",
       "}\n",
       "#T_330f4_row4_col3 {\n",
       "  background-color: #f4c6af;\n",
       "  color: #000000;\n",
       "}\n",
       "#T_330f4_row4_col5 {\n",
       "  background-color: #4c66d6;\n",
       "  color: #f1f1f1;\n",
       "}\n",
       "#T_330f4_row4_col6 {\n",
       "  background-color: #7093f3;\n",
       "  color: #f1f1f1;\n",
       "}\n",
       "#T_330f4_row5_col0 {\n",
       "  background-color: #4257c9;\n",
       "  color: #f1f1f1;\n",
       "}\n",
       "#T_330f4_row6_col2, #T_330f4_row6_col3 {\n",
       "  background-color: #86a9fc;\n",
       "  color: #f1f1f1;\n",
       "}\n",
       "#T_330f4_row6_col4 {\n",
       "  background-color: #8fb1fe;\n",
       "  color: #000000;\n",
       "}\n",
       "#T_330f4_row6_col5 {\n",
       "  background-color: #a1c0ff;\n",
       "  color: #000000;\n",
       "}\n",
       "</style>\n",
       "<table id=\"T_330f4_\">\n",
       "  <thead>\n",
       "    <tr>\n",
       "      <th class=\"blank level0\" >&nbsp;</th>\n",
       "      <th class=\"col_heading level0 col0\" >latitude</th>\n",
       "      <th class=\"col_heading level0 col1\" >longitude</th>\n",
       "      <th class=\"col_heading level0 col2\" >minimum_nights</th>\n",
       "      <th class=\"col_heading level0 col3\" >number_of_reviews</th>\n",
       "      <th class=\"col_heading level0 col4\" >reviews_per_month</th>\n",
       "      <th class=\"col_heading level0 col5\" >calculated_host_listings_count</th>\n",
       "      <th class=\"col_heading level0 col6\" >availability_365</th>\n",
       "    </tr>\n",
       "  </thead>\n",
       "  <tbody>\n",
       "    <tr>\n",
       "      <th id=\"T_330f4_level0_row0\" class=\"row_heading level0 row0\" >latitude</th>\n",
       "      <td id=\"T_330f4_row0_col0\" class=\"data row0 col0\" >1.000000</td>\n",
       "      <td id=\"T_330f4_row0_col1\" class=\"data row0 col1\" >0.080301</td>\n",
       "      <td id=\"T_330f4_row0_col2\" class=\"data row0 col2\" >0.027441</td>\n",
       "      <td id=\"T_330f4_row0_col3\" class=\"data row0 col3\" >-0.006246</td>\n",
       "      <td id=\"T_330f4_row0_col4\" class=\"data row0 col4\" >-0.007159</td>\n",
       "      <td id=\"T_330f4_row0_col5\" class=\"data row0 col5\" >0.019375</td>\n",
       "      <td id=\"T_330f4_row0_col6\" class=\"data row0 col6\" >-0.005891</td>\n",
       "    </tr>\n",
       "    <tr>\n",
       "      <th id=\"T_330f4_level0_row1\" class=\"row_heading level0 row1\" >longitude</th>\n",
       "      <td id=\"T_330f4_row1_col0\" class=\"data row1 col0\" >0.080301</td>\n",
       "      <td id=\"T_330f4_row1_col1\" class=\"data row1 col1\" >1.000000</td>\n",
       "      <td id=\"T_330f4_row1_col2\" class=\"data row1 col2\" >-0.060660</td>\n",
       "      <td id=\"T_330f4_row1_col3\" class=\"data row1 col3\" >0.055084</td>\n",
       "      <td id=\"T_330f4_row1_col4\" class=\"data row1 col4\" >0.134642</td>\n",
       "      <td id=\"T_330f4_row1_col5\" class=\"data row1 col5\" >-0.117041</td>\n",
       "      <td id=\"T_330f4_row1_col6\" class=\"data row1 col6\" >0.083666</td>\n",
       "    </tr>\n",
       "    <tr>\n",
       "      <th id=\"T_330f4_level0_row2\" class=\"row_heading level0 row2\" >minimum_nights</th>\n",
       "      <td id=\"T_330f4_row2_col0\" class=\"data row2 col0\" >0.027441</td>\n",
       "      <td id=\"T_330f4_row2_col1\" class=\"data row2 col1\" >-0.060660</td>\n",
       "      <td id=\"T_330f4_row2_col2\" class=\"data row2 col2\" >1.000000</td>\n",
       "      <td id=\"T_330f4_row2_col3\" class=\"data row2 col3\" >-0.076020</td>\n",
       "      <td id=\"T_330f4_row2_col4\" class=\"data row2 col4\" >-0.120703</td>\n",
       "      <td id=\"T_330f4_row2_col5\" class=\"data row2 col5\" >0.118647</td>\n",
       "      <td id=\"T_330f4_row2_col6\" class=\"data row2 col6\" >0.138901</td>\n",
       "    </tr>\n",
       "    <tr>\n",
       "      <th id=\"T_330f4_level0_row3\" class=\"row_heading level0 row3\" >number_of_reviews</th>\n",
       "      <td id=\"T_330f4_row3_col0\" class=\"data row3 col0\" >-0.006246</td>\n",
       "      <td id=\"T_330f4_row3_col1\" class=\"data row3 col1\" >0.055084</td>\n",
       "      <td id=\"T_330f4_row3_col2\" class=\"data row3 col2\" >-0.076020</td>\n",
       "      <td id=\"T_330f4_row3_col3\" class=\"data row3 col3\" >1.000000</td>\n",
       "      <td id=\"T_330f4_row3_col4\" class=\"data row3 col4\" >0.590374</td>\n",
       "      <td id=\"T_330f4_row3_col5\" class=\"data row3 col5\" >-0.073167</td>\n",
       "      <td id=\"T_330f4_row3_col6\" class=\"data row3 col6\" >0.174477</td>\n",
       "    </tr>\n",
       "    <tr>\n",
       "      <th id=\"T_330f4_level0_row4\" class=\"row_heading level0 row4\" >reviews_per_month</th>\n",
       "      <td id=\"T_330f4_row4_col0\" class=\"data row4 col0\" >-0.007159</td>\n",
       "      <td id=\"T_330f4_row4_col1\" class=\"data row4 col1\" >0.134642</td>\n",
       "      <td id=\"T_330f4_row4_col2\" class=\"data row4 col2\" >-0.120703</td>\n",
       "      <td id=\"T_330f4_row4_col3\" class=\"data row4 col3\" >0.590374</td>\n",
       "      <td id=\"T_330f4_row4_col4\" class=\"data row4 col4\" >1.000000</td>\n",
       "      <td id=\"T_330f4_row4_col5\" class=\"data row4 col5\" >-0.048767</td>\n",
       "      <td id=\"T_330f4_row4_col6\" class=\"data row4 col6\" >0.165376</td>\n",
       "    </tr>\n",
       "    <tr>\n",
       "      <th id=\"T_330f4_level0_row5\" class=\"row_heading level0 row5\" >calculated_host_listings_count</th>\n",
       "      <td id=\"T_330f4_row5_col0\" class=\"data row5 col0\" >0.019375</td>\n",
       "      <td id=\"T_330f4_row5_col1\" class=\"data row5 col1\" >-0.117041</td>\n",
       "      <td id=\"T_330f4_row5_col2\" class=\"data row5 col2\" >0.118647</td>\n",
       "      <td id=\"T_330f4_row5_col3\" class=\"data row5 col3\" >-0.073167</td>\n",
       "      <td id=\"T_330f4_row5_col4\" class=\"data row5 col4\" >-0.048767</td>\n",
       "      <td id=\"T_330f4_row5_col5\" class=\"data row5 col5\" >1.000000</td>\n",
       "      <td id=\"T_330f4_row5_col6\" class=\"data row5 col6\" >0.225913</td>\n",
       "    </tr>\n",
       "    <tr>\n",
       "      <th id=\"T_330f4_level0_row6\" class=\"row_heading level0 row6\" >availability_365</th>\n",
       "      <td id=\"T_330f4_row6_col0\" class=\"data row6 col0\" >-0.005891</td>\n",
       "      <td id=\"T_330f4_row6_col1\" class=\"data row6 col1\" >0.083666</td>\n",
       "      <td id=\"T_330f4_row6_col2\" class=\"data row6 col2\" >0.138901</td>\n",
       "      <td id=\"T_330f4_row6_col3\" class=\"data row6 col3\" >0.174477</td>\n",
       "      <td id=\"T_330f4_row6_col4\" class=\"data row6 col4\" >0.165376</td>\n",
       "      <td id=\"T_330f4_row6_col5\" class=\"data row6 col5\" >0.225913</td>\n",
       "      <td id=\"T_330f4_row6_col6\" class=\"data row6 col6\" >1.000000</td>\n",
       "    </tr>\n",
       "  </tbody>\n",
       "</table>\n"
      ],
      "text/plain": [
       "<pandas.io.formats.style.Styler at 0x7f44e7eb3af0>"
      ]
     },
     "execution_count": 16,
     "metadata": {},
     "output_type": "execute_result"
    }
   ],
   "source": [
    "# Evaluate correlation\n",
    "corr = x_train.corr()\n",
    "corr.style.background_gradient(cmap='coolwarm')"
   ]
  },
  {
   "cell_type": "code",
   "execution_count": 17,
   "id": "b035d4a0",
   "metadata": {},
   "outputs": [
    {
     "name": "stderr",
     "output_type": "stream",
     "text": [
      "/tmp/ipykernel_298/3700738594.py:5: FutureWarning: this method is deprecated in favour of `Styler.format(precision=..)`\n",
      "  (corr\n"
     ]
    },
    {
     "data": {
      "text/html": [
       "<style type=\"text/css\">\n",
       "#T_6932a_row0_col0, #T_6932a_row0_col1, #T_6932a_row0_col2, #T_6932a_row0_col3, #T_6932a_row0_col4, #T_6932a_row0_col5, #T_6932a_row0_col6, #T_6932a_row1_col1, #T_6932a_row1_col2, #T_6932a_row1_col3, #T_6932a_row1_col4, #T_6932a_row1_col5, #T_6932a_row1_col6, #T_6932a_row2_col2, #T_6932a_row2_col3, #T_6932a_row2_col4, #T_6932a_row2_col5, #T_6932a_row2_col6, #T_6932a_row3_col3, #T_6932a_row3_col4, #T_6932a_row3_col5, #T_6932a_row3_col6, #T_6932a_row4_col4, #T_6932a_row4_col5, #T_6932a_row4_col6, #T_6932a_row5_col5, #T_6932a_row5_col6, #T_6932a_row6_col6 {\n",
       "  background-color: #000000;\n",
       "  color: #f1f1f1;\n",
       "  background-color: #f1f1f1;\n",
       "}\n",
       "#T_6932a_row1_col0, #T_6932a_row6_col1 {\n",
       "  background-color: #e7d7ce;\n",
       "  color: #000000;\n",
       "}\n",
       "#T_6932a_row2_col0 {\n",
       "  background-color: #e0dbd8;\n",
       "  color: #000000;\n",
       "}\n",
       "#T_6932a_row2_col1 {\n",
       "  background-color: #d5dbe5;\n",
       "  color: #000000;\n",
       "}\n",
       "#T_6932a_row3_col0, #T_6932a_row4_col0, #T_6932a_row6_col0 {\n",
       "  background-color: #dcdddd;\n",
       "  color: #000000;\n",
       "}\n",
       "#T_6932a_row3_col1 {\n",
       "  background-color: #e4d9d2;\n",
       "  color: #000000;\n",
       "}\n",
       "#T_6932a_row3_col2, #T_6932a_row5_col3 {\n",
       "  background-color: #d3dbe7;\n",
       "  color: #000000;\n",
       "}\n",
       "#T_6932a_row4_col1, #T_6932a_row6_col2 {\n",
       "  background-color: #edd2c3;\n",
       "  color: #000000;\n",
       "}\n",
       "#T_6932a_row4_col2 {\n",
       "  background-color: #ccd9ed;\n",
       "  color: #000000;\n",
       "}\n",
       "#T_6932a_row4_col3 {\n",
       "  background-color: #ee8669;\n",
       "  color: #f1f1f1;\n",
       "}\n",
       "#T_6932a_row5_col0 {\n",
       "  background-color: #dfdbd9;\n",
       "  color: #000000;\n",
       "}\n",
       "#T_6932a_row5_col1 {\n",
       "  background-color: #cdd9ec;\n",
       "  color: #000000;\n",
       "}\n",
       "#T_6932a_row5_col2 {\n",
       "  background-color: #ebd3c6;\n",
       "  color: #000000;\n",
       "}\n",
       "#T_6932a_row5_col4 {\n",
       "  background-color: #d6dce4;\n",
       "  color: #000000;\n",
       "}\n",
       "#T_6932a_row6_col3 {\n",
       "  background-color: #f0cdbb;\n",
       "  color: #000000;\n",
       "}\n",
       "#T_6932a_row6_col4 {\n",
       "  background-color: #efcebd;\n",
       "  color: #000000;\n",
       "}\n",
       "#T_6932a_row6_col5 {\n",
       "  background-color: #f3c8b2;\n",
       "  color: #000000;\n",
       "}\n",
       "</style>\n",
       "<table id=\"T_6932a_\">\n",
       "  <thead>\n",
       "    <tr>\n",
       "      <th class=\"blank level0\" >&nbsp;</th>\n",
       "      <th class=\"col_heading level0 col0\" >latitude</th>\n",
       "      <th class=\"col_heading level0 col1\" >longitude</th>\n",
       "      <th class=\"col_heading level0 col2\" >minimum_nights</th>\n",
       "      <th class=\"col_heading level0 col3\" >number_of_reviews</th>\n",
       "      <th class=\"col_heading level0 col4\" >reviews_per_month</th>\n",
       "      <th class=\"col_heading level0 col5\" >calculated_host_listings_count</th>\n",
       "      <th class=\"col_heading level0 col6\" >availability_365</th>\n",
       "    </tr>\n",
       "  </thead>\n",
       "  <tbody>\n",
       "    <tr>\n",
       "      <th id=\"T_6932a_level0_row0\" class=\"row_heading level0 row0\" >latitude</th>\n",
       "      <td id=\"T_6932a_row0_col0\" class=\"data row0 col0\" >nan</td>\n",
       "      <td id=\"T_6932a_row0_col1\" class=\"data row0 col1\" >nan</td>\n",
       "      <td id=\"T_6932a_row0_col2\" class=\"data row0 col2\" >nan</td>\n",
       "      <td id=\"T_6932a_row0_col3\" class=\"data row0 col3\" >nan</td>\n",
       "      <td id=\"T_6932a_row0_col4\" class=\"data row0 col4\" >nan</td>\n",
       "      <td id=\"T_6932a_row0_col5\" class=\"data row0 col5\" >nan</td>\n",
       "      <td id=\"T_6932a_row0_col6\" class=\"data row0 col6\" >nan</td>\n",
       "    </tr>\n",
       "    <tr>\n",
       "      <th id=\"T_6932a_level0_row1\" class=\"row_heading level0 row1\" >longitude</th>\n",
       "      <td id=\"T_6932a_row1_col0\" class=\"data row1 col0\" >0.08</td>\n",
       "      <td id=\"T_6932a_row1_col1\" class=\"data row1 col1\" >nan</td>\n",
       "      <td id=\"T_6932a_row1_col2\" class=\"data row1 col2\" >nan</td>\n",
       "      <td id=\"T_6932a_row1_col3\" class=\"data row1 col3\" >nan</td>\n",
       "      <td id=\"T_6932a_row1_col4\" class=\"data row1 col4\" >nan</td>\n",
       "      <td id=\"T_6932a_row1_col5\" class=\"data row1 col5\" >nan</td>\n",
       "      <td id=\"T_6932a_row1_col6\" class=\"data row1 col6\" >nan</td>\n",
       "    </tr>\n",
       "    <tr>\n",
       "      <th id=\"T_6932a_level0_row2\" class=\"row_heading level0 row2\" >minimum_nights</th>\n",
       "      <td id=\"T_6932a_row2_col0\" class=\"data row2 col0\" >0.03</td>\n",
       "      <td id=\"T_6932a_row2_col1\" class=\"data row2 col1\" >-0.06</td>\n",
       "      <td id=\"T_6932a_row2_col2\" class=\"data row2 col2\" >nan</td>\n",
       "      <td id=\"T_6932a_row2_col3\" class=\"data row2 col3\" >nan</td>\n",
       "      <td id=\"T_6932a_row2_col4\" class=\"data row2 col4\" >nan</td>\n",
       "      <td id=\"T_6932a_row2_col5\" class=\"data row2 col5\" >nan</td>\n",
       "      <td id=\"T_6932a_row2_col6\" class=\"data row2 col6\" >nan</td>\n",
       "    </tr>\n",
       "    <tr>\n",
       "      <th id=\"T_6932a_level0_row3\" class=\"row_heading level0 row3\" >number_of_reviews</th>\n",
       "      <td id=\"T_6932a_row3_col0\" class=\"data row3 col0\" >-0.01</td>\n",
       "      <td id=\"T_6932a_row3_col1\" class=\"data row3 col1\" >0.06</td>\n",
       "      <td id=\"T_6932a_row3_col2\" class=\"data row3 col2\" >-0.08</td>\n",
       "      <td id=\"T_6932a_row3_col3\" class=\"data row3 col3\" >nan</td>\n",
       "      <td id=\"T_6932a_row3_col4\" class=\"data row3 col4\" >nan</td>\n",
       "      <td id=\"T_6932a_row3_col5\" class=\"data row3 col5\" >nan</td>\n",
       "      <td id=\"T_6932a_row3_col6\" class=\"data row3 col6\" >nan</td>\n",
       "    </tr>\n",
       "    <tr>\n",
       "      <th id=\"T_6932a_level0_row4\" class=\"row_heading level0 row4\" >reviews_per_month</th>\n",
       "      <td id=\"T_6932a_row4_col0\" class=\"data row4 col0\" >-0.01</td>\n",
       "      <td id=\"T_6932a_row4_col1\" class=\"data row4 col1\" >0.13</td>\n",
       "      <td id=\"T_6932a_row4_col2\" class=\"data row4 col2\" >-0.12</td>\n",
       "      <td id=\"T_6932a_row4_col3\" class=\"data row4 col3\" >0.59</td>\n",
       "      <td id=\"T_6932a_row4_col4\" class=\"data row4 col4\" >nan</td>\n",
       "      <td id=\"T_6932a_row4_col5\" class=\"data row4 col5\" >nan</td>\n",
       "      <td id=\"T_6932a_row4_col6\" class=\"data row4 col6\" >nan</td>\n",
       "    </tr>\n",
       "    <tr>\n",
       "      <th id=\"T_6932a_level0_row5\" class=\"row_heading level0 row5\" >calculated_host_listings_count</th>\n",
       "      <td id=\"T_6932a_row5_col0\" class=\"data row5 col0\" >0.02</td>\n",
       "      <td id=\"T_6932a_row5_col1\" class=\"data row5 col1\" >-0.12</td>\n",
       "      <td id=\"T_6932a_row5_col2\" class=\"data row5 col2\" >0.12</td>\n",
       "      <td id=\"T_6932a_row5_col3\" class=\"data row5 col3\" >-0.07</td>\n",
       "      <td id=\"T_6932a_row5_col4\" class=\"data row5 col4\" >-0.05</td>\n",
       "      <td id=\"T_6932a_row5_col5\" class=\"data row5 col5\" >nan</td>\n",
       "      <td id=\"T_6932a_row5_col6\" class=\"data row5 col6\" >nan</td>\n",
       "    </tr>\n",
       "    <tr>\n",
       "      <th id=\"T_6932a_level0_row6\" class=\"row_heading level0 row6\" >availability_365</th>\n",
       "      <td id=\"T_6932a_row6_col0\" class=\"data row6 col0\" >-0.01</td>\n",
       "      <td id=\"T_6932a_row6_col1\" class=\"data row6 col1\" >0.08</td>\n",
       "      <td id=\"T_6932a_row6_col2\" class=\"data row6 col2\" >0.14</td>\n",
       "      <td id=\"T_6932a_row6_col3\" class=\"data row6 col3\" >0.17</td>\n",
       "      <td id=\"T_6932a_row6_col4\" class=\"data row6 col4\" >0.17</td>\n",
       "      <td id=\"T_6932a_row6_col5\" class=\"data row6 col5\" >0.23</td>\n",
       "      <td id=\"T_6932a_row6_col6\" class=\"data row6 col6\" >nan</td>\n",
       "    </tr>\n",
       "  </tbody>\n",
       "</table>\n"
      ],
      "text/plain": [
       "<pandas.io.formats.style.Styler at 0x7f44e6320280>"
      ]
     },
     "execution_count": 17,
     "metadata": {},
     "output_type": "execute_result"
    }
   ],
   "source": [
    "# Fill diagonal and upper half with NaNs\n",
    "mask = np.zeros_like(corr, dtype=bool)\n",
    "mask[np.triu_indices_from(mask)] = True\n",
    "corr[mask] = np.nan\n",
    "(corr\n",
    " .style\n",
    " .background_gradient(cmap='coolwarm', axis=None, vmin=-1, vmax=1)\n",
    " .highlight_null(null_color='#f1f1f1')  # Color NaNs grey\n",
    " .set_precision(2))"
   ]
  },
  {
   "cell_type": "markdown",
   "id": "c7a6b20d",
   "metadata": {},
   "source": [
    "### Question 3\n",
    "\n",
    "- Calculate the mutual information score with the (binarized) price for the two categorical variables that we have. Use the training set only.\n",
    "- Which of these two variables has bigger score?\n",
    "- Round it to 2 decimal digits using round(score, 2)\n",
    "\n",
    "> Room type has bigger score (0.14)"
   ]
  },
  {
   "cell_type": "code",
   "execution_count": 18,
   "id": "bafe8828",
   "metadata": {},
   "outputs": [
    {
     "name": "stdout",
     "output_type": "stream",
     "text": [
      "['latitude', 'longitude', 'minimum_nights', 'number_of_reviews', 'reviews_per_month', 'calculated_host_listings_count', 'availability_365']\n",
      "['neighbourhood_group', 'room_type']\n"
     ]
    }
   ],
   "source": [
    "from sklearn.metrics import mutual_info_score\n",
    "\n",
    "# Fetch numerical columns\n",
    "num_cols = list(x_train.select_dtypes(include=['int64', 'float64']).columns)\n",
    "print(num_cols)\n",
    "\n",
    "# Fetch categorical columns\n",
    "cat_cols = list(x_train.select_dtypes(include=['object']).columns)\n",
    "print(cat_cols)"
   ]
  },
  {
   "cell_type": "code",
   "execution_count": 19,
   "id": "832b4fc3",
   "metadata": {},
   "outputs": [],
   "source": [
    "# Evaluate mutual info score\n",
    "mi_ng = mutual_info_score(x_train['neighbourhood_group'], y_train['above_avg']).round(2)\n",
    "mi_rt = mutual_info_score(x_train['room_type'], y_train['above_avg']).round(2)"
   ]
  },
  {
   "cell_type": "code",
   "execution_count": 20,
   "id": "c4001401",
   "metadata": {},
   "outputs": [
    {
     "name": "stdout",
     "output_type": "stream",
     "text": [
      "Mutual information of neighbourhood group with target: 0.05\n",
      "Mutual information of room type with target: 0.14\n",
      "\n"
     ]
    }
   ],
   "source": [
    "print(\n",
    "f'Mutual information of neighbourhood group with target: {mi_ng}\\n'\n",
    "f'Mutual information of room type with target: {mi_rt}\\n'\n",
    ")"
   ]
  },
  {
   "cell_type": "markdown",
   "id": "88750871",
   "metadata": {},
   "source": [
    "### Question 4\n",
    "\n",
    "- Now let's train a logistic regression\n",
    "- Remember that we have two categorical variables in the data. Include them using one-hot encoding.\n",
    "- Fit the model on the training dataset.\n",
    "    - To make sure the results are reproducible across different versions of Scikit-Learn, fit the model with these parameters:\n",
    "    model = LogisticRegression(solver='lbfgs', C=1.0, random_state=42)\n",
    "- Calculate the accuracy on the validation dataset and rount it to 2 decimal digits.\n",
    "\n",
    "> Validation accuracy is 0.79\n"
   ]
  },
  {
   "cell_type": "code",
   "execution_count": 21,
   "id": "8469d907",
   "metadata": {},
   "outputs": [
    {
     "name": "stdout",
     "output_type": "stream",
     "text": [
      "Encoded columns: ['neighbourhood_group_Bronx', 'neighbourhood_group_Brooklyn', 'neighbourhood_group_Manhattan', 'neighbourhood_group_Queens', 'neighbourhood_group_Staten Island', 'room_type_Entire home/apt', 'room_type_Private room', 'room_type_Shared room']\n"
     ]
    }
   ],
   "source": [
    "from sklearn.preprocessing import OneHotEncoder\n",
    "\n",
    "# Trying OHE for categorical columns\n",
    "# Create instance of OHE\n",
    "ohe = OneHotEncoder(sparse= False)\n",
    "\n",
    "# Fitting categorical columns to encoder instances\n",
    "ohe.fit(x_train[cat_cols])\n",
    "\n",
    "# Fetching encoded column names\n",
    "enc_cols = list(ohe.get_feature_names(cat_cols))\n",
    "print(f'Encoded columns: {enc_cols}')"
   ]
  },
  {
   "cell_type": "code",
   "execution_count": 22,
   "id": "e0190591",
   "metadata": {},
   "outputs": [
    {
     "name": "stderr",
     "output_type": "stream",
     "text": [
      "/home/ada4ubuntu/anaconda3/envs/mlcamp/lib/python3.8/site-packages/pandas/core/frame.py:3673: SettingWithCopyWarning: \n",
      "A value is trying to be set on a copy of a slice from a DataFrame.\n",
      "Try using .loc[row_indexer,col_indexer] = value instead\n",
      "\n",
      "See the caveats in the documentation: https://pandas.pydata.org/pandas-docs/stable/user_guide/indexing.html#returning-a-view-versus-a-copy\n",
      "  self[col] = igetitem(value, i)\n"
     ]
    }
   ],
   "source": [
    "x_train[enc_cols] = ohe.transform(x_train[cat_cols])\n",
    "x_val[enc_cols] = ohe.transform(x_val[cat_cols])\n",
    "x_test[enc_cols] = ohe.transform(x_test[cat_cols])"
   ]
  },
  {
   "cell_type": "code",
   "execution_count": 24,
   "id": "c1d281f9",
   "metadata": {
    "collapsed": true
   },
   "outputs": [
    {
     "data": {
      "text/plain": [
       "neighbourhood_group                  0\n",
       "room_type                            0\n",
       "latitude                             0\n",
       "longitude                            0\n",
       "minimum_nights                       0\n",
       "number_of_reviews                    0\n",
       "reviews_per_month                    0\n",
       "calculated_host_listings_count       0\n",
       "availability_365                     0\n",
       "neighbourhood_group_Bronx            0\n",
       "neighbourhood_group_Brooklyn         0\n",
       "neighbourhood_group_Manhattan        0\n",
       "neighbourhood_group_Queens           0\n",
       "neighbourhood_group_Staten Island    0\n",
       "room_type_Entire home/apt            0\n",
       "room_type_Private room               0\n",
       "room_type_Shared room                0\n",
       "dtype: int64"
      ]
     },
     "execution_count": 24,
     "metadata": {},
     "output_type": "execute_result"
    }
   ],
   "source": [
    "x_train.isna().sum()"
   ]
  },
  {
   "cell_type": "code",
   "execution_count": 25,
   "id": "4c5468df",
   "metadata": {},
   "outputs": [
    {
     "name": "stderr",
     "output_type": "stream",
     "text": [
      "/home/ada4ubuntu/anaconda3/envs/mlcamp/lib/python3.8/site-packages/sklearn/linear_model/_logistic.py:763: ConvergenceWarning: lbfgs failed to converge (status=1):\n",
      "STOP: TOTAL NO. of ITERATIONS REACHED LIMIT.\n",
      "\n",
      "Increase the number of iterations (max_iter) or scale the data as shown in:\n",
      "    https://scikit-learn.org/stable/modules/preprocessing.html\n",
      "Please also refer to the documentation for alternative solver options:\n",
      "    https://scikit-learn.org/stable/modules/linear_model.html#logistic-regression\n",
      "  n_iter_i = _check_optimize_result(\n"
     ]
    },
    {
     "data": {
      "text/plain": [
       "LogisticRegression(random_state=42)"
      ]
     },
     "execution_count": 25,
     "metadata": {},
     "output_type": "execute_result"
    }
   ],
   "source": [
    "from sklearn.linear_model import LogisticRegression\n",
    "from sklearn.metrics import accuracy_score\n",
    "\n",
    "lr = LogisticRegression(solver='lbfgs', C=1.0, random_state=42)\n",
    "lr.fit(x_train[num_cols+enc_cols], y_train['above_avg'])"
   ]
  },
  {
   "cell_type": "code",
   "execution_count": 32,
   "id": "deac3271",
   "metadata": {},
   "outputs": [
    {
     "name": "stdout",
     "output_type": "stream",
     "text": [
      "Validation accuracy is 0.79\n"
     ]
    }
   ],
   "source": [
    "y_pred = lr.predict(x_val[num_cols+enc_cols])\n",
    "val_acc = accuracy_score(y_val['above_avg'], y_pred)\n",
    "print(f'Validation accuracy is {round(val_acc, 2)}')"
   ]
  },
  {
   "cell_type": "markdown",
   "id": "301e2095",
   "metadata": {},
   "source": [
    "### Question 5\n",
    "\n",
    "- We have 9 features: 7 numerical features and 2 categorical.  \n",
    "\n",
    "- Let's find the least useful one using the feature elimination technique.\n",
    "- Train a model with all these features (using the same parameters as in Q4).\n",
    "- Now exclude each feature from this set and train a model without it. Record the accuracy for each model.\n",
    "- For each feature, calculate the difference between the original accuracy and the accuracy without the feature.\n",
    "- Which of following feature has the smallest difference?\n",
    "        neighbourhood_group\n",
    "        room_type\n",
    "        number_of_reviews\n",
    "        reviews_per_month\n",
    "\n",
    "note: the difference doesn't have to be positive\n"
   ]
  },
  {
   "cell_type": "code",
   "execution_count": 38,
   "id": "bb96c323",
   "metadata": {},
   "outputs": [
    {
     "data": {
      "text/plain": [
       "[('latitude',\n",
       "  array([-0.22829667, -0.09515034, -0.01245149, -0.00326177, -0.04173265,\n",
       "          0.00396225,  0.00292928, -0.39797654,  0.08051472,  1.24402499,\n",
       "         -0.79766009, -0.1315313 ,  1.63023181, -1.16015477, -0.47270526]))]"
      ]
     },
     "execution_count": 38,
     "metadata": {},
     "output_type": "execute_result"
    }
   ],
   "source": [
    "list(zip(list(), lr.coef_))"
   ]
  },
  {
   "cell_type": "code",
   "execution_count": 84,
   "id": "8a2cb656",
   "metadata": {},
   "outputs": [
    {
     "data": {
      "text/html": [
       "<div>\n",
       "<style scoped>\n",
       "    .dataframe tbody tr th:only-of-type {\n",
       "        vertical-align: middle;\n",
       "    }\n",
       "\n",
       "    .dataframe tbody tr th {\n",
       "        vertical-align: top;\n",
       "    }\n",
       "\n",
       "    .dataframe thead th {\n",
       "        text-align: right;\n",
       "    }\n",
       "</style>\n",
       "<table border=\"1\" class=\"dataframe\">\n",
       "  <thead>\n",
       "    <tr style=\"text-align: right;\">\n",
       "      <th></th>\n",
       "      <th>feature</th>\n",
       "      <th>coef</th>\n",
       "    </tr>\n",
       "  </thead>\n",
       "  <tbody>\n",
       "    <tr>\n",
       "      <th>12</th>\n",
       "      <td>room_type_Entire home/apt</td>\n",
       "      <td>1.630232</td>\n",
       "    </tr>\n",
       "    <tr>\n",
       "      <th>9</th>\n",
       "      <td>neighbourhood_group_Manhattan</td>\n",
       "      <td>1.244025</td>\n",
       "    </tr>\n",
       "    <tr>\n",
       "      <th>13</th>\n",
       "      <td>room_type_Private room</td>\n",
       "      <td>1.160155</td>\n",
       "    </tr>\n",
       "    <tr>\n",
       "      <th>10</th>\n",
       "      <td>neighbourhood_group_Queens</td>\n",
       "      <td>0.797660</td>\n",
       "    </tr>\n",
       "    <tr>\n",
       "      <th>14</th>\n",
       "      <td>room_type_Shared room</td>\n",
       "      <td>0.472705</td>\n",
       "    </tr>\n",
       "    <tr>\n",
       "      <th>7</th>\n",
       "      <td>neighbourhood_group_Bronx</td>\n",
       "      <td>0.397977</td>\n",
       "    </tr>\n",
       "    <tr>\n",
       "      <th>0</th>\n",
       "      <td>latitude</td>\n",
       "      <td>0.228297</td>\n",
       "    </tr>\n",
       "    <tr>\n",
       "      <th>11</th>\n",
       "      <td>neighbourhood_group_Staten Island</td>\n",
       "      <td>0.131531</td>\n",
       "    </tr>\n",
       "    <tr>\n",
       "      <th>1</th>\n",
       "      <td>longitude</td>\n",
       "      <td>0.095150</td>\n",
       "    </tr>\n",
       "    <tr>\n",
       "      <th>8</th>\n",
       "      <td>neighbourhood_group_Brooklyn</td>\n",
       "      <td>0.080515</td>\n",
       "    </tr>\n",
       "    <tr>\n",
       "      <th>4</th>\n",
       "      <td>reviews_per_month</td>\n",
       "      <td>0.041733</td>\n",
       "    </tr>\n",
       "    <tr>\n",
       "      <th>2</th>\n",
       "      <td>minimum_nights</td>\n",
       "      <td>0.012451</td>\n",
       "    </tr>\n",
       "    <tr>\n",
       "      <th>5</th>\n",
       "      <td>calculated_host_listings_count</td>\n",
       "      <td>0.003962</td>\n",
       "    </tr>\n",
       "    <tr>\n",
       "      <th>3</th>\n",
       "      <td>number_of_reviews</td>\n",
       "      <td>0.003262</td>\n",
       "    </tr>\n",
       "    <tr>\n",
       "      <th>6</th>\n",
       "      <td>availability_365</td>\n",
       "      <td>0.002929</td>\n",
       "    </tr>\n",
       "  </tbody>\n",
       "</table>\n",
       "</div>"
      ],
      "text/plain": [
       "                              feature      coef\n",
       "12          room_type_Entire home/apt  1.630232\n",
       "9       neighbourhood_group_Manhattan  1.244025\n",
       "13             room_type_Private room  1.160155\n",
       "10         neighbourhood_group_Queens  0.797660\n",
       "14              room_type_Shared room  0.472705\n",
       "7           neighbourhood_group_Bronx  0.397977\n",
       "0                            latitude  0.228297\n",
       "11  neighbourhood_group_Staten Island  0.131531\n",
       "1                           longitude  0.095150\n",
       "8        neighbourhood_group_Brooklyn  0.080515\n",
       "4                   reviews_per_month  0.041733\n",
       "2                      minimum_nights  0.012451\n",
       "5      calculated_host_listings_count  0.003962\n",
       "3                   number_of_reviews  0.003262\n",
       "6                    availability_365  0.002929"
      ]
     },
     "execution_count": 84,
     "metadata": {},
     "output_type": "execute_result"
    }
   ],
   "source": [
    "pd.DataFrame(data= {'feature': num_cols+enc_cols, 'coef': abs(lr.coef_[0])}).sort_values(by='coef',ascending=False)"
   ]
  },
  {
   "cell_type": "code",
   "execution_count": 62,
   "id": "ac71a761",
   "metadata": {},
   "outputs": [
    {
     "data": {
      "text/plain": [
       "15"
      ]
     },
     "execution_count": 62,
     "metadata": {},
     "output_type": "execute_result"
    }
   ],
   "source": []
  },
  {
   "cell_type": "code",
   "execution_count": 79,
   "id": "a620bdc1",
   "metadata": {},
   "outputs": [
    {
     "data": {
      "text/plain": [
       "15"
      ]
     },
     "execution_count": 79,
     "metadata": {},
     "output_type": "execute_result"
    }
   ],
   "source": []
  },
  {
   "cell_type": "code",
   "execution_count": null,
   "id": "16b88329",
   "metadata": {},
   "outputs": [],
   "source": []
  }
 ],
 "metadata": {
  "kernelspec": {
   "display_name": "Python 3 (ipykernel)",
   "language": "python",
   "name": "python3"
  },
  "language_info": {
   "codemirror_mode": {
    "name": "ipython",
    "version": 3
   },
   "file_extension": ".py",
   "mimetype": "text/x-python",
   "name": "python",
   "nbconvert_exporter": "python",
   "pygments_lexer": "ipython3",
   "version": "3.8.11"
  }
 },
 "nbformat": 4,
 "nbformat_minor": 5
}
